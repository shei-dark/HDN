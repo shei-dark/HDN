{
 "cells": [
  {
   "cell_type": "code",
   "execution_count": 1,
   "metadata": {},
   "outputs": [],
   "source": [
    "import sys\n",
    "sys.path.append('../../../')\n",
    "sys.path.append('/home/sheida.rahnamai/GIT/HDN/')\n",
    "import torch\n",
    "import pickle\n",
    "import matplotlib.pyplot as plt\n",
    "import numpy as np\n",
    "from tifffile import imread\n",
    "import glob\n",
    "import matplotlib.patches as patches\n",
    "import hdbscan as hd\n",
    "from hdbscan import prediction\n",
    "from sklearn.cluster import HDBSCAN\n",
    "from collections import Counter\n",
    "from openTSNE import TSNE\n",
    "from openTSNE import TSNEEmbedding\n",
    "from openTSNE import affinity\n",
    "from openTSNE import initialization\n",
    "from sklearn.decomposition import PCA\n",
    "from scipy.spatial.distance import cdist\n",
    "# %reload lib.plotting \n",
    "from lib import plotting as p\n",
    "from lib import dataprep as dp\n",
    "import random\n",
    "import umap\n",
    "from tqdm import tqdm\n",
    "from lib.evaluation import FeatureExtractor\n",
    "# from lib.dataloader import CustomTestDataset\n",
    "from lib.dataloader import CustomDataset\n",
    "import tifffile as tiff\n",
    "from sklearn.utils import shuffle\n",
    "from sklearn.preprocessing import StandardScaler\n",
    "from sklearn.mixture import GaussianMixture\n",
    "from sklearn.cluster import KMeans\n",
    "import os\n",
    "from boilerplate import boilerplate\n",
    "from importlib import reload\n",
    "from mpl_toolkits.mplot3d import Axes3D\n",
    "import matplotlib.colors as mcolors\n",
    "import seaborn as sns\n",
    "import pandas as pd\n",
    "from sklearn.metrics import confusion_matrix, adjusted_rand_score, normalized_mutual_info_score, homogeneity_score, completeness_score, v_measure_score"
   ]
  },
  {
   "cell_type": "code",
   "execution_count": 22,
   "metadata": {},
   "outputs": [
    {
     "name": "stderr",
     "output_type": "stream",
     "text": [
      "Filtering data: 100%|██████████| 3/3 [00:00<00:00,  5.22it/s]\n",
      "Extracting patches from high_c1: 965it [00:02, 324.91it/s]\n",
      "Extracting patches from high_c2: 889it [00:02, 321.29it/s]\n",
      "Extracting patches from high_c3: 907it [00:02, 410.82it/s]\n",
      "Extracting patches from high_c1: 109it [00:00, 121.65it/s]\n",
      "Extracting patches from high_c2: 101it [00:00, 432.01it/s]\n",
      "Extracting patches from high_c3: 103it [00:00, 385.66it/s]\n"
     ]
    }
   ],
   "source": [
    "data_dir = \"/group/jug/Sheida/pancreatic beta cells/download/\"\n",
    "keys = ['high_c1', 'high_c2', 'high_c3']\n",
    "patch_size = 64\n",
    "mask_size = 5\n",
    "label_size = 1\n",
    "\n",
    "# train data\n",
    "train_img_paths = [os.path.join(data_dir, \"train/\", img, f\"{img}_source.tif\") for img in keys]\n",
    "train_lbl_paths = [os.path.join(data_dir, \"train/\", img, f\"{img}_gt.tif\") for img in keys]\n",
    "train_images = {img: tiff.imread(path) for img, path in zip(keys, train_img_paths)}\n",
    "train_labels = {img: tiff.imread(path) for img, path in zip(keys, train_lbl_paths)}\n",
    "#val data\n",
    "val_img_paths = [os.path.join(data_dir, \"val/\", img, f\"{img}_source.tif\") for img in keys]\n",
    "val_lbl_paths = [os.path.join(data_dir, \"val/\", img, f\"{img}_gt.tif\") for img in keys]\n",
    "val_images = {img: tiff.imread(path) for img, path in zip(keys, val_img_paths)}\n",
    "val_labels = {img: tiff.imread(path) for img, path in zip(keys, val_lbl_paths)}\n",
    "\n",
    "\n",
    "for key in tqdm(keys, desc='Filtering data'):\n",
    "   train_images[key], train_labels[key] = boilerplate._filter_slices(train_images[key], train_labels[key])\n",
    "   val_images[key], val_labels[key] = boilerplate._filter_slices(val_images[key], val_labels[key])\n",
    "   \n",
    "\n",
    "train_set = CustomDataset(train_images, train_labels, patch_size, mask_size, label_size)\n",
    "val_set = CustomDataset(val_images, val_labels, patch_size, mask_size, label_size)"
   ]
  },
  {
   "cell_type": "code",
   "execution_count": 23,
   "metadata": {},
   "outputs": [
    {
     "name": "stdout",
     "output_type": "stream",
     "text": [
      "Uncategorized: 84693 Nucleus: 18816 Granule: 32293 Mitochondria: 11368\n"
     ]
    }
   ],
   "source": [
    "print(f\"Uncategorized: {len(train_set.patches_by_label[0])} Nucleus: {len(train_set.patches_by_label[1])} Granule: {len(train_set.patches_by_label[2])} Mitochondria: {len(train_set.patches_by_label[3])}\")"
   ]
  },
  {
   "cell_type": "code",
   "execution_count": 24,
   "metadata": {},
   "outputs": [
    {
     "name": "stdout",
     "output_type": "stream",
     "text": [
      "Uncategorized: 9748 Nucleus: 1943 Granule: 3839 Mitochondria: 1313\n"
     ]
    }
   ],
   "source": [
    "print(f\"Uncategorized: {len(val_set.patches_by_label[0])} Nucleus: {len(val_set.patches_by_label[1])} Granule: {len(val_set.patches_by_label[2])} Mitochondria: {len(val_set.patches_by_label[3])}\")"
   ]
  },
  {
   "cell_type": "markdown",
   "metadata": {},
   "source": [
    "5x5 <br>\n",
    "Uncategorized: 60827 Nucleus: 18054 Granule: 17870 Mitochondria: 7438 <br>\n",
    "Uncategorized: 6980 Nucleus: 1853 Granule: 2109 Mitochondria: 882"
   ]
  },
  {
   "cell_type": "markdown",
   "metadata": {},
   "source": [
    "5x5 - 3x3 OR 3x3 <br>\n",
    "Uncategorized: 72213 Nucleus: 18462 Granule: 24558 Mitochondria: 9355 <br>\n",
    "Uncategorized: 8314 Nucleus: 1901 Granule: 2885 Mitochondria: 1090"
   ]
  },
  {
   "cell_type": "markdown",
   "metadata": {},
   "source": [
    "5x5 - 1x1 OR 3x3 - 1x1 OR 1x1<br>\n",
    "Uncategorized: 84693 Nucleus: 18816 Granule: 32293 Mitochondria: 11368 <br>\n",
    "Uncategorized: 9748 Nucleus: 1943 Granule: 3839 Mitochondria: 1313"
   ]
  },
  {
   "cell_type": "code",
   "execution_count": 29,
   "metadata": {},
   "outputs": [
    {
     "name": "stdout",
     "output_type": "stream",
     "text": [
      "tensor(0, dtype=torch.int8)\n"
     ]
    },
    {
     "data": {
      "text/plain": [
       "<matplotlib.image.AxesImage at 0x7f2a9d113f20>"
      ]
     },
     "execution_count": 29,
     "metadata": {},
     "output_type": "execute_result"
    },
    {
     "data": {
      "image/png": "[encoded data removed]",
      "text/plain": [
       "<Figure size 1000x500 with 2 Axes>"
      ]
     },
     "metadata": {},
     "output_type": "display_data"
    }
   ],
   "source": [
    "img, cls, lbl = train_set.all_patches[train_set.patches_by_label[0][103]]\n",
    "print(cls)\n",
    "start =  (patch_size - mask_size) // 2\n",
    "img = img.squeeze(0)\n",
    "lbl = lbl.squeeze(0)\n",
    "fig, ax = plt.subplots(1, 2, figsize=(10, 5))\n",
    "ax[0].imshow(img[start:start+mask_size, start:start+mask_size])\n",
    "ax[1].imshow(lbl[start:start+mask_size, start:start+mask_size])"
   ]
  },
  {
   "cell_type": "code",
   "execution_count": 8,
   "metadata": {},
   "outputs": [],
   "source": [
    "def save_percent(file_path, data):\n",
    "    with open(file_path, 'wb') as file:\n",
    "        # Serialize and write the variable to the file\n",
    "        pickle.dump(data, file)"
   ]
  },
  {
   "cell_type": "code",
   "execution_count": 6,
   "metadata": {},
   "outputs": [],
   "source": [
    "import random\n",
    "\n",
    "categories = ['uncategorized', 'nucleus', 'granule', 'mitochondria']\n",
    "percent = ['1', '10']\n",
    "modes = ['5x5', '5x5_3x3', '5x5_1x1', '3x3', '3x3_1x1', '1x1']\n",
    "\n",
    "for i in range(len(modes)):\n",
    "    mask_size = modes[i][0]\n",
    "    label_size = modes[i][-1]\n",
    "    train_set = CustomDataset(train_images, train_labels, patch_size, mask_size, label_size)\n",
    "    val_set = CustomDataset(val_images, val_labels, patch_size, mask_size, label_size)\n",
    "\n",
    "l0 = random.sample(train_set.patches_by_label[0], 6082)\n",
    "l1 = random.sample(train_set.patches_by_label[1], 1805)\n",
    "l2 = random.sample(train_set.patches_by_label[2], 1787)\n",
    "l3 = random.sample(train_set.patches_by_label[3], 743)\n",
    "\n",
    "\n",
    "save_percent(data_dir+'train/5x5/10_percent_uncategorized.pickle',l0)\n",
    "save_percent(data_dir+'train/5x5/10_percent_nucleus.pickle',l1)\n",
    "save_percent(data_dir+'train/5x5/10_percent_granule.pickle',l2)\n",
    "save_percent(data_dir+'train/5x5/10_percent_mitochondria.pickle',l3)\n",
    "\n",
    "save_percent(data_dir+'val/5x5/10_percent_uncategorized.pickle',random.sample(val_set.patches_by_label[0], 698))\n",
    "save_percent(data_dir+'val/5x5/10_percent_nucleus.pickle',random.sample(val_set.patches_by_label[1], 185))\n",
    "save_percent(data_dir+'val/5x5/10_percent_granule.pickle',random.sample(val_set.patches_by_label[2], 210))\n",
    "save_percent(data_dir+'val/5x5/10_percent_mitochondria.pickle',random.sample(val_set.patches_by_label[3], 88))\n",
    "\n",
    "save_percent(data_dir+'train/5x5/1_percent_uncategorized.pickle',random.sample(train_set.patches_by_label[0], 608))\n",
    "save_percent(data_dir+'train/5x5/1_percent_nucleus.pickle',random.sample(train_set.patches_by_label[1], 180))\n",
    "save_percent(data_dir+'train/5x5/1_percent_granule.pickle',random.sample(train_set.patches_by_label[2], 178))\n",
    "save_percent(data_dir+'train/5x5/1_percent_mitochondria.pickle',random.sample(train_set.patches_by_label[3], 74))\n",
    "\n",
    "save_percent(data_dir+'val/5x5/1_percent_uncategorized.pickle',random.sample(val_set.patches_by_label[0], 69))\n",
    "save_percent(data_dir+'val/5x5/1_percent_nucleus.pickle',random.sample(val_set.patches_by_label[1], 18))\n",
    "save_percent(data_dir+'val/5x5/1_percent_granule.pickle',random.sample(val_set.patches_by_label[2], 21))\n",
    "save_percent(data_dir+'val/5x5/1_percent_mitochondria.pickle',random.sample(val_set.patches_by_label[3], 8))\n"
   ]
  },
  {
   "cell_type": "code",
   "execution_count": null,
   "metadata": {},
   "outputs": [],
   "source": [
    "import random\n",
    "save_percent(data_dir+'train/5x5_3x3/10_percent_uncategorized.pickle',random.sample(train_set.patches_by_label[0], 6082))\n",
    "save_percent(data_dir+'train/5x5_3x3/10_percent_nucleus.pickle',random.sample(train_set.patches_by_label[1], 1805))\n",
    "save_percent(data_dir+'train/5x5_3x3/10_percent_granule.pickle',random.sample(train_set.patches_by_label[2], 1787))\n",
    "save_percent(data_dir+'train/5x5_3x3/10_percent_mitochondria.pickle',random.sample(train_set.patches_by_label[3], 743))\n",
    "\n",
    "save_percent(data_dir+'val/5x5_3x3/10_percent_uncategorized.pickle',random.sample(val_set.patches_by_label[0], 698))\n",
    "save_percent(data_dir+'val/5x5_3x3/10_percent_nucleus.pickle',random.sample(val_set.patches_by_label[1], 185))\n",
    "save_percent(data_dir+'val/5x5_3x3/10_percent_granule.pickle',random.sample(val_set.patches_by_label[2], 210))\n",
    "save_percent(data_dir+'val/5x5_3x3/10_percent_mitochondria.pickle',random.sample(val_set.patches_by_label[3], 88))\n",
    "\n",
    "save_percent(data_dir+'train/5x5_3x3/1_percent_uncategorized.pickle',random.sample(train_set.patches_by_label[0], 608))\n",
    "save_percent(data_dir+'train/5x5_3x3/1_percent_nucleus.pickle',random.sample(train_set.patches_by_label[1], 180))\n",
    "save_percent(data_dir+'train/5x5_3x3/1_percent_granule.pickle',random.sample(train_set.patches_by_label[2], 178))\n",
    "save_percent(data_dir+'train/5x5_3x3/1_percent_mitochondria.pickle',random.sample(train_set.patches_by_label[3], 74))\n",
    "\n",
    "save_percent(data_dir+'val/5x5_3x3/1_percent_uncategorized.pickle',random.sample(val_set.patches_by_label[0], 69))\n",
    "save_percent(data_dir+'val/5x5_3x3/1_percent_nucleus.pickle',random.sample(val_set.patches_by_label[1], 18))\n",
    "save_percent(data_dir+'val/5x5_3x3/1_percent_granule.pickle',random.sample(val_set.patches_by_label[2], 21))\n",
    "save_percent(data_dir+'val/5x5_3x3/1_percent_mitochondria.pickle',random.sample(val_set.patches_by_label[3], 8))\n"
   ]
  }
 ],
 "metadata": {
  "kernelspec": {
   "display_name": "emseg",
   "language": "python",
   "name": "python3"
  },
  "language_info": {
   "codemirror_mode": {
    "name": "ipython",
    "version": 3
   },
   "file_extension": ".py",
   "mimetype": "text/x-python",
   "name": "python",
   "nbconvert_exporter": "python",
   "pygments_lexer": "ipython3",
   "version": "3.12.4"
  }
 },
 "nbformat": 4,
 "nbformat_minor": 2
}
