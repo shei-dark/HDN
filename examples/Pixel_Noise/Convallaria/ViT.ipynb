{
 "cells": [
  {
   "cell_type": "code",
   "execution_count": 23,
   "metadata": {},
   "outputs": [],
   "source": [
    "from transformers import ViTMAEConfig, ViTMAEModel\n"
   ]
  },
  {
   "cell_type": "code",
   "execution_count": 24,
   "metadata": {},
   "outputs": [],
   "source": [
    "\n",
    "# Initializing a ViT MAE vit-mae-base style configuration\n",
    "configuration = ViTMAEConfig()\n",
    "\n",
    "# Initializing a model (with random weights) from the vit-mae-base style configuration\n",
    "model = ViTMAEModel(configuration)\n",
    "\n",
    "# Accessing the model configuration\n",
    "configuration = model.config"
   ]
  },
  {
   "cell_type": "code",
   "execution_count": 28,
   "metadata": {},
   "outputs": [
    {
     "name": "stdout",
     "output_type": "stream",
     "text": [
      "<urllib3.response.HTTPResponse object at 0x7f6f4aed9cd0>\n",
      "<PIL.JpegImagePlugin.JpegImageFile image mode=RGB size=640x480 at 0x7F6F4B5FB790>\n"
     ]
    }
   ],
   "source": [
    "from transformers import AutoImageProcessor, ViTMAEModel\n",
    "from PIL import Image\n",
    "import requests\n",
    "\n",
    "url = \"http://images.cocodataset.org/val2017/000000039769.jpg\"\n",
    "print(requests.get(url, stream=True).raw)\n",
    "image = Image.open(requests.get(url, stream=True).raw)\n",
    "print(image)\n",
    "image_processor = AutoImageProcessor.from_pretrained(\"facebook/vit-mae-base\")\n",
    "model = ViTMAEModel.from_pretrained(\"facebook/vit-mae-base\")\n",
    "\n",
    "inputs = image_processor(images=image, return_tensors=\"pt\")\n",
    "outputs = model(**inputs)\n",
    "last_hidden_states = outputs.last_hidden_state"
   ]
  },
  {
   "cell_type": "code",
   "execution_count": null,
   "metadata": {},
   "outputs": [],
   "source": []
  }
 ],
 "metadata": {
  "kernelspec": {
   "display_name": "maester",
   "language": "python",
   "name": "python3"
  },
  "language_info": {
   "codemirror_mode": {
    "name": "ipython",
    "version": 3
   },
   "file_extension": ".py",
   "mimetype": "text/x-python",
   "name": "python",
   "nbconvert_exporter": "python",
   "pygments_lexer": "ipython3",
   "version": "3.9.18"
  },
  "orig_nbformat": 4
 },
 "nbformat": 4,
 "nbformat_minor": 2
}
