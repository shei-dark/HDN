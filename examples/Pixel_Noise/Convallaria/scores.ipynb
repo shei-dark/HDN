{
 "cells": [
  {
   "cell_type": "code",
   "execution_count": 1,
   "metadata": {},
   "outputs": [],
   "source": [
    "import sys\n",
    "sys.path.append('../../../')\n",
    "sys.path.append('/home/sheida.rahnamai/GIT/HDN/')\n",
    "import torch\n",
    "import pickle\n",
    "import matplotlib.pyplot as plt\n",
    "import numpy as np\n",
    "from tifffile import imread\n",
    "import glob\n",
    "import matplotlib.patches as patches\n",
    "import hdbscan as hd\n",
    "from hdbscan import prediction\n",
    "from sklearn.cluster import HDBSCAN\n",
    "from collections import Counter\n",
    "from openTSNE import TSNE\n",
    "from openTSNE import TSNEEmbedding\n",
    "from openTSNE import affinity\n",
    "from openTSNE import initialization\n",
    "from sklearn.decomposition import PCA\n",
    "from scipy.spatial.distance import cdist\n",
    "# %reload lib.plotting \n",
    "from lib import plotting as p\n",
    "from lib import dataprep as dp\n",
    "import random\n",
    "import umap\n",
    "from tqdm import tqdm\n",
    "from lib.evaluation import FeatureExtractor\n",
    "# from lib.dataloader import CustomTestDataset\n",
    "from lib.dataloader import CustomDataset\n",
    "import tifffile as tiff\n",
    "from sklearn.utils import shuffle\n",
    "from sklearn.preprocessing import StandardScaler\n",
    "from sklearn.mixture import GaussianMixture\n",
    "from sklearn.cluster import KMeans\n",
    "import os\n",
    "from boilerplate import boilerplate\n",
    "from importlib import reload\n",
    "from mpl_toolkits.mplot3d import Axes3D\n",
    "import matplotlib.colors as mcolors\n",
    "import seaborn as sns\n",
    "import pandas as pd\n",
    "from lib.logging import ClassType\n",
    "from sklearn.metrics import confusion_matrix, adjusted_rand_score, normalized_mutual_info_score, homogeneity_score, completeness_score, v_measure_score\n",
    "from boilerplate import boilerplate as blp\n",
    "from sklearn.metrics import f1_score"
   ]
  },
  {
   "cell_type": "code",
   "execution_count": 2,
   "metadata": {},
   "outputs": [],
   "source": [
    "use_cuda = torch.cuda.is_available()\n",
    "device = torch.device(\"cuda\" if use_cuda else \"cpu\")\n",
    "\n",
    "patch_size = 64\n",
    "sample_size = 300\n",
    "centre_size = 4\n",
    "n_channel = 32\n",
    "hierarchy_level = 3\n",
    "pad_size = (patch_size - centre_size) // 2\n",
    "model_dir = \"/group/jug/Sheida/HVAE/v01/model/\"\n",
    "# model_dir = \"/home/sheida.rahnamai/GIT/HDN/examples/Pixel_Noise/Convallaria/testmodel/\"\n",
    "model = torch.load(model_dir+\"HVAE_best_vae.net\")"
   ]
  },
  {
   "cell_type": "code",
   "execution_count": 3,
   "metadata": {},
   "outputs": [
    {
     "name": "stdout",
     "output_type": "stream",
     "text": [
      "Test image loaded from path:\n",
      "/localscratch/data/high_c4/high_c4_source.tif\n"
     ]
    }
   ],
   "source": [
    "# train data\n",
    "\n",
    "data_dir = \"/localscratch/data/\"\n",
    "\n",
    "data_mean = model.data_mean.cpu().numpy()\n",
    "data_std = model.data_std.cpu().numpy()\n",
    "\n",
    "\n",
    "One_test_image = ['high_c4']\n",
    "\n",
    "# Load test image\n",
    "test_img_path = os.path.join(data_dir, One_test_image[0], f\"{One_test_image[0]}_source.tif\")\n",
    "test_image = tiff.imread(test_img_path)\n",
    "\n",
    "# Print loaded test images paths\n",
    "print(\"Test image loaded from path:\")\n",
    "print(test_img_path)\n",
    "\n",
    "# Load test ground truth images\n",
    "test_gt_path = os.path.join(data_dir, One_test_image[0], f\"{One_test_image[0]}_gt.tif\")\n",
    "test_ground_truth_image = tiff.imread(test_gt_path)\n",
    "\n",
    "#test data\n",
    "\n",
    "test_images = (test_image-data_mean)/data_std\n",
    "\n"
   ]
  },
  {
   "cell_type": "code",
   "execution_count": 4,
   "metadata": {},
   "outputs": [],
   "source": [
    "seg = tiff.imread('/group/jug/Sheida/pancreatic beta cells/download/seg/seuclidean/high_c4_pred.tif')"
   ]
  },
  {
   "cell_type": "code",
   "execution_count": 5,
   "metadata": {},
   "outputs": [
    {
     "name": "stdout",
     "output_type": "stream",
     "text": [
      "test image shape:  (1022, 545, 1082) segmentation shape:  (1022, 482, 1019)\n"
     ]
    }
   ],
   "source": [
    "print('test image shape: ', test_images.shape, 'segmentation shape: ', seg.shape)"
   ]
  },
  {
   "cell_type": "code",
   "execution_count": 6,
   "metadata": {},
   "outputs": [],
   "source": [
    "_, x, y = seg.shape\n",
    "_, v, w = test_ground_truth_image.shape\n",
    "cropped_gt = test_ground_truth_image[:,30:30+x,30:30+y]"
   ]
  },
  {
   "cell_type": "code",
   "execution_count": 7,
   "metadata": {},
   "outputs": [
    {
     "data": {
      "text/plain": [
       "(1022, 482, 1019)"
      ]
     },
     "execution_count": 7,
     "metadata": {},
     "output_type": "execute_result"
    }
   ],
   "source": [
    "cropped_gt.shape"
   ]
  },
  {
   "cell_type": "code",
   "execution_count": 8,
   "metadata": {},
   "outputs": [],
   "source": [
    "not_appeared = [0,0,0,0]\n",
    "def dice_coefficient_per_class(y_true, y_pred, class_label):\n",
    "    global not_appeared\n",
    "    intersection = np.sum((y_true == class_label) & (y_pred == class_label))\n",
    "    denominator = np.sum(y_true == class_label) + np.sum(y_pred == class_label)\n",
    "    \n",
    "    # Check if the denominator is zero to avoid division by zero\n",
    "    if denominator == 0:\n",
    "        not_appeared[class_label] += 1\n",
    "        return 0.0  # or you can use np.nan if you want to mark it as missing\n",
    "    return 2 * intersection / denominator\n",
    "\n",
    "def dice_coefficient_multilabel(y_true, y_pred, num_classes):\n",
    "    dice_scores = []\n",
    "    for class_label in range(num_classes):\n",
    "        dice = dice_coefficient_per_class(y_true, y_pred, class_label)\n",
    "        dice_scores.append(dice)\n",
    "    return np.array(dice_scores)\n",
    "\n",
    "num_classes = 4  # Number of labels/classes (excluding the -1 label which is for outside of the class)\n"
   ]
  },
  {
   "cell_type": "code",
   "execution_count": 9,
   "metadata": {},
   "outputs": [
    {
     "name": "stderr",
     "output_type": "stream",
     "text": [
      "  0%|          | 0/1022 [00:00<?, ?it/s]"
     ]
    },
    {
     "name": "stderr",
     "output_type": "stream",
     "text": [
      "100%|██████████| 1022/1022 [00:09<00:00, 102.42it/s]"
     ]
    },
    {
     "name": "stdout",
     "output_type": "stream",
     "text": [
      "Dice Similarity Coefficient per class: [0.87224199 0.74838928 0.70292081 0.57903117]\n",
      "Mean Dice Similarity Coefficient: 0.7256\n"
     ]
    },
    {
     "name": "stderr",
     "output_type": "stream",
     "text": [
      "\n"
     ]
    }
   ],
   "source": [
    "dsc_per_class = [0,0,0,0]\n",
    "bg = 0\n",
    "for i in tqdm(range(seg.shape[0])):\n",
    "    unique_label = np.unique(cropped_gt[i])\n",
    "    if -1 in unique_label and len(unique_label) == 1:\n",
    "        bg += 1\n",
    "        #continue\n",
    "    dsc_per_class += dice_coefficient_multilabel(cropped_gt[i], seg[i], num_classes)\n",
    "\n",
    "for i in range(num_classes):\n",
    "    dsc_per_class[i] /= (seg.shape[0]-not_appeared[i])\n",
    "print(f\"Dice Similarity Coefficient per class: {dsc_per_class}\")\n",
    "print(f\"Mean Dice Similarity Coefficient: {np.mean(dsc_per_class):.4f}\")"
   ]
  },
  {
   "attachments": {},
   "cell_type": "markdown",
   "metadata": {},
   "source": [
    "# correlation\n",
    "Dice Similarity Coefficient per class: [0.87221151 0.47524653 0.70252993 0.57664873]<br>\n",
    "Mean Dice Similarity Coefficient: 0.6567<br>\n",
    "# cosine\n",
    "Dice Similarity Coefficient per class: [0.87221153 0.4747142  0.70253007 0.57664789]<br>\n",
    "Mean Dice Similarity Coefficient: 0.6565<br>\n",
    "# euclidean\n",
    "Dice Similarity Coefficient per class: [0.87218948 0.60899397 0.70190738 0.57710773]<br>\n",
    "Mean Dice Similarity Coefficient: 0.6900<br>\n",
    "# seuclidean\n",
    "Dice Similarity Coefficient per class: [0.87224199 0.74838928 0.70292081 0.57903117]<br>\n",
    "Mean Dice Similarity Coefficient: 0.7256<br>"
   ]
  },
  {
   "attachments": {},
   "cell_type": "markdown",
   "metadata": {},
   "source": []
  }
 ],
 "metadata": {
  "kernelspec": {
   "display_name": "Python 3",
   "language": "python",
   "name": "python3"
  },
  "language_info": {
   "codemirror_mode": {
    "name": "ipython",
    "version": 3
   },
   "file_extension": ".py",
   "mimetype": "text/x-python",
   "name": "python",
   "nbconvert_exporter": "python",
   "pygments_lexer": "ipython3",
   "version": "3.12.4"
  }
 },
 "nbformat": 4,
 "nbformat_minor": 2
}
