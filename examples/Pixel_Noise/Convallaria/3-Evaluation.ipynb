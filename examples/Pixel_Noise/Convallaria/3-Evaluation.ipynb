{
 "cells": [
  {
   "cell_type": "code",
   "execution_count": 13,
   "metadata": {
    "collapsed": true
   },
   "outputs": [],
   "source": [
    "import sys\n",
    "sys.path.append('../../../')\n",
    "import torch\n",
    "from matplotlib import pyplot as plt\n",
    "from tifffile import imread, imsave\n",
    "from sklearn.cluster import KMeans\n",
    "import numpy as np\n",
    "from glob import glob"
   ]
  },
  {
   "cell_type": "code",
   "execution_count": 14,
   "metadata": {},
   "outputs": [],
   "source": [
    "use_cuda = torch.cuda.is_available()\n",
    "device = torch.device(\"cuda\" if use_cuda else \"cpu\")"
   ]
  },
  {
   "cell_type": "code",
   "execution_count": 15,
   "metadata": {},
   "outputs": [
    {
     "data": {
      "text/plain": [
       "LadderVAE(\n",
       "  (first_bottom_up): Sequential(\n",
       "    (0): Conv2d(1, 64, kernel_size=(5, 5), stride=(1, 1), padding=(2, 2))\n",
       "    (1): ELU(alpha=1.0)\n",
       "    (2): BottomUpDeterministicResBlock(\n",
       "      (res): ResidualBlock(\n",
       "        (block): Sequential(\n",
       "          (0): BatchNorm2d(64, eps=1e-05, momentum=0.1, affine=True, track_running_stats=True)\n",
       "          (1): ELU(alpha=1.0)\n",
       "          (2): Conv2d(64, 64, kernel_size=(3, 3), stride=(1, 1), padding=(1, 1))\n",
       "          (3): Dropout2d(p=0.2, inplace=False)\n",
       "          (4): BatchNorm2d(64, eps=1e-05, momentum=0.1, affine=True, track_running_stats=True)\n",
       "          (5): ELU(alpha=1.0)\n",
       "          (6): Conv2d(64, 64, kernel_size=(3, 3), stride=(1, 1), padding=(1, 1))\n",
       "          (7): Dropout2d(p=0.2, inplace=False)\n",
       "        )\n",
       "      )\n",
       "    )\n",
       "  )\n",
       "  (top_down_layers): ModuleList(\n",
       "    (0-3): 4 x TopDownLayer(\n",
       "      (deterministic_block): Sequential(\n",
       "        (0): TopDownDeterministicResBlock(\n",
       "          (pre_conv): ConvTranspose2d(64, 64, kernel_size=(3, 3), stride=(2, 2), padding=(1, 1), output_padding=(1, 1))\n",
       "          (res): ResidualBlock(\n",
       "            (block): Sequential(\n",
       "              (0): BatchNorm2d(64, eps=1e-05, momentum=0.1, affine=True, track_running_stats=True)\n",
       "              (1): ELU(alpha=1.0)\n",
       "              (2): Conv2d(64, 64, kernel_size=(3, 3), stride=(1, 1), padding=(1, 1))\n",
       "              (3): Dropout2d(p=0.2, inplace=False)\n",
       "              (4): BatchNorm2d(64, eps=1e-05, momentum=0.1, affine=True, track_running_stats=True)\n",
       "              (5): ELU(alpha=1.0)\n",
       "              (6): Conv2d(64, 64, kernel_size=(3, 3), stride=(1, 1), padding=(1, 1))\n",
       "              (7): Dropout2d(p=0.2, inplace=False)\n",
       "              (8): GateLayer2d(\n",
       "                (conv): Conv2d(64, 128, kernel_size=(1, 1), stride=(1, 1))\n",
       "                (nonlin): ELU(alpha=1.0)\n",
       "              )\n",
       "            )\n",
       "          )\n",
       "        )\n",
       "        (1): TopDownDeterministicResBlock(\n",
       "          (res): ResidualBlock(\n",
       "            (block): Sequential(\n",
       "              (0): BatchNorm2d(64, eps=1e-05, momentum=0.1, affine=True, track_running_stats=True)\n",
       "              (1): ELU(alpha=1.0)\n",
       "              (2): Conv2d(64, 64, kernel_size=(3, 3), stride=(1, 1), padding=(1, 1))\n",
       "              (3): Dropout2d(p=0.2, inplace=False)\n",
       "              (4): BatchNorm2d(64, eps=1e-05, momentum=0.1, affine=True, track_running_stats=True)\n",
       "              (5): ELU(alpha=1.0)\n",
       "              (6): Conv2d(64, 64, kernel_size=(3, 3), stride=(1, 1), padding=(1, 1))\n",
       "              (7): Dropout2d(p=0.2, inplace=False)\n",
       "              (8): GateLayer2d(\n",
       "                (conv): Conv2d(64, 128, kernel_size=(1, 1), stride=(1, 1))\n",
       "                (nonlin): ELU(alpha=1.0)\n",
       "              )\n",
       "            )\n",
       "          )\n",
       "        )\n",
       "        (2): TopDownDeterministicResBlock(\n",
       "          (res): ResidualBlock(\n",
       "            (block): Sequential(\n",
       "              (0): BatchNorm2d(64, eps=1e-05, momentum=0.1, affine=True, track_running_stats=True)\n",
       "              (1): ELU(alpha=1.0)\n",
       "              (2): Conv2d(64, 64, kernel_size=(3, 3), stride=(1, 1), padding=(1, 1))\n",
       "              (3): Dropout2d(p=0.2, inplace=False)\n",
       "              (4): BatchNorm2d(64, eps=1e-05, momentum=0.1, affine=True, track_running_stats=True)\n",
       "              (5): ELU(alpha=1.0)\n",
       "              (6): Conv2d(64, 64, kernel_size=(3, 3), stride=(1, 1), padding=(1, 1))\n",
       "              (7): Dropout2d(p=0.2, inplace=False)\n",
       "              (8): GateLayer2d(\n",
       "                (conv): Conv2d(64, 128, kernel_size=(1, 1), stride=(1, 1))\n",
       "                (nonlin): ELU(alpha=1.0)\n",
       "              )\n",
       "            )\n",
       "          )\n",
       "        )\n",
       "        (3): TopDownDeterministicResBlock(\n",
       "          (res): ResidualBlock(\n",
       "            (block): Sequential(\n",
       "              (0): BatchNorm2d(64, eps=1e-05, momentum=0.1, affine=True, track_running_stats=True)\n",
       "              (1): ELU(alpha=1.0)\n",
       "              (2): Conv2d(64, 64, kernel_size=(3, 3), stride=(1, 1), padding=(1, 1))\n",
       "              (3): Dropout2d(p=0.2, inplace=False)\n",
       "              (4): BatchNorm2d(64, eps=1e-05, momentum=0.1, affine=True, track_running_stats=True)\n",
       "              (5): ELU(alpha=1.0)\n",
       "              (6): Conv2d(64, 64, kernel_size=(3, 3), stride=(1, 1), padding=(1, 1))\n",
       "              (7): Dropout2d(p=0.2, inplace=False)\n",
       "              (8): GateLayer2d(\n",
       "                (conv): Conv2d(64, 128, kernel_size=(1, 1), stride=(1, 1))\n",
       "                (nonlin): ELU(alpha=1.0)\n",
       "              )\n",
       "            )\n",
       "          )\n",
       "        )\n",
       "        (4): TopDownDeterministicResBlock(\n",
       "          (res): ResidualBlock(\n",
       "            (block): Sequential(\n",
       "              (0): BatchNorm2d(64, eps=1e-05, momentum=0.1, affine=True, track_running_stats=True)\n",
       "              (1): ELU(alpha=1.0)\n",
       "              (2): Conv2d(64, 64, kernel_size=(3, 3), stride=(1, 1), padding=(1, 1))\n",
       "              (3): Dropout2d(p=0.2, inplace=False)\n",
       "              (4): BatchNorm2d(64, eps=1e-05, momentum=0.1, affine=True, track_running_stats=True)\n",
       "              (5): ELU(alpha=1.0)\n",
       "              (6): Conv2d(64, 64, kernel_size=(3, 3), stride=(1, 1), padding=(1, 1))\n",
       "              (7): Dropout2d(p=0.2, inplace=False)\n",
       "              (8): GateLayer2d(\n",
       "                (conv): Conv2d(64, 128, kernel_size=(1, 1), stride=(1, 1))\n",
       "                (nonlin): ELU(alpha=1.0)\n",
       "              )\n",
       "            )\n",
       "          )\n",
       "        )\n",
       "      )\n",
       "      (stochastic): NormalStochasticBlock2d(\n",
       "        (conv_in_p): Conv2d(64, 64, kernel_size=(3, 3), stride=(1, 1), padding=(1, 1))\n",
       "        (conv_in_q): Conv2d(64, 64, kernel_size=(3, 3), stride=(1, 1), padding=(1, 1))\n",
       "        (conv_out): Conv2d(32, 64, kernel_size=(3, 3), stride=(1, 1), padding=(1, 1))\n",
       "      )\n",
       "      (merge): MergeLayer(\n",
       "        (layer): Sequential(\n",
       "          (0): Conv2d(128, 64, kernel_size=(1, 1), stride=(1, 1))\n",
       "          (1): ResidualGatedBlock(\n",
       "            (block): Sequential(\n",
       "              (0): BatchNorm2d(64, eps=1e-05, momentum=0.1, affine=True, track_running_stats=True)\n",
       "              (1): ELU(alpha=1.0)\n",
       "              (2): Conv2d(64, 64, kernel_size=(3, 3), stride=(1, 1), padding=(1, 1))\n",
       "              (3): Dropout2d(p=0.2, inplace=False)\n",
       "              (4): BatchNorm2d(64, eps=1e-05, momentum=0.1, affine=True, track_running_stats=True)\n",
       "              (5): ELU(alpha=1.0)\n",
       "              (6): Conv2d(64, 64, kernel_size=(3, 3), stride=(1, 1), padding=(1, 1))\n",
       "              (7): Dropout2d(p=0.2, inplace=False)\n",
       "              (8): GateLayer2d(\n",
       "                (conv): Conv2d(64, 128, kernel_size=(1, 1), stride=(1, 1))\n",
       "                (nonlin): ELU(alpha=1.0)\n",
       "              )\n",
       "            )\n",
       "          )\n",
       "        )\n",
       "      )\n",
       "      (skip_connection_merger): SkipConnectionMerger(\n",
       "        (layer): Sequential(\n",
       "          (0): Conv2d(128, 64, kernel_size=(1, 1), stride=(1, 1))\n",
       "          (1): ResidualGatedBlock(\n",
       "            (block): Sequential(\n",
       "              (0): BatchNorm2d(64, eps=1e-05, momentum=0.1, affine=True, track_running_stats=True)\n",
       "              (1): ELU(alpha=1.0)\n",
       "              (2): Conv2d(64, 64, kernel_size=(3, 3), stride=(1, 1), padding=(1, 1))\n",
       "              (3): Dropout2d(p=0.2, inplace=False)\n",
       "              (4): BatchNorm2d(64, eps=1e-05, momentum=0.1, affine=True, track_running_stats=True)\n",
       "              (5): ELU(alpha=1.0)\n",
       "              (6): Conv2d(64, 64, kernel_size=(3, 3), stride=(1, 1), padding=(1, 1))\n",
       "              (7): Dropout2d(p=0.2, inplace=False)\n",
       "              (8): GateLayer2d(\n",
       "                (conv): Conv2d(64, 128, kernel_size=(1, 1), stride=(1, 1))\n",
       "                (nonlin): ELU(alpha=1.0)\n",
       "              )\n",
       "            )\n",
       "          )\n",
       "        )\n",
       "      )\n",
       "    )\n",
       "    (4): TopDownLayer(\n",
       "      (deterministic_block): Sequential(\n",
       "        (0): TopDownDeterministicResBlock(\n",
       "          (pre_conv): ConvTranspose2d(64, 64, kernel_size=(3, 3), stride=(2, 2), padding=(1, 1), output_padding=(1, 1))\n",
       "          (res): ResidualBlock(\n",
       "            (block): Sequential(\n",
       "              (0): BatchNorm2d(64, eps=1e-05, momentum=0.1, affine=True, track_running_stats=True)\n",
       "              (1): ELU(alpha=1.0)\n",
       "              (2): Conv2d(64, 64, kernel_size=(3, 3), stride=(1, 1), padding=(1, 1))\n",
       "              (3): Dropout2d(p=0.2, inplace=False)\n",
       "              (4): BatchNorm2d(64, eps=1e-05, momentum=0.1, affine=True, track_running_stats=True)\n",
       "              (5): ELU(alpha=1.0)\n",
       "              (6): Conv2d(64, 64, kernel_size=(3, 3), stride=(1, 1), padding=(1, 1))\n",
       "              (7): Dropout2d(p=0.2, inplace=False)\n",
       "              (8): GateLayer2d(\n",
       "                (conv): Conv2d(64, 128, kernel_size=(1, 1), stride=(1, 1))\n",
       "                (nonlin): ELU(alpha=1.0)\n",
       "              )\n",
       "            )\n",
       "          )\n",
       "        )\n",
       "        (1): TopDownDeterministicResBlock(\n",
       "          (res): ResidualBlock(\n",
       "            (block): Sequential(\n",
       "              (0): BatchNorm2d(64, eps=1e-05, momentum=0.1, affine=True, track_running_stats=True)\n",
       "              (1): ELU(alpha=1.0)\n",
       "              (2): Conv2d(64, 64, kernel_size=(3, 3), stride=(1, 1), padding=(1, 1))\n",
       "              (3): Dropout2d(p=0.2, inplace=False)\n",
       "              (4): BatchNorm2d(64, eps=1e-05, momentum=0.1, affine=True, track_running_stats=True)\n",
       "              (5): ELU(alpha=1.0)\n",
       "              (6): Conv2d(64, 64, kernel_size=(3, 3), stride=(1, 1), padding=(1, 1))\n",
       "              (7): Dropout2d(p=0.2, inplace=False)\n",
       "              (8): GateLayer2d(\n",
       "                (conv): Conv2d(64, 128, kernel_size=(1, 1), stride=(1, 1))\n",
       "                (nonlin): ELU(alpha=1.0)\n",
       "              )\n",
       "            )\n",
       "          )\n",
       "        )\n",
       "        (2): TopDownDeterministicResBlock(\n",
       "          (res): ResidualBlock(\n",
       "            (block): Sequential(\n",
       "              (0): BatchNorm2d(64, eps=1e-05, momentum=0.1, affine=True, track_running_stats=True)\n",
       "              (1): ELU(alpha=1.0)\n",
       "              (2): Conv2d(64, 64, kernel_size=(3, 3), stride=(1, 1), padding=(1, 1))\n",
       "              (3): Dropout2d(p=0.2, inplace=False)\n",
       "              (4): BatchNorm2d(64, eps=1e-05, momentum=0.1, affine=True, track_running_stats=True)\n",
       "              (5): ELU(alpha=1.0)\n",
       "              (6): Conv2d(64, 64, kernel_size=(3, 3), stride=(1, 1), padding=(1, 1))\n",
       "              (7): Dropout2d(p=0.2, inplace=False)\n",
       "              (8): GateLayer2d(\n",
       "                (conv): Conv2d(64, 128, kernel_size=(1, 1), stride=(1, 1))\n",
       "                (nonlin): ELU(alpha=1.0)\n",
       "              )\n",
       "            )\n",
       "          )\n",
       "        )\n",
       "        (3): TopDownDeterministicResBlock(\n",
       "          (res): ResidualBlock(\n",
       "            (block): Sequential(\n",
       "              (0): BatchNorm2d(64, eps=1e-05, momentum=0.1, affine=True, track_running_stats=True)\n",
       "              (1): ELU(alpha=1.0)\n",
       "              (2): Conv2d(64, 64, kernel_size=(3, 3), stride=(1, 1), padding=(1, 1))\n",
       "              (3): Dropout2d(p=0.2, inplace=False)\n",
       "              (4): BatchNorm2d(64, eps=1e-05, momentum=0.1, affine=True, track_running_stats=True)\n",
       "              (5): ELU(alpha=1.0)\n",
       "              (6): Conv2d(64, 64, kernel_size=(3, 3), stride=(1, 1), padding=(1, 1))\n",
       "              (7): Dropout2d(p=0.2, inplace=False)\n",
       "              (8): GateLayer2d(\n",
       "                (conv): Conv2d(64, 128, kernel_size=(1, 1), stride=(1, 1))\n",
       "                (nonlin): ELU(alpha=1.0)\n",
       "              )\n",
       "            )\n",
       "          )\n",
       "        )\n",
       "        (4): TopDownDeterministicResBlock(\n",
       "          (res): ResidualBlock(\n",
       "            (block): Sequential(\n",
       "              (0): BatchNorm2d(64, eps=1e-05, momentum=0.1, affine=True, track_running_stats=True)\n",
       "              (1): ELU(alpha=1.0)\n",
       "              (2): Conv2d(64, 64, kernel_size=(3, 3), stride=(1, 1), padding=(1, 1))\n",
       "              (3): Dropout2d(p=0.2, inplace=False)\n",
       "              (4): BatchNorm2d(64, eps=1e-05, momentum=0.1, affine=True, track_running_stats=True)\n",
       "              (5): ELU(alpha=1.0)\n",
       "              (6): Conv2d(64, 64, kernel_size=(3, 3), stride=(1, 1), padding=(1, 1))\n",
       "              (7): Dropout2d(p=0.2, inplace=False)\n",
       "              (8): GateLayer2d(\n",
       "                (conv): Conv2d(64, 128, kernel_size=(1, 1), stride=(1, 1))\n",
       "                (nonlin): ELU(alpha=1.0)\n",
       "              )\n",
       "            )\n",
       "          )\n",
       "        )\n",
       "      )\n",
       "      (stochastic): NormalStochasticBlock2d(\n",
       "        (conv_in_q): Conv2d(64, 64, kernel_size=(3, 3), stride=(1, 1), padding=(1, 1))\n",
       "        (conv_out): Conv2d(32, 64, kernel_size=(3, 3), stride=(1, 1), padding=(1, 1))\n",
       "      )\n",
       "    )\n",
       "  )\n",
       "  (bottom_up_layers): ModuleList(\n",
       "    (0-4): 5 x BottomUpLayer(\n",
       "      (net): Sequential(\n",
       "        (0): BottomUpDeterministicResBlock(\n",
       "          (pre_conv): Conv2d(64, 64, kernel_size=(3, 3), stride=(2, 2), padding=(1, 1))\n",
       "          (res): ResidualBlock(\n",
       "            (block): Sequential(\n",
       "              (0): BatchNorm2d(64, eps=1e-05, momentum=0.1, affine=True, track_running_stats=True)\n",
       "              (1): ELU(alpha=1.0)\n",
       "              (2): Conv2d(64, 64, kernel_size=(3, 3), stride=(1, 1), padding=(1, 1))\n",
       "              (3): Dropout2d(p=0.2, inplace=False)\n",
       "              (4): BatchNorm2d(64, eps=1e-05, momentum=0.1, affine=True, track_running_stats=True)\n",
       "              (5): ELU(alpha=1.0)\n",
       "              (6): Conv2d(64, 64, kernel_size=(3, 3), stride=(1, 1), padding=(1, 1))\n",
       "              (7): Dropout2d(p=0.2, inplace=False)\n",
       "              (8): GateLayer2d(\n",
       "                (conv): Conv2d(64, 128, kernel_size=(1, 1), stride=(1, 1))\n",
       "                (nonlin): ELU(alpha=1.0)\n",
       "              )\n",
       "            )\n",
       "          )\n",
       "        )\n",
       "        (1): BottomUpDeterministicResBlock(\n",
       "          (res): ResidualBlock(\n",
       "            (block): Sequential(\n",
       "              (0): BatchNorm2d(64, eps=1e-05, momentum=0.1, affine=True, track_running_stats=True)\n",
       "              (1): ELU(alpha=1.0)\n",
       "              (2): Conv2d(64, 64, kernel_size=(3, 3), stride=(1, 1), padding=(1, 1))\n",
       "              (3): Dropout2d(p=0.2, inplace=False)\n",
       "              (4): BatchNorm2d(64, eps=1e-05, momentum=0.1, affine=True, track_running_stats=True)\n",
       "              (5): ELU(alpha=1.0)\n",
       "              (6): Conv2d(64, 64, kernel_size=(3, 3), stride=(1, 1), padding=(1, 1))\n",
       "              (7): Dropout2d(p=0.2, inplace=False)\n",
       "              (8): GateLayer2d(\n",
       "                (conv): Conv2d(64, 128, kernel_size=(1, 1), stride=(1, 1))\n",
       "                (nonlin): ELU(alpha=1.0)\n",
       "              )\n",
       "            )\n",
       "          )\n",
       "        )\n",
       "        (2): BottomUpDeterministicResBlock(\n",
       "          (res): ResidualBlock(\n",
       "            (block): Sequential(\n",
       "              (0): BatchNorm2d(64, eps=1e-05, momentum=0.1, affine=True, track_running_stats=True)\n",
       "              (1): ELU(alpha=1.0)\n",
       "              (2): Conv2d(64, 64, kernel_size=(3, 3), stride=(1, 1), padding=(1, 1))\n",
       "              (3): Dropout2d(p=0.2, inplace=False)\n",
       "              (4): BatchNorm2d(64, eps=1e-05, momentum=0.1, affine=True, track_running_stats=True)\n",
       "              (5): ELU(alpha=1.0)\n",
       "              (6): Conv2d(64, 64, kernel_size=(3, 3), stride=(1, 1), padding=(1, 1))\n",
       "              (7): Dropout2d(p=0.2, inplace=False)\n",
       "              (8): GateLayer2d(\n",
       "                (conv): Conv2d(64, 128, kernel_size=(1, 1), stride=(1, 1))\n",
       "                (nonlin): ELU(alpha=1.0)\n",
       "              )\n",
       "            )\n",
       "          )\n",
       "        )\n",
       "        (3): BottomUpDeterministicResBlock(\n",
       "          (res): ResidualBlock(\n",
       "            (block): Sequential(\n",
       "              (0): BatchNorm2d(64, eps=1e-05, momentum=0.1, affine=True, track_running_stats=True)\n",
       "              (1): ELU(alpha=1.0)\n",
       "              (2): Conv2d(64, 64, kernel_size=(3, 3), stride=(1, 1), padding=(1, 1))\n",
       "              (3): Dropout2d(p=0.2, inplace=False)\n",
       "              (4): BatchNorm2d(64, eps=1e-05, momentum=0.1, affine=True, track_running_stats=True)\n",
       "              (5): ELU(alpha=1.0)\n",
       "              (6): Conv2d(64, 64, kernel_size=(3, 3), stride=(1, 1), padding=(1, 1))\n",
       "              (7): Dropout2d(p=0.2, inplace=False)\n",
       "              (8): GateLayer2d(\n",
       "                (conv): Conv2d(64, 128, kernel_size=(1, 1), stride=(1, 1))\n",
       "                (nonlin): ELU(alpha=1.0)\n",
       "              )\n",
       "            )\n",
       "          )\n",
       "        )\n",
       "        (4): BottomUpDeterministicResBlock(\n",
       "          (res): ResidualBlock(\n",
       "            (block): Sequential(\n",
       "              (0): BatchNorm2d(64, eps=1e-05, momentum=0.1, affine=True, track_running_stats=True)\n",
       "              (1): ELU(alpha=1.0)\n",
       "              (2): Conv2d(64, 64, kernel_size=(3, 3), stride=(1, 1), padding=(1, 1))\n",
       "              (3): Dropout2d(p=0.2, inplace=False)\n",
       "              (4): BatchNorm2d(64, eps=1e-05, momentum=0.1, affine=True, track_running_stats=True)\n",
       "              (5): ELU(alpha=1.0)\n",
       "              (6): Conv2d(64, 64, kernel_size=(3, 3), stride=(1, 1), padding=(1, 1))\n",
       "              (7): Dropout2d(p=0.2, inplace=False)\n",
       "              (8): GateLayer2d(\n",
       "                (conv): Conv2d(64, 128, kernel_size=(1, 1), stride=(1, 1))\n",
       "                (nonlin): ELU(alpha=1.0)\n",
       "              )\n",
       "            )\n",
       "          )\n",
       "        )\n",
       "      )\n",
       "    )\n",
       "  )\n",
       "  (final_top_down): Sequential(\n",
       "    (0): TopDownDeterministicResBlock(\n",
       "      (res): ResidualBlock(\n",
       "        (block): Sequential(\n",
       "          (0): BatchNorm2d(64, eps=1e-05, momentum=0.1, affine=True, track_running_stats=True)\n",
       "          (1): ELU(alpha=1.0)\n",
       "          (2): Conv2d(64, 64, kernel_size=(3, 3), stride=(1, 1), padding=(1, 1))\n",
       "          (3): Dropout2d(p=0.2, inplace=False)\n",
       "          (4): BatchNorm2d(64, eps=1e-05, momentum=0.1, affine=True, track_running_stats=True)\n",
       "          (5): ELU(alpha=1.0)\n",
       "          (6): Conv2d(64, 64, kernel_size=(3, 3), stride=(1, 1), padding=(1, 1))\n",
       "          (7): Dropout2d(p=0.2, inplace=False)\n",
       "          (8): GateLayer2d(\n",
       "            (conv): Conv2d(64, 128, kernel_size=(1, 1), stride=(1, 1))\n",
       "            (nonlin): ELU(alpha=1.0)\n",
       "          )\n",
       "        )\n",
       "      )\n",
       "    )\n",
       "    (1): TopDownDeterministicResBlock(\n",
       "      (res): ResidualBlock(\n",
       "        (block): Sequential(\n",
       "          (0): BatchNorm2d(64, eps=1e-05, momentum=0.1, affine=True, track_running_stats=True)\n",
       "          (1): ELU(alpha=1.0)\n",
       "          (2): Conv2d(64, 64, kernel_size=(3, 3), stride=(1, 1), padding=(1, 1))\n",
       "          (3): Dropout2d(p=0.2, inplace=False)\n",
       "          (4): BatchNorm2d(64, eps=1e-05, momentum=0.1, affine=True, track_running_stats=True)\n",
       "          (5): ELU(alpha=1.0)\n",
       "          (6): Conv2d(64, 64, kernel_size=(3, 3), stride=(1, 1), padding=(1, 1))\n",
       "          (7): Dropout2d(p=0.2, inplace=False)\n",
       "          (8): GateLayer2d(\n",
       "            (conv): Conv2d(64, 128, kernel_size=(1, 1), stride=(1, 1))\n",
       "            (nonlin): ELU(alpha=1.0)\n",
       "          )\n",
       "        )\n",
       "      )\n",
       "    )\n",
       "    (2): TopDownDeterministicResBlock(\n",
       "      (res): ResidualBlock(\n",
       "        (block): Sequential(\n",
       "          (0): BatchNorm2d(64, eps=1e-05, momentum=0.1, affine=True, track_running_stats=True)\n",
       "          (1): ELU(alpha=1.0)\n",
       "          (2): Conv2d(64, 64, kernel_size=(3, 3), stride=(1, 1), padding=(1, 1))\n",
       "          (3): Dropout2d(p=0.2, inplace=False)\n",
       "          (4): BatchNorm2d(64, eps=1e-05, momentum=0.1, affine=True, track_running_stats=True)\n",
       "          (5): ELU(alpha=1.0)\n",
       "          (6): Conv2d(64, 64, kernel_size=(3, 3), stride=(1, 1), padding=(1, 1))\n",
       "          (7): Dropout2d(p=0.2, inplace=False)\n",
       "          (8): GateLayer2d(\n",
       "            (conv): Conv2d(64, 128, kernel_size=(1, 1), stride=(1, 1))\n",
       "            (nonlin): ELU(alpha=1.0)\n",
       "          )\n",
       "        )\n",
       "      )\n",
       "    )\n",
       "    (3): TopDownDeterministicResBlock(\n",
       "      (res): ResidualBlock(\n",
       "        (block): Sequential(\n",
       "          (0): BatchNorm2d(64, eps=1e-05, momentum=0.1, affine=True, track_running_stats=True)\n",
       "          (1): ELU(alpha=1.0)\n",
       "          (2): Conv2d(64, 64, kernel_size=(3, 3), stride=(1, 1), padding=(1, 1))\n",
       "          (3): Dropout2d(p=0.2, inplace=False)\n",
       "          (4): BatchNorm2d(64, eps=1e-05, momentum=0.1, affine=True, track_running_stats=True)\n",
       "          (5): ELU(alpha=1.0)\n",
       "          (6): Conv2d(64, 64, kernel_size=(3, 3), stride=(1, 1), padding=(1, 1))\n",
       "          (7): Dropout2d(p=0.2, inplace=False)\n",
       "          (8): GateLayer2d(\n",
       "            (conv): Conv2d(64, 128, kernel_size=(1, 1), stride=(1, 1))\n",
       "            (nonlin): ELU(alpha=1.0)\n",
       "          )\n",
       "        )\n",
       "      )\n",
       "    )\n",
       "    (4): TopDownDeterministicResBlock(\n",
       "      (res): ResidualBlock(\n",
       "        (block): Sequential(\n",
       "          (0): BatchNorm2d(64, eps=1e-05, momentum=0.1, affine=True, track_running_stats=True)\n",
       "          (1): ELU(alpha=1.0)\n",
       "          (2): Conv2d(64, 64, kernel_size=(3, 3), stride=(1, 1), padding=(1, 1))\n",
       "          (3): Dropout2d(p=0.2, inplace=False)\n",
       "          (4): BatchNorm2d(64, eps=1e-05, momentum=0.1, affine=True, track_running_stats=True)\n",
       "          (5): ELU(alpha=1.0)\n",
       "          (6): Conv2d(64, 64, kernel_size=(3, 3), stride=(1, 1), padding=(1, 1))\n",
       "          (7): Dropout2d(p=0.2, inplace=False)\n",
       "          (8): GateLayer2d(\n",
       "            (conv): Conv2d(64, 128, kernel_size=(1, 1), stride=(1, 1))\n",
       "            (nonlin): ELU(alpha=1.0)\n",
       "          )\n",
       "        )\n",
       "      )\n",
       "    )\n",
       "  )\n",
       "  (likelihood): GaussianLikelihood(\n",
       "    (parameter_net): Conv2d(64, 1, kernel_size=(3, 3), stride=(1, 1), padding=(1, 1))\n",
       "  )\n",
       ")"
      ]
     },
     "execution_count": 15,
     "metadata": {},
     "output_type": "execute_result"
    }
   ],
   "source": [
    "path=\"/group/jug/Sheida/maester_data/download/high_c1/\"\n",
    "patch_size = 64\n",
    "# model = torch.load(\"/group/jug/Sheida/HDN models/*.net\")\n",
    "model = torch.load(\"/home/sheida.rahnamai/GIT/HDN/examples/Pixel_Noise/Convallaria/Trained_model/model/HDN Muller_best_vae.net\")\n",
    "model.mode_pred=True\n",
    "model.eval()\n",
    "model.to(device)"
   ]
  },
  {
   "cell_type": "code",
   "execution_count": 16,
   "metadata": {},
   "outputs": [],
   "source": [
    "def clustering(idx, mu):\n",
    "    slice_features_mu = mu.astype(float)\n",
    "    feature_flatten_mu = slice_features_mu.reshape(32, -1).T\n",
    "    # feature_flatten_mu = slice_features_mu.reshape(32*(2**idx), -1).T\n",
    "    # if idx == 0 or idx == 1 or idx == 2:\n",
    "    #     feature_flatten_mu = slice_features_mu.reshape(32, -1).T\n",
    "    # elif idx == 3 or idx == 4:\n",
    "    #     feature_flatten_mu = slice_features_mu.reshape(64, -1).T\n",
    "    K_CENTRE = 8\n",
    "    kmeans_mu = KMeans(\n",
    "        n_clusters=K_CENTRE, init='k-means++', n_init=10,\n",
    "        max_iter=1000, random_state=777\n",
    "    )\n",
    "    kmeans_mu.fit(feature_flatten_mu)\n",
    "    labels_mu = kmeans_mu.predict(feature_flatten_mu)\n",
    "    return labels_mu"
   ]
  },
  {
   "cell_type": "code",
   "execution_count": 17,
   "metadata": {},
   "outputs": [],
   "source": [
    "def get_normalized_tensor(img,model,device):\n",
    "    '''\n",
    "    Normalizes tensor with mean and std.\n",
    "    Parameters\n",
    "    ----------\n",
    "    img: array\n",
    "        Image.\n",
    "    model: Hierarchical DivNoising model\n",
    "    device: GPU device.\n",
    "    '''\n",
    "    test_images = torch.from_numpy(img.copy()).to(device)\n",
    "    data_mean = model.data_mean\n",
    "    data_std = model.data_std\n",
    "    test_images = (test_images-data_mean)/data_std\n",
    "    return test_images"
   ]
  },
  {
   "cell_type": "code",
   "execution_count": 18,
   "metadata": {},
   "outputs": [
    {
     "name": "stdout",
     "output_type": "stream",
     "text": [
      "/group/jug/Sheida/maester_data/download/high_c1/data/test/high_c1_source_202.tif\n"
     ]
    },
    {
     "name": "stderr",
     "output_type": "stream",
     "text": [
      "/tmp/ipykernel_16347/581665560.py:15: DeprecationWarning: <tifffile.imsave> is deprecated. Use tifffile.imwrite\n",
      "  imsave(path+\"label/k = 8/\"+str(idx+1)+\"/\"+i[i.rfind(\"/\"):i.rfind(\".\")]+\".tif\", output.reshape(22*(2**(4-idx)), 24*(2**(4-idx))))\n"
     ]
    },
    {
     "name": "stdout",
     "output_type": "stream",
     "text": [
      "/group/jug/Sheida/maester_data/download/high_c1/data/test/high_c1_source_202.tif\n"
     ]
    },
    {
     "name": "stderr",
     "output_type": "stream",
     "text": [
      "/tmp/ipykernel_16347/581665560.py:15: DeprecationWarning: <tifffile.imsave> is deprecated. Use tifffile.imwrite\n",
      "  imsave(path+\"label/k = 8/\"+str(idx+1)+\"/\"+i[i.rfind(\"/\"):i.rfind(\".\")]+\".tif\", output.reshape(22*(2**(4-idx)), 24*(2**(4-idx))))\n"
     ]
    },
    {
     "name": "stdout",
     "output_type": "stream",
     "text": [
      "/group/jug/Sheida/maester_data/download/high_c1/data/test/high_c1_source_202.tif\n"
     ]
    },
    {
     "name": "stderr",
     "output_type": "stream",
     "text": [
      "/tmp/ipykernel_16347/581665560.py:15: DeprecationWarning: <tifffile.imsave> is deprecated. Use tifffile.imwrite\n",
      "  imsave(path+\"label/k = 8/\"+str(idx+1)+\"/\"+i[i.rfind(\"/\"):i.rfind(\".\")]+\".tif\", output.reshape(22*(2**(4-idx)), 24*(2**(4-idx))))\n"
     ]
    },
    {
     "name": "stdout",
     "output_type": "stream",
     "text": [
      "/group/jug/Sheida/maester_data/download/high_c1/data/test/high_c1_source_202.tif\n"
     ]
    },
    {
     "name": "stderr",
     "output_type": "stream",
     "text": [
      "/tmp/ipykernel_16347/581665560.py:15: DeprecationWarning: <tifffile.imsave> is deprecated. Use tifffile.imwrite\n",
      "  imsave(path+\"label/k = 8/\"+str(idx+1)+\"/\"+i[i.rfind(\"/\"):i.rfind(\".\")]+\".tif\", output.reshape(22*(2**(4-idx)), 24*(2**(4-idx))))\n"
     ]
    },
    {
     "name": "stdout",
     "output_type": "stream",
     "text": [
      "/group/jug/Sheida/maester_data/download/high_c1/data/test/high_c1_source_202.tif\n"
     ]
    },
    {
     "name": "stderr",
     "output_type": "stream",
     "text": [
      "/tmp/ipykernel_16347/581665560.py:15: DeprecationWarning: <tifffile.imsave> is deprecated. Use tifffile.imwrite\n",
      "  imsave(path+\"label/k = 8/\"+str(idx+1)+\"/\"+i[i.rfind(\"/\"):i.rfind(\".\")]+\".tif\", output.reshape(22*(2**(4-idx)), 24*(2**(4-idx))))\n"
     ]
    },
    {
     "name": "stdout",
     "output_type": "stream",
     "text": [
      "/group/jug/Sheida/maester_data/download/high_c1/data/test/high_c1_source_659.tif\n"
     ]
    },
    {
     "name": "stderr",
     "output_type": "stream",
     "text": [
      "/tmp/ipykernel_16347/581665560.py:15: DeprecationWarning: <tifffile.imsave> is deprecated. Use tifffile.imwrite\n",
      "  imsave(path+\"label/k = 8/\"+str(idx+1)+\"/\"+i[i.rfind(\"/\"):i.rfind(\".\")]+\".tif\", output.reshape(22*(2**(4-idx)), 24*(2**(4-idx))))\n"
     ]
    },
    {
     "name": "stdout",
     "output_type": "stream",
     "text": [
      "/group/jug/Sheida/maester_data/download/high_c1/data/test/high_c1_source_659.tif\n"
     ]
    },
    {
     "name": "stderr",
     "output_type": "stream",
     "text": [
      "/tmp/ipykernel_16347/581665560.py:15: DeprecationWarning: <tifffile.imsave> is deprecated. Use tifffile.imwrite\n",
      "  imsave(path+\"label/k = 8/\"+str(idx+1)+\"/\"+i[i.rfind(\"/\"):i.rfind(\".\")]+\".tif\", output.reshape(22*(2**(4-idx)), 24*(2**(4-idx))))\n"
     ]
    },
    {
     "name": "stdout",
     "output_type": "stream",
     "text": [
      "/group/jug/Sheida/maester_data/download/high_c1/data/test/high_c1_source_659.tif\n"
     ]
    },
    {
     "name": "stderr",
     "output_type": "stream",
     "text": [
      "/tmp/ipykernel_16347/581665560.py:15: DeprecationWarning: <tifffile.imsave> is deprecated. Use tifffile.imwrite\n",
      "  imsave(path+\"label/k = 8/\"+str(idx+1)+\"/\"+i[i.rfind(\"/\"):i.rfind(\".\")]+\".tif\", output.reshape(22*(2**(4-idx)), 24*(2**(4-idx))))\n"
     ]
    },
    {
     "name": "stdout",
     "output_type": "stream",
     "text": [
      "/group/jug/Sheida/maester_data/download/high_c1/data/test/high_c1_source_659.tif\n"
     ]
    },
    {
     "name": "stderr",
     "output_type": "stream",
     "text": [
      "/tmp/ipykernel_16347/581665560.py:15: DeprecationWarning: <tifffile.imsave> is deprecated. Use tifffile.imwrite\n",
      "  imsave(path+\"label/k = 8/\"+str(idx+1)+\"/\"+i[i.rfind(\"/\"):i.rfind(\".\")]+\".tif\", output.reshape(22*(2**(4-idx)), 24*(2**(4-idx))))\n"
     ]
    },
    {
     "name": "stdout",
     "output_type": "stream",
     "text": [
      "/group/jug/Sheida/maester_data/download/high_c1/data/test/high_c1_source_659.tif\n"
     ]
    },
    {
     "name": "stderr",
     "output_type": "stream",
     "text": [
      "/tmp/ipykernel_16347/581665560.py:15: DeprecationWarning: <tifffile.imsave> is deprecated. Use tifffile.imwrite\n",
      "  imsave(path+\"label/k = 8/\"+str(idx+1)+\"/\"+i[i.rfind(\"/\"):i.rfind(\".\")]+\".tif\", output.reshape(22*(2**(4-idx)), 24*(2**(4-idx))))\n"
     ]
    },
    {
     "name": "stdout",
     "output_type": "stream",
     "text": [
      "/group/jug/Sheida/maester_data/download/high_c1/data/test/high_c1_source_771.tif\n"
     ]
    },
    {
     "name": "stderr",
     "output_type": "stream",
     "text": [
      "/tmp/ipykernel_16347/581665560.py:15: DeprecationWarning: <tifffile.imsave> is deprecated. Use tifffile.imwrite\n",
      "  imsave(path+\"label/k = 8/\"+str(idx+1)+\"/\"+i[i.rfind(\"/\"):i.rfind(\".\")]+\".tif\", output.reshape(22*(2**(4-idx)), 24*(2**(4-idx))))\n"
     ]
    },
    {
     "name": "stdout",
     "output_type": "stream",
     "text": [
      "/group/jug/Sheida/maester_data/download/high_c1/data/test/high_c1_source_771.tif\n"
     ]
    },
    {
     "name": "stderr",
     "output_type": "stream",
     "text": [
      "/tmp/ipykernel_16347/581665560.py:15: DeprecationWarning: <tifffile.imsave> is deprecated. Use tifffile.imwrite\n",
      "  imsave(path+\"label/k = 8/\"+str(idx+1)+\"/\"+i[i.rfind(\"/\"):i.rfind(\".\")]+\".tif\", output.reshape(22*(2**(4-idx)), 24*(2**(4-idx))))\n"
     ]
    },
    {
     "name": "stdout",
     "output_type": "stream",
     "text": [
      "/group/jug/Sheida/maester_data/download/high_c1/data/test/high_c1_source_771.tif\n"
     ]
    },
    {
     "name": "stderr",
     "output_type": "stream",
     "text": [
      "/tmp/ipykernel_16347/581665560.py:15: DeprecationWarning: <tifffile.imsave> is deprecated. Use tifffile.imwrite\n",
      "  imsave(path+\"label/k = 8/\"+str(idx+1)+\"/\"+i[i.rfind(\"/\"):i.rfind(\".\")]+\".tif\", output.reshape(22*(2**(4-idx)), 24*(2**(4-idx))))\n"
     ]
    },
    {
     "name": "stdout",
     "output_type": "stream",
     "text": [
      "/group/jug/Sheida/maester_data/download/high_c1/data/test/high_c1_source_771.tif\n"
     ]
    },
    {
     "name": "stderr",
     "output_type": "stream",
     "text": [
      "/tmp/ipykernel_16347/581665560.py:15: DeprecationWarning: <tifffile.imsave> is deprecated. Use tifffile.imwrite\n",
      "  imsave(path+\"label/k = 8/\"+str(idx+1)+\"/\"+i[i.rfind(\"/\"):i.rfind(\".\")]+\".tif\", output.reshape(22*(2**(4-idx)), 24*(2**(4-idx))))\n"
     ]
    },
    {
     "name": "stdout",
     "output_type": "stream",
     "text": [
      "/group/jug/Sheida/maester_data/download/high_c1/data/test/high_c1_source_771.tif\n"
     ]
    },
    {
     "name": "stderr",
     "output_type": "stream",
     "text": [
      "/tmp/ipykernel_16347/581665560.py:15: DeprecationWarning: <tifffile.imsave> is deprecated. Use tifffile.imwrite\n",
      "  imsave(path+\"label/k = 8/\"+str(idx+1)+\"/\"+i[i.rfind(\"/\"):i.rfind(\".\")]+\".tif\", output.reshape(22*(2**(4-idx)), 24*(2**(4-idx))))\n"
     ]
    },
    {
     "name": "stdout",
     "output_type": "stream",
     "text": [
      "/group/jug/Sheida/maester_data/download/high_c1/data/test/high_c1_source_558.tif\n"
     ]
    },
    {
     "name": "stderr",
     "output_type": "stream",
     "text": [
      "/tmp/ipykernel_16347/581665560.py:15: DeprecationWarning: <tifffile.imsave> is deprecated. Use tifffile.imwrite\n",
      "  imsave(path+\"label/k = 8/\"+str(idx+1)+\"/\"+i[i.rfind(\"/\"):i.rfind(\".\")]+\".tif\", output.reshape(22*(2**(4-idx)), 24*(2**(4-idx))))\n"
     ]
    },
    {
     "name": "stdout",
     "output_type": "stream",
     "text": [
      "/group/jug/Sheida/maester_data/download/high_c1/data/test/high_c1_source_558.tif\n"
     ]
    },
    {
     "name": "stderr",
     "output_type": "stream",
     "text": [
      "/tmp/ipykernel_16347/581665560.py:15: DeprecationWarning: <tifffile.imsave> is deprecated. Use tifffile.imwrite\n",
      "  imsave(path+\"label/k = 8/\"+str(idx+1)+\"/\"+i[i.rfind(\"/\"):i.rfind(\".\")]+\".tif\", output.reshape(22*(2**(4-idx)), 24*(2**(4-idx))))\n"
     ]
    },
    {
     "name": "stdout",
     "output_type": "stream",
     "text": [
      "/group/jug/Sheida/maester_data/download/high_c1/data/test/high_c1_source_558.tif\n"
     ]
    },
    {
     "name": "stderr",
     "output_type": "stream",
     "text": [
      "/tmp/ipykernel_16347/581665560.py:15: DeprecationWarning: <tifffile.imsave> is deprecated. Use tifffile.imwrite\n",
      "  imsave(path+\"label/k = 8/\"+str(idx+1)+\"/\"+i[i.rfind(\"/\"):i.rfind(\".\")]+\".tif\", output.reshape(22*(2**(4-idx)), 24*(2**(4-idx))))\n"
     ]
    },
    {
     "name": "stdout",
     "output_type": "stream",
     "text": [
      "/group/jug/Sheida/maester_data/download/high_c1/data/test/high_c1_source_558.tif\n"
     ]
    },
    {
     "name": "stderr",
     "output_type": "stream",
     "text": [
      "/tmp/ipykernel_16347/581665560.py:15: DeprecationWarning: <tifffile.imsave> is deprecated. Use tifffile.imwrite\n",
      "  imsave(path+\"label/k = 8/\"+str(idx+1)+\"/\"+i[i.rfind(\"/\"):i.rfind(\".\")]+\".tif\", output.reshape(22*(2**(4-idx)), 24*(2**(4-idx))))\n"
     ]
    },
    {
     "name": "stdout",
     "output_type": "stream",
     "text": [
      "/group/jug/Sheida/maester_data/download/high_c1/data/test/high_c1_source_558.tif\n"
     ]
    },
    {
     "name": "stderr",
     "output_type": "stream",
     "text": [
      "/tmp/ipykernel_16347/581665560.py:15: DeprecationWarning: <tifffile.imsave> is deprecated. Use tifffile.imwrite\n",
      "  imsave(path+\"label/k = 8/\"+str(idx+1)+\"/\"+i[i.rfind(\"/\"):i.rfind(\".\")]+\".tif\", output.reshape(22*(2**(4-idx)), 24*(2**(4-idx))))\n"
     ]
    },
    {
     "name": "stdout",
     "output_type": "stream",
     "text": [
      "/group/jug/Sheida/maester_data/download/high_c1/data/test/high_c1_source_781.tif\n"
     ]
    },
    {
     "name": "stderr",
     "output_type": "stream",
     "text": [
      "/tmp/ipykernel_16347/581665560.py:15: DeprecationWarning: <tifffile.imsave> is deprecated. Use tifffile.imwrite\n",
      "  imsave(path+\"label/k = 8/\"+str(idx+1)+\"/\"+i[i.rfind(\"/\"):i.rfind(\".\")]+\".tif\", output.reshape(22*(2**(4-idx)), 24*(2**(4-idx))))\n"
     ]
    },
    {
     "name": "stdout",
     "output_type": "stream",
     "text": [
      "/group/jug/Sheida/maester_data/download/high_c1/data/test/high_c1_source_781.tif\n"
     ]
    },
    {
     "name": "stderr",
     "output_type": "stream",
     "text": [
      "/tmp/ipykernel_16347/581665560.py:15: DeprecationWarning: <tifffile.imsave> is deprecated. Use tifffile.imwrite\n",
      "  imsave(path+\"label/k = 8/\"+str(idx+1)+\"/\"+i[i.rfind(\"/\"):i.rfind(\".\")]+\".tif\", output.reshape(22*(2**(4-idx)), 24*(2**(4-idx))))\n"
     ]
    },
    {
     "name": "stdout",
     "output_type": "stream",
     "text": [
      "/group/jug/Sheida/maester_data/download/high_c1/data/test/high_c1_source_781.tif\n"
     ]
    },
    {
     "name": "stderr",
     "output_type": "stream",
     "text": [
      "/tmp/ipykernel_16347/581665560.py:15: DeprecationWarning: <tifffile.imsave> is deprecated. Use tifffile.imwrite\n",
      "  imsave(path+\"label/k = 8/\"+str(idx+1)+\"/\"+i[i.rfind(\"/\"):i.rfind(\".\")]+\".tif\", output.reshape(22*(2**(4-idx)), 24*(2**(4-idx))))\n"
     ]
    },
    {
     "name": "stdout",
     "output_type": "stream",
     "text": [
      "/group/jug/Sheida/maester_data/download/high_c1/data/test/high_c1_source_781.tif\n"
     ]
    },
    {
     "name": "stderr",
     "output_type": "stream",
     "text": [
      "/tmp/ipykernel_16347/581665560.py:15: DeprecationWarning: <tifffile.imsave> is deprecated. Use tifffile.imwrite\n",
      "  imsave(path+\"label/k = 8/\"+str(idx+1)+\"/\"+i[i.rfind(\"/\"):i.rfind(\".\")]+\".tif\", output.reshape(22*(2**(4-idx)), 24*(2**(4-idx))))\n"
     ]
    },
    {
     "name": "stdout",
     "output_type": "stream",
     "text": [
      "/group/jug/Sheida/maester_data/download/high_c1/data/test/high_c1_source_781.tif\n"
     ]
    },
    {
     "name": "stderr",
     "output_type": "stream",
     "text": [
      "/tmp/ipykernel_16347/581665560.py:15: DeprecationWarning: <tifffile.imsave> is deprecated. Use tifffile.imwrite\n",
      "  imsave(path+\"label/k = 8/\"+str(idx+1)+\"/\"+i[i.rfind(\"/\"):i.rfind(\".\")]+\".tif\", output.reshape(22*(2**(4-idx)), 24*(2**(4-idx))))\n"
     ]
    },
    {
     "name": "stdout",
     "output_type": "stream",
     "text": [
      "/group/jug/Sheida/maester_data/download/high_c1/data/test/high_c1_source_187.tif\n"
     ]
    },
    {
     "name": "stderr",
     "output_type": "stream",
     "text": [
      "/tmp/ipykernel_16347/581665560.py:15: DeprecationWarning: <tifffile.imsave> is deprecated. Use tifffile.imwrite\n",
      "  imsave(path+\"label/k = 8/\"+str(idx+1)+\"/\"+i[i.rfind(\"/\"):i.rfind(\".\")]+\".tif\", output.reshape(22*(2**(4-idx)), 24*(2**(4-idx))))\n"
     ]
    },
    {
     "name": "stdout",
     "output_type": "stream",
     "text": [
      "/group/jug/Sheida/maester_data/download/high_c1/data/test/high_c1_source_187.tif\n"
     ]
    },
    {
     "name": "stderr",
     "output_type": "stream",
     "text": [
      "/tmp/ipykernel_16347/581665560.py:15: DeprecationWarning: <tifffile.imsave> is deprecated. Use tifffile.imwrite\n",
      "  imsave(path+\"label/k = 8/\"+str(idx+1)+\"/\"+i[i.rfind(\"/\"):i.rfind(\".\")]+\".tif\", output.reshape(22*(2**(4-idx)), 24*(2**(4-idx))))\n"
     ]
    },
    {
     "name": "stdout",
     "output_type": "stream",
     "text": [
      "/group/jug/Sheida/maester_data/download/high_c1/data/test/high_c1_source_187.tif\n"
     ]
    },
    {
     "name": "stderr",
     "output_type": "stream",
     "text": [
      "/tmp/ipykernel_16347/581665560.py:15: DeprecationWarning: <tifffile.imsave> is deprecated. Use tifffile.imwrite\n",
      "  imsave(path+\"label/k = 8/\"+str(idx+1)+\"/\"+i[i.rfind(\"/\"):i.rfind(\".\")]+\".tif\", output.reshape(22*(2**(4-idx)), 24*(2**(4-idx))))\n"
     ]
    },
    {
     "name": "stdout",
     "output_type": "stream",
     "text": [
      "/group/jug/Sheida/maester_data/download/high_c1/data/test/high_c1_source_187.tif\n"
     ]
    },
    {
     "name": "stderr",
     "output_type": "stream",
     "text": [
      "/tmp/ipykernel_16347/581665560.py:15: DeprecationWarning: <tifffile.imsave> is deprecated. Use tifffile.imwrite\n",
      "  imsave(path+\"label/k = 8/\"+str(idx+1)+\"/\"+i[i.rfind(\"/\"):i.rfind(\".\")]+\".tif\", output.reshape(22*(2**(4-idx)), 24*(2**(4-idx))))\n"
     ]
    },
    {
     "name": "stdout",
     "output_type": "stream",
     "text": [
      "/group/jug/Sheida/maester_data/download/high_c1/data/test/high_c1_source_187.tif\n"
     ]
    },
    {
     "name": "stderr",
     "output_type": "stream",
     "text": [
      "/tmp/ipykernel_16347/581665560.py:15: DeprecationWarning: <tifffile.imsave> is deprecated. Use tifffile.imwrite\n",
      "  imsave(path+\"label/k = 8/\"+str(idx+1)+\"/\"+i[i.rfind(\"/\"):i.rfind(\".\")]+\".tif\", output.reshape(22*(2**(4-idx)), 24*(2**(4-idx))))\n"
     ]
    },
    {
     "name": "stdout",
     "output_type": "stream",
     "text": [
      "/group/jug/Sheida/maester_data/download/high_c1/data/test/high_c1_source_627.tif\n"
     ]
    },
    {
     "name": "stderr",
     "output_type": "stream",
     "text": [
      "/tmp/ipykernel_16347/581665560.py:15: DeprecationWarning: <tifffile.imsave> is deprecated. Use tifffile.imwrite\n",
      "  imsave(path+\"label/k = 8/\"+str(idx+1)+\"/\"+i[i.rfind(\"/\"):i.rfind(\".\")]+\".tif\", output.reshape(22*(2**(4-idx)), 24*(2**(4-idx))))\n"
     ]
    },
    {
     "name": "stdout",
     "output_type": "stream",
     "text": [
      "/group/jug/Sheida/maester_data/download/high_c1/data/test/high_c1_source_627.tif\n"
     ]
    },
    {
     "name": "stderr",
     "output_type": "stream",
     "text": [
      "/tmp/ipykernel_16347/581665560.py:15: DeprecationWarning: <tifffile.imsave> is deprecated. Use tifffile.imwrite\n",
      "  imsave(path+\"label/k = 8/\"+str(idx+1)+\"/\"+i[i.rfind(\"/\"):i.rfind(\".\")]+\".tif\", output.reshape(22*(2**(4-idx)), 24*(2**(4-idx))))\n"
     ]
    },
    {
     "name": "stdout",
     "output_type": "stream",
     "text": [
      "/group/jug/Sheida/maester_data/download/high_c1/data/test/high_c1_source_627.tif\n"
     ]
    },
    {
     "name": "stderr",
     "output_type": "stream",
     "text": [
      "/tmp/ipykernel_16347/581665560.py:15: DeprecationWarning: <tifffile.imsave> is deprecated. Use tifffile.imwrite\n",
      "  imsave(path+\"label/k = 8/\"+str(idx+1)+\"/\"+i[i.rfind(\"/\"):i.rfind(\".\")]+\".tif\", output.reshape(22*(2**(4-idx)), 24*(2**(4-idx))))\n"
     ]
    },
    {
     "name": "stdout",
     "output_type": "stream",
     "text": [
      "/group/jug/Sheida/maester_data/download/high_c1/data/test/high_c1_source_627.tif\n"
     ]
    },
    {
     "name": "stderr",
     "output_type": "stream",
     "text": [
      "/tmp/ipykernel_16347/581665560.py:15: DeprecationWarning: <tifffile.imsave> is deprecated. Use tifffile.imwrite\n",
      "  imsave(path+\"label/k = 8/\"+str(idx+1)+\"/\"+i[i.rfind(\"/\"):i.rfind(\".\")]+\".tif\", output.reshape(22*(2**(4-idx)), 24*(2**(4-idx))))\n"
     ]
    },
    {
     "name": "stdout",
     "output_type": "stream",
     "text": [
      "/group/jug/Sheida/maester_data/download/high_c1/data/test/high_c1_source_627.tif\n"
     ]
    },
    {
     "name": "stderr",
     "output_type": "stream",
     "text": [
      "/tmp/ipykernel_16347/581665560.py:15: DeprecationWarning: <tifffile.imsave> is deprecated. Use tifffile.imwrite\n",
      "  imsave(path+\"label/k = 8/\"+str(idx+1)+\"/\"+i[i.rfind(\"/\"):i.rfind(\".\")]+\".tif\", output.reshape(22*(2**(4-idx)), 24*(2**(4-idx))))\n"
     ]
    },
    {
     "name": "stdout",
     "output_type": "stream",
     "text": [
      "/group/jug/Sheida/maester_data/download/high_c1/data/test/high_c1_source_661.tif\n"
     ]
    },
    {
     "name": "stderr",
     "output_type": "stream",
     "text": [
      "/tmp/ipykernel_16347/581665560.py:15: DeprecationWarning: <tifffile.imsave> is deprecated. Use tifffile.imwrite\n",
      "  imsave(path+\"label/k = 8/\"+str(idx+1)+\"/\"+i[i.rfind(\"/\"):i.rfind(\".\")]+\".tif\", output.reshape(22*(2**(4-idx)), 24*(2**(4-idx))))\n"
     ]
    },
    {
     "name": "stdout",
     "output_type": "stream",
     "text": [
      "/group/jug/Sheida/maester_data/download/high_c1/data/test/high_c1_source_661.tif\n"
     ]
    },
    {
     "name": "stderr",
     "output_type": "stream",
     "text": [
      "/tmp/ipykernel_16347/581665560.py:15: DeprecationWarning: <tifffile.imsave> is deprecated. Use tifffile.imwrite\n",
      "  imsave(path+\"label/k = 8/\"+str(idx+1)+\"/\"+i[i.rfind(\"/\"):i.rfind(\".\")]+\".tif\", output.reshape(22*(2**(4-idx)), 24*(2**(4-idx))))\n"
     ]
    },
    {
     "name": "stdout",
     "output_type": "stream",
     "text": [
      "/group/jug/Sheida/maester_data/download/high_c1/data/test/high_c1_source_661.tif\n"
     ]
    },
    {
     "name": "stderr",
     "output_type": "stream",
     "text": [
      "/tmp/ipykernel_16347/581665560.py:15: DeprecationWarning: <tifffile.imsave> is deprecated. Use tifffile.imwrite\n",
      "  imsave(path+\"label/k = 8/\"+str(idx+1)+\"/\"+i[i.rfind(\"/\"):i.rfind(\".\")]+\".tif\", output.reshape(22*(2**(4-idx)), 24*(2**(4-idx))))\n"
     ]
    },
    {
     "name": "stdout",
     "output_type": "stream",
     "text": [
      "/group/jug/Sheida/maester_data/download/high_c1/data/test/high_c1_source_661.tif\n"
     ]
    },
    {
     "name": "stderr",
     "output_type": "stream",
     "text": [
      "/tmp/ipykernel_16347/581665560.py:15: DeprecationWarning: <tifffile.imsave> is deprecated. Use tifffile.imwrite\n",
      "  imsave(path+\"label/k = 8/\"+str(idx+1)+\"/\"+i[i.rfind(\"/\"):i.rfind(\".\")]+\".tif\", output.reshape(22*(2**(4-idx)), 24*(2**(4-idx))))\n"
     ]
    },
    {
     "name": "stdout",
     "output_type": "stream",
     "text": [
      "/group/jug/Sheida/maester_data/download/high_c1/data/test/high_c1_source_661.tif\n"
     ]
    },
    {
     "name": "stderr",
     "output_type": "stream",
     "text": [
      "/tmp/ipykernel_16347/581665560.py:15: DeprecationWarning: <tifffile.imsave> is deprecated. Use tifffile.imwrite\n",
      "  imsave(path+\"label/k = 8/\"+str(idx+1)+\"/\"+i[i.rfind(\"/\"):i.rfind(\".\")]+\".tif\", output.reshape(22*(2**(4-idx)), 24*(2**(4-idx))))\n"
     ]
    },
    {
     "name": "stdout",
     "output_type": "stream",
     "text": [
      "/group/jug/Sheida/maester_data/download/high_c1/data/test/high_c1_source_547.tif\n"
     ]
    },
    {
     "name": "stderr",
     "output_type": "stream",
     "text": [
      "/tmp/ipykernel_16347/581665560.py:15: DeprecationWarning: <tifffile.imsave> is deprecated. Use tifffile.imwrite\n",
      "  imsave(path+\"label/k = 8/\"+str(idx+1)+\"/\"+i[i.rfind(\"/\"):i.rfind(\".\")]+\".tif\", output.reshape(22*(2**(4-idx)), 24*(2**(4-idx))))\n"
     ]
    },
    {
     "name": "stdout",
     "output_type": "stream",
     "text": [
      "/group/jug/Sheida/maester_data/download/high_c1/data/test/high_c1_source_547.tif\n"
     ]
    },
    {
     "name": "stderr",
     "output_type": "stream",
     "text": [
      "/tmp/ipykernel_16347/581665560.py:15: DeprecationWarning: <tifffile.imsave> is deprecated. Use tifffile.imwrite\n",
      "  imsave(path+\"label/k = 8/\"+str(idx+1)+\"/\"+i[i.rfind(\"/\"):i.rfind(\".\")]+\".tif\", output.reshape(22*(2**(4-idx)), 24*(2**(4-idx))))\n"
     ]
    },
    {
     "name": "stdout",
     "output_type": "stream",
     "text": [
      "/group/jug/Sheida/maester_data/download/high_c1/data/test/high_c1_source_547.tif\n"
     ]
    },
    {
     "name": "stderr",
     "output_type": "stream",
     "text": [
      "/tmp/ipykernel_16347/581665560.py:15: DeprecationWarning: <tifffile.imsave> is deprecated. Use tifffile.imwrite\n",
      "  imsave(path+\"label/k = 8/\"+str(idx+1)+\"/\"+i[i.rfind(\"/\"):i.rfind(\".\")]+\".tif\", output.reshape(22*(2**(4-idx)), 24*(2**(4-idx))))\n"
     ]
    },
    {
     "name": "stdout",
     "output_type": "stream",
     "text": [
      "/group/jug/Sheida/maester_data/download/high_c1/data/test/high_c1_source_547.tif\n"
     ]
    },
    {
     "name": "stderr",
     "output_type": "stream",
     "text": [
      "/tmp/ipykernel_16347/581665560.py:15: DeprecationWarning: <tifffile.imsave> is deprecated. Use tifffile.imwrite\n",
      "  imsave(path+\"label/k = 8/\"+str(idx+1)+\"/\"+i[i.rfind(\"/\"):i.rfind(\".\")]+\".tif\", output.reshape(22*(2**(4-idx)), 24*(2**(4-idx))))\n"
     ]
    },
    {
     "name": "stdout",
     "output_type": "stream",
     "text": [
      "/group/jug/Sheida/maester_data/download/high_c1/data/test/high_c1_source_547.tif\n"
     ]
    },
    {
     "name": "stderr",
     "output_type": "stream",
     "text": [
      "/tmp/ipykernel_16347/581665560.py:15: DeprecationWarning: <tifffile.imsave> is deprecated. Use tifffile.imwrite\n",
      "  imsave(path+\"label/k = 8/\"+str(idx+1)+\"/\"+i[i.rfind(\"/\"):i.rfind(\".\")]+\".tif\", output.reshape(22*(2**(4-idx)), 24*(2**(4-idx))))\n"
     ]
    },
    {
     "name": "stdout",
     "output_type": "stream",
     "text": [
      "/group/jug/Sheida/maester_data/download/high_c1/data/test/high_c1_source_920.tif\n"
     ]
    },
    {
     "name": "stderr",
     "output_type": "stream",
     "text": [
      "/tmp/ipykernel_16347/581665560.py:15: DeprecationWarning: <tifffile.imsave> is deprecated. Use tifffile.imwrite\n",
      "  imsave(path+\"label/k = 8/\"+str(idx+1)+\"/\"+i[i.rfind(\"/\"):i.rfind(\".\")]+\".tif\", output.reshape(22*(2**(4-idx)), 24*(2**(4-idx))))\n"
     ]
    },
    {
     "name": "stdout",
     "output_type": "stream",
     "text": [
      "/group/jug/Sheida/maester_data/download/high_c1/data/test/high_c1_source_920.tif\n"
     ]
    },
    {
     "name": "stderr",
     "output_type": "stream",
     "text": [
      "/tmp/ipykernel_16347/581665560.py:15: DeprecationWarning: <tifffile.imsave> is deprecated. Use tifffile.imwrite\n",
      "  imsave(path+\"label/k = 8/\"+str(idx+1)+\"/\"+i[i.rfind(\"/\"):i.rfind(\".\")]+\".tif\", output.reshape(22*(2**(4-idx)), 24*(2**(4-idx))))\n"
     ]
    },
    {
     "name": "stdout",
     "output_type": "stream",
     "text": [
      "/group/jug/Sheida/maester_data/download/high_c1/data/test/high_c1_source_920.tif\n"
     ]
    },
    {
     "name": "stderr",
     "output_type": "stream",
     "text": [
      "/tmp/ipykernel_16347/581665560.py:15: DeprecationWarning: <tifffile.imsave> is deprecated. Use tifffile.imwrite\n",
      "  imsave(path+\"label/k = 8/\"+str(idx+1)+\"/\"+i[i.rfind(\"/\"):i.rfind(\".\")]+\".tif\", output.reshape(22*(2**(4-idx)), 24*(2**(4-idx))))\n"
     ]
    },
    {
     "name": "stdout",
     "output_type": "stream",
     "text": [
      "/group/jug/Sheida/maester_data/download/high_c1/data/test/high_c1_source_920.tif\n"
     ]
    },
    {
     "name": "stderr",
     "output_type": "stream",
     "text": [
      "/tmp/ipykernel_16347/581665560.py:15: DeprecationWarning: <tifffile.imsave> is deprecated. Use tifffile.imwrite\n",
      "  imsave(path+\"label/k = 8/\"+str(idx+1)+\"/\"+i[i.rfind(\"/\"):i.rfind(\".\")]+\".tif\", output.reshape(22*(2**(4-idx)), 24*(2**(4-idx))))\n"
     ]
    },
    {
     "name": "stdout",
     "output_type": "stream",
     "text": [
      "/group/jug/Sheida/maester_data/download/high_c1/data/test/high_c1_source_920.tif\n"
     ]
    },
    {
     "name": "stderr",
     "output_type": "stream",
     "text": [
      "/tmp/ipykernel_16347/581665560.py:15: DeprecationWarning: <tifffile.imsave> is deprecated. Use tifffile.imwrite\n",
      "  imsave(path+\"label/k = 8/\"+str(idx+1)+\"/\"+i[i.rfind(\"/\"):i.rfind(\".\")]+\".tif\", output.reshape(22*(2**(4-idx)), 24*(2**(4-idx))))\n"
     ]
    },
    {
     "name": "stdout",
     "output_type": "stream",
     "text": [
      "/group/jug/Sheida/maester_data/download/high_c1/data/test/high_c1_source_975.tif\n"
     ]
    },
    {
     "name": "stderr",
     "output_type": "stream",
     "text": [
      "/tmp/ipykernel_16347/581665560.py:15: DeprecationWarning: <tifffile.imsave> is deprecated. Use tifffile.imwrite\n",
      "  imsave(path+\"label/k = 8/\"+str(idx+1)+\"/\"+i[i.rfind(\"/\"):i.rfind(\".\")]+\".tif\", output.reshape(22*(2**(4-idx)), 24*(2**(4-idx))))\n"
     ]
    },
    {
     "name": "stdout",
     "output_type": "stream",
     "text": [
      "/group/jug/Sheida/maester_data/download/high_c1/data/test/high_c1_source_975.tif\n"
     ]
    },
    {
     "name": "stderr",
     "output_type": "stream",
     "text": [
      "/tmp/ipykernel_16347/581665560.py:15: DeprecationWarning: <tifffile.imsave> is deprecated. Use tifffile.imwrite\n",
      "  imsave(path+\"label/k = 8/\"+str(idx+1)+\"/\"+i[i.rfind(\"/\"):i.rfind(\".\")]+\".tif\", output.reshape(22*(2**(4-idx)), 24*(2**(4-idx))))\n"
     ]
    },
    {
     "name": "stdout",
     "output_type": "stream",
     "text": [
      "/group/jug/Sheida/maester_data/download/high_c1/data/test/high_c1_source_975.tif\n"
     ]
    },
    {
     "name": "stderr",
     "output_type": "stream",
     "text": [
      "/tmp/ipykernel_16347/581665560.py:15: DeprecationWarning: <tifffile.imsave> is deprecated. Use tifffile.imwrite\n",
      "  imsave(path+\"label/k = 8/\"+str(idx+1)+\"/\"+i[i.rfind(\"/\"):i.rfind(\".\")]+\".tif\", output.reshape(22*(2**(4-idx)), 24*(2**(4-idx))))\n"
     ]
    },
    {
     "name": "stdout",
     "output_type": "stream",
     "text": [
      "/group/jug/Sheida/maester_data/download/high_c1/data/test/high_c1_source_975.tif\n"
     ]
    },
    {
     "name": "stderr",
     "output_type": "stream",
     "text": [
      "/tmp/ipykernel_16347/581665560.py:15: DeprecationWarning: <tifffile.imsave> is deprecated. Use tifffile.imwrite\n",
      "  imsave(path+\"label/k = 8/\"+str(idx+1)+\"/\"+i[i.rfind(\"/\"):i.rfind(\".\")]+\".tif\", output.reshape(22*(2**(4-idx)), 24*(2**(4-idx))))\n"
     ]
    },
    {
     "name": "stdout",
     "output_type": "stream",
     "text": [
      "/group/jug/Sheida/maester_data/download/high_c1/data/test/high_c1_source_975.tif\n"
     ]
    },
    {
     "name": "stderr",
     "output_type": "stream",
     "text": [
      "/tmp/ipykernel_16347/581665560.py:15: DeprecationWarning: <tifffile.imsave> is deprecated. Use tifffile.imwrite\n",
      "  imsave(path+\"label/k = 8/\"+str(idx+1)+\"/\"+i[i.rfind(\"/\"):i.rfind(\".\")]+\".tif\", output.reshape(22*(2**(4-idx)), 24*(2**(4-idx))))\n"
     ]
    },
    {
     "name": "stdout",
     "output_type": "stream",
     "text": [
      "/group/jug/Sheida/maester_data/download/high_c1/data/test/high_c1_source_732.tif\n"
     ]
    },
    {
     "name": "stderr",
     "output_type": "stream",
     "text": [
      "/tmp/ipykernel_16347/581665560.py:15: DeprecationWarning: <tifffile.imsave> is deprecated. Use tifffile.imwrite\n",
      "  imsave(path+\"label/k = 8/\"+str(idx+1)+\"/\"+i[i.rfind(\"/\"):i.rfind(\".\")]+\".tif\", output.reshape(22*(2**(4-idx)), 24*(2**(4-idx))))\n"
     ]
    },
    {
     "name": "stdout",
     "output_type": "stream",
     "text": [
      "/group/jug/Sheida/maester_data/download/high_c1/data/test/high_c1_source_732.tif\n"
     ]
    },
    {
     "name": "stderr",
     "output_type": "stream",
     "text": [
      "/tmp/ipykernel_16347/581665560.py:15: DeprecationWarning: <tifffile.imsave> is deprecated. Use tifffile.imwrite\n",
      "  imsave(path+\"label/k = 8/\"+str(idx+1)+\"/\"+i[i.rfind(\"/\"):i.rfind(\".\")]+\".tif\", output.reshape(22*(2**(4-idx)), 24*(2**(4-idx))))\n"
     ]
    },
    {
     "name": "stdout",
     "output_type": "stream",
     "text": [
      "/group/jug/Sheida/maester_data/download/high_c1/data/test/high_c1_source_732.tif\n"
     ]
    },
    {
     "name": "stderr",
     "output_type": "stream",
     "text": [
      "/tmp/ipykernel_16347/581665560.py:15: DeprecationWarning: <tifffile.imsave> is deprecated. Use tifffile.imwrite\n",
      "  imsave(path+\"label/k = 8/\"+str(idx+1)+\"/\"+i[i.rfind(\"/\"):i.rfind(\".\")]+\".tif\", output.reshape(22*(2**(4-idx)), 24*(2**(4-idx))))\n"
     ]
    },
    {
     "name": "stdout",
     "output_type": "stream",
     "text": [
      "/group/jug/Sheida/maester_data/download/high_c1/data/test/high_c1_source_732.tif\n"
     ]
    },
    {
     "name": "stderr",
     "output_type": "stream",
     "text": [
      "/tmp/ipykernel_16347/581665560.py:15: DeprecationWarning: <tifffile.imsave> is deprecated. Use tifffile.imwrite\n",
      "  imsave(path+\"label/k = 8/\"+str(idx+1)+\"/\"+i[i.rfind(\"/\"):i.rfind(\".\")]+\".tif\", output.reshape(22*(2**(4-idx)), 24*(2**(4-idx))))\n"
     ]
    },
    {
     "name": "stdout",
     "output_type": "stream",
     "text": [
      "/group/jug/Sheida/maester_data/download/high_c1/data/test/high_c1_source_732.tif\n"
     ]
    },
    {
     "name": "stderr",
     "output_type": "stream",
     "text": [
      "/tmp/ipykernel_16347/581665560.py:15: DeprecationWarning: <tifffile.imsave> is deprecated. Use tifffile.imwrite\n",
      "  imsave(path+\"label/k = 8/\"+str(idx+1)+\"/\"+i[i.rfind(\"/\"):i.rfind(\".\")]+\".tif\", output.reshape(22*(2**(4-idx)), 24*(2**(4-idx))))\n"
     ]
    },
    {
     "name": "stdout",
     "output_type": "stream",
     "text": [
      "/group/jug/Sheida/maester_data/download/high_c1/data/test/high_c1_source_219.tif\n"
     ]
    },
    {
     "name": "stderr",
     "output_type": "stream",
     "text": [
      "/tmp/ipykernel_16347/581665560.py:15: DeprecationWarning: <tifffile.imsave> is deprecated. Use tifffile.imwrite\n",
      "  imsave(path+\"label/k = 8/\"+str(idx+1)+\"/\"+i[i.rfind(\"/\"):i.rfind(\".\")]+\".tif\", output.reshape(22*(2**(4-idx)), 24*(2**(4-idx))))\n"
     ]
    },
    {
     "name": "stdout",
     "output_type": "stream",
     "text": [
      "/group/jug/Sheida/maester_data/download/high_c1/data/test/high_c1_source_219.tif\n"
     ]
    },
    {
     "name": "stderr",
     "output_type": "stream",
     "text": [
      "/tmp/ipykernel_16347/581665560.py:15: DeprecationWarning: <tifffile.imsave> is deprecated. Use tifffile.imwrite\n",
      "  imsave(path+\"label/k = 8/\"+str(idx+1)+\"/\"+i[i.rfind(\"/\"):i.rfind(\".\")]+\".tif\", output.reshape(22*(2**(4-idx)), 24*(2**(4-idx))))\n"
     ]
    },
    {
     "name": "stdout",
     "output_type": "stream",
     "text": [
      "/group/jug/Sheida/maester_data/download/high_c1/data/test/high_c1_source_219.tif\n"
     ]
    },
    {
     "name": "stderr",
     "output_type": "stream",
     "text": [
      "/tmp/ipykernel_16347/581665560.py:15: DeprecationWarning: <tifffile.imsave> is deprecated. Use tifffile.imwrite\n",
      "  imsave(path+\"label/k = 8/\"+str(idx+1)+\"/\"+i[i.rfind(\"/\"):i.rfind(\".\")]+\".tif\", output.reshape(22*(2**(4-idx)), 24*(2**(4-idx))))\n"
     ]
    },
    {
     "name": "stdout",
     "output_type": "stream",
     "text": [
      "/group/jug/Sheida/maester_data/download/high_c1/data/test/high_c1_source_219.tif\n"
     ]
    },
    {
     "name": "stderr",
     "output_type": "stream",
     "text": [
      "/tmp/ipykernel_16347/581665560.py:15: DeprecationWarning: <tifffile.imsave> is deprecated. Use tifffile.imwrite\n",
      "  imsave(path+\"label/k = 8/\"+str(idx+1)+\"/\"+i[i.rfind(\"/\"):i.rfind(\".\")]+\".tif\", output.reshape(22*(2**(4-idx)), 24*(2**(4-idx))))\n"
     ]
    },
    {
     "name": "stdout",
     "output_type": "stream",
     "text": [
      "/group/jug/Sheida/maester_data/download/high_c1/data/test/high_c1_source_219.tif\n"
     ]
    },
    {
     "name": "stderr",
     "output_type": "stream",
     "text": [
      "/tmp/ipykernel_16347/581665560.py:15: DeprecationWarning: <tifffile.imsave> is deprecated. Use tifffile.imwrite\n",
      "  imsave(path+\"label/k = 8/\"+str(idx+1)+\"/\"+i[i.rfind(\"/\"):i.rfind(\".\")]+\".tif\", output.reshape(22*(2**(4-idx)), 24*(2**(4-idx))))\n"
     ]
    },
    {
     "name": "stdout",
     "output_type": "stream",
     "text": [
      "/group/jug/Sheida/maester_data/download/high_c1/data/test/high_c1_source_203.tif\n"
     ]
    },
    {
     "name": "stderr",
     "output_type": "stream",
     "text": [
      "/tmp/ipykernel_16347/581665560.py:15: DeprecationWarning: <tifffile.imsave> is deprecated. Use tifffile.imwrite\n",
      "  imsave(path+\"label/k = 8/\"+str(idx+1)+\"/\"+i[i.rfind(\"/\"):i.rfind(\".\")]+\".tif\", output.reshape(22*(2**(4-idx)), 24*(2**(4-idx))))\n"
     ]
    },
    {
     "name": "stdout",
     "output_type": "stream",
     "text": [
      "/group/jug/Sheida/maester_data/download/high_c1/data/test/high_c1_source_203.tif\n"
     ]
    },
    {
     "name": "stderr",
     "output_type": "stream",
     "text": [
      "/tmp/ipykernel_16347/581665560.py:15: DeprecationWarning: <tifffile.imsave> is deprecated. Use tifffile.imwrite\n",
      "  imsave(path+\"label/k = 8/\"+str(idx+1)+\"/\"+i[i.rfind(\"/\"):i.rfind(\".\")]+\".tif\", output.reshape(22*(2**(4-idx)), 24*(2**(4-idx))))\n"
     ]
    },
    {
     "name": "stdout",
     "output_type": "stream",
     "text": [
      "/group/jug/Sheida/maester_data/download/high_c1/data/test/high_c1_source_203.tif\n"
     ]
    },
    {
     "name": "stderr",
     "output_type": "stream",
     "text": [
      "/tmp/ipykernel_16347/581665560.py:15: DeprecationWarning: <tifffile.imsave> is deprecated. Use tifffile.imwrite\n",
      "  imsave(path+\"label/k = 8/\"+str(idx+1)+\"/\"+i[i.rfind(\"/\"):i.rfind(\".\")]+\".tif\", output.reshape(22*(2**(4-idx)), 24*(2**(4-idx))))\n"
     ]
    },
    {
     "name": "stdout",
     "output_type": "stream",
     "text": [
      "/group/jug/Sheida/maester_data/download/high_c1/data/test/high_c1_source_203.tif\n"
     ]
    },
    {
     "name": "stderr",
     "output_type": "stream",
     "text": [
      "/tmp/ipykernel_16347/581665560.py:15: DeprecationWarning: <tifffile.imsave> is deprecated. Use tifffile.imwrite\n",
      "  imsave(path+\"label/k = 8/\"+str(idx+1)+\"/\"+i[i.rfind(\"/\"):i.rfind(\".\")]+\".tif\", output.reshape(22*(2**(4-idx)), 24*(2**(4-idx))))\n"
     ]
    },
    {
     "name": "stdout",
     "output_type": "stream",
     "text": [
      "/group/jug/Sheida/maester_data/download/high_c1/data/test/high_c1_source_203.tif\n"
     ]
    },
    {
     "name": "stderr",
     "output_type": "stream",
     "text": [
      "/tmp/ipykernel_16347/581665560.py:15: DeprecationWarning: <tifffile.imsave> is deprecated. Use tifffile.imwrite\n",
      "  imsave(path+\"label/k = 8/\"+str(idx+1)+\"/\"+i[i.rfind(\"/\"):i.rfind(\".\")]+\".tif\", output.reshape(22*(2**(4-idx)), 24*(2**(4-idx))))\n"
     ]
    },
    {
     "name": "stdout",
     "output_type": "stream",
     "text": [
      "/group/jug/Sheida/maester_data/download/high_c1/data/test/high_c1_source_394.tif\n"
     ]
    },
    {
     "name": "stderr",
     "output_type": "stream",
     "text": [
      "/tmp/ipykernel_16347/581665560.py:15: DeprecationWarning: <tifffile.imsave> is deprecated. Use tifffile.imwrite\n",
      "  imsave(path+\"label/k = 8/\"+str(idx+1)+\"/\"+i[i.rfind(\"/\"):i.rfind(\".\")]+\".tif\", output.reshape(22*(2**(4-idx)), 24*(2**(4-idx))))\n"
     ]
    },
    {
     "name": "stdout",
     "output_type": "stream",
     "text": [
      "/group/jug/Sheida/maester_data/download/high_c1/data/test/high_c1_source_394.tif\n"
     ]
    },
    {
     "name": "stderr",
     "output_type": "stream",
     "text": [
      "/tmp/ipykernel_16347/581665560.py:15: DeprecationWarning: <tifffile.imsave> is deprecated. Use tifffile.imwrite\n",
      "  imsave(path+\"label/k = 8/\"+str(idx+1)+\"/\"+i[i.rfind(\"/\"):i.rfind(\".\")]+\".tif\", output.reshape(22*(2**(4-idx)), 24*(2**(4-idx))))\n"
     ]
    },
    {
     "name": "stdout",
     "output_type": "stream",
     "text": [
      "/group/jug/Sheida/maester_data/download/high_c1/data/test/high_c1_source_394.tif\n"
     ]
    },
    {
     "name": "stderr",
     "output_type": "stream",
     "text": [
      "/tmp/ipykernel_16347/581665560.py:15: DeprecationWarning: <tifffile.imsave> is deprecated. Use tifffile.imwrite\n",
      "  imsave(path+\"label/k = 8/\"+str(idx+1)+\"/\"+i[i.rfind(\"/\"):i.rfind(\".\")]+\".tif\", output.reshape(22*(2**(4-idx)), 24*(2**(4-idx))))\n"
     ]
    },
    {
     "name": "stdout",
     "output_type": "stream",
     "text": [
      "/group/jug/Sheida/maester_data/download/high_c1/data/test/high_c1_source_394.tif\n"
     ]
    },
    {
     "name": "stderr",
     "output_type": "stream",
     "text": [
      "/tmp/ipykernel_16347/581665560.py:15: DeprecationWarning: <tifffile.imsave> is deprecated. Use tifffile.imwrite\n",
      "  imsave(path+\"label/k = 8/\"+str(idx+1)+\"/\"+i[i.rfind(\"/\"):i.rfind(\".\")]+\".tif\", output.reshape(22*(2**(4-idx)), 24*(2**(4-idx))))\n"
     ]
    },
    {
     "name": "stdout",
     "output_type": "stream",
     "text": [
      "/group/jug/Sheida/maester_data/download/high_c1/data/test/high_c1_source_394.tif\n"
     ]
    },
    {
     "name": "stderr",
     "output_type": "stream",
     "text": [
      "/tmp/ipykernel_16347/581665560.py:15: DeprecationWarning: <tifffile.imsave> is deprecated. Use tifffile.imwrite\n",
      "  imsave(path+\"label/k = 8/\"+str(idx+1)+\"/\"+i[i.rfind(\"/\"):i.rfind(\".\")]+\".tif\", output.reshape(22*(2**(4-idx)), 24*(2**(4-idx))))\n"
     ]
    },
    {
     "name": "stdout",
     "output_type": "stream",
     "text": [
      "/group/jug/Sheida/maester_data/download/high_c1/data/test/high_c1_source_933.tif\n"
     ]
    },
    {
     "name": "stderr",
     "output_type": "stream",
     "text": [
      "/tmp/ipykernel_16347/581665560.py:15: DeprecationWarning: <tifffile.imsave> is deprecated. Use tifffile.imwrite\n",
      "  imsave(path+\"label/k = 8/\"+str(idx+1)+\"/\"+i[i.rfind(\"/\"):i.rfind(\".\")]+\".tif\", output.reshape(22*(2**(4-idx)), 24*(2**(4-idx))))\n"
     ]
    },
    {
     "name": "stdout",
     "output_type": "stream",
     "text": [
      "/group/jug/Sheida/maester_data/download/high_c1/data/test/high_c1_source_933.tif\n"
     ]
    },
    {
     "name": "stderr",
     "output_type": "stream",
     "text": [
      "/tmp/ipykernel_16347/581665560.py:15: DeprecationWarning: <tifffile.imsave> is deprecated. Use tifffile.imwrite\n",
      "  imsave(path+\"label/k = 8/\"+str(idx+1)+\"/\"+i[i.rfind(\"/\"):i.rfind(\".\")]+\".tif\", output.reshape(22*(2**(4-idx)), 24*(2**(4-idx))))\n"
     ]
    },
    {
     "name": "stdout",
     "output_type": "stream",
     "text": [
      "/group/jug/Sheida/maester_data/download/high_c1/data/test/high_c1_source_933.tif\n"
     ]
    },
    {
     "name": "stderr",
     "output_type": "stream",
     "text": [
      "/tmp/ipykernel_16347/581665560.py:15: DeprecationWarning: <tifffile.imsave> is deprecated. Use tifffile.imwrite\n",
      "  imsave(path+\"label/k = 8/\"+str(idx+1)+\"/\"+i[i.rfind(\"/\"):i.rfind(\".\")]+\".tif\", output.reshape(22*(2**(4-idx)), 24*(2**(4-idx))))\n"
     ]
    },
    {
     "name": "stdout",
     "output_type": "stream",
     "text": [
      "/group/jug/Sheida/maester_data/download/high_c1/data/test/high_c1_source_933.tif\n"
     ]
    },
    {
     "name": "stderr",
     "output_type": "stream",
     "text": [
      "/tmp/ipykernel_16347/581665560.py:15: DeprecationWarning: <tifffile.imsave> is deprecated. Use tifffile.imwrite\n",
      "  imsave(path+\"label/k = 8/\"+str(idx+1)+\"/\"+i[i.rfind(\"/\"):i.rfind(\".\")]+\".tif\", output.reshape(22*(2**(4-idx)), 24*(2**(4-idx))))\n"
     ]
    },
    {
     "name": "stdout",
     "output_type": "stream",
     "text": [
      "/group/jug/Sheida/maester_data/download/high_c1/data/test/high_c1_source_933.tif\n"
     ]
    },
    {
     "name": "stderr",
     "output_type": "stream",
     "text": [
      "/tmp/ipykernel_16347/581665560.py:15: DeprecationWarning: <tifffile.imsave> is deprecated. Use tifffile.imwrite\n",
      "  imsave(path+\"label/k = 8/\"+str(idx+1)+\"/\"+i[i.rfind(\"/\"):i.rfind(\".\")]+\".tif\", output.reshape(22*(2**(4-idx)), 24*(2**(4-idx))))\n"
     ]
    },
    {
     "name": "stdout",
     "output_type": "stream",
     "text": [
      "/group/jug/Sheida/maester_data/download/high_c1/data/test/high_c1_source_486.tif\n"
     ]
    },
    {
     "name": "stderr",
     "output_type": "stream",
     "text": [
      "/tmp/ipykernel_16347/581665560.py:15: DeprecationWarning: <tifffile.imsave> is deprecated. Use tifffile.imwrite\n",
      "  imsave(path+\"label/k = 8/\"+str(idx+1)+\"/\"+i[i.rfind(\"/\"):i.rfind(\".\")]+\".tif\", output.reshape(22*(2**(4-idx)), 24*(2**(4-idx))))\n"
     ]
    },
    {
     "name": "stdout",
     "output_type": "stream",
     "text": [
      "/group/jug/Sheida/maester_data/download/high_c1/data/test/high_c1_source_486.tif\n"
     ]
    },
    {
     "name": "stderr",
     "output_type": "stream",
     "text": [
      "/tmp/ipykernel_16347/581665560.py:15: DeprecationWarning: <tifffile.imsave> is deprecated. Use tifffile.imwrite\n",
      "  imsave(path+\"label/k = 8/\"+str(idx+1)+\"/\"+i[i.rfind(\"/\"):i.rfind(\".\")]+\".tif\", output.reshape(22*(2**(4-idx)), 24*(2**(4-idx))))\n"
     ]
    },
    {
     "name": "stdout",
     "output_type": "stream",
     "text": [
      "/group/jug/Sheida/maester_data/download/high_c1/data/test/high_c1_source_486.tif\n"
     ]
    },
    {
     "name": "stderr",
     "output_type": "stream",
     "text": [
      "/tmp/ipykernel_16347/581665560.py:15: DeprecationWarning: <tifffile.imsave> is deprecated. Use tifffile.imwrite\n",
      "  imsave(path+\"label/k = 8/\"+str(idx+1)+\"/\"+i[i.rfind(\"/\"):i.rfind(\".\")]+\".tif\", output.reshape(22*(2**(4-idx)), 24*(2**(4-idx))))\n"
     ]
    },
    {
     "name": "stdout",
     "output_type": "stream",
     "text": [
      "/group/jug/Sheida/maester_data/download/high_c1/data/test/high_c1_source_486.tif\n"
     ]
    },
    {
     "name": "stderr",
     "output_type": "stream",
     "text": [
      "/tmp/ipykernel_16347/581665560.py:15: DeprecationWarning: <tifffile.imsave> is deprecated. Use tifffile.imwrite\n",
      "  imsave(path+\"label/k = 8/\"+str(idx+1)+\"/\"+i[i.rfind(\"/\"):i.rfind(\".\")]+\".tif\", output.reshape(22*(2**(4-idx)), 24*(2**(4-idx))))\n"
     ]
    },
    {
     "name": "stdout",
     "output_type": "stream",
     "text": [
      "/group/jug/Sheida/maester_data/download/high_c1/data/test/high_c1_source_486.tif\n"
     ]
    },
    {
     "name": "stderr",
     "output_type": "stream",
     "text": [
      "/tmp/ipykernel_16347/581665560.py:15: DeprecationWarning: <tifffile.imsave> is deprecated. Use tifffile.imwrite\n",
      "  imsave(path+\"label/k = 8/\"+str(idx+1)+\"/\"+i[i.rfind(\"/\"):i.rfind(\".\")]+\".tif\", output.reshape(22*(2**(4-idx)), 24*(2**(4-idx))))\n"
     ]
    },
    {
     "name": "stdout",
     "output_type": "stream",
     "text": [
      "/group/jug/Sheida/maester_data/download/high_c1/data/test/high_c1_source_931.tif\n"
     ]
    },
    {
     "name": "stderr",
     "output_type": "stream",
     "text": [
      "/tmp/ipykernel_16347/581665560.py:15: DeprecationWarning: <tifffile.imsave> is deprecated. Use tifffile.imwrite\n",
      "  imsave(path+\"label/k = 8/\"+str(idx+1)+\"/\"+i[i.rfind(\"/\"):i.rfind(\".\")]+\".tif\", output.reshape(22*(2**(4-idx)), 24*(2**(4-idx))))\n"
     ]
    },
    {
     "name": "stdout",
     "output_type": "stream",
     "text": [
      "/group/jug/Sheida/maester_data/download/high_c1/data/test/high_c1_source_931.tif\n"
     ]
    },
    {
     "name": "stderr",
     "output_type": "stream",
     "text": [
      "/tmp/ipykernel_16347/581665560.py:15: DeprecationWarning: <tifffile.imsave> is deprecated. Use tifffile.imwrite\n",
      "  imsave(path+\"label/k = 8/\"+str(idx+1)+\"/\"+i[i.rfind(\"/\"):i.rfind(\".\")]+\".tif\", output.reshape(22*(2**(4-idx)), 24*(2**(4-idx))))\n"
     ]
    },
    {
     "name": "stdout",
     "output_type": "stream",
     "text": [
      "/group/jug/Sheida/maester_data/download/high_c1/data/test/high_c1_source_931.tif\n"
     ]
    },
    {
     "name": "stderr",
     "output_type": "stream",
     "text": [
      "/tmp/ipykernel_16347/581665560.py:15: DeprecationWarning: <tifffile.imsave> is deprecated. Use tifffile.imwrite\n",
      "  imsave(path+\"label/k = 8/\"+str(idx+1)+\"/\"+i[i.rfind(\"/\"):i.rfind(\".\")]+\".tif\", output.reshape(22*(2**(4-idx)), 24*(2**(4-idx))))\n"
     ]
    },
    {
     "name": "stdout",
     "output_type": "stream",
     "text": [
      "/group/jug/Sheida/maester_data/download/high_c1/data/test/high_c1_source_931.tif\n"
     ]
    },
    {
     "name": "stderr",
     "output_type": "stream",
     "text": [
      "/tmp/ipykernel_16347/581665560.py:15: DeprecationWarning: <tifffile.imsave> is deprecated. Use tifffile.imwrite\n",
      "  imsave(path+\"label/k = 8/\"+str(idx+1)+\"/\"+i[i.rfind(\"/\"):i.rfind(\".\")]+\".tif\", output.reshape(22*(2**(4-idx)), 24*(2**(4-idx))))\n"
     ]
    },
    {
     "name": "stdout",
     "output_type": "stream",
     "text": [
      "/group/jug/Sheida/maester_data/download/high_c1/data/test/high_c1_source_931.tif\n"
     ]
    },
    {
     "name": "stderr",
     "output_type": "stream",
     "text": [
      "/tmp/ipykernel_16347/581665560.py:15: DeprecationWarning: <tifffile.imsave> is deprecated. Use tifffile.imwrite\n",
      "  imsave(path+\"label/k = 8/\"+str(idx+1)+\"/\"+i[i.rfind(\"/\"):i.rfind(\".\")]+\".tif\", output.reshape(22*(2**(4-idx)), 24*(2**(4-idx))))\n"
     ]
    },
    {
     "name": "stdout",
     "output_type": "stream",
     "text": [
      "/group/jug/Sheida/maester_data/download/high_c1/data/test/high_c1_source_996.tif\n"
     ]
    },
    {
     "name": "stderr",
     "output_type": "stream",
     "text": [
      "/tmp/ipykernel_16347/581665560.py:15: DeprecationWarning: <tifffile.imsave> is deprecated. Use tifffile.imwrite\n",
      "  imsave(path+\"label/k = 8/\"+str(idx+1)+\"/\"+i[i.rfind(\"/\"):i.rfind(\".\")]+\".tif\", output.reshape(22*(2**(4-idx)), 24*(2**(4-idx))))\n"
     ]
    },
    {
     "name": "stdout",
     "output_type": "stream",
     "text": [
      "/group/jug/Sheida/maester_data/download/high_c1/data/test/high_c1_source_996.tif\n"
     ]
    },
    {
     "name": "stderr",
     "output_type": "stream",
     "text": [
      "/tmp/ipykernel_16347/581665560.py:15: DeprecationWarning: <tifffile.imsave> is deprecated. Use tifffile.imwrite\n",
      "  imsave(path+\"label/k = 8/\"+str(idx+1)+\"/\"+i[i.rfind(\"/\"):i.rfind(\".\")]+\".tif\", output.reshape(22*(2**(4-idx)), 24*(2**(4-idx))))\n"
     ]
    },
    {
     "name": "stdout",
     "output_type": "stream",
     "text": [
      "/group/jug/Sheida/maester_data/download/high_c1/data/test/high_c1_source_996.tif\n"
     ]
    },
    {
     "name": "stderr",
     "output_type": "stream",
     "text": [
      "/tmp/ipykernel_16347/581665560.py:15: DeprecationWarning: <tifffile.imsave> is deprecated. Use tifffile.imwrite\n",
      "  imsave(path+\"label/k = 8/\"+str(idx+1)+\"/\"+i[i.rfind(\"/\"):i.rfind(\".\")]+\".tif\", output.reshape(22*(2**(4-idx)), 24*(2**(4-idx))))\n"
     ]
    },
    {
     "name": "stdout",
     "output_type": "stream",
     "text": [
      "/group/jug/Sheida/maester_data/download/high_c1/data/test/high_c1_source_996.tif\n"
     ]
    },
    {
     "name": "stderr",
     "output_type": "stream",
     "text": [
      "/tmp/ipykernel_16347/581665560.py:15: DeprecationWarning: <tifffile.imsave> is deprecated. Use tifffile.imwrite\n",
      "  imsave(path+\"label/k = 8/\"+str(idx+1)+\"/\"+i[i.rfind(\"/\"):i.rfind(\".\")]+\".tif\", output.reshape(22*(2**(4-idx)), 24*(2**(4-idx))))\n"
     ]
    },
    {
     "name": "stdout",
     "output_type": "stream",
     "text": [
      "/group/jug/Sheida/maester_data/download/high_c1/data/test/high_c1_source_996.tif\n"
     ]
    },
    {
     "name": "stderr",
     "output_type": "stream",
     "text": [
      "/tmp/ipykernel_16347/581665560.py:15: DeprecationWarning: <tifffile.imsave> is deprecated. Use tifffile.imwrite\n",
      "  imsave(path+\"label/k = 8/\"+str(idx+1)+\"/\"+i[i.rfind(\"/\"):i.rfind(\".\")]+\".tif\", output.reshape(22*(2**(4-idx)), 24*(2**(4-idx))))\n"
     ]
    },
    {
     "name": "stdout",
     "output_type": "stream",
     "text": [
      "/group/jug/Sheida/maester_data/download/high_c1/data/test/high_c1_source_189.tif\n"
     ]
    },
    {
     "name": "stderr",
     "output_type": "stream",
     "text": [
      "/tmp/ipykernel_16347/581665560.py:15: DeprecationWarning: <tifffile.imsave> is deprecated. Use tifffile.imwrite\n",
      "  imsave(path+\"label/k = 8/\"+str(idx+1)+\"/\"+i[i.rfind(\"/\"):i.rfind(\".\")]+\".tif\", output.reshape(22*(2**(4-idx)), 24*(2**(4-idx))))\n"
     ]
    },
    {
     "name": "stdout",
     "output_type": "stream",
     "text": [
      "/group/jug/Sheida/maester_data/download/high_c1/data/test/high_c1_source_189.tif\n"
     ]
    },
    {
     "name": "stderr",
     "output_type": "stream",
     "text": [
      "/tmp/ipykernel_16347/581665560.py:15: DeprecationWarning: <tifffile.imsave> is deprecated. Use tifffile.imwrite\n",
      "  imsave(path+\"label/k = 8/\"+str(idx+1)+\"/\"+i[i.rfind(\"/\"):i.rfind(\".\")]+\".tif\", output.reshape(22*(2**(4-idx)), 24*(2**(4-idx))))\n"
     ]
    },
    {
     "name": "stdout",
     "output_type": "stream",
     "text": [
      "/group/jug/Sheida/maester_data/download/high_c1/data/test/high_c1_source_189.tif\n"
     ]
    },
    {
     "name": "stderr",
     "output_type": "stream",
     "text": [
      "/tmp/ipykernel_16347/581665560.py:15: DeprecationWarning: <tifffile.imsave> is deprecated. Use tifffile.imwrite\n",
      "  imsave(path+\"label/k = 8/\"+str(idx+1)+\"/\"+i[i.rfind(\"/\"):i.rfind(\".\")]+\".tif\", output.reshape(22*(2**(4-idx)), 24*(2**(4-idx))))\n"
     ]
    },
    {
     "name": "stdout",
     "output_type": "stream",
     "text": [
      "/group/jug/Sheida/maester_data/download/high_c1/data/test/high_c1_source_189.tif\n"
     ]
    },
    {
     "name": "stderr",
     "output_type": "stream",
     "text": [
      "/tmp/ipykernel_16347/581665560.py:15: DeprecationWarning: <tifffile.imsave> is deprecated. Use tifffile.imwrite\n",
      "  imsave(path+\"label/k = 8/\"+str(idx+1)+\"/\"+i[i.rfind(\"/\"):i.rfind(\".\")]+\".tif\", output.reshape(22*(2**(4-idx)), 24*(2**(4-idx))))\n"
     ]
    },
    {
     "name": "stdout",
     "output_type": "stream",
     "text": [
      "/group/jug/Sheida/maester_data/download/high_c1/data/test/high_c1_source_189.tif\n"
     ]
    },
    {
     "name": "stderr",
     "output_type": "stream",
     "text": [
      "/tmp/ipykernel_16347/581665560.py:15: DeprecationWarning: <tifffile.imsave> is deprecated. Use tifffile.imwrite\n",
      "  imsave(path+\"label/k = 8/\"+str(idx+1)+\"/\"+i[i.rfind(\"/\"):i.rfind(\".\")]+\".tif\", output.reshape(22*(2**(4-idx)), 24*(2**(4-idx))))\n"
     ]
    },
    {
     "name": "stdout",
     "output_type": "stream",
     "text": [
      "/group/jug/Sheida/maester_data/download/high_c1/data/test/high_c1_source_639.tif\n"
     ]
    },
    {
     "name": "stderr",
     "output_type": "stream",
     "text": [
      "/tmp/ipykernel_16347/581665560.py:15: DeprecationWarning: <tifffile.imsave> is deprecated. Use tifffile.imwrite\n",
      "  imsave(path+\"label/k = 8/\"+str(idx+1)+\"/\"+i[i.rfind(\"/\"):i.rfind(\".\")]+\".tif\", output.reshape(22*(2**(4-idx)), 24*(2**(4-idx))))\n"
     ]
    },
    {
     "name": "stdout",
     "output_type": "stream",
     "text": [
      "/group/jug/Sheida/maester_data/download/high_c1/data/test/high_c1_source_639.tif\n"
     ]
    },
    {
     "name": "stderr",
     "output_type": "stream",
     "text": [
      "/tmp/ipykernel_16347/581665560.py:15: DeprecationWarning: <tifffile.imsave> is deprecated. Use tifffile.imwrite\n",
      "  imsave(path+\"label/k = 8/\"+str(idx+1)+\"/\"+i[i.rfind(\"/\"):i.rfind(\".\")]+\".tif\", output.reshape(22*(2**(4-idx)), 24*(2**(4-idx))))\n"
     ]
    },
    {
     "name": "stdout",
     "output_type": "stream",
     "text": [
      "/group/jug/Sheida/maester_data/download/high_c1/data/test/high_c1_source_639.tif\n"
     ]
    },
    {
     "name": "stderr",
     "output_type": "stream",
     "text": [
      "/tmp/ipykernel_16347/581665560.py:15: DeprecationWarning: <tifffile.imsave> is deprecated. Use tifffile.imwrite\n",
      "  imsave(path+\"label/k = 8/\"+str(idx+1)+\"/\"+i[i.rfind(\"/\"):i.rfind(\".\")]+\".tif\", output.reshape(22*(2**(4-idx)), 24*(2**(4-idx))))\n"
     ]
    },
    {
     "name": "stdout",
     "output_type": "stream",
     "text": [
      "/group/jug/Sheida/maester_data/download/high_c1/data/test/high_c1_source_639.tif\n"
     ]
    },
    {
     "name": "stderr",
     "output_type": "stream",
     "text": [
      "/tmp/ipykernel_16347/581665560.py:15: DeprecationWarning: <tifffile.imsave> is deprecated. Use tifffile.imwrite\n",
      "  imsave(path+\"label/k = 8/\"+str(idx+1)+\"/\"+i[i.rfind(\"/\"):i.rfind(\".\")]+\".tif\", output.reshape(22*(2**(4-idx)), 24*(2**(4-idx))))\n"
     ]
    },
    {
     "name": "stdout",
     "output_type": "stream",
     "text": [
      "/group/jug/Sheida/maester_data/download/high_c1/data/test/high_c1_source_639.tif\n"
     ]
    },
    {
     "name": "stderr",
     "output_type": "stream",
     "text": [
      "/tmp/ipykernel_16347/581665560.py:15: DeprecationWarning: <tifffile.imsave> is deprecated. Use tifffile.imwrite\n",
      "  imsave(path+\"label/k = 8/\"+str(idx+1)+\"/\"+i[i.rfind(\"/\"):i.rfind(\".\")]+\".tif\", output.reshape(22*(2**(4-idx)), 24*(2**(4-idx))))\n"
     ]
    },
    {
     "name": "stdout",
     "output_type": "stream",
     "text": [
      "/group/jug/Sheida/maester_data/download/high_c1/data/test/high_c1_source_328.tif\n"
     ]
    },
    {
     "name": "stderr",
     "output_type": "stream",
     "text": [
      "/tmp/ipykernel_16347/581665560.py:15: DeprecationWarning: <tifffile.imsave> is deprecated. Use tifffile.imwrite\n",
      "  imsave(path+\"label/k = 8/\"+str(idx+1)+\"/\"+i[i.rfind(\"/\"):i.rfind(\".\")]+\".tif\", output.reshape(22*(2**(4-idx)), 24*(2**(4-idx))))\n"
     ]
    },
    {
     "name": "stdout",
     "output_type": "stream",
     "text": [
      "/group/jug/Sheida/maester_data/download/high_c1/data/test/high_c1_source_328.tif\n"
     ]
    },
    {
     "name": "stderr",
     "output_type": "stream",
     "text": [
      "/tmp/ipykernel_16347/581665560.py:15: DeprecationWarning: <tifffile.imsave> is deprecated. Use tifffile.imwrite\n",
      "  imsave(path+\"label/k = 8/\"+str(idx+1)+\"/\"+i[i.rfind(\"/\"):i.rfind(\".\")]+\".tif\", output.reshape(22*(2**(4-idx)), 24*(2**(4-idx))))\n"
     ]
    },
    {
     "name": "stdout",
     "output_type": "stream",
     "text": [
      "/group/jug/Sheida/maester_data/download/high_c1/data/test/high_c1_source_328.tif\n"
     ]
    },
    {
     "name": "stderr",
     "output_type": "stream",
     "text": [
      "/tmp/ipykernel_16347/581665560.py:15: DeprecationWarning: <tifffile.imsave> is deprecated. Use tifffile.imwrite\n",
      "  imsave(path+\"label/k = 8/\"+str(idx+1)+\"/\"+i[i.rfind(\"/\"):i.rfind(\".\")]+\".tif\", output.reshape(22*(2**(4-idx)), 24*(2**(4-idx))))\n"
     ]
    },
    {
     "name": "stdout",
     "output_type": "stream",
     "text": [
      "/group/jug/Sheida/maester_data/download/high_c1/data/test/high_c1_source_328.tif\n"
     ]
    },
    {
     "name": "stderr",
     "output_type": "stream",
     "text": [
      "/tmp/ipykernel_16347/581665560.py:15: DeprecationWarning: <tifffile.imsave> is deprecated. Use tifffile.imwrite\n",
      "  imsave(path+\"label/k = 8/\"+str(idx+1)+\"/\"+i[i.rfind(\"/\"):i.rfind(\".\")]+\".tif\", output.reshape(22*(2**(4-idx)), 24*(2**(4-idx))))\n"
     ]
    },
    {
     "name": "stdout",
     "output_type": "stream",
     "text": [
      "/group/jug/Sheida/maester_data/download/high_c1/data/test/high_c1_source_328.tif\n"
     ]
    },
    {
     "name": "stderr",
     "output_type": "stream",
     "text": [
      "/tmp/ipykernel_16347/581665560.py:15: DeprecationWarning: <tifffile.imsave> is deprecated. Use tifffile.imwrite\n",
      "  imsave(path+\"label/k = 8/\"+str(idx+1)+\"/\"+i[i.rfind(\"/\"):i.rfind(\".\")]+\".tif\", output.reshape(22*(2**(4-idx)), 24*(2**(4-idx))))\n"
     ]
    },
    {
     "name": "stdout",
     "output_type": "stream",
     "text": [
      "/group/jug/Sheida/maester_data/download/high_c1/data/test/high_c1_source_1059.tif\n"
     ]
    },
    {
     "name": "stderr",
     "output_type": "stream",
     "text": [
      "/tmp/ipykernel_16347/581665560.py:15: DeprecationWarning: <tifffile.imsave> is deprecated. Use tifffile.imwrite\n",
      "  imsave(path+\"label/k = 8/\"+str(idx+1)+\"/\"+i[i.rfind(\"/\"):i.rfind(\".\")]+\".tif\", output.reshape(22*(2**(4-idx)), 24*(2**(4-idx))))\n"
     ]
    },
    {
     "name": "stdout",
     "output_type": "stream",
     "text": [
      "/group/jug/Sheida/maester_data/download/high_c1/data/test/high_c1_source_1059.tif\n"
     ]
    },
    {
     "name": "stderr",
     "output_type": "stream",
     "text": [
      "/tmp/ipykernel_16347/581665560.py:15: DeprecationWarning: <tifffile.imsave> is deprecated. Use tifffile.imwrite\n",
      "  imsave(path+\"label/k = 8/\"+str(idx+1)+\"/\"+i[i.rfind(\"/\"):i.rfind(\".\")]+\".tif\", output.reshape(22*(2**(4-idx)), 24*(2**(4-idx))))\n"
     ]
    },
    {
     "name": "stdout",
     "output_type": "stream",
     "text": [
      "/group/jug/Sheida/maester_data/download/high_c1/data/test/high_c1_source_1059.tif\n"
     ]
    },
    {
     "name": "stderr",
     "output_type": "stream",
     "text": [
      "/tmp/ipykernel_16347/581665560.py:15: DeprecationWarning: <tifffile.imsave> is deprecated. Use tifffile.imwrite\n",
      "  imsave(path+\"label/k = 8/\"+str(idx+1)+\"/\"+i[i.rfind(\"/\"):i.rfind(\".\")]+\".tif\", output.reshape(22*(2**(4-idx)), 24*(2**(4-idx))))\n"
     ]
    },
    {
     "name": "stdout",
     "output_type": "stream",
     "text": [
      "/group/jug/Sheida/maester_data/download/high_c1/data/test/high_c1_source_1059.tif\n"
     ]
    },
    {
     "name": "stderr",
     "output_type": "stream",
     "text": [
      "/tmp/ipykernel_16347/581665560.py:15: DeprecationWarning: <tifffile.imsave> is deprecated. Use tifffile.imwrite\n",
      "  imsave(path+\"label/k = 8/\"+str(idx+1)+\"/\"+i[i.rfind(\"/\"):i.rfind(\".\")]+\".tif\", output.reshape(22*(2**(4-idx)), 24*(2**(4-idx))))\n"
     ]
    },
    {
     "name": "stdout",
     "output_type": "stream",
     "text": [
      "/group/jug/Sheida/maester_data/download/high_c1/data/test/high_c1_source_1059.tif\n"
     ]
    },
    {
     "name": "stderr",
     "output_type": "stream",
     "text": [
      "/tmp/ipykernel_16347/581665560.py:15: DeprecationWarning: <tifffile.imsave> is deprecated. Use tifffile.imwrite\n",
      "  imsave(path+\"label/k = 8/\"+str(idx+1)+\"/\"+i[i.rfind(\"/\"):i.rfind(\".\")]+\".tif\", output.reshape(22*(2**(4-idx)), 24*(2**(4-idx))))\n"
     ]
    },
    {
     "name": "stdout",
     "output_type": "stream",
     "text": [
      "/group/jug/Sheida/maester_data/download/high_c1/data/test/high_c1_source_637.tif\n"
     ]
    },
    {
     "name": "stderr",
     "output_type": "stream",
     "text": [
      "/tmp/ipykernel_16347/581665560.py:15: DeprecationWarning: <tifffile.imsave> is deprecated. Use tifffile.imwrite\n",
      "  imsave(path+\"label/k = 8/\"+str(idx+1)+\"/\"+i[i.rfind(\"/\"):i.rfind(\".\")]+\".tif\", output.reshape(22*(2**(4-idx)), 24*(2**(4-idx))))\n"
     ]
    },
    {
     "name": "stdout",
     "output_type": "stream",
     "text": [
      "/group/jug/Sheida/maester_data/download/high_c1/data/test/high_c1_source_637.tif\n"
     ]
    },
    {
     "name": "stderr",
     "output_type": "stream",
     "text": [
      "/tmp/ipykernel_16347/581665560.py:15: DeprecationWarning: <tifffile.imsave> is deprecated. Use tifffile.imwrite\n",
      "  imsave(path+\"label/k = 8/\"+str(idx+1)+\"/\"+i[i.rfind(\"/\"):i.rfind(\".\")]+\".tif\", output.reshape(22*(2**(4-idx)), 24*(2**(4-idx))))\n"
     ]
    },
    {
     "name": "stdout",
     "output_type": "stream",
     "text": [
      "/group/jug/Sheida/maester_data/download/high_c1/data/test/high_c1_source_637.tif\n"
     ]
    },
    {
     "name": "stderr",
     "output_type": "stream",
     "text": [
      "/tmp/ipykernel_16347/581665560.py:15: DeprecationWarning: <tifffile.imsave> is deprecated. Use tifffile.imwrite\n",
      "  imsave(path+\"label/k = 8/\"+str(idx+1)+\"/\"+i[i.rfind(\"/\"):i.rfind(\".\")]+\".tif\", output.reshape(22*(2**(4-idx)), 24*(2**(4-idx))))\n"
     ]
    },
    {
     "name": "stdout",
     "output_type": "stream",
     "text": [
      "/group/jug/Sheida/maester_data/download/high_c1/data/test/high_c1_source_637.tif\n"
     ]
    },
    {
     "name": "stderr",
     "output_type": "stream",
     "text": [
      "/tmp/ipykernel_16347/581665560.py:15: DeprecationWarning: <tifffile.imsave> is deprecated. Use tifffile.imwrite\n",
      "  imsave(path+\"label/k = 8/\"+str(idx+1)+\"/\"+i[i.rfind(\"/\"):i.rfind(\".\")]+\".tif\", output.reshape(22*(2**(4-idx)), 24*(2**(4-idx))))\n"
     ]
    },
    {
     "name": "stdout",
     "output_type": "stream",
     "text": [
      "/group/jug/Sheida/maester_data/download/high_c1/data/test/high_c1_source_637.tif\n"
     ]
    },
    {
     "name": "stderr",
     "output_type": "stream",
     "text": [
      "/tmp/ipykernel_16347/581665560.py:15: DeprecationWarning: <tifffile.imsave> is deprecated. Use tifffile.imwrite\n",
      "  imsave(path+\"label/k = 8/\"+str(idx+1)+\"/\"+i[i.rfind(\"/\"):i.rfind(\".\")]+\".tif\", output.reshape(22*(2**(4-idx)), 24*(2**(4-idx))))\n"
     ]
    },
    {
     "name": "stdout",
     "output_type": "stream",
     "text": [
      "/group/jug/Sheida/maester_data/download/high_c1/data/test/high_c1_source_524.tif\n"
     ]
    },
    {
     "name": "stderr",
     "output_type": "stream",
     "text": [
      "/tmp/ipykernel_16347/581665560.py:15: DeprecationWarning: <tifffile.imsave> is deprecated. Use tifffile.imwrite\n",
      "  imsave(path+\"label/k = 8/\"+str(idx+1)+\"/\"+i[i.rfind(\"/\"):i.rfind(\".\")]+\".tif\", output.reshape(22*(2**(4-idx)), 24*(2**(4-idx))))\n"
     ]
    },
    {
     "name": "stdout",
     "output_type": "stream",
     "text": [
      "/group/jug/Sheida/maester_data/download/high_c1/data/test/high_c1_source_524.tif\n"
     ]
    },
    {
     "name": "stderr",
     "output_type": "stream",
     "text": [
      "/tmp/ipykernel_16347/581665560.py:15: DeprecationWarning: <tifffile.imsave> is deprecated. Use tifffile.imwrite\n",
      "  imsave(path+\"label/k = 8/\"+str(idx+1)+\"/\"+i[i.rfind(\"/\"):i.rfind(\".\")]+\".tif\", output.reshape(22*(2**(4-idx)), 24*(2**(4-idx))))\n"
     ]
    },
    {
     "name": "stdout",
     "output_type": "stream",
     "text": [
      "/group/jug/Sheida/maester_data/download/high_c1/data/test/high_c1_source_524.tif\n"
     ]
    },
    {
     "name": "stderr",
     "output_type": "stream",
     "text": [
      "/tmp/ipykernel_16347/581665560.py:15: DeprecationWarning: <tifffile.imsave> is deprecated. Use tifffile.imwrite\n",
      "  imsave(path+\"label/k = 8/\"+str(idx+1)+\"/\"+i[i.rfind(\"/\"):i.rfind(\".\")]+\".tif\", output.reshape(22*(2**(4-idx)), 24*(2**(4-idx))))\n"
     ]
    },
    {
     "name": "stdout",
     "output_type": "stream",
     "text": [
      "/group/jug/Sheida/maester_data/download/high_c1/data/test/high_c1_source_524.tif\n"
     ]
    },
    {
     "name": "stderr",
     "output_type": "stream",
     "text": [
      "/tmp/ipykernel_16347/581665560.py:15: DeprecationWarning: <tifffile.imsave> is deprecated. Use tifffile.imwrite\n",
      "  imsave(path+\"label/k = 8/\"+str(idx+1)+\"/\"+i[i.rfind(\"/\"):i.rfind(\".\")]+\".tif\", output.reshape(22*(2**(4-idx)), 24*(2**(4-idx))))\n"
     ]
    },
    {
     "name": "stdout",
     "output_type": "stream",
     "text": [
      "/group/jug/Sheida/maester_data/download/high_c1/data/test/high_c1_source_524.tif\n"
     ]
    },
    {
     "name": "stderr",
     "output_type": "stream",
     "text": [
      "/tmp/ipykernel_16347/581665560.py:15: DeprecationWarning: <tifffile.imsave> is deprecated. Use tifffile.imwrite\n",
      "  imsave(path+\"label/k = 8/\"+str(idx+1)+\"/\"+i[i.rfind(\"/\"):i.rfind(\".\")]+\".tif\", output.reshape(22*(2**(4-idx)), 24*(2**(4-idx))))\n"
     ]
    },
    {
     "name": "stdout",
     "output_type": "stream",
     "text": [
      "/group/jug/Sheida/maester_data/download/high_c1/data/test/high_c1_source_435.tif\n"
     ]
    },
    {
     "name": "stderr",
     "output_type": "stream",
     "text": [
      "/tmp/ipykernel_16347/581665560.py:15: DeprecationWarning: <tifffile.imsave> is deprecated. Use tifffile.imwrite\n",
      "  imsave(path+\"label/k = 8/\"+str(idx+1)+\"/\"+i[i.rfind(\"/\"):i.rfind(\".\")]+\".tif\", output.reshape(22*(2**(4-idx)), 24*(2**(4-idx))))\n"
     ]
    },
    {
     "name": "stdout",
     "output_type": "stream",
     "text": [
      "/group/jug/Sheida/maester_data/download/high_c1/data/test/high_c1_source_435.tif\n"
     ]
    },
    {
     "name": "stderr",
     "output_type": "stream",
     "text": [
      "/tmp/ipykernel_16347/581665560.py:15: DeprecationWarning: <tifffile.imsave> is deprecated. Use tifffile.imwrite\n",
      "  imsave(path+\"label/k = 8/\"+str(idx+1)+\"/\"+i[i.rfind(\"/\"):i.rfind(\".\")]+\".tif\", output.reshape(22*(2**(4-idx)), 24*(2**(4-idx))))\n"
     ]
    },
    {
     "name": "stdout",
     "output_type": "stream",
     "text": [
      "/group/jug/Sheida/maester_data/download/high_c1/data/test/high_c1_source_435.tif\n"
     ]
    },
    {
     "name": "stderr",
     "output_type": "stream",
     "text": [
      "/tmp/ipykernel_16347/581665560.py:15: DeprecationWarning: <tifffile.imsave> is deprecated. Use tifffile.imwrite\n",
      "  imsave(path+\"label/k = 8/\"+str(idx+1)+\"/\"+i[i.rfind(\"/\"):i.rfind(\".\")]+\".tif\", output.reshape(22*(2**(4-idx)), 24*(2**(4-idx))))\n"
     ]
    },
    {
     "name": "stdout",
     "output_type": "stream",
     "text": [
      "/group/jug/Sheida/maester_data/download/high_c1/data/test/high_c1_source_435.tif\n"
     ]
    },
    {
     "name": "stderr",
     "output_type": "stream",
     "text": [
      "/tmp/ipykernel_16347/581665560.py:15: DeprecationWarning: <tifffile.imsave> is deprecated. Use tifffile.imwrite\n",
      "  imsave(path+\"label/k = 8/\"+str(idx+1)+\"/\"+i[i.rfind(\"/\"):i.rfind(\".\")]+\".tif\", output.reshape(22*(2**(4-idx)), 24*(2**(4-idx))))\n"
     ]
    },
    {
     "name": "stdout",
     "output_type": "stream",
     "text": [
      "/group/jug/Sheida/maester_data/download/high_c1/data/test/high_c1_source_435.tif\n"
     ]
    },
    {
     "name": "stderr",
     "output_type": "stream",
     "text": [
      "/tmp/ipykernel_16347/581665560.py:15: DeprecationWarning: <tifffile.imsave> is deprecated. Use tifffile.imwrite\n",
      "  imsave(path+\"label/k = 8/\"+str(idx+1)+\"/\"+i[i.rfind(\"/\"):i.rfind(\".\")]+\".tif\", output.reshape(22*(2**(4-idx)), 24*(2**(4-idx))))\n"
     ]
    },
    {
     "name": "stdout",
     "output_type": "stream",
     "text": [
      "/group/jug/Sheida/maester_data/download/high_c1/data/test/high_c1_source_648.tif\n"
     ]
    },
    {
     "name": "stderr",
     "output_type": "stream",
     "text": [
      "/tmp/ipykernel_16347/581665560.py:15: DeprecationWarning: <tifffile.imsave> is deprecated. Use tifffile.imwrite\n",
      "  imsave(path+\"label/k = 8/\"+str(idx+1)+\"/\"+i[i.rfind(\"/\"):i.rfind(\".\")]+\".tif\", output.reshape(22*(2**(4-idx)), 24*(2**(4-idx))))\n"
     ]
    },
    {
     "name": "stdout",
     "output_type": "stream",
     "text": [
      "/group/jug/Sheida/maester_data/download/high_c1/data/test/high_c1_source_648.tif\n"
     ]
    },
    {
     "name": "stderr",
     "output_type": "stream",
     "text": [
      "/tmp/ipykernel_16347/581665560.py:15: DeprecationWarning: <tifffile.imsave> is deprecated. Use tifffile.imwrite\n",
      "  imsave(path+\"label/k = 8/\"+str(idx+1)+\"/\"+i[i.rfind(\"/\"):i.rfind(\".\")]+\".tif\", output.reshape(22*(2**(4-idx)), 24*(2**(4-idx))))\n"
     ]
    },
    {
     "name": "stdout",
     "output_type": "stream",
     "text": [
      "/group/jug/Sheida/maester_data/download/high_c1/data/test/high_c1_source_648.tif\n"
     ]
    },
    {
     "name": "stderr",
     "output_type": "stream",
     "text": [
      "/tmp/ipykernel_16347/581665560.py:15: DeprecationWarning: <tifffile.imsave> is deprecated. Use tifffile.imwrite\n",
      "  imsave(path+\"label/k = 8/\"+str(idx+1)+\"/\"+i[i.rfind(\"/\"):i.rfind(\".\")]+\".tif\", output.reshape(22*(2**(4-idx)), 24*(2**(4-idx))))\n"
     ]
    },
    {
     "name": "stdout",
     "output_type": "stream",
     "text": [
      "/group/jug/Sheida/maester_data/download/high_c1/data/test/high_c1_source_648.tif\n"
     ]
    },
    {
     "name": "stderr",
     "output_type": "stream",
     "text": [
      "/tmp/ipykernel_16347/581665560.py:15: DeprecationWarning: <tifffile.imsave> is deprecated. Use tifffile.imwrite\n",
      "  imsave(path+\"label/k = 8/\"+str(idx+1)+\"/\"+i[i.rfind(\"/\"):i.rfind(\".\")]+\".tif\", output.reshape(22*(2**(4-idx)), 24*(2**(4-idx))))\n"
     ]
    },
    {
     "name": "stdout",
     "output_type": "stream",
     "text": [
      "/group/jug/Sheida/maester_data/download/high_c1/data/test/high_c1_source_648.tif\n"
     ]
    },
    {
     "name": "stderr",
     "output_type": "stream",
     "text": [
      "/tmp/ipykernel_16347/581665560.py:15: DeprecationWarning: <tifffile.imsave> is deprecated. Use tifffile.imwrite\n",
      "  imsave(path+\"label/k = 8/\"+str(idx+1)+\"/\"+i[i.rfind(\"/\"):i.rfind(\".\")]+\".tif\", output.reshape(22*(2**(4-idx)), 24*(2**(4-idx))))\n"
     ]
    },
    {
     "name": "stdout",
     "output_type": "stream",
     "text": [
      "/group/jug/Sheida/maester_data/download/high_c1/data/test/high_c1_source_842.tif\n"
     ]
    },
    {
     "name": "stderr",
     "output_type": "stream",
     "text": [
      "/tmp/ipykernel_16347/581665560.py:15: DeprecationWarning: <tifffile.imsave> is deprecated. Use tifffile.imwrite\n",
      "  imsave(path+\"label/k = 8/\"+str(idx+1)+\"/\"+i[i.rfind(\"/\"):i.rfind(\".\")]+\".tif\", output.reshape(22*(2**(4-idx)), 24*(2**(4-idx))))\n"
     ]
    },
    {
     "name": "stdout",
     "output_type": "stream",
     "text": [
      "/group/jug/Sheida/maester_data/download/high_c1/data/test/high_c1_source_842.tif\n"
     ]
    },
    {
     "name": "stderr",
     "output_type": "stream",
     "text": [
      "/tmp/ipykernel_16347/581665560.py:15: DeprecationWarning: <tifffile.imsave> is deprecated. Use tifffile.imwrite\n",
      "  imsave(path+\"label/k = 8/\"+str(idx+1)+\"/\"+i[i.rfind(\"/\"):i.rfind(\".\")]+\".tif\", output.reshape(22*(2**(4-idx)), 24*(2**(4-idx))))\n"
     ]
    },
    {
     "name": "stdout",
     "output_type": "stream",
     "text": [
      "/group/jug/Sheida/maester_data/download/high_c1/data/test/high_c1_source_842.tif\n"
     ]
    },
    {
     "name": "stderr",
     "output_type": "stream",
     "text": [
      "/tmp/ipykernel_16347/581665560.py:15: DeprecationWarning: <tifffile.imsave> is deprecated. Use tifffile.imwrite\n",
      "  imsave(path+\"label/k = 8/\"+str(idx+1)+\"/\"+i[i.rfind(\"/\"):i.rfind(\".\")]+\".tif\", output.reshape(22*(2**(4-idx)), 24*(2**(4-idx))))\n"
     ]
    },
    {
     "name": "stdout",
     "output_type": "stream",
     "text": [
      "/group/jug/Sheida/maester_data/download/high_c1/data/test/high_c1_source_842.tif\n"
     ]
    },
    {
     "name": "stderr",
     "output_type": "stream",
     "text": [
      "/tmp/ipykernel_16347/581665560.py:15: DeprecationWarning: <tifffile.imsave> is deprecated. Use tifffile.imwrite\n",
      "  imsave(path+\"label/k = 8/\"+str(idx+1)+\"/\"+i[i.rfind(\"/\"):i.rfind(\".\")]+\".tif\", output.reshape(22*(2**(4-idx)), 24*(2**(4-idx))))\n"
     ]
    },
    {
     "name": "stdout",
     "output_type": "stream",
     "text": [
      "/group/jug/Sheida/maester_data/download/high_c1/data/test/high_c1_source_842.tif\n"
     ]
    },
    {
     "name": "stderr",
     "output_type": "stream",
     "text": [
      "/tmp/ipykernel_16347/581665560.py:15: DeprecationWarning: <tifffile.imsave> is deprecated. Use tifffile.imwrite\n",
      "  imsave(path+\"label/k = 8/\"+str(idx+1)+\"/\"+i[i.rfind(\"/\"):i.rfind(\".\")]+\".tif\", output.reshape(22*(2**(4-idx)), 24*(2**(4-idx))))\n"
     ]
    },
    {
     "name": "stdout",
     "output_type": "stream",
     "text": [
      "/group/jug/Sheida/maester_data/download/high_c1/data/test/high_c1_source_311.tif\n"
     ]
    },
    {
     "name": "stderr",
     "output_type": "stream",
     "text": [
      "/tmp/ipykernel_16347/581665560.py:15: DeprecationWarning: <tifffile.imsave> is deprecated. Use tifffile.imwrite\n",
      "  imsave(path+\"label/k = 8/\"+str(idx+1)+\"/\"+i[i.rfind(\"/\"):i.rfind(\".\")]+\".tif\", output.reshape(22*(2**(4-idx)), 24*(2**(4-idx))))\n"
     ]
    },
    {
     "name": "stdout",
     "output_type": "stream",
     "text": [
      "/group/jug/Sheida/maester_data/download/high_c1/data/test/high_c1_source_311.tif\n"
     ]
    },
    {
     "name": "stderr",
     "output_type": "stream",
     "text": [
      "/tmp/ipykernel_16347/581665560.py:15: DeprecationWarning: <tifffile.imsave> is deprecated. Use tifffile.imwrite\n",
      "  imsave(path+\"label/k = 8/\"+str(idx+1)+\"/\"+i[i.rfind(\"/\"):i.rfind(\".\")]+\".tif\", output.reshape(22*(2**(4-idx)), 24*(2**(4-idx))))\n"
     ]
    },
    {
     "name": "stdout",
     "output_type": "stream",
     "text": [
      "/group/jug/Sheida/maester_data/download/high_c1/data/test/high_c1_source_311.tif\n"
     ]
    },
    {
     "name": "stderr",
     "output_type": "stream",
     "text": [
      "/tmp/ipykernel_16347/581665560.py:15: DeprecationWarning: <tifffile.imsave> is deprecated. Use tifffile.imwrite\n",
      "  imsave(path+\"label/k = 8/\"+str(idx+1)+\"/\"+i[i.rfind(\"/\"):i.rfind(\".\")]+\".tif\", output.reshape(22*(2**(4-idx)), 24*(2**(4-idx))))\n"
     ]
    },
    {
     "name": "stdout",
     "output_type": "stream",
     "text": [
      "/group/jug/Sheida/maester_data/download/high_c1/data/test/high_c1_source_311.tif\n"
     ]
    },
    {
     "name": "stderr",
     "output_type": "stream",
     "text": [
      "/tmp/ipykernel_16347/581665560.py:15: DeprecationWarning: <tifffile.imsave> is deprecated. Use tifffile.imwrite\n",
      "  imsave(path+\"label/k = 8/\"+str(idx+1)+\"/\"+i[i.rfind(\"/\"):i.rfind(\".\")]+\".tif\", output.reshape(22*(2**(4-idx)), 24*(2**(4-idx))))\n"
     ]
    },
    {
     "name": "stdout",
     "output_type": "stream",
     "text": [
      "/group/jug/Sheida/maester_data/download/high_c1/data/test/high_c1_source_311.tif\n"
     ]
    },
    {
     "name": "stderr",
     "output_type": "stream",
     "text": [
      "/tmp/ipykernel_16347/581665560.py:15: DeprecationWarning: <tifffile.imsave> is deprecated. Use tifffile.imwrite\n",
      "  imsave(path+\"label/k = 8/\"+str(idx+1)+\"/\"+i[i.rfind(\"/\"):i.rfind(\".\")]+\".tif\", output.reshape(22*(2**(4-idx)), 24*(2**(4-idx))))\n"
     ]
    },
    {
     "name": "stdout",
     "output_type": "stream",
     "text": [
      "/group/jug/Sheida/maester_data/download/high_c1/data/test/high_c1_source_428.tif\n"
     ]
    },
    {
     "name": "stderr",
     "output_type": "stream",
     "text": [
      "/tmp/ipykernel_16347/581665560.py:15: DeprecationWarning: <tifffile.imsave> is deprecated. Use tifffile.imwrite\n",
      "  imsave(path+\"label/k = 8/\"+str(idx+1)+\"/\"+i[i.rfind(\"/\"):i.rfind(\".\")]+\".tif\", output.reshape(22*(2**(4-idx)), 24*(2**(4-idx))))\n"
     ]
    },
    {
     "name": "stdout",
     "output_type": "stream",
     "text": [
      "/group/jug/Sheida/maester_data/download/high_c1/data/test/high_c1_source_428.tif\n"
     ]
    },
    {
     "name": "stderr",
     "output_type": "stream",
     "text": [
      "/tmp/ipykernel_16347/581665560.py:15: DeprecationWarning: <tifffile.imsave> is deprecated. Use tifffile.imwrite\n",
      "  imsave(path+\"label/k = 8/\"+str(idx+1)+\"/\"+i[i.rfind(\"/\"):i.rfind(\".\")]+\".tif\", output.reshape(22*(2**(4-idx)), 24*(2**(4-idx))))\n"
     ]
    },
    {
     "name": "stdout",
     "output_type": "stream",
     "text": [
      "/group/jug/Sheida/maester_data/download/high_c1/data/test/high_c1_source_428.tif\n"
     ]
    },
    {
     "name": "stderr",
     "output_type": "stream",
     "text": [
      "/tmp/ipykernel_16347/581665560.py:15: DeprecationWarning: <tifffile.imsave> is deprecated. Use tifffile.imwrite\n",
      "  imsave(path+\"label/k = 8/\"+str(idx+1)+\"/\"+i[i.rfind(\"/\"):i.rfind(\".\")]+\".tif\", output.reshape(22*(2**(4-idx)), 24*(2**(4-idx))))\n"
     ]
    },
    {
     "name": "stdout",
     "output_type": "stream",
     "text": [
      "/group/jug/Sheida/maester_data/download/high_c1/data/test/high_c1_source_428.tif\n"
     ]
    },
    {
     "name": "stderr",
     "output_type": "stream",
     "text": [
      "/tmp/ipykernel_16347/581665560.py:15: DeprecationWarning: <tifffile.imsave> is deprecated. Use tifffile.imwrite\n",
      "  imsave(path+\"label/k = 8/\"+str(idx+1)+\"/\"+i[i.rfind(\"/\"):i.rfind(\".\")]+\".tif\", output.reshape(22*(2**(4-idx)), 24*(2**(4-idx))))\n"
     ]
    },
    {
     "name": "stdout",
     "output_type": "stream",
     "text": [
      "/group/jug/Sheida/maester_data/download/high_c1/data/test/high_c1_source_428.tif\n"
     ]
    },
    {
     "name": "stderr",
     "output_type": "stream",
     "text": [
      "/tmp/ipykernel_16347/581665560.py:15: DeprecationWarning: <tifffile.imsave> is deprecated. Use tifffile.imwrite\n",
      "  imsave(path+\"label/k = 8/\"+str(idx+1)+\"/\"+i[i.rfind(\"/\"):i.rfind(\".\")]+\".tif\", output.reshape(22*(2**(4-idx)), 24*(2**(4-idx))))\n"
     ]
    },
    {
     "name": "stdout",
     "output_type": "stream",
     "text": [
      "/group/jug/Sheida/maester_data/download/high_c1/data/test/high_c1_source_690.tif\n"
     ]
    },
    {
     "name": "stderr",
     "output_type": "stream",
     "text": [
      "/tmp/ipykernel_16347/581665560.py:15: DeprecationWarning: <tifffile.imsave> is deprecated. Use tifffile.imwrite\n",
      "  imsave(path+\"label/k = 8/\"+str(idx+1)+\"/\"+i[i.rfind(\"/\"):i.rfind(\".\")]+\".tif\", output.reshape(22*(2**(4-idx)), 24*(2**(4-idx))))\n"
     ]
    },
    {
     "name": "stdout",
     "output_type": "stream",
     "text": [
      "/group/jug/Sheida/maester_data/download/high_c1/data/test/high_c1_source_690.tif\n"
     ]
    },
    {
     "name": "stderr",
     "output_type": "stream",
     "text": [
      "/tmp/ipykernel_16347/581665560.py:15: DeprecationWarning: <tifffile.imsave> is deprecated. Use tifffile.imwrite\n",
      "  imsave(path+\"label/k = 8/\"+str(idx+1)+\"/\"+i[i.rfind(\"/\"):i.rfind(\".\")]+\".tif\", output.reshape(22*(2**(4-idx)), 24*(2**(4-idx))))\n"
     ]
    },
    {
     "name": "stdout",
     "output_type": "stream",
     "text": [
      "/group/jug/Sheida/maester_data/download/high_c1/data/test/high_c1_source_690.tif\n"
     ]
    },
    {
     "name": "stderr",
     "output_type": "stream",
     "text": [
      "/tmp/ipykernel_16347/581665560.py:15: DeprecationWarning: <tifffile.imsave> is deprecated. Use tifffile.imwrite\n",
      "  imsave(path+\"label/k = 8/\"+str(idx+1)+\"/\"+i[i.rfind(\"/\"):i.rfind(\".\")]+\".tif\", output.reshape(22*(2**(4-idx)), 24*(2**(4-idx))))\n"
     ]
    },
    {
     "name": "stdout",
     "output_type": "stream",
     "text": [
      "/group/jug/Sheida/maester_data/download/high_c1/data/test/high_c1_source_690.tif\n"
     ]
    },
    {
     "name": "stderr",
     "output_type": "stream",
     "text": [
      "/tmp/ipykernel_16347/581665560.py:15: DeprecationWarning: <tifffile.imsave> is deprecated. Use tifffile.imwrite\n",
      "  imsave(path+\"label/k = 8/\"+str(idx+1)+\"/\"+i[i.rfind(\"/\"):i.rfind(\".\")]+\".tif\", output.reshape(22*(2**(4-idx)), 24*(2**(4-idx))))\n"
     ]
    },
    {
     "name": "stdout",
     "output_type": "stream",
     "text": [
      "/group/jug/Sheida/maester_data/download/high_c1/data/test/high_c1_source_690.tif\n"
     ]
    },
    {
     "name": "stderr",
     "output_type": "stream",
     "text": [
      "/tmp/ipykernel_16347/581665560.py:15: DeprecationWarning: <tifffile.imsave> is deprecated. Use tifffile.imwrite\n",
      "  imsave(path+\"label/k = 8/\"+str(idx+1)+\"/\"+i[i.rfind(\"/\"):i.rfind(\".\")]+\".tif\", output.reshape(22*(2**(4-idx)), 24*(2**(4-idx))))\n"
     ]
    },
    {
     "name": "stdout",
     "output_type": "stream",
     "text": [
      "/group/jug/Sheida/maester_data/download/high_c1/data/test/high_c1_source_989.tif\n"
     ]
    },
    {
     "name": "stderr",
     "output_type": "stream",
     "text": [
      "/tmp/ipykernel_16347/581665560.py:15: DeprecationWarning: <tifffile.imsave> is deprecated. Use tifffile.imwrite\n",
      "  imsave(path+\"label/k = 8/\"+str(idx+1)+\"/\"+i[i.rfind(\"/\"):i.rfind(\".\")]+\".tif\", output.reshape(22*(2**(4-idx)), 24*(2**(4-idx))))\n"
     ]
    },
    {
     "name": "stdout",
     "output_type": "stream",
     "text": [
      "/group/jug/Sheida/maester_data/download/high_c1/data/test/high_c1_source_989.tif\n"
     ]
    },
    {
     "name": "stderr",
     "output_type": "stream",
     "text": [
      "/tmp/ipykernel_16347/581665560.py:15: DeprecationWarning: <tifffile.imsave> is deprecated. Use tifffile.imwrite\n",
      "  imsave(path+\"label/k = 8/\"+str(idx+1)+\"/\"+i[i.rfind(\"/\"):i.rfind(\".\")]+\".tif\", output.reshape(22*(2**(4-idx)), 24*(2**(4-idx))))\n"
     ]
    },
    {
     "name": "stdout",
     "output_type": "stream",
     "text": [
      "/group/jug/Sheida/maester_data/download/high_c1/data/test/high_c1_source_989.tif\n"
     ]
    },
    {
     "name": "stderr",
     "output_type": "stream",
     "text": [
      "/tmp/ipykernel_16347/581665560.py:15: DeprecationWarning: <tifffile.imsave> is deprecated. Use tifffile.imwrite\n",
      "  imsave(path+\"label/k = 8/\"+str(idx+1)+\"/\"+i[i.rfind(\"/\"):i.rfind(\".\")]+\".tif\", output.reshape(22*(2**(4-idx)), 24*(2**(4-idx))))\n"
     ]
    },
    {
     "name": "stdout",
     "output_type": "stream",
     "text": [
      "/group/jug/Sheida/maester_data/download/high_c1/data/test/high_c1_source_989.tif\n"
     ]
    },
    {
     "name": "stderr",
     "output_type": "stream",
     "text": [
      "/tmp/ipykernel_16347/581665560.py:15: DeprecationWarning: <tifffile.imsave> is deprecated. Use tifffile.imwrite\n",
      "  imsave(path+\"label/k = 8/\"+str(idx+1)+\"/\"+i[i.rfind(\"/\"):i.rfind(\".\")]+\".tif\", output.reshape(22*(2**(4-idx)), 24*(2**(4-idx))))\n"
     ]
    },
    {
     "name": "stdout",
     "output_type": "stream",
     "text": [
      "/group/jug/Sheida/maester_data/download/high_c1/data/test/high_c1_source_989.tif\n"
     ]
    },
    {
     "name": "stderr",
     "output_type": "stream",
     "text": [
      "/tmp/ipykernel_16347/581665560.py:15: DeprecationWarning: <tifffile.imsave> is deprecated. Use tifffile.imwrite\n",
      "  imsave(path+\"label/k = 8/\"+str(idx+1)+\"/\"+i[i.rfind(\"/\"):i.rfind(\".\")]+\".tif\", output.reshape(22*(2**(4-idx)), 24*(2**(4-idx))))\n"
     ]
    },
    {
     "name": "stdout",
     "output_type": "stream",
     "text": [
      "/group/jug/Sheida/maester_data/download/high_c1/data/test/high_c1_source_724.tif\n"
     ]
    },
    {
     "name": "stderr",
     "output_type": "stream",
     "text": [
      "/tmp/ipykernel_16347/581665560.py:15: DeprecationWarning: <tifffile.imsave> is deprecated. Use tifffile.imwrite\n",
      "  imsave(path+\"label/k = 8/\"+str(idx+1)+\"/\"+i[i.rfind(\"/\"):i.rfind(\".\")]+\".tif\", output.reshape(22*(2**(4-idx)), 24*(2**(4-idx))))\n"
     ]
    },
    {
     "name": "stdout",
     "output_type": "stream",
     "text": [
      "/group/jug/Sheida/maester_data/download/high_c1/data/test/high_c1_source_724.tif\n"
     ]
    },
    {
     "name": "stderr",
     "output_type": "stream",
     "text": [
      "/tmp/ipykernel_16347/581665560.py:15: DeprecationWarning: <tifffile.imsave> is deprecated. Use tifffile.imwrite\n",
      "  imsave(path+\"label/k = 8/\"+str(idx+1)+\"/\"+i[i.rfind(\"/\"):i.rfind(\".\")]+\".tif\", output.reshape(22*(2**(4-idx)), 24*(2**(4-idx))))\n"
     ]
    },
    {
     "name": "stdout",
     "output_type": "stream",
     "text": [
      "/group/jug/Sheida/maester_data/download/high_c1/data/test/high_c1_source_724.tif\n"
     ]
    },
    {
     "name": "stderr",
     "output_type": "stream",
     "text": [
      "/tmp/ipykernel_16347/581665560.py:15: DeprecationWarning: <tifffile.imsave> is deprecated. Use tifffile.imwrite\n",
      "  imsave(path+\"label/k = 8/\"+str(idx+1)+\"/\"+i[i.rfind(\"/\"):i.rfind(\".\")]+\".tif\", output.reshape(22*(2**(4-idx)), 24*(2**(4-idx))))\n"
     ]
    },
    {
     "name": "stdout",
     "output_type": "stream",
     "text": [
      "/group/jug/Sheida/maester_data/download/high_c1/data/test/high_c1_source_724.tif\n"
     ]
    },
    {
     "name": "stderr",
     "output_type": "stream",
     "text": [
      "/tmp/ipykernel_16347/581665560.py:15: DeprecationWarning: <tifffile.imsave> is deprecated. Use tifffile.imwrite\n",
      "  imsave(path+\"label/k = 8/\"+str(idx+1)+\"/\"+i[i.rfind(\"/\"):i.rfind(\".\")]+\".tif\", output.reshape(22*(2**(4-idx)), 24*(2**(4-idx))))\n"
     ]
    },
    {
     "name": "stdout",
     "output_type": "stream",
     "text": [
      "/group/jug/Sheida/maester_data/download/high_c1/data/test/high_c1_source_724.tif\n"
     ]
    },
    {
     "name": "stderr",
     "output_type": "stream",
     "text": [
      "/tmp/ipykernel_16347/581665560.py:15: DeprecationWarning: <tifffile.imsave> is deprecated. Use tifffile.imwrite\n",
      "  imsave(path+\"label/k = 8/\"+str(idx+1)+\"/\"+i[i.rfind(\"/\"):i.rfind(\".\")]+\".tif\", output.reshape(22*(2**(4-idx)), 24*(2**(4-idx))))\n"
     ]
    },
    {
     "name": "stdout",
     "output_type": "stream",
     "text": [
      "/group/jug/Sheida/maester_data/download/high_c1/data/test/high_c1_source_403.tif\n"
     ]
    },
    {
     "name": "stderr",
     "output_type": "stream",
     "text": [
      "/tmp/ipykernel_16347/581665560.py:15: DeprecationWarning: <tifffile.imsave> is deprecated. Use tifffile.imwrite\n",
      "  imsave(path+\"label/k = 8/\"+str(idx+1)+\"/\"+i[i.rfind(\"/\"):i.rfind(\".\")]+\".tif\", output.reshape(22*(2**(4-idx)), 24*(2**(4-idx))))\n"
     ]
    },
    {
     "name": "stdout",
     "output_type": "stream",
     "text": [
      "/group/jug/Sheida/maester_data/download/high_c1/data/test/high_c1_source_403.tif\n"
     ]
    },
    {
     "name": "stderr",
     "output_type": "stream",
     "text": [
      "/tmp/ipykernel_16347/581665560.py:15: DeprecationWarning: <tifffile.imsave> is deprecated. Use tifffile.imwrite\n",
      "  imsave(path+\"label/k = 8/\"+str(idx+1)+\"/\"+i[i.rfind(\"/\"):i.rfind(\".\")]+\".tif\", output.reshape(22*(2**(4-idx)), 24*(2**(4-idx))))\n"
     ]
    },
    {
     "name": "stdout",
     "output_type": "stream",
     "text": [
      "/group/jug/Sheida/maester_data/download/high_c1/data/test/high_c1_source_403.tif\n"
     ]
    },
    {
     "name": "stderr",
     "output_type": "stream",
     "text": [
      "/tmp/ipykernel_16347/581665560.py:15: DeprecationWarning: <tifffile.imsave> is deprecated. Use tifffile.imwrite\n",
      "  imsave(path+\"label/k = 8/\"+str(idx+1)+\"/\"+i[i.rfind(\"/\"):i.rfind(\".\")]+\".tif\", output.reshape(22*(2**(4-idx)), 24*(2**(4-idx))))\n"
     ]
    },
    {
     "name": "stdout",
     "output_type": "stream",
     "text": [
      "/group/jug/Sheida/maester_data/download/high_c1/data/test/high_c1_source_403.tif\n"
     ]
    },
    {
     "name": "stderr",
     "output_type": "stream",
     "text": [
      "/tmp/ipykernel_16347/581665560.py:15: DeprecationWarning: <tifffile.imsave> is deprecated. Use tifffile.imwrite\n",
      "  imsave(path+\"label/k = 8/\"+str(idx+1)+\"/\"+i[i.rfind(\"/\"):i.rfind(\".\")]+\".tif\", output.reshape(22*(2**(4-idx)), 24*(2**(4-idx))))\n"
     ]
    },
    {
     "name": "stdout",
     "output_type": "stream",
     "text": [
      "/group/jug/Sheida/maester_data/download/high_c1/data/test/high_c1_source_403.tif\n"
     ]
    },
    {
     "name": "stderr",
     "output_type": "stream",
     "text": [
      "/tmp/ipykernel_16347/581665560.py:15: DeprecationWarning: <tifffile.imsave> is deprecated. Use tifffile.imwrite\n",
      "  imsave(path+\"label/k = 8/\"+str(idx+1)+\"/\"+i[i.rfind(\"/\"):i.rfind(\".\")]+\".tif\", output.reshape(22*(2**(4-idx)), 24*(2**(4-idx))))\n"
     ]
    },
    {
     "name": "stdout",
     "output_type": "stream",
     "text": [
      "/group/jug/Sheida/maester_data/download/high_c1/data/test/high_c1_source_890.tif\n"
     ]
    },
    {
     "name": "stderr",
     "output_type": "stream",
     "text": [
      "/tmp/ipykernel_16347/581665560.py:15: DeprecationWarning: <tifffile.imsave> is deprecated. Use tifffile.imwrite\n",
      "  imsave(path+\"label/k = 8/\"+str(idx+1)+\"/\"+i[i.rfind(\"/\"):i.rfind(\".\")]+\".tif\", output.reshape(22*(2**(4-idx)), 24*(2**(4-idx))))\n"
     ]
    },
    {
     "name": "stdout",
     "output_type": "stream",
     "text": [
      "/group/jug/Sheida/maester_data/download/high_c1/data/test/high_c1_source_890.tif\n"
     ]
    },
    {
     "name": "stderr",
     "output_type": "stream",
     "text": [
      "/tmp/ipykernel_16347/581665560.py:15: DeprecationWarning: <tifffile.imsave> is deprecated. Use tifffile.imwrite\n",
      "  imsave(path+\"label/k = 8/\"+str(idx+1)+\"/\"+i[i.rfind(\"/\"):i.rfind(\".\")]+\".tif\", output.reshape(22*(2**(4-idx)), 24*(2**(4-idx))))\n"
     ]
    },
    {
     "name": "stdout",
     "output_type": "stream",
     "text": [
      "/group/jug/Sheida/maester_data/download/high_c1/data/test/high_c1_source_890.tif\n"
     ]
    },
    {
     "name": "stderr",
     "output_type": "stream",
     "text": [
      "/tmp/ipykernel_16347/581665560.py:15: DeprecationWarning: <tifffile.imsave> is deprecated. Use tifffile.imwrite\n",
      "  imsave(path+\"label/k = 8/\"+str(idx+1)+\"/\"+i[i.rfind(\"/\"):i.rfind(\".\")]+\".tif\", output.reshape(22*(2**(4-idx)), 24*(2**(4-idx))))\n"
     ]
    },
    {
     "name": "stdout",
     "output_type": "stream",
     "text": [
      "/group/jug/Sheida/maester_data/download/high_c1/data/test/high_c1_source_890.tif\n"
     ]
    },
    {
     "name": "stderr",
     "output_type": "stream",
     "text": [
      "/tmp/ipykernel_16347/581665560.py:15: DeprecationWarning: <tifffile.imsave> is deprecated. Use tifffile.imwrite\n",
      "  imsave(path+\"label/k = 8/\"+str(idx+1)+\"/\"+i[i.rfind(\"/\"):i.rfind(\".\")]+\".tif\", output.reshape(22*(2**(4-idx)), 24*(2**(4-idx))))\n"
     ]
    },
    {
     "name": "stdout",
     "output_type": "stream",
     "text": [
      "/group/jug/Sheida/maester_data/download/high_c1/data/test/high_c1_source_890.tif\n"
     ]
    },
    {
     "name": "stderr",
     "output_type": "stream",
     "text": [
      "/tmp/ipykernel_16347/581665560.py:15: DeprecationWarning: <tifffile.imsave> is deprecated. Use tifffile.imwrite\n",
      "  imsave(path+\"label/k = 8/\"+str(idx+1)+\"/\"+i[i.rfind(\"/\"):i.rfind(\".\")]+\".tif\", output.reshape(22*(2**(4-idx)), 24*(2**(4-idx))))\n"
     ]
    },
    {
     "name": "stdout",
     "output_type": "stream",
     "text": [
      "/group/jug/Sheida/maester_data/download/high_c1/data/test/high_c1_source_1051.tif\n"
     ]
    },
    {
     "name": "stderr",
     "output_type": "stream",
     "text": [
      "/tmp/ipykernel_16347/581665560.py:15: DeprecationWarning: <tifffile.imsave> is deprecated. Use tifffile.imwrite\n",
      "  imsave(path+\"label/k = 8/\"+str(idx+1)+\"/\"+i[i.rfind(\"/\"):i.rfind(\".\")]+\".tif\", output.reshape(22*(2**(4-idx)), 24*(2**(4-idx))))\n"
     ]
    },
    {
     "name": "stdout",
     "output_type": "stream",
     "text": [
      "/group/jug/Sheida/maester_data/download/high_c1/data/test/high_c1_source_1051.tif\n"
     ]
    },
    {
     "name": "stderr",
     "output_type": "stream",
     "text": [
      "/tmp/ipykernel_16347/581665560.py:15: DeprecationWarning: <tifffile.imsave> is deprecated. Use tifffile.imwrite\n",
      "  imsave(path+\"label/k = 8/\"+str(idx+1)+\"/\"+i[i.rfind(\"/\"):i.rfind(\".\")]+\".tif\", output.reshape(22*(2**(4-idx)), 24*(2**(4-idx))))\n"
     ]
    },
    {
     "name": "stdout",
     "output_type": "stream",
     "text": [
      "/group/jug/Sheida/maester_data/download/high_c1/data/test/high_c1_source_1051.tif\n"
     ]
    },
    {
     "name": "stderr",
     "output_type": "stream",
     "text": [
      "/tmp/ipykernel_16347/581665560.py:15: DeprecationWarning: <tifffile.imsave> is deprecated. Use tifffile.imwrite\n",
      "  imsave(path+\"label/k = 8/\"+str(idx+1)+\"/\"+i[i.rfind(\"/\"):i.rfind(\".\")]+\".tif\", output.reshape(22*(2**(4-idx)), 24*(2**(4-idx))))\n"
     ]
    },
    {
     "name": "stdout",
     "output_type": "stream",
     "text": [
      "/group/jug/Sheida/maester_data/download/high_c1/data/test/high_c1_source_1051.tif\n"
     ]
    },
    {
     "name": "stderr",
     "output_type": "stream",
     "text": [
      "/tmp/ipykernel_16347/581665560.py:15: DeprecationWarning: <tifffile.imsave> is deprecated. Use tifffile.imwrite\n",
      "  imsave(path+\"label/k = 8/\"+str(idx+1)+\"/\"+i[i.rfind(\"/\"):i.rfind(\".\")]+\".tif\", output.reshape(22*(2**(4-idx)), 24*(2**(4-idx))))\n"
     ]
    },
    {
     "name": "stdout",
     "output_type": "stream",
     "text": [
      "/group/jug/Sheida/maester_data/download/high_c1/data/test/high_c1_source_1051.tif\n"
     ]
    },
    {
     "name": "stderr",
     "output_type": "stream",
     "text": [
      "/tmp/ipykernel_16347/581665560.py:15: DeprecationWarning: <tifffile.imsave> is deprecated. Use tifffile.imwrite\n",
      "  imsave(path+\"label/k = 8/\"+str(idx+1)+\"/\"+i[i.rfind(\"/\"):i.rfind(\".\")]+\".tif\", output.reshape(22*(2**(4-idx)), 24*(2**(4-idx))))\n"
     ]
    },
    {
     "name": "stdout",
     "output_type": "stream",
     "text": [
      "/group/jug/Sheida/maester_data/download/high_c1/data/test/high_c1_source_1001.tif\n"
     ]
    },
    {
     "name": "stderr",
     "output_type": "stream",
     "text": [
      "/tmp/ipykernel_16347/581665560.py:15: DeprecationWarning: <tifffile.imsave> is deprecated. Use tifffile.imwrite\n",
      "  imsave(path+\"label/k = 8/\"+str(idx+1)+\"/\"+i[i.rfind(\"/\"):i.rfind(\".\")]+\".tif\", output.reshape(22*(2**(4-idx)), 24*(2**(4-idx))))\n"
     ]
    },
    {
     "name": "stdout",
     "output_type": "stream",
     "text": [
      "/group/jug/Sheida/maester_data/download/high_c1/data/test/high_c1_source_1001.tif\n"
     ]
    },
    {
     "name": "stderr",
     "output_type": "stream",
     "text": [
      "/tmp/ipykernel_16347/581665560.py:15: DeprecationWarning: <tifffile.imsave> is deprecated. Use tifffile.imwrite\n",
      "  imsave(path+\"label/k = 8/\"+str(idx+1)+\"/\"+i[i.rfind(\"/\"):i.rfind(\".\")]+\".tif\", output.reshape(22*(2**(4-idx)), 24*(2**(4-idx))))\n"
     ]
    },
    {
     "name": "stdout",
     "output_type": "stream",
     "text": [
      "/group/jug/Sheida/maester_data/download/high_c1/data/test/high_c1_source_1001.tif\n"
     ]
    },
    {
     "name": "stderr",
     "output_type": "stream",
     "text": [
      "/tmp/ipykernel_16347/581665560.py:15: DeprecationWarning: <tifffile.imsave> is deprecated. Use tifffile.imwrite\n",
      "  imsave(path+\"label/k = 8/\"+str(idx+1)+\"/\"+i[i.rfind(\"/\"):i.rfind(\".\")]+\".tif\", output.reshape(22*(2**(4-idx)), 24*(2**(4-idx))))\n"
     ]
    },
    {
     "name": "stdout",
     "output_type": "stream",
     "text": [
      "/group/jug/Sheida/maester_data/download/high_c1/data/test/high_c1_source_1001.tif\n"
     ]
    },
    {
     "name": "stderr",
     "output_type": "stream",
     "text": [
      "/tmp/ipykernel_16347/581665560.py:15: DeprecationWarning: <tifffile.imsave> is deprecated. Use tifffile.imwrite\n",
      "  imsave(path+\"label/k = 8/\"+str(idx+1)+\"/\"+i[i.rfind(\"/\"):i.rfind(\".\")]+\".tif\", output.reshape(22*(2**(4-idx)), 24*(2**(4-idx))))\n"
     ]
    },
    {
     "name": "stdout",
     "output_type": "stream",
     "text": [
      "/group/jug/Sheida/maester_data/download/high_c1/data/test/high_c1_source_1001.tif\n"
     ]
    },
    {
     "name": "stderr",
     "output_type": "stream",
     "text": [
      "/tmp/ipykernel_16347/581665560.py:15: DeprecationWarning: <tifffile.imsave> is deprecated. Use tifffile.imwrite\n",
      "  imsave(path+\"label/k = 8/\"+str(idx+1)+\"/\"+i[i.rfind(\"/\"):i.rfind(\".\")]+\".tif\", output.reshape(22*(2**(4-idx)), 24*(2**(4-idx))))\n"
     ]
    },
    {
     "name": "stdout",
     "output_type": "stream",
     "text": [
      "/group/jug/Sheida/maester_data/download/high_c1/data/test/high_c1_source_70.tif\n"
     ]
    },
    {
     "name": "stderr",
     "output_type": "stream",
     "text": [
      "/tmp/ipykernel_16347/581665560.py:15: DeprecationWarning: <tifffile.imsave> is deprecated. Use tifffile.imwrite\n",
      "  imsave(path+\"label/k = 8/\"+str(idx+1)+\"/\"+i[i.rfind(\"/\"):i.rfind(\".\")]+\".tif\", output.reshape(22*(2**(4-idx)), 24*(2**(4-idx))))\n"
     ]
    },
    {
     "name": "stdout",
     "output_type": "stream",
     "text": [
      "/group/jug/Sheida/maester_data/download/high_c1/data/test/high_c1_source_70.tif\n"
     ]
    },
    {
     "name": "stderr",
     "output_type": "stream",
     "text": [
      "/tmp/ipykernel_16347/581665560.py:15: DeprecationWarning: <tifffile.imsave> is deprecated. Use tifffile.imwrite\n",
      "  imsave(path+\"label/k = 8/\"+str(idx+1)+\"/\"+i[i.rfind(\"/\"):i.rfind(\".\")]+\".tif\", output.reshape(22*(2**(4-idx)), 24*(2**(4-idx))))\n"
     ]
    },
    {
     "name": "stdout",
     "output_type": "stream",
     "text": [
      "/group/jug/Sheida/maester_data/download/high_c1/data/test/high_c1_source_70.tif\n"
     ]
    },
    {
     "name": "stderr",
     "output_type": "stream",
     "text": [
      "/tmp/ipykernel_16347/581665560.py:15: DeprecationWarning: <tifffile.imsave> is deprecated. Use tifffile.imwrite\n",
      "  imsave(path+\"label/k = 8/\"+str(idx+1)+\"/\"+i[i.rfind(\"/\"):i.rfind(\".\")]+\".tif\", output.reshape(22*(2**(4-idx)), 24*(2**(4-idx))))\n"
     ]
    },
    {
     "name": "stdout",
     "output_type": "stream",
     "text": [
      "/group/jug/Sheida/maester_data/download/high_c1/data/test/high_c1_source_70.tif\n"
     ]
    },
    {
     "name": "stderr",
     "output_type": "stream",
     "text": [
      "/tmp/ipykernel_16347/581665560.py:15: DeprecationWarning: <tifffile.imsave> is deprecated. Use tifffile.imwrite\n",
      "  imsave(path+\"label/k = 8/\"+str(idx+1)+\"/\"+i[i.rfind(\"/\"):i.rfind(\".\")]+\".tif\", output.reshape(22*(2**(4-idx)), 24*(2**(4-idx))))\n"
     ]
    },
    {
     "name": "stdout",
     "output_type": "stream",
     "text": [
      "/group/jug/Sheida/maester_data/download/high_c1/data/test/high_c1_source_70.tif\n"
     ]
    },
    {
     "name": "stderr",
     "output_type": "stream",
     "text": [
      "/tmp/ipykernel_16347/581665560.py:15: DeprecationWarning: <tifffile.imsave> is deprecated. Use tifffile.imwrite\n",
      "  imsave(path+\"label/k = 8/\"+str(idx+1)+\"/\"+i[i.rfind(\"/\"):i.rfind(\".\")]+\".tif\", output.reshape(22*(2**(4-idx)), 24*(2**(4-idx))))\n"
     ]
    },
    {
     "name": "stdout",
     "output_type": "stream",
     "text": [
      "/group/jug/Sheida/maester_data/download/high_c1/data/test/high_c1_source_1019.tif\n"
     ]
    },
    {
     "name": "stderr",
     "output_type": "stream",
     "text": [
      "/tmp/ipykernel_16347/581665560.py:15: DeprecationWarning: <tifffile.imsave> is deprecated. Use tifffile.imwrite\n",
      "  imsave(path+\"label/k = 8/\"+str(idx+1)+\"/\"+i[i.rfind(\"/\"):i.rfind(\".\")]+\".tif\", output.reshape(22*(2**(4-idx)), 24*(2**(4-idx))))\n"
     ]
    },
    {
     "name": "stdout",
     "output_type": "stream",
     "text": [
      "/group/jug/Sheida/maester_data/download/high_c1/data/test/high_c1_source_1019.tif\n"
     ]
    },
    {
     "name": "stderr",
     "output_type": "stream",
     "text": [
      "/tmp/ipykernel_16347/581665560.py:15: DeprecationWarning: <tifffile.imsave> is deprecated. Use tifffile.imwrite\n",
      "  imsave(path+\"label/k = 8/\"+str(idx+1)+\"/\"+i[i.rfind(\"/\"):i.rfind(\".\")]+\".tif\", output.reshape(22*(2**(4-idx)), 24*(2**(4-idx))))\n"
     ]
    },
    {
     "name": "stdout",
     "output_type": "stream",
     "text": [
      "/group/jug/Sheida/maester_data/download/high_c1/data/test/high_c1_source_1019.tif\n"
     ]
    },
    {
     "name": "stderr",
     "output_type": "stream",
     "text": [
      "/tmp/ipykernel_16347/581665560.py:15: DeprecationWarning: <tifffile.imsave> is deprecated. Use tifffile.imwrite\n",
      "  imsave(path+\"label/k = 8/\"+str(idx+1)+\"/\"+i[i.rfind(\"/\"):i.rfind(\".\")]+\".tif\", output.reshape(22*(2**(4-idx)), 24*(2**(4-idx))))\n"
     ]
    },
    {
     "name": "stdout",
     "output_type": "stream",
     "text": [
      "/group/jug/Sheida/maester_data/download/high_c1/data/test/high_c1_source_1019.tif\n"
     ]
    },
    {
     "name": "stderr",
     "output_type": "stream",
     "text": [
      "/tmp/ipykernel_16347/581665560.py:15: DeprecationWarning: <tifffile.imsave> is deprecated. Use tifffile.imwrite\n",
      "  imsave(path+\"label/k = 8/\"+str(idx+1)+\"/\"+i[i.rfind(\"/\"):i.rfind(\".\")]+\".tif\", output.reshape(22*(2**(4-idx)), 24*(2**(4-idx))))\n"
     ]
    },
    {
     "name": "stdout",
     "output_type": "stream",
     "text": [
      "/group/jug/Sheida/maester_data/download/high_c1/data/test/high_c1_source_1019.tif\n"
     ]
    },
    {
     "name": "stderr",
     "output_type": "stream",
     "text": [
      "/tmp/ipykernel_16347/581665560.py:15: DeprecationWarning: <tifffile.imsave> is deprecated. Use tifffile.imwrite\n",
      "  imsave(path+\"label/k = 8/\"+str(idx+1)+\"/\"+i[i.rfind(\"/\"):i.rfind(\".\")]+\".tif\", output.reshape(22*(2**(4-idx)), 24*(2**(4-idx))))\n"
     ]
    },
    {
     "name": "stdout",
     "output_type": "stream",
     "text": [
      "/group/jug/Sheida/maester_data/download/high_c1/data/test/high_c1_source_519.tif\n"
     ]
    },
    {
     "name": "stderr",
     "output_type": "stream",
     "text": [
      "/tmp/ipykernel_16347/581665560.py:15: DeprecationWarning: <tifffile.imsave> is deprecated. Use tifffile.imwrite\n",
      "  imsave(path+\"label/k = 8/\"+str(idx+1)+\"/\"+i[i.rfind(\"/\"):i.rfind(\".\")]+\".tif\", output.reshape(22*(2**(4-idx)), 24*(2**(4-idx))))\n"
     ]
    },
    {
     "name": "stdout",
     "output_type": "stream",
     "text": [
      "/group/jug/Sheida/maester_data/download/high_c1/data/test/high_c1_source_519.tif\n"
     ]
    },
    {
     "name": "stderr",
     "output_type": "stream",
     "text": [
      "/tmp/ipykernel_16347/581665560.py:15: DeprecationWarning: <tifffile.imsave> is deprecated. Use tifffile.imwrite\n",
      "  imsave(path+\"label/k = 8/\"+str(idx+1)+\"/\"+i[i.rfind(\"/\"):i.rfind(\".\")]+\".tif\", output.reshape(22*(2**(4-idx)), 24*(2**(4-idx))))\n"
     ]
    },
    {
     "name": "stdout",
     "output_type": "stream",
     "text": [
      "/group/jug/Sheida/maester_data/download/high_c1/data/test/high_c1_source_519.tif\n"
     ]
    },
    {
     "name": "stderr",
     "output_type": "stream",
     "text": [
      "/tmp/ipykernel_16347/581665560.py:15: DeprecationWarning: <tifffile.imsave> is deprecated. Use tifffile.imwrite\n",
      "  imsave(path+\"label/k = 8/\"+str(idx+1)+\"/\"+i[i.rfind(\"/\"):i.rfind(\".\")]+\".tif\", output.reshape(22*(2**(4-idx)), 24*(2**(4-idx))))\n"
     ]
    },
    {
     "name": "stdout",
     "output_type": "stream",
     "text": [
      "/group/jug/Sheida/maester_data/download/high_c1/data/test/high_c1_source_519.tif\n"
     ]
    },
    {
     "name": "stderr",
     "output_type": "stream",
     "text": [
      "/tmp/ipykernel_16347/581665560.py:15: DeprecationWarning: <tifffile.imsave> is deprecated. Use tifffile.imwrite\n",
      "  imsave(path+\"label/k = 8/\"+str(idx+1)+\"/\"+i[i.rfind(\"/\"):i.rfind(\".\")]+\".tif\", output.reshape(22*(2**(4-idx)), 24*(2**(4-idx))))\n"
     ]
    },
    {
     "name": "stdout",
     "output_type": "stream",
     "text": [
      "/group/jug/Sheida/maester_data/download/high_c1/data/test/high_c1_source_519.tif\n"
     ]
    },
    {
     "name": "stderr",
     "output_type": "stream",
     "text": [
      "/tmp/ipykernel_16347/581665560.py:15: DeprecationWarning: <tifffile.imsave> is deprecated. Use tifffile.imwrite\n",
      "  imsave(path+\"label/k = 8/\"+str(idx+1)+\"/\"+i[i.rfind(\"/\"):i.rfind(\".\")]+\".tif\", output.reshape(22*(2**(4-idx)), 24*(2**(4-idx))))\n"
     ]
    },
    {
     "name": "stdout",
     "output_type": "stream",
     "text": [
      "/group/jug/Sheida/maester_data/download/high_c1/data/test/high_c1_source_959.tif\n"
     ]
    },
    {
     "name": "stderr",
     "output_type": "stream",
     "text": [
      "/tmp/ipykernel_16347/581665560.py:15: DeprecationWarning: <tifffile.imsave> is deprecated. Use tifffile.imwrite\n",
      "  imsave(path+\"label/k = 8/\"+str(idx+1)+\"/\"+i[i.rfind(\"/\"):i.rfind(\".\")]+\".tif\", output.reshape(22*(2**(4-idx)), 24*(2**(4-idx))))\n"
     ]
    },
    {
     "name": "stdout",
     "output_type": "stream",
     "text": [
      "/group/jug/Sheida/maester_data/download/high_c1/data/test/high_c1_source_959.tif\n"
     ]
    },
    {
     "name": "stderr",
     "output_type": "stream",
     "text": [
      "/tmp/ipykernel_16347/581665560.py:15: DeprecationWarning: <tifffile.imsave> is deprecated. Use tifffile.imwrite\n",
      "  imsave(path+\"label/k = 8/\"+str(idx+1)+\"/\"+i[i.rfind(\"/\"):i.rfind(\".\")]+\".tif\", output.reshape(22*(2**(4-idx)), 24*(2**(4-idx))))\n"
     ]
    },
    {
     "name": "stdout",
     "output_type": "stream",
     "text": [
      "/group/jug/Sheida/maester_data/download/high_c1/data/test/high_c1_source_959.tif\n"
     ]
    },
    {
     "name": "stderr",
     "output_type": "stream",
     "text": [
      "/tmp/ipykernel_16347/581665560.py:15: DeprecationWarning: <tifffile.imsave> is deprecated. Use tifffile.imwrite\n",
      "  imsave(path+\"label/k = 8/\"+str(idx+1)+\"/\"+i[i.rfind(\"/\"):i.rfind(\".\")]+\".tif\", output.reshape(22*(2**(4-idx)), 24*(2**(4-idx))))\n"
     ]
    },
    {
     "name": "stdout",
     "output_type": "stream",
     "text": [
      "/group/jug/Sheida/maester_data/download/high_c1/data/test/high_c1_source_959.tif\n"
     ]
    },
    {
     "name": "stderr",
     "output_type": "stream",
     "text": [
      "/tmp/ipykernel_16347/581665560.py:15: DeprecationWarning: <tifffile.imsave> is deprecated. Use tifffile.imwrite\n",
      "  imsave(path+\"label/k = 8/\"+str(idx+1)+\"/\"+i[i.rfind(\"/\"):i.rfind(\".\")]+\".tif\", output.reshape(22*(2**(4-idx)), 24*(2**(4-idx))))\n"
     ]
    },
    {
     "name": "stdout",
     "output_type": "stream",
     "text": [
      "/group/jug/Sheida/maester_data/download/high_c1/data/test/high_c1_source_959.tif\n"
     ]
    },
    {
     "name": "stderr",
     "output_type": "stream",
     "text": [
      "/tmp/ipykernel_16347/581665560.py:15: DeprecationWarning: <tifffile.imsave> is deprecated. Use tifffile.imwrite\n",
      "  imsave(path+\"label/k = 8/\"+str(idx+1)+\"/\"+i[i.rfind(\"/\"):i.rfind(\".\")]+\".tif\", output.reshape(22*(2**(4-idx)), 24*(2**(4-idx))))\n"
     ]
    },
    {
     "name": "stdout",
     "output_type": "stream",
     "text": [
      "/group/jug/Sheida/maester_data/download/high_c1/data/test/high_c1_source_441.tif\n"
     ]
    },
    {
     "name": "stderr",
     "output_type": "stream",
     "text": [
      "/tmp/ipykernel_16347/581665560.py:15: DeprecationWarning: <tifffile.imsave> is deprecated. Use tifffile.imwrite\n",
      "  imsave(path+\"label/k = 8/\"+str(idx+1)+\"/\"+i[i.rfind(\"/\"):i.rfind(\".\")]+\".tif\", output.reshape(22*(2**(4-idx)), 24*(2**(4-idx))))\n"
     ]
    },
    {
     "name": "stdout",
     "output_type": "stream",
     "text": [
      "/group/jug/Sheida/maester_data/download/high_c1/data/test/high_c1_source_441.tif\n"
     ]
    },
    {
     "name": "stderr",
     "output_type": "stream",
     "text": [
      "/tmp/ipykernel_16347/581665560.py:15: DeprecationWarning: <tifffile.imsave> is deprecated. Use tifffile.imwrite\n",
      "  imsave(path+\"label/k = 8/\"+str(idx+1)+\"/\"+i[i.rfind(\"/\"):i.rfind(\".\")]+\".tif\", output.reshape(22*(2**(4-idx)), 24*(2**(4-idx))))\n"
     ]
    },
    {
     "name": "stdout",
     "output_type": "stream",
     "text": [
      "/group/jug/Sheida/maester_data/download/high_c1/data/test/high_c1_source_441.tif\n"
     ]
    },
    {
     "name": "stderr",
     "output_type": "stream",
     "text": [
      "/tmp/ipykernel_16347/581665560.py:15: DeprecationWarning: <tifffile.imsave> is deprecated. Use tifffile.imwrite\n",
      "  imsave(path+\"label/k = 8/\"+str(idx+1)+\"/\"+i[i.rfind(\"/\"):i.rfind(\".\")]+\".tif\", output.reshape(22*(2**(4-idx)), 24*(2**(4-idx))))\n"
     ]
    },
    {
     "name": "stdout",
     "output_type": "stream",
     "text": [
      "/group/jug/Sheida/maester_data/download/high_c1/data/test/high_c1_source_441.tif\n"
     ]
    },
    {
     "name": "stderr",
     "output_type": "stream",
     "text": [
      "/tmp/ipykernel_16347/581665560.py:15: DeprecationWarning: <tifffile.imsave> is deprecated. Use tifffile.imwrite\n",
      "  imsave(path+\"label/k = 8/\"+str(idx+1)+\"/\"+i[i.rfind(\"/\"):i.rfind(\".\")]+\".tif\", output.reshape(22*(2**(4-idx)), 24*(2**(4-idx))))\n"
     ]
    },
    {
     "name": "stdout",
     "output_type": "stream",
     "text": [
      "/group/jug/Sheida/maester_data/download/high_c1/data/test/high_c1_source_441.tif\n"
     ]
    },
    {
     "name": "stderr",
     "output_type": "stream",
     "text": [
      "/tmp/ipykernel_16347/581665560.py:15: DeprecationWarning: <tifffile.imsave> is deprecated. Use tifffile.imwrite\n",
      "  imsave(path+\"label/k = 8/\"+str(idx+1)+\"/\"+i[i.rfind(\"/\"):i.rfind(\".\")]+\".tif\", output.reshape(22*(2**(4-idx)), 24*(2**(4-idx))))\n"
     ]
    },
    {
     "name": "stdout",
     "output_type": "stream",
     "text": [
      "/group/jug/Sheida/maester_data/download/high_c1/data/test/high_c1_source_129.tif\n"
     ]
    },
    {
     "name": "stderr",
     "output_type": "stream",
     "text": [
      "/tmp/ipykernel_16347/581665560.py:15: DeprecationWarning: <tifffile.imsave> is deprecated. Use tifffile.imwrite\n",
      "  imsave(path+\"label/k = 8/\"+str(idx+1)+\"/\"+i[i.rfind(\"/\"):i.rfind(\".\")]+\".tif\", output.reshape(22*(2**(4-idx)), 24*(2**(4-idx))))\n"
     ]
    },
    {
     "name": "stdout",
     "output_type": "stream",
     "text": [
      "/group/jug/Sheida/maester_data/download/high_c1/data/test/high_c1_source_129.tif\n"
     ]
    },
    {
     "name": "stderr",
     "output_type": "stream",
     "text": [
      "/tmp/ipykernel_16347/581665560.py:15: DeprecationWarning: <tifffile.imsave> is deprecated. Use tifffile.imwrite\n",
      "  imsave(path+\"label/k = 8/\"+str(idx+1)+\"/\"+i[i.rfind(\"/\"):i.rfind(\".\")]+\".tif\", output.reshape(22*(2**(4-idx)), 24*(2**(4-idx))))\n"
     ]
    },
    {
     "name": "stdout",
     "output_type": "stream",
     "text": [
      "/group/jug/Sheida/maester_data/download/high_c1/data/test/high_c1_source_129.tif\n"
     ]
    },
    {
     "name": "stderr",
     "output_type": "stream",
     "text": [
      "/tmp/ipykernel_16347/581665560.py:15: DeprecationWarning: <tifffile.imsave> is deprecated. Use tifffile.imwrite\n",
      "  imsave(path+\"label/k = 8/\"+str(idx+1)+\"/\"+i[i.rfind(\"/\"):i.rfind(\".\")]+\".tif\", output.reshape(22*(2**(4-idx)), 24*(2**(4-idx))))\n"
     ]
    },
    {
     "name": "stdout",
     "output_type": "stream",
     "text": [
      "/group/jug/Sheida/maester_data/download/high_c1/data/test/high_c1_source_129.tif\n"
     ]
    },
    {
     "name": "stderr",
     "output_type": "stream",
     "text": [
      "/tmp/ipykernel_16347/581665560.py:15: DeprecationWarning: <tifffile.imsave> is deprecated. Use tifffile.imwrite\n",
      "  imsave(path+\"label/k = 8/\"+str(idx+1)+\"/\"+i[i.rfind(\"/\"):i.rfind(\".\")]+\".tif\", output.reshape(22*(2**(4-idx)), 24*(2**(4-idx))))\n"
     ]
    },
    {
     "name": "stdout",
     "output_type": "stream",
     "text": [
      "/group/jug/Sheida/maester_data/download/high_c1/data/test/high_c1_source_129.tif\n"
     ]
    },
    {
     "name": "stderr",
     "output_type": "stream",
     "text": [
      "/tmp/ipykernel_16347/581665560.py:15: DeprecationWarning: <tifffile.imsave> is deprecated. Use tifffile.imwrite\n",
      "  imsave(path+\"label/k = 8/\"+str(idx+1)+\"/\"+i[i.rfind(\"/\"):i.rfind(\".\")]+\".tif\", output.reshape(22*(2**(4-idx)), 24*(2**(4-idx))))\n"
     ]
    },
    {
     "name": "stdout",
     "output_type": "stream",
     "text": [
      "/group/jug/Sheida/maester_data/download/high_c1/data/test/high_c1_source_220.tif\n"
     ]
    },
    {
     "name": "stderr",
     "output_type": "stream",
     "text": [
      "/tmp/ipykernel_16347/581665560.py:15: DeprecationWarning: <tifffile.imsave> is deprecated. Use tifffile.imwrite\n",
      "  imsave(path+\"label/k = 8/\"+str(idx+1)+\"/\"+i[i.rfind(\"/\"):i.rfind(\".\")]+\".tif\", output.reshape(22*(2**(4-idx)), 24*(2**(4-idx))))\n"
     ]
    },
    {
     "name": "stdout",
     "output_type": "stream",
     "text": [
      "/group/jug/Sheida/maester_data/download/high_c1/data/test/high_c1_source_220.tif\n"
     ]
    },
    {
     "name": "stderr",
     "output_type": "stream",
     "text": [
      "/tmp/ipykernel_16347/581665560.py:15: DeprecationWarning: <tifffile.imsave> is deprecated. Use tifffile.imwrite\n",
      "  imsave(path+\"label/k = 8/\"+str(idx+1)+\"/\"+i[i.rfind(\"/\"):i.rfind(\".\")]+\".tif\", output.reshape(22*(2**(4-idx)), 24*(2**(4-idx))))\n"
     ]
    },
    {
     "name": "stdout",
     "output_type": "stream",
     "text": [
      "/group/jug/Sheida/maester_data/download/high_c1/data/test/high_c1_source_220.tif\n"
     ]
    },
    {
     "name": "stderr",
     "output_type": "stream",
     "text": [
      "/tmp/ipykernel_16347/581665560.py:15: DeprecationWarning: <tifffile.imsave> is deprecated. Use tifffile.imwrite\n",
      "  imsave(path+\"label/k = 8/\"+str(idx+1)+\"/\"+i[i.rfind(\"/\"):i.rfind(\".\")]+\".tif\", output.reshape(22*(2**(4-idx)), 24*(2**(4-idx))))\n"
     ]
    },
    {
     "name": "stdout",
     "output_type": "stream",
     "text": [
      "/group/jug/Sheida/maester_data/download/high_c1/data/test/high_c1_source_220.tif\n"
     ]
    },
    {
     "name": "stderr",
     "output_type": "stream",
     "text": [
      "/tmp/ipykernel_16347/581665560.py:15: DeprecationWarning: <tifffile.imsave> is deprecated. Use tifffile.imwrite\n",
      "  imsave(path+\"label/k = 8/\"+str(idx+1)+\"/\"+i[i.rfind(\"/\"):i.rfind(\".\")]+\".tif\", output.reshape(22*(2**(4-idx)), 24*(2**(4-idx))))\n"
     ]
    },
    {
     "name": "stdout",
     "output_type": "stream",
     "text": [
      "/group/jug/Sheida/maester_data/download/high_c1/data/test/high_c1_source_220.tif\n"
     ]
    },
    {
     "name": "stderr",
     "output_type": "stream",
     "text": [
      "/tmp/ipykernel_16347/581665560.py:15: DeprecationWarning: <tifffile.imsave> is deprecated. Use tifffile.imwrite\n",
      "  imsave(path+\"label/k = 8/\"+str(idx+1)+\"/\"+i[i.rfind(\"/\"):i.rfind(\".\")]+\".tif\", output.reshape(22*(2**(4-idx)), 24*(2**(4-idx))))\n"
     ]
    },
    {
     "name": "stdout",
     "output_type": "stream",
     "text": [
      "/group/jug/Sheida/maester_data/download/high_c1/data/test/high_c1_source_1033.tif\n"
     ]
    },
    {
     "name": "stderr",
     "output_type": "stream",
     "text": [
      "/tmp/ipykernel_16347/581665560.py:15: DeprecationWarning: <tifffile.imsave> is deprecated. Use tifffile.imwrite\n",
      "  imsave(path+\"label/k = 8/\"+str(idx+1)+\"/\"+i[i.rfind(\"/\"):i.rfind(\".\")]+\".tif\", output.reshape(22*(2**(4-idx)), 24*(2**(4-idx))))\n"
     ]
    },
    {
     "name": "stdout",
     "output_type": "stream",
     "text": [
      "/group/jug/Sheida/maester_data/download/high_c1/data/test/high_c1_source_1033.tif\n"
     ]
    },
    {
     "name": "stderr",
     "output_type": "stream",
     "text": [
      "/tmp/ipykernel_16347/581665560.py:15: DeprecationWarning: <tifffile.imsave> is deprecated. Use tifffile.imwrite\n",
      "  imsave(path+\"label/k = 8/\"+str(idx+1)+\"/\"+i[i.rfind(\"/\"):i.rfind(\".\")]+\".tif\", output.reshape(22*(2**(4-idx)), 24*(2**(4-idx))))\n"
     ]
    },
    {
     "name": "stdout",
     "output_type": "stream",
     "text": [
      "/group/jug/Sheida/maester_data/download/high_c1/data/test/high_c1_source_1033.tif\n"
     ]
    },
    {
     "name": "stderr",
     "output_type": "stream",
     "text": [
      "/tmp/ipykernel_16347/581665560.py:15: DeprecationWarning: <tifffile.imsave> is deprecated. Use tifffile.imwrite\n",
      "  imsave(path+\"label/k = 8/\"+str(idx+1)+\"/\"+i[i.rfind(\"/\"):i.rfind(\".\")]+\".tif\", output.reshape(22*(2**(4-idx)), 24*(2**(4-idx))))\n"
     ]
    },
    {
     "name": "stdout",
     "output_type": "stream",
     "text": [
      "/group/jug/Sheida/maester_data/download/high_c1/data/test/high_c1_source_1033.tif\n"
     ]
    },
    {
     "name": "stderr",
     "output_type": "stream",
     "text": [
      "/tmp/ipykernel_16347/581665560.py:15: DeprecationWarning: <tifffile.imsave> is deprecated. Use tifffile.imwrite\n",
      "  imsave(path+\"label/k = 8/\"+str(idx+1)+\"/\"+i[i.rfind(\"/\"):i.rfind(\".\")]+\".tif\", output.reshape(22*(2**(4-idx)), 24*(2**(4-idx))))\n"
     ]
    },
    {
     "name": "stdout",
     "output_type": "stream",
     "text": [
      "/group/jug/Sheida/maester_data/download/high_c1/data/test/high_c1_source_1033.tif\n"
     ]
    },
    {
     "name": "stderr",
     "output_type": "stream",
     "text": [
      "/tmp/ipykernel_16347/581665560.py:15: DeprecationWarning: <tifffile.imsave> is deprecated. Use tifffile.imwrite\n",
      "  imsave(path+\"label/k = 8/\"+str(idx+1)+\"/\"+i[i.rfind(\"/\"):i.rfind(\".\")]+\".tif\", output.reshape(22*(2**(4-idx)), 24*(2**(4-idx))))\n"
     ]
    },
    {
     "name": "stdout",
     "output_type": "stream",
     "text": [
      "/group/jug/Sheida/maester_data/download/high_c1/data/test/high_c1_source_704.tif\n"
     ]
    },
    {
     "name": "stderr",
     "output_type": "stream",
     "text": [
      "/tmp/ipykernel_16347/581665560.py:15: DeprecationWarning: <tifffile.imsave> is deprecated. Use tifffile.imwrite\n",
      "  imsave(path+\"label/k = 8/\"+str(idx+1)+\"/\"+i[i.rfind(\"/\"):i.rfind(\".\")]+\".tif\", output.reshape(22*(2**(4-idx)), 24*(2**(4-idx))))\n"
     ]
    },
    {
     "name": "stdout",
     "output_type": "stream",
     "text": [
      "/group/jug/Sheida/maester_data/download/high_c1/data/test/high_c1_source_704.tif\n"
     ]
    },
    {
     "name": "stderr",
     "output_type": "stream",
     "text": [
      "/tmp/ipykernel_16347/581665560.py:15: DeprecationWarning: <tifffile.imsave> is deprecated. Use tifffile.imwrite\n",
      "  imsave(path+\"label/k = 8/\"+str(idx+1)+\"/\"+i[i.rfind(\"/\"):i.rfind(\".\")]+\".tif\", output.reshape(22*(2**(4-idx)), 24*(2**(4-idx))))\n"
     ]
    },
    {
     "name": "stdout",
     "output_type": "stream",
     "text": [
      "/group/jug/Sheida/maester_data/download/high_c1/data/test/high_c1_source_704.tif\n"
     ]
    },
    {
     "name": "stderr",
     "output_type": "stream",
     "text": [
      "/tmp/ipykernel_16347/581665560.py:15: DeprecationWarning: <tifffile.imsave> is deprecated. Use tifffile.imwrite\n",
      "  imsave(path+\"label/k = 8/\"+str(idx+1)+\"/\"+i[i.rfind(\"/\"):i.rfind(\".\")]+\".tif\", output.reshape(22*(2**(4-idx)), 24*(2**(4-idx))))\n"
     ]
    },
    {
     "name": "stdout",
     "output_type": "stream",
     "text": [
      "/group/jug/Sheida/maester_data/download/high_c1/data/test/high_c1_source_704.tif\n"
     ]
    },
    {
     "name": "stderr",
     "output_type": "stream",
     "text": [
      "/tmp/ipykernel_16347/581665560.py:15: DeprecationWarning: <tifffile.imsave> is deprecated. Use tifffile.imwrite\n",
      "  imsave(path+\"label/k = 8/\"+str(idx+1)+\"/\"+i[i.rfind(\"/\"):i.rfind(\".\")]+\".tif\", output.reshape(22*(2**(4-idx)), 24*(2**(4-idx))))\n"
     ]
    },
    {
     "name": "stdout",
     "output_type": "stream",
     "text": [
      "/group/jug/Sheida/maester_data/download/high_c1/data/test/high_c1_source_704.tif\n"
     ]
    },
    {
     "name": "stderr",
     "output_type": "stream",
     "text": [
      "/tmp/ipykernel_16347/581665560.py:15: DeprecationWarning: <tifffile.imsave> is deprecated. Use tifffile.imwrite\n",
      "  imsave(path+\"label/k = 8/\"+str(idx+1)+\"/\"+i[i.rfind(\"/\"):i.rfind(\".\")]+\".tif\", output.reshape(22*(2**(4-idx)), 24*(2**(4-idx))))\n"
     ]
    },
    {
     "name": "stdout",
     "output_type": "stream",
     "text": [
      "/group/jug/Sheida/maester_data/download/high_c1/data/test/high_c1_source_505.tif\n"
     ]
    },
    {
     "name": "stderr",
     "output_type": "stream",
     "text": [
      "/tmp/ipykernel_16347/581665560.py:15: DeprecationWarning: <tifffile.imsave> is deprecated. Use tifffile.imwrite\n",
      "  imsave(path+\"label/k = 8/\"+str(idx+1)+\"/\"+i[i.rfind(\"/\"):i.rfind(\".\")]+\".tif\", output.reshape(22*(2**(4-idx)), 24*(2**(4-idx))))\n"
     ]
    },
    {
     "name": "stdout",
     "output_type": "stream",
     "text": [
      "/group/jug/Sheida/maester_data/download/high_c1/data/test/high_c1_source_505.tif\n"
     ]
    },
    {
     "name": "stderr",
     "output_type": "stream",
     "text": [
      "/tmp/ipykernel_16347/581665560.py:15: DeprecationWarning: <tifffile.imsave> is deprecated. Use tifffile.imwrite\n",
      "  imsave(path+\"label/k = 8/\"+str(idx+1)+\"/\"+i[i.rfind(\"/\"):i.rfind(\".\")]+\".tif\", output.reshape(22*(2**(4-idx)), 24*(2**(4-idx))))\n"
     ]
    },
    {
     "name": "stdout",
     "output_type": "stream",
     "text": [
      "/group/jug/Sheida/maester_data/download/high_c1/data/test/high_c1_source_505.tif\n"
     ]
    },
    {
     "name": "stderr",
     "output_type": "stream",
     "text": [
      "/tmp/ipykernel_16347/581665560.py:15: DeprecationWarning: <tifffile.imsave> is deprecated. Use tifffile.imwrite\n",
      "  imsave(path+\"label/k = 8/\"+str(idx+1)+\"/\"+i[i.rfind(\"/\"):i.rfind(\".\")]+\".tif\", output.reshape(22*(2**(4-idx)), 24*(2**(4-idx))))\n"
     ]
    },
    {
     "name": "stdout",
     "output_type": "stream",
     "text": [
      "/group/jug/Sheida/maester_data/download/high_c1/data/test/high_c1_source_505.tif\n"
     ]
    },
    {
     "name": "stderr",
     "output_type": "stream",
     "text": [
      "/tmp/ipykernel_16347/581665560.py:15: DeprecationWarning: <tifffile.imsave> is deprecated. Use tifffile.imwrite\n",
      "  imsave(path+\"label/k = 8/\"+str(idx+1)+\"/\"+i[i.rfind(\"/\"):i.rfind(\".\")]+\".tif\", output.reshape(22*(2**(4-idx)), 24*(2**(4-idx))))\n"
     ]
    },
    {
     "name": "stdout",
     "output_type": "stream",
     "text": [
      "/group/jug/Sheida/maester_data/download/high_c1/data/test/high_c1_source_505.tif\n"
     ]
    },
    {
     "name": "stderr",
     "output_type": "stream",
     "text": [
      "/tmp/ipykernel_16347/581665560.py:15: DeprecationWarning: <tifffile.imsave> is deprecated. Use tifffile.imwrite\n",
      "  imsave(path+\"label/k = 8/\"+str(idx+1)+\"/\"+i[i.rfind(\"/\"):i.rfind(\".\")]+\".tif\", output.reshape(22*(2**(4-idx)), 24*(2**(4-idx))))\n"
     ]
    },
    {
     "name": "stdout",
     "output_type": "stream",
     "text": [
      "/group/jug/Sheida/maester_data/download/high_c1/data/test/high_c1_source_350.tif\n"
     ]
    },
    {
     "name": "stderr",
     "output_type": "stream",
     "text": [
      "/tmp/ipykernel_16347/581665560.py:15: DeprecationWarning: <tifffile.imsave> is deprecated. Use tifffile.imwrite\n",
      "  imsave(path+\"label/k = 8/\"+str(idx+1)+\"/\"+i[i.rfind(\"/\"):i.rfind(\".\")]+\".tif\", output.reshape(22*(2**(4-idx)), 24*(2**(4-idx))))\n"
     ]
    },
    {
     "name": "stdout",
     "output_type": "stream",
     "text": [
      "/group/jug/Sheida/maester_data/download/high_c1/data/test/high_c1_source_350.tif\n"
     ]
    },
    {
     "name": "stderr",
     "output_type": "stream",
     "text": [
      "/tmp/ipykernel_16347/581665560.py:15: DeprecationWarning: <tifffile.imsave> is deprecated. Use tifffile.imwrite\n",
      "  imsave(path+\"label/k = 8/\"+str(idx+1)+\"/\"+i[i.rfind(\"/\"):i.rfind(\".\")]+\".tif\", output.reshape(22*(2**(4-idx)), 24*(2**(4-idx))))\n"
     ]
    },
    {
     "name": "stdout",
     "output_type": "stream",
     "text": [
      "/group/jug/Sheida/maester_data/download/high_c1/data/test/high_c1_source_350.tif\n"
     ]
    },
    {
     "name": "stderr",
     "output_type": "stream",
     "text": [
      "/tmp/ipykernel_16347/581665560.py:15: DeprecationWarning: <tifffile.imsave> is deprecated. Use tifffile.imwrite\n",
      "  imsave(path+\"label/k = 8/\"+str(idx+1)+\"/\"+i[i.rfind(\"/\"):i.rfind(\".\")]+\".tif\", output.reshape(22*(2**(4-idx)), 24*(2**(4-idx))))\n"
     ]
    },
    {
     "name": "stdout",
     "output_type": "stream",
     "text": [
      "/group/jug/Sheida/maester_data/download/high_c1/data/test/high_c1_source_350.tif\n"
     ]
    },
    {
     "name": "stderr",
     "output_type": "stream",
     "text": [
      "/tmp/ipykernel_16347/581665560.py:15: DeprecationWarning: <tifffile.imsave> is deprecated. Use tifffile.imwrite\n",
      "  imsave(path+\"label/k = 8/\"+str(idx+1)+\"/\"+i[i.rfind(\"/\"):i.rfind(\".\")]+\".tif\", output.reshape(22*(2**(4-idx)), 24*(2**(4-idx))))\n"
     ]
    },
    {
     "name": "stdout",
     "output_type": "stream",
     "text": [
      "/group/jug/Sheida/maester_data/download/high_c1/data/test/high_c1_source_350.tif\n"
     ]
    },
    {
     "name": "stderr",
     "output_type": "stream",
     "text": [
      "/tmp/ipykernel_16347/581665560.py:15: DeprecationWarning: <tifffile.imsave> is deprecated. Use tifffile.imwrite\n",
      "  imsave(path+\"label/k = 8/\"+str(idx+1)+\"/\"+i[i.rfind(\"/\"):i.rfind(\".\")]+\".tif\", output.reshape(22*(2**(4-idx)), 24*(2**(4-idx))))\n"
     ]
    },
    {
     "name": "stdout",
     "output_type": "stream",
     "text": [
      "/group/jug/Sheida/maester_data/download/high_c1/data/test/high_c1_source_1043.tif\n"
     ]
    },
    {
     "name": "stderr",
     "output_type": "stream",
     "text": [
      "/tmp/ipykernel_16347/581665560.py:15: DeprecationWarning: <tifffile.imsave> is deprecated. Use tifffile.imwrite\n",
      "  imsave(path+\"label/k = 8/\"+str(idx+1)+\"/\"+i[i.rfind(\"/\"):i.rfind(\".\")]+\".tif\", output.reshape(22*(2**(4-idx)), 24*(2**(4-idx))))\n"
     ]
    },
    {
     "name": "stdout",
     "output_type": "stream",
     "text": [
      "/group/jug/Sheida/maester_data/download/high_c1/data/test/high_c1_source_1043.tif\n"
     ]
    },
    {
     "name": "stderr",
     "output_type": "stream",
     "text": [
      "/tmp/ipykernel_16347/581665560.py:15: DeprecationWarning: <tifffile.imsave> is deprecated. Use tifffile.imwrite\n",
      "  imsave(path+\"label/k = 8/\"+str(idx+1)+\"/\"+i[i.rfind(\"/\"):i.rfind(\".\")]+\".tif\", output.reshape(22*(2**(4-idx)), 24*(2**(4-idx))))\n"
     ]
    },
    {
     "name": "stdout",
     "output_type": "stream",
     "text": [
      "/group/jug/Sheida/maester_data/download/high_c1/data/test/high_c1_source_1043.tif\n"
     ]
    },
    {
     "name": "stderr",
     "output_type": "stream",
     "text": [
      "/tmp/ipykernel_16347/581665560.py:15: DeprecationWarning: <tifffile.imsave> is deprecated. Use tifffile.imwrite\n",
      "  imsave(path+\"label/k = 8/\"+str(idx+1)+\"/\"+i[i.rfind(\"/\"):i.rfind(\".\")]+\".tif\", output.reshape(22*(2**(4-idx)), 24*(2**(4-idx))))\n"
     ]
    },
    {
     "name": "stdout",
     "output_type": "stream",
     "text": [
      "/group/jug/Sheida/maester_data/download/high_c1/data/test/high_c1_source_1043.tif\n"
     ]
    },
    {
     "name": "stderr",
     "output_type": "stream",
     "text": [
      "/tmp/ipykernel_16347/581665560.py:15: DeprecationWarning: <tifffile.imsave> is deprecated. Use tifffile.imwrite\n",
      "  imsave(path+\"label/k = 8/\"+str(idx+1)+\"/\"+i[i.rfind(\"/\"):i.rfind(\".\")]+\".tif\", output.reshape(22*(2**(4-idx)), 24*(2**(4-idx))))\n"
     ]
    },
    {
     "name": "stdout",
     "output_type": "stream",
     "text": [
      "/group/jug/Sheida/maester_data/download/high_c1/data/test/high_c1_source_1043.tif\n"
     ]
    },
    {
     "name": "stderr",
     "output_type": "stream",
     "text": [
      "/tmp/ipykernel_16347/581665560.py:15: DeprecationWarning: <tifffile.imsave> is deprecated. Use tifffile.imwrite\n",
      "  imsave(path+\"label/k = 8/\"+str(idx+1)+\"/\"+i[i.rfind(\"/\"):i.rfind(\".\")]+\".tif\", output.reshape(22*(2**(4-idx)), 24*(2**(4-idx))))\n"
     ]
    },
    {
     "name": "stdout",
     "output_type": "stream",
     "text": [
      "/group/jug/Sheida/maester_data/download/high_c1/data/test/high_c1_source_469.tif\n"
     ]
    },
    {
     "name": "stderr",
     "output_type": "stream",
     "text": [
      "/tmp/ipykernel_16347/581665560.py:15: DeprecationWarning: <tifffile.imsave> is deprecated. Use tifffile.imwrite\n",
      "  imsave(path+\"label/k = 8/\"+str(idx+1)+\"/\"+i[i.rfind(\"/\"):i.rfind(\".\")]+\".tif\", output.reshape(22*(2**(4-idx)), 24*(2**(4-idx))))\n"
     ]
    },
    {
     "name": "stdout",
     "output_type": "stream",
     "text": [
      "/group/jug/Sheida/maester_data/download/high_c1/data/test/high_c1_source_469.tif\n"
     ]
    },
    {
     "name": "stderr",
     "output_type": "stream",
     "text": [
      "/tmp/ipykernel_16347/581665560.py:15: DeprecationWarning: <tifffile.imsave> is deprecated. Use tifffile.imwrite\n",
      "  imsave(path+\"label/k = 8/\"+str(idx+1)+\"/\"+i[i.rfind(\"/\"):i.rfind(\".\")]+\".tif\", output.reshape(22*(2**(4-idx)), 24*(2**(4-idx))))\n"
     ]
    },
    {
     "name": "stdout",
     "output_type": "stream",
     "text": [
      "/group/jug/Sheida/maester_data/download/high_c1/data/test/high_c1_source_469.tif\n"
     ]
    },
    {
     "name": "stderr",
     "output_type": "stream",
     "text": [
      "/tmp/ipykernel_16347/581665560.py:15: DeprecationWarning: <tifffile.imsave> is deprecated. Use tifffile.imwrite\n",
      "  imsave(path+\"label/k = 8/\"+str(idx+1)+\"/\"+i[i.rfind(\"/\"):i.rfind(\".\")]+\".tif\", output.reshape(22*(2**(4-idx)), 24*(2**(4-idx))))\n"
     ]
    },
    {
     "name": "stdout",
     "output_type": "stream",
     "text": [
      "/group/jug/Sheida/maester_data/download/high_c1/data/test/high_c1_source_469.tif\n"
     ]
    },
    {
     "name": "stderr",
     "output_type": "stream",
     "text": [
      "/tmp/ipykernel_16347/581665560.py:15: DeprecationWarning: <tifffile.imsave> is deprecated. Use tifffile.imwrite\n",
      "  imsave(path+\"label/k = 8/\"+str(idx+1)+\"/\"+i[i.rfind(\"/\"):i.rfind(\".\")]+\".tif\", output.reshape(22*(2**(4-idx)), 24*(2**(4-idx))))\n"
     ]
    },
    {
     "name": "stdout",
     "output_type": "stream",
     "text": [
      "/group/jug/Sheida/maester_data/download/high_c1/data/test/high_c1_source_469.tif\n"
     ]
    },
    {
     "name": "stderr",
     "output_type": "stream",
     "text": [
      "/tmp/ipykernel_16347/581665560.py:15: DeprecationWarning: <tifffile.imsave> is deprecated. Use tifffile.imwrite\n",
      "  imsave(path+\"label/k = 8/\"+str(idx+1)+\"/\"+i[i.rfind(\"/\"):i.rfind(\".\")]+\".tif\", output.reshape(22*(2**(4-idx)), 24*(2**(4-idx))))\n"
     ]
    },
    {
     "name": "stdout",
     "output_type": "stream",
     "text": [
      "/group/jug/Sheida/maester_data/download/high_c1/data/test/high_c1_source_1063.tif\n"
     ]
    },
    {
     "name": "stderr",
     "output_type": "stream",
     "text": [
      "/tmp/ipykernel_16347/581665560.py:15: DeprecationWarning: <tifffile.imsave> is deprecated. Use tifffile.imwrite\n",
      "  imsave(path+\"label/k = 8/\"+str(idx+1)+\"/\"+i[i.rfind(\"/\"):i.rfind(\".\")]+\".tif\", output.reshape(22*(2**(4-idx)), 24*(2**(4-idx))))\n"
     ]
    },
    {
     "name": "stdout",
     "output_type": "stream",
     "text": [
      "/group/jug/Sheida/maester_data/download/high_c1/data/test/high_c1_source_1063.tif\n"
     ]
    },
    {
     "name": "stderr",
     "output_type": "stream",
     "text": [
      "/tmp/ipykernel_16347/581665560.py:15: DeprecationWarning: <tifffile.imsave> is deprecated. Use tifffile.imwrite\n",
      "  imsave(path+\"label/k = 8/\"+str(idx+1)+\"/\"+i[i.rfind(\"/\"):i.rfind(\".\")]+\".tif\", output.reshape(22*(2**(4-idx)), 24*(2**(4-idx))))\n"
     ]
    },
    {
     "name": "stdout",
     "output_type": "stream",
     "text": [
      "/group/jug/Sheida/maester_data/download/high_c1/data/test/high_c1_source_1063.tif\n"
     ]
    },
    {
     "name": "stderr",
     "output_type": "stream",
     "text": [
      "/tmp/ipykernel_16347/581665560.py:15: DeprecationWarning: <tifffile.imsave> is deprecated. Use tifffile.imwrite\n",
      "  imsave(path+\"label/k = 8/\"+str(idx+1)+\"/\"+i[i.rfind(\"/\"):i.rfind(\".\")]+\".tif\", output.reshape(22*(2**(4-idx)), 24*(2**(4-idx))))\n"
     ]
    },
    {
     "name": "stdout",
     "output_type": "stream",
     "text": [
      "/group/jug/Sheida/maester_data/download/high_c1/data/test/high_c1_source_1063.tif\n"
     ]
    },
    {
     "name": "stderr",
     "output_type": "stream",
     "text": [
      "/tmp/ipykernel_16347/581665560.py:15: DeprecationWarning: <tifffile.imsave> is deprecated. Use tifffile.imwrite\n",
      "  imsave(path+\"label/k = 8/\"+str(idx+1)+\"/\"+i[i.rfind(\"/\"):i.rfind(\".\")]+\".tif\", output.reshape(22*(2**(4-idx)), 24*(2**(4-idx))))\n"
     ]
    },
    {
     "name": "stdout",
     "output_type": "stream",
     "text": [
      "/group/jug/Sheida/maester_data/download/high_c1/data/test/high_c1_source_1063.tif\n"
     ]
    },
    {
     "name": "stderr",
     "output_type": "stream",
     "text": [
      "/tmp/ipykernel_16347/581665560.py:15: DeprecationWarning: <tifffile.imsave> is deprecated. Use tifffile.imwrite\n",
      "  imsave(path+\"label/k = 8/\"+str(idx+1)+\"/\"+i[i.rfind(\"/\"):i.rfind(\".\")]+\".tif\", output.reshape(22*(2**(4-idx)), 24*(2**(4-idx))))\n"
     ]
    },
    {
     "name": "stdout",
     "output_type": "stream",
     "text": [
      "/group/jug/Sheida/maester_data/download/high_c1/data/test/high_c1_source_767.tif\n"
     ]
    },
    {
     "name": "stderr",
     "output_type": "stream",
     "text": [
      "/tmp/ipykernel_16347/581665560.py:15: DeprecationWarning: <tifffile.imsave> is deprecated. Use tifffile.imwrite\n",
      "  imsave(path+\"label/k = 8/\"+str(idx+1)+\"/\"+i[i.rfind(\"/\"):i.rfind(\".\")]+\".tif\", output.reshape(22*(2**(4-idx)), 24*(2**(4-idx))))\n"
     ]
    },
    {
     "name": "stdout",
     "output_type": "stream",
     "text": [
      "/group/jug/Sheida/maester_data/download/high_c1/data/test/high_c1_source_767.tif\n"
     ]
    },
    {
     "name": "stderr",
     "output_type": "stream",
     "text": [
      "/tmp/ipykernel_16347/581665560.py:15: DeprecationWarning: <tifffile.imsave> is deprecated. Use tifffile.imwrite\n",
      "  imsave(path+\"label/k = 8/\"+str(idx+1)+\"/\"+i[i.rfind(\"/\"):i.rfind(\".\")]+\".tif\", output.reshape(22*(2**(4-idx)), 24*(2**(4-idx))))\n"
     ]
    },
    {
     "name": "stdout",
     "output_type": "stream",
     "text": [
      "/group/jug/Sheida/maester_data/download/high_c1/data/test/high_c1_source_767.tif\n"
     ]
    },
    {
     "name": "stderr",
     "output_type": "stream",
     "text": [
      "/tmp/ipykernel_16347/581665560.py:15: DeprecationWarning: <tifffile.imsave> is deprecated. Use tifffile.imwrite\n",
      "  imsave(path+\"label/k = 8/\"+str(idx+1)+\"/\"+i[i.rfind(\"/\"):i.rfind(\".\")]+\".tif\", output.reshape(22*(2**(4-idx)), 24*(2**(4-idx))))\n"
     ]
    },
    {
     "name": "stdout",
     "output_type": "stream",
     "text": [
      "/group/jug/Sheida/maester_data/download/high_c1/data/test/high_c1_source_767.tif\n"
     ]
    },
    {
     "name": "stderr",
     "output_type": "stream",
     "text": [
      "/tmp/ipykernel_16347/581665560.py:15: DeprecationWarning: <tifffile.imsave> is deprecated. Use tifffile.imwrite\n",
      "  imsave(path+\"label/k = 8/\"+str(idx+1)+\"/\"+i[i.rfind(\"/\"):i.rfind(\".\")]+\".tif\", output.reshape(22*(2**(4-idx)), 24*(2**(4-idx))))\n"
     ]
    },
    {
     "name": "stdout",
     "output_type": "stream",
     "text": [
      "/group/jug/Sheida/maester_data/download/high_c1/data/test/high_c1_source_767.tif\n"
     ]
    },
    {
     "name": "stderr",
     "output_type": "stream",
     "text": [
      "/tmp/ipykernel_16347/581665560.py:15: DeprecationWarning: <tifffile.imsave> is deprecated. Use tifffile.imwrite\n",
      "  imsave(path+\"label/k = 8/\"+str(idx+1)+\"/\"+i[i.rfind(\"/\"):i.rfind(\".\")]+\".tif\", output.reshape(22*(2**(4-idx)), 24*(2**(4-idx))))\n"
     ]
    },
    {
     "name": "stdout",
     "output_type": "stream",
     "text": [
      "/group/jug/Sheida/maester_data/download/high_c1/data/test/high_c1_source_1093.tif\n"
     ]
    },
    {
     "name": "stderr",
     "output_type": "stream",
     "text": [
      "/tmp/ipykernel_16347/581665560.py:15: DeprecationWarning: <tifffile.imsave> is deprecated. Use tifffile.imwrite\n",
      "  imsave(path+\"label/k = 8/\"+str(idx+1)+\"/\"+i[i.rfind(\"/\"):i.rfind(\".\")]+\".tif\", output.reshape(22*(2**(4-idx)), 24*(2**(4-idx))))\n"
     ]
    },
    {
     "name": "stdout",
     "output_type": "stream",
     "text": [
      "/group/jug/Sheida/maester_data/download/high_c1/data/test/high_c1_source_1093.tif\n"
     ]
    },
    {
     "name": "stderr",
     "output_type": "stream",
     "text": [
      "/tmp/ipykernel_16347/581665560.py:15: DeprecationWarning: <tifffile.imsave> is deprecated. Use tifffile.imwrite\n",
      "  imsave(path+\"label/k = 8/\"+str(idx+1)+\"/\"+i[i.rfind(\"/\"):i.rfind(\".\")]+\".tif\", output.reshape(22*(2**(4-idx)), 24*(2**(4-idx))))\n"
     ]
    },
    {
     "name": "stdout",
     "output_type": "stream",
     "text": [
      "/group/jug/Sheida/maester_data/download/high_c1/data/test/high_c1_source_1093.tif\n"
     ]
    },
    {
     "name": "stderr",
     "output_type": "stream",
     "text": [
      "/tmp/ipykernel_16347/581665560.py:15: DeprecationWarning: <tifffile.imsave> is deprecated. Use tifffile.imwrite\n",
      "  imsave(path+\"label/k = 8/\"+str(idx+1)+\"/\"+i[i.rfind(\"/\"):i.rfind(\".\")]+\".tif\", output.reshape(22*(2**(4-idx)), 24*(2**(4-idx))))\n"
     ]
    },
    {
     "name": "stdout",
     "output_type": "stream",
     "text": [
      "/group/jug/Sheida/maester_data/download/high_c1/data/test/high_c1_source_1093.tif\n"
     ]
    },
    {
     "name": "stderr",
     "output_type": "stream",
     "text": [
      "/tmp/ipykernel_16347/581665560.py:15: DeprecationWarning: <tifffile.imsave> is deprecated. Use tifffile.imwrite\n",
      "  imsave(path+\"label/k = 8/\"+str(idx+1)+\"/\"+i[i.rfind(\"/\"):i.rfind(\".\")]+\".tif\", output.reshape(22*(2**(4-idx)), 24*(2**(4-idx))))\n"
     ]
    },
    {
     "name": "stdout",
     "output_type": "stream",
     "text": [
      "/group/jug/Sheida/maester_data/download/high_c1/data/test/high_c1_source_1093.tif\n"
     ]
    },
    {
     "name": "stderr",
     "output_type": "stream",
     "text": [
      "/tmp/ipykernel_16347/581665560.py:15: DeprecationWarning: <tifffile.imsave> is deprecated. Use tifffile.imwrite\n",
      "  imsave(path+\"label/k = 8/\"+str(idx+1)+\"/\"+i[i.rfind(\"/\"):i.rfind(\".\")]+\".tif\", output.reshape(22*(2**(4-idx)), 24*(2**(4-idx))))\n"
     ]
    },
    {
     "name": "stdout",
     "output_type": "stream",
     "text": [
      "/group/jug/Sheida/maester_data/download/high_c1/data/test/high_c1_source_31.tif\n"
     ]
    },
    {
     "name": "stderr",
     "output_type": "stream",
     "text": [
      "/tmp/ipykernel_16347/581665560.py:15: DeprecationWarning: <tifffile.imsave> is deprecated. Use tifffile.imwrite\n",
      "  imsave(path+\"label/k = 8/\"+str(idx+1)+\"/\"+i[i.rfind(\"/\"):i.rfind(\".\")]+\".tif\", output.reshape(22*(2**(4-idx)), 24*(2**(4-idx))))\n"
     ]
    },
    {
     "name": "stdout",
     "output_type": "stream",
     "text": [
      "/group/jug/Sheida/maester_data/download/high_c1/data/test/high_c1_source_31.tif\n"
     ]
    },
    {
     "name": "stderr",
     "output_type": "stream",
     "text": [
      "/tmp/ipykernel_16347/581665560.py:15: DeprecationWarning: <tifffile.imsave> is deprecated. Use tifffile.imwrite\n",
      "  imsave(path+\"label/k = 8/\"+str(idx+1)+\"/\"+i[i.rfind(\"/\"):i.rfind(\".\")]+\".tif\", output.reshape(22*(2**(4-idx)), 24*(2**(4-idx))))\n"
     ]
    },
    {
     "name": "stdout",
     "output_type": "stream",
     "text": [
      "/group/jug/Sheida/maester_data/download/high_c1/data/test/high_c1_source_31.tif\n"
     ]
    },
    {
     "name": "stderr",
     "output_type": "stream",
     "text": [
      "/tmp/ipykernel_16347/581665560.py:15: DeprecationWarning: <tifffile.imsave> is deprecated. Use tifffile.imwrite\n",
      "  imsave(path+\"label/k = 8/\"+str(idx+1)+\"/\"+i[i.rfind(\"/\"):i.rfind(\".\")]+\".tif\", output.reshape(22*(2**(4-idx)), 24*(2**(4-idx))))\n"
     ]
    },
    {
     "name": "stdout",
     "output_type": "stream",
     "text": [
      "/group/jug/Sheida/maester_data/download/high_c1/data/test/high_c1_source_31.tif\n"
     ]
    },
    {
     "name": "stderr",
     "output_type": "stream",
     "text": [
      "/tmp/ipykernel_16347/581665560.py:15: DeprecationWarning: <tifffile.imsave> is deprecated. Use tifffile.imwrite\n",
      "  imsave(path+\"label/k = 8/\"+str(idx+1)+\"/\"+i[i.rfind(\"/\"):i.rfind(\".\")]+\".tif\", output.reshape(22*(2**(4-idx)), 24*(2**(4-idx))))\n"
     ]
    },
    {
     "name": "stdout",
     "output_type": "stream",
     "text": [
      "/group/jug/Sheida/maester_data/download/high_c1/data/test/high_c1_source_31.tif\n"
     ]
    },
    {
     "name": "stderr",
     "output_type": "stream",
     "text": [
      "/tmp/ipykernel_16347/581665560.py:15: DeprecationWarning: <tifffile.imsave> is deprecated. Use tifffile.imwrite\n",
      "  imsave(path+\"label/k = 8/\"+str(idx+1)+\"/\"+i[i.rfind(\"/\"):i.rfind(\".\")]+\".tif\", output.reshape(22*(2**(4-idx)), 24*(2**(4-idx))))\n"
     ]
    },
    {
     "name": "stdout",
     "output_type": "stream",
     "text": [
      "/group/jug/Sheida/maester_data/download/high_c1/data/test/high_c1_source_367.tif\n"
     ]
    },
    {
     "name": "stderr",
     "output_type": "stream",
     "text": [
      "/tmp/ipykernel_16347/581665560.py:15: DeprecationWarning: <tifffile.imsave> is deprecated. Use tifffile.imwrite\n",
      "  imsave(path+\"label/k = 8/\"+str(idx+1)+\"/\"+i[i.rfind(\"/\"):i.rfind(\".\")]+\".tif\", output.reshape(22*(2**(4-idx)), 24*(2**(4-idx))))\n"
     ]
    },
    {
     "name": "stdout",
     "output_type": "stream",
     "text": [
      "/group/jug/Sheida/maester_data/download/high_c1/data/test/high_c1_source_367.tif\n"
     ]
    },
    {
     "name": "stderr",
     "output_type": "stream",
     "text": [
      "/tmp/ipykernel_16347/581665560.py:15: DeprecationWarning: <tifffile.imsave> is deprecated. Use tifffile.imwrite\n",
      "  imsave(path+\"label/k = 8/\"+str(idx+1)+\"/\"+i[i.rfind(\"/\"):i.rfind(\".\")]+\".tif\", output.reshape(22*(2**(4-idx)), 24*(2**(4-idx))))\n"
     ]
    },
    {
     "name": "stdout",
     "output_type": "stream",
     "text": [
      "/group/jug/Sheida/maester_data/download/high_c1/data/test/high_c1_source_367.tif\n"
     ]
    },
    {
     "name": "stderr",
     "output_type": "stream",
     "text": [
      "/tmp/ipykernel_16347/581665560.py:15: DeprecationWarning: <tifffile.imsave> is deprecated. Use tifffile.imwrite\n",
      "  imsave(path+\"label/k = 8/\"+str(idx+1)+\"/\"+i[i.rfind(\"/\"):i.rfind(\".\")]+\".tif\", output.reshape(22*(2**(4-idx)), 24*(2**(4-idx))))\n"
     ]
    },
    {
     "name": "stdout",
     "output_type": "stream",
     "text": [
      "/group/jug/Sheida/maester_data/download/high_c1/data/test/high_c1_source_367.tif\n"
     ]
    },
    {
     "name": "stderr",
     "output_type": "stream",
     "text": [
      "/tmp/ipykernel_16347/581665560.py:15: DeprecationWarning: <tifffile.imsave> is deprecated. Use tifffile.imwrite\n",
      "  imsave(path+\"label/k = 8/\"+str(idx+1)+\"/\"+i[i.rfind(\"/\"):i.rfind(\".\")]+\".tif\", output.reshape(22*(2**(4-idx)), 24*(2**(4-idx))))\n"
     ]
    },
    {
     "name": "stdout",
     "output_type": "stream",
     "text": [
      "/group/jug/Sheida/maester_data/download/high_c1/data/test/high_c1_source_367.tif\n"
     ]
    },
    {
     "name": "stderr",
     "output_type": "stream",
     "text": [
      "/tmp/ipykernel_16347/581665560.py:15: DeprecationWarning: <tifffile.imsave> is deprecated. Use tifffile.imwrite\n",
      "  imsave(path+\"label/k = 8/\"+str(idx+1)+\"/\"+i[i.rfind(\"/\"):i.rfind(\".\")]+\".tif\", output.reshape(22*(2**(4-idx)), 24*(2**(4-idx))))\n"
     ]
    },
    {
     "name": "stdout",
     "output_type": "stream",
     "text": [
      "/group/jug/Sheida/maester_data/download/high_c1/data/test/high_c1_source_821.tif\n"
     ]
    },
    {
     "name": "stderr",
     "output_type": "stream",
     "text": [
      "/tmp/ipykernel_16347/581665560.py:15: DeprecationWarning: <tifffile.imsave> is deprecated. Use tifffile.imwrite\n",
      "  imsave(path+\"label/k = 8/\"+str(idx+1)+\"/\"+i[i.rfind(\"/\"):i.rfind(\".\")]+\".tif\", output.reshape(22*(2**(4-idx)), 24*(2**(4-idx))))\n"
     ]
    },
    {
     "name": "stdout",
     "output_type": "stream",
     "text": [
      "/group/jug/Sheida/maester_data/download/high_c1/data/test/high_c1_source_821.tif\n"
     ]
    },
    {
     "name": "stderr",
     "output_type": "stream",
     "text": [
      "/tmp/ipykernel_16347/581665560.py:15: DeprecationWarning: <tifffile.imsave> is deprecated. Use tifffile.imwrite\n",
      "  imsave(path+\"label/k = 8/\"+str(idx+1)+\"/\"+i[i.rfind(\"/\"):i.rfind(\".\")]+\".tif\", output.reshape(22*(2**(4-idx)), 24*(2**(4-idx))))\n"
     ]
    },
    {
     "name": "stdout",
     "output_type": "stream",
     "text": [
      "/group/jug/Sheida/maester_data/download/high_c1/data/test/high_c1_source_821.tif\n"
     ]
    },
    {
     "name": "stderr",
     "output_type": "stream",
     "text": [
      "/tmp/ipykernel_16347/581665560.py:15: DeprecationWarning: <tifffile.imsave> is deprecated. Use tifffile.imwrite\n",
      "  imsave(path+\"label/k = 8/\"+str(idx+1)+\"/\"+i[i.rfind(\"/\"):i.rfind(\".\")]+\".tif\", output.reshape(22*(2**(4-idx)), 24*(2**(4-idx))))\n"
     ]
    },
    {
     "name": "stdout",
     "output_type": "stream",
     "text": [
      "/group/jug/Sheida/maester_data/download/high_c1/data/test/high_c1_source_821.tif\n"
     ]
    },
    {
     "name": "stderr",
     "output_type": "stream",
     "text": [
      "/tmp/ipykernel_16347/581665560.py:15: DeprecationWarning: <tifffile.imsave> is deprecated. Use tifffile.imwrite\n",
      "  imsave(path+\"label/k = 8/\"+str(idx+1)+\"/\"+i[i.rfind(\"/\"):i.rfind(\".\")]+\".tif\", output.reshape(22*(2**(4-idx)), 24*(2**(4-idx))))\n"
     ]
    },
    {
     "name": "stdout",
     "output_type": "stream",
     "text": [
      "/group/jug/Sheida/maester_data/download/high_c1/data/test/high_c1_source_821.tif\n"
     ]
    },
    {
     "name": "stderr",
     "output_type": "stream",
     "text": [
      "/tmp/ipykernel_16347/581665560.py:15: DeprecationWarning: <tifffile.imsave> is deprecated. Use tifffile.imwrite\n",
      "  imsave(path+\"label/k = 8/\"+str(idx+1)+\"/\"+i[i.rfind(\"/\"):i.rfind(\".\")]+\".tif\", output.reshape(22*(2**(4-idx)), 24*(2**(4-idx))))\n"
     ]
    }
   ],
   "source": [
    "files = glob(path+\"data/test/*.tif\")\n",
    "\n",
    "img_height,img_width = 699, 760\n",
    "for i in files:\n",
    "    img = imread(i)\n",
    "    img_t = get_normalized_tensor(img,model,device)\n",
    "    image_sample = img_t.view(1,1,img_height,img_width)\n",
    "    image_sample = image_sample.to(device=device, dtype=torch.float)\n",
    "    with torch.no_grad():\n",
    "        sample = model(image_sample)\n",
    "        for idx in range(len(sample['mu'])):\n",
    "            mu = sample['mu'][idx][0].cpu().numpy()\n",
    "            output = clustering(idx, mu)\n",
    "            print(i)\n",
    "            imsave(path+\"label/k = 8/\"+str(idx+1)+\"/\"+i[i.rfind(\"/\"):i.rfind(\".\")]+\".tif\", output.reshape(22*(2**(4-idx)), 24*(2**(4-idx))))\n"
   ]
  }
 ],
 "metadata": {
  "kernelspec": {
   "display_name": "Python 3",
   "language": "python",
   "name": "python3"
  },
  "language_info": {
   "codemirror_mode": {
    "name": "ipython",
    "version": 3
   },
   "file_extension": ".py",
   "mimetype": "text/x-python",
   "name": "python",
   "nbconvert_exporter": "python",
   "pygments_lexer": "ipython3",
   "version": "3.9.18"
  }
 },
 "nbformat": 4,
 "nbformat_minor": 4
}
