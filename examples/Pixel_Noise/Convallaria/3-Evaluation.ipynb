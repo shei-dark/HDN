{
 "cells": [
  {
   "cell_type": "code",
   "execution_count": null,
   "metadata": {
    "collapsed": true
   },
   "outputs": [],
   "source": [
    "import sys\n",
    "sys.path.append('../../../')\n",
    "import torch\n",
    "from matplotlib import pyplot as plt\n",
    "from tifffile import imread, imsave\n",
    "from sklearn.cluster import KMeans\n",
    "import numpy as np\n",
    "from glob import glob"
   ]
  },
  {
   "cell_type": "code",
   "execution_count": null,
   "metadata": {},
   "outputs": [],
   "source": [
    "use_cuda = torch.cuda.is_available()\n",
    "device = torch.device(\"cuda\" if use_cuda else \"cpu\")"
   ]
  },
  {
   "cell_type": "code",
   "execution_count": null,
   "metadata": {},
   "outputs": [],
   "source": [
    "path=\"/group/jug/Sheida/maester_data/download/high_c1/\"\n",
    "patch_size = 64\n",
    "# model = torch.load(\"/group/jug/Sheida/HDN models/*.net\")\n",
    "model = torch.load(\"/home/sheida.rahnamai/GIT/HDN/examples/Pixel_Noise/Convallaria/Trained_model/model/HDN Muller_best_vae.net\")\n",
    "model.mode_pred=True\n",
    "model.eval()\n",
    "model.to(device)"
   ]
  },
  {
   "cell_type": "code",
   "execution_count": null,
   "metadata": {},
   "outputs": [],
   "source": [
    "def clustering(idx, mu):\n",
    "    slice_features_mu = mu.astype(float)\n",
    "    feature_flatten_mu = slice_features_mu.reshape(32, -1).T\n",
    "    # feature_flatten_mu = slice_features_mu.reshape(32*(2**idx), -1).T\n",
    "    # if idx == 0 or idx == 1 or idx == 2:\n",
    "    #     feature_flatten_mu = slice_features_mu.reshape(32, -1).T\n",
    "    # elif idx == 3 or idx == 4:\n",
    "    #     feature_flatten_mu = slice_features_mu.reshape(64, -1).T\n",
    "    K_CENTRE = 2\n",
    "    kmeans_mu = KMeans(\n",
    "        n_clusters=K_CENTRE, init='k-means++', n_init=10,\n",
    "        max_iter=1000, random_state=777\n",
    "    )\n",
    "    kmeans_mu.fit(feature_flatten_mu)\n",
    "    labels_mu = kmeans_mu.predict(feature_flatten_mu)\n",
    "    return labels_mu"
   ]
  },
  {
   "cell_type": "code",
   "execution_count": null,
   "metadata": {},
   "outputs": [],
   "source": [
    "def get_normalized_tensor(img,model,device):\n",
    "    '''\n",
    "    Normalizes tensor with mean and std.\n",
    "    Parameters\n",
    "    ----------\n",
    "    img: array\n",
    "        Image.\n",
    "    model: Hierarchical DivNoising model\n",
    "    device: GPU device.\n",
    "    '''\n",
    "    test_images = torch.from_numpy(img.copy()).to(device)\n",
    "    data_mean = model.data_mean\n",
    "    data_std = model.data_std\n",
    "    test_images = (test_images-data_mean)/data_std\n",
    "    return test_images"
   ]
  },
  {
   "cell_type": "code",
   "execution_count": null,
   "metadata": {},
   "outputs": [],
   "source": [
    "files = sorted(glob(path+\"data/test/*.tif\"))\n",
    "\n",
    "img_height,img_width = 699, 760\n",
    "for i in files:\n",
    "    img = imread(i)\n",
    "    img_t = get_normalized_tensor(img,model,device)\n",
    "    image_sample = img_t.view(1,1,img_height,img_width)\n",
    "    image_sample = image_sample.to(device=device, dtype=torch.float)\n",
    "    with torch.no_grad():\n",
    "        sample = model(image_sample)\n",
    "        for idx in range(len(sample['mu'])):\n",
    "            mu = sample['mu'][idx][0].cpu().numpy()\n",
    "            output = clustering(idx, mu)\n",
    "            print(i)\n",
    "            imsave(path+\"label/\"+str(idx+1)+\"/\"+i[i.rfind(\"/\"):i.rfind(\".\")]+\".tif\", output.reshape(22*(2**(4-idx)), 24*(2**(4-idx))))\n"
   ]
  }
 ],
 "metadata": {
  "kernelspec": {
   "display_name": "Python 3",
   "language": "python",
   "name": "python3"
  },
  "language_info": {
   "codemirror_mode": {
    "name": "ipython",
    "version": 3
   },
   "file_extension": ".py",
   "mimetype": "text/x-python",
   "name": "python",
   "nbconvert_exporter": "python",
   "pygments_lexer": "ipython3",
   "version": "3.9.18"
  }
 },
 "nbformat": 4,
 "nbformat_minor": 4
}
