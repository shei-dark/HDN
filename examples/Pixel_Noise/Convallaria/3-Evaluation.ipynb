{
 "cells": [
  {
   "cell_type": "code",
   "execution_count": 3,
   "metadata": {},
   "outputs": [],
   "source": [
    "import sys\n",
    "sys.path.append('../../../')\n",
    "import torch\n",
    "from matplotlib import pyplot as plt\n",
    "from tifffile import imread, imwrite\n",
    "from sklearn.cluster import KMeans\n",
    "import numpy as np\n",
    "from glob import glob\n",
    "from tqdm import tqdm\n",
    "import pandas as pd\n",
    "import seaborn as sns"
   ]
  },
  {
   "cell_type": "code",
   "execution_count": 4,
   "metadata": {},
   "outputs": [],
   "source": [
    "use_cuda = torch.cuda.is_available()\n",
    "device = torch.device(\"cuda\" if use_cuda else \"cpu\")"
   ]
  },
  {
   "cell_type": "code",
   "execution_count": 5,
   "metadata": {},
   "outputs": [
    {
     "data": {
      "text/plain": [
       "LadderVAE(\n",
       "  (first_bottom_up): Sequential(\n",
       "    (0): Conv2d(1, 64, kernel_size=(5, 5), stride=(1, 1), padding=(2, 2))\n",
       "    (1): ELU(alpha=1.0)\n",
       "    (2): BottomUpDeterministicResBlock(\n",
       "      (res): ResidualBlock(\n",
       "        (block): Sequential(\n",
       "          (0): BatchNorm2d(64, eps=1e-05, momentum=0.1, affine=True, track_running_stats=True)\n",
       "          (1): ELU(alpha=1.0)\n",
       "          (2): Conv2d(64, 64, kernel_size=(3, 3), stride=(1, 1), padding=(1, 1))\n",
       "          (3): Dropout2d(p=0.2, inplace=False)\n",
       "          (4): BatchNorm2d(64, eps=1e-05, momentum=0.1, affine=True, track_running_stats=True)\n",
       "          (5): ELU(alpha=1.0)\n",
       "          (6): Conv2d(64, 64, kernel_size=(3, 3), stride=(1, 1), padding=(1, 1))\n",
       "          (7): Dropout2d(p=0.2, inplace=False)\n",
       "        )\n",
       "      )\n",
       "    )\n",
       "  )\n",
       "  (top_down_layers): ModuleList(\n",
       "    (0-1): 2 x TopDownLayer(\n",
       "      (deterministic_block): Sequential(\n",
       "        (0): TopDownDeterministicResBlock(\n",
       "          (pre_conv): ConvTranspose2d(64, 64, kernel_size=(3, 3), stride=(2, 2), padding=(1, 1), output_padding=(1, 1))\n",
       "          (res): ResidualBlock(\n",
       "            (block): Sequential(\n",
       "              (0): BatchNorm2d(64, eps=1e-05, momentum=0.1, affine=True, track_running_stats=True)\n",
       "              (1): ELU(alpha=1.0)\n",
       "              (2): Conv2d(64, 64, kernel_size=(3, 3), stride=(1, 1), padding=(1, 1))\n",
       "              (3): Dropout2d(p=0.2, inplace=False)\n",
       "              (4): BatchNorm2d(64, eps=1e-05, momentum=0.1, affine=True, track_running_stats=True)\n",
       "              (5): ELU(alpha=1.0)\n",
       "              (6): Conv2d(64, 64, kernel_size=(3, 3), stride=(1, 1), padding=(1, 1))\n",
       "              (7): Dropout2d(p=0.2, inplace=False)\n",
       "              (8): GateLayer2d(\n",
       "                (conv): Conv2d(64, 128, kernel_size=(1, 1), stride=(1, 1))\n",
       "                (nonlin): ELU(alpha=1.0)\n",
       "              )\n",
       "            )\n",
       "          )\n",
       "        )\n",
       "        (1): TopDownDeterministicResBlock(\n",
       "          (res): ResidualBlock(\n",
       "            (block): Sequential(\n",
       "              (0): BatchNorm2d(64, eps=1e-05, momentum=0.1, affine=True, track_running_stats=True)\n",
       "              (1): ELU(alpha=1.0)\n",
       "              (2): Conv2d(64, 64, kernel_size=(3, 3), stride=(1, 1), padding=(1, 1))\n",
       "              (3): Dropout2d(p=0.2, inplace=False)\n",
       "              (4): BatchNorm2d(64, eps=1e-05, momentum=0.1, affine=True, track_running_stats=True)\n",
       "              (5): ELU(alpha=1.0)\n",
       "              (6): Conv2d(64, 64, kernel_size=(3, 3), stride=(1, 1), padding=(1, 1))\n",
       "              (7): Dropout2d(p=0.2, inplace=False)\n",
       "              (8): GateLayer2d(\n",
       "                (conv): Conv2d(64, 128, kernel_size=(1, 1), stride=(1, 1))\n",
       "                (nonlin): ELU(alpha=1.0)\n",
       "              )\n",
       "            )\n",
       "          )\n",
       "        )\n",
       "        (2): TopDownDeterministicResBlock(\n",
       "          (res): ResidualBlock(\n",
       "            (block): Sequential(\n",
       "              (0): BatchNorm2d(64, eps=1e-05, momentum=0.1, affine=True, track_running_stats=True)\n",
       "              (1): ELU(alpha=1.0)\n",
       "              (2): Conv2d(64, 64, kernel_size=(3, 3), stride=(1, 1), padding=(1, 1))\n",
       "              (3): Dropout2d(p=0.2, inplace=False)\n",
       "              (4): BatchNorm2d(64, eps=1e-05, momentum=0.1, affine=True, track_running_stats=True)\n",
       "              (5): ELU(alpha=1.0)\n",
       "              (6): Conv2d(64, 64, kernel_size=(3, 3), stride=(1, 1), padding=(1, 1))\n",
       "              (7): Dropout2d(p=0.2, inplace=False)\n",
       "              (8): GateLayer2d(\n",
       "                (conv): Conv2d(64, 128, kernel_size=(1, 1), stride=(1, 1))\n",
       "                (nonlin): ELU(alpha=1.0)\n",
       "              )\n",
       "            )\n",
       "          )\n",
       "        )\n",
       "        (3): TopDownDeterministicResBlock(\n",
       "          (res): ResidualBlock(\n",
       "            (block): Sequential(\n",
       "              (0): BatchNorm2d(64, eps=1e-05, momentum=0.1, affine=True, track_running_stats=True)\n",
       "              (1): ELU(alpha=1.0)\n",
       "              (2): Conv2d(64, 64, kernel_size=(3, 3), stride=(1, 1), padding=(1, 1))\n",
       "              (3): Dropout2d(p=0.2, inplace=False)\n",
       "              (4): BatchNorm2d(64, eps=1e-05, momentum=0.1, affine=True, track_running_stats=True)\n",
       "              (5): ELU(alpha=1.0)\n",
       "              (6): Conv2d(64, 64, kernel_size=(3, 3), stride=(1, 1), padding=(1, 1))\n",
       "              (7): Dropout2d(p=0.2, inplace=False)\n",
       "              (8): GateLayer2d(\n",
       "                (conv): Conv2d(64, 128, kernel_size=(1, 1), stride=(1, 1))\n",
       "                (nonlin): ELU(alpha=1.0)\n",
       "              )\n",
       "            )\n",
       "          )\n",
       "        )\n",
       "        (4): TopDownDeterministicResBlock(\n",
       "          (res): ResidualBlock(\n",
       "            (block): Sequential(\n",
       "              (0): BatchNorm2d(64, eps=1e-05, momentum=0.1, affine=True, track_running_stats=True)\n",
       "              (1): ELU(alpha=1.0)\n",
       "              (2): Conv2d(64, 64, kernel_size=(3, 3), stride=(1, 1), padding=(1, 1))\n",
       "              (3): Dropout2d(p=0.2, inplace=False)\n",
       "              (4): BatchNorm2d(64, eps=1e-05, momentum=0.1, affine=True, track_running_stats=True)\n",
       "              (5): ELU(alpha=1.0)\n",
       "              (6): Conv2d(64, 64, kernel_size=(3, 3), stride=(1, 1), padding=(1, 1))\n",
       "              (7): Dropout2d(p=0.2, inplace=False)\n",
       "              (8): GateLayer2d(\n",
       "                (conv): Conv2d(64, 128, kernel_size=(1, 1), stride=(1, 1))\n",
       "                (nonlin): ELU(alpha=1.0)\n",
       "              )\n",
       "            )\n",
       "          )\n",
       "        )\n",
       "      )\n",
       "      (stochastic): NormalStochasticBlock2d(\n",
       "        (conv_in_p): Conv2d(64, 64, kernel_size=(3, 3), stride=(1, 1), padding=(1, 1))\n",
       "        (conv_in_q): Conv2d(64, 64, kernel_size=(3, 3), stride=(1, 1), padding=(1, 1))\n",
       "        (conv_out): Conv2d(32, 64, kernel_size=(3, 3), stride=(1, 1), padding=(1, 1))\n",
       "      )\n",
       "      (merge): MergeLayer(\n",
       "        (layer): Sequential(\n",
       "          (0): Conv2d(128, 64, kernel_size=(1, 1), stride=(1, 1))\n",
       "          (1): ResidualGatedBlock(\n",
       "            (block): Sequential(\n",
       "              (0): BatchNorm2d(64, eps=1e-05, momentum=0.1, affine=True, track_running_stats=True)\n",
       "              (1): ELU(alpha=1.0)\n",
       "              (2): Conv2d(64, 64, kernel_size=(3, 3), stride=(1, 1), padding=(1, 1))\n",
       "              (3): Dropout2d(p=0.2, inplace=False)\n",
       "              (4): BatchNorm2d(64, eps=1e-05, momentum=0.1, affine=True, track_running_stats=True)\n",
       "              (5): ELU(alpha=1.0)\n",
       "              (6): Conv2d(64, 64, kernel_size=(3, 3), stride=(1, 1), padding=(1, 1))\n",
       "              (7): Dropout2d(p=0.2, inplace=False)\n",
       "              (8): GateLayer2d(\n",
       "                (conv): Conv2d(64, 128, kernel_size=(1, 1), stride=(1, 1))\n",
       "                (nonlin): ELU(alpha=1.0)\n",
       "              )\n",
       "            )\n",
       "          )\n",
       "        )\n",
       "      )\n",
       "      (skip_connection_merger): SkipConnectionMerger(\n",
       "        (layer): Sequential(\n",
       "          (0): Conv2d(128, 64, kernel_size=(1, 1), stride=(1, 1))\n",
       "          (1): ResidualGatedBlock(\n",
       "            (block): Sequential(\n",
       "              (0): BatchNorm2d(64, eps=1e-05, momentum=0.1, affine=True, track_running_stats=True)\n",
       "              (1): ELU(alpha=1.0)\n",
       "              (2): Conv2d(64, 64, kernel_size=(3, 3), stride=(1, 1), padding=(1, 1))\n",
       "              (3): Dropout2d(p=0.2, inplace=False)\n",
       "              (4): BatchNorm2d(64, eps=1e-05, momentum=0.1, affine=True, track_running_stats=True)\n",
       "              (5): ELU(alpha=1.0)\n",
       "              (6): Conv2d(64, 64, kernel_size=(3, 3), stride=(1, 1), padding=(1, 1))\n",
       "              (7): Dropout2d(p=0.2, inplace=False)\n",
       "              (8): GateLayer2d(\n",
       "                (conv): Conv2d(64, 128, kernel_size=(1, 1), stride=(1, 1))\n",
       "                (nonlin): ELU(alpha=1.0)\n",
       "              )\n",
       "            )\n",
       "          )\n",
       "        )\n",
       "      )\n",
       "    )\n",
       "    (2): TopDownLayer(\n",
       "      (deterministic_block): Sequential(\n",
       "        (0): TopDownDeterministicResBlock(\n",
       "          (pre_conv): ConvTranspose2d(64, 64, kernel_size=(3, 3), stride=(2, 2), padding=(1, 1), output_padding=(1, 1))\n",
       "          (res): ResidualBlock(\n",
       "            (block): Sequential(\n",
       "              (0): BatchNorm2d(64, eps=1e-05, momentum=0.1, affine=True, track_running_stats=True)\n",
       "              (1): ELU(alpha=1.0)\n",
       "              (2): Conv2d(64, 64, kernel_size=(3, 3), stride=(1, 1), padding=(1, 1))\n",
       "              (3): Dropout2d(p=0.2, inplace=False)\n",
       "              (4): BatchNorm2d(64, eps=1e-05, momentum=0.1, affine=True, track_running_stats=True)\n",
       "              (5): ELU(alpha=1.0)\n",
       "              (6): Conv2d(64, 64, kernel_size=(3, 3), stride=(1, 1), padding=(1, 1))\n",
       "              (7): Dropout2d(p=0.2, inplace=False)\n",
       "              (8): GateLayer2d(\n",
       "                (conv): Conv2d(64, 128, kernel_size=(1, 1), stride=(1, 1))\n",
       "                (nonlin): ELU(alpha=1.0)\n",
       "              )\n",
       "            )\n",
       "          )\n",
       "        )\n",
       "        (1): TopDownDeterministicResBlock(\n",
       "          (res): ResidualBlock(\n",
       "            (block): Sequential(\n",
       "              (0): BatchNorm2d(64, eps=1e-05, momentum=0.1, affine=True, track_running_stats=True)\n",
       "              (1): ELU(alpha=1.0)\n",
       "              (2): Conv2d(64, 64, kernel_size=(3, 3), stride=(1, 1), padding=(1, 1))\n",
       "              (3): Dropout2d(p=0.2, inplace=False)\n",
       "              (4): BatchNorm2d(64, eps=1e-05, momentum=0.1, affine=True, track_running_stats=True)\n",
       "              (5): ELU(alpha=1.0)\n",
       "              (6): Conv2d(64, 64, kernel_size=(3, 3), stride=(1, 1), padding=(1, 1))\n",
       "              (7): Dropout2d(p=0.2, inplace=False)\n",
       "              (8): GateLayer2d(\n",
       "                (conv): Conv2d(64, 128, kernel_size=(1, 1), stride=(1, 1))\n",
       "                (nonlin): ELU(alpha=1.0)\n",
       "              )\n",
       "            )\n",
       "          )\n",
       "        )\n",
       "        (2): TopDownDeterministicResBlock(\n",
       "          (res): ResidualBlock(\n",
       "            (block): Sequential(\n",
       "              (0): BatchNorm2d(64, eps=1e-05, momentum=0.1, affine=True, track_running_stats=True)\n",
       "              (1): ELU(alpha=1.0)\n",
       "              (2): Conv2d(64, 64, kernel_size=(3, 3), stride=(1, 1), padding=(1, 1))\n",
       "              (3): Dropout2d(p=0.2, inplace=False)\n",
       "              (4): BatchNorm2d(64, eps=1e-05, momentum=0.1, affine=True, track_running_stats=True)\n",
       "              (5): ELU(alpha=1.0)\n",
       "              (6): Conv2d(64, 64, kernel_size=(3, 3), stride=(1, 1), padding=(1, 1))\n",
       "              (7): Dropout2d(p=0.2, inplace=False)\n",
       "              (8): GateLayer2d(\n",
       "                (conv): Conv2d(64, 128, kernel_size=(1, 1), stride=(1, 1))\n",
       "                (nonlin): ELU(alpha=1.0)\n",
       "              )\n",
       "            )\n",
       "          )\n",
       "        )\n",
       "        (3): TopDownDeterministicResBlock(\n",
       "          (res): ResidualBlock(\n",
       "            (block): Sequential(\n",
       "              (0): BatchNorm2d(64, eps=1e-05, momentum=0.1, affine=True, track_running_stats=True)\n",
       "              (1): ELU(alpha=1.0)\n",
       "              (2): Conv2d(64, 64, kernel_size=(3, 3), stride=(1, 1), padding=(1, 1))\n",
       "              (3): Dropout2d(p=0.2, inplace=False)\n",
       "              (4): BatchNorm2d(64, eps=1e-05, momentum=0.1, affine=True, track_running_stats=True)\n",
       "              (5): ELU(alpha=1.0)\n",
       "              (6): Conv2d(64, 64, kernel_size=(3, 3), stride=(1, 1), padding=(1, 1))\n",
       "              (7): Dropout2d(p=0.2, inplace=False)\n",
       "              (8): GateLayer2d(\n",
       "                (conv): Conv2d(64, 128, kernel_size=(1, 1), stride=(1, 1))\n",
       "                (nonlin): ELU(alpha=1.0)\n",
       "              )\n",
       "            )\n",
       "          )\n",
       "        )\n",
       "        (4): TopDownDeterministicResBlock(\n",
       "          (res): ResidualBlock(\n",
       "            (block): Sequential(\n",
       "              (0): BatchNorm2d(64, eps=1e-05, momentum=0.1, affine=True, track_running_stats=True)\n",
       "              (1): ELU(alpha=1.0)\n",
       "              (2): Conv2d(64, 64, kernel_size=(3, 3), stride=(1, 1), padding=(1, 1))\n",
       "              (3): Dropout2d(p=0.2, inplace=False)\n",
       "              (4): BatchNorm2d(64, eps=1e-05, momentum=0.1, affine=True, track_running_stats=True)\n",
       "              (5): ELU(alpha=1.0)\n",
       "              (6): Conv2d(64, 64, kernel_size=(3, 3), stride=(1, 1), padding=(1, 1))\n",
       "              (7): Dropout2d(p=0.2, inplace=False)\n",
       "              (8): GateLayer2d(\n",
       "                (conv): Conv2d(64, 128, kernel_size=(1, 1), stride=(1, 1))\n",
       "                (nonlin): ELU(alpha=1.0)\n",
       "              )\n",
       "            )\n",
       "          )\n",
       "        )\n",
       "      )\n",
       "      (stochastic): NormalStochasticBlock2d(\n",
       "        (conv_in_q): Conv2d(64, 64, kernel_size=(3, 3), stride=(1, 1), padding=(1, 1))\n",
       "        (conv_out): Conv2d(32, 64, kernel_size=(3, 3), stride=(1, 1), padding=(1, 1))\n",
       "      )\n",
       "    )\n",
       "  )\n",
       "  (bottom_up_layers): ModuleList(\n",
       "    (0-2): 3 x BottomUpLayer(\n",
       "      (net): Sequential(\n",
       "        (0): BottomUpDeterministicResBlock(\n",
       "          (pre_conv): Conv2d(64, 64, kernel_size=(3, 3), stride=(2, 2), padding=(1, 1))\n",
       "          (res): ResidualBlock(\n",
       "            (block): Sequential(\n",
       "              (0): BatchNorm2d(64, eps=1e-05, momentum=0.1, affine=True, track_running_stats=True)\n",
       "              (1): ELU(alpha=1.0)\n",
       "              (2): Conv2d(64, 64, kernel_size=(3, 3), stride=(1, 1), padding=(1, 1))\n",
       "              (3): Dropout2d(p=0.2, inplace=False)\n",
       "              (4): BatchNorm2d(64, eps=1e-05, momentum=0.1, affine=True, track_running_stats=True)\n",
       "              (5): ELU(alpha=1.0)\n",
       "              (6): Conv2d(64, 64, kernel_size=(3, 3), stride=(1, 1), padding=(1, 1))\n",
       "              (7): Dropout2d(p=0.2, inplace=False)\n",
       "              (8): GateLayer2d(\n",
       "                (conv): Conv2d(64, 128, kernel_size=(1, 1), stride=(1, 1))\n",
       "                (nonlin): ELU(alpha=1.0)\n",
       "              )\n",
       "            )\n",
       "          )\n",
       "        )\n",
       "        (1): BottomUpDeterministicResBlock(\n",
       "          (res): ResidualBlock(\n",
       "            (block): Sequential(\n",
       "              (0): BatchNorm2d(64, eps=1e-05, momentum=0.1, affine=True, track_running_stats=True)\n",
       "              (1): ELU(alpha=1.0)\n",
       "              (2): Conv2d(64, 64, kernel_size=(3, 3), stride=(1, 1), padding=(1, 1))\n",
       "              (3): Dropout2d(p=0.2, inplace=False)\n",
       "              (4): BatchNorm2d(64, eps=1e-05, momentum=0.1, affine=True, track_running_stats=True)\n",
       "              (5): ELU(alpha=1.0)\n",
       "              (6): Conv2d(64, 64, kernel_size=(3, 3), stride=(1, 1), padding=(1, 1))\n",
       "              (7): Dropout2d(p=0.2, inplace=False)\n",
       "              (8): GateLayer2d(\n",
       "                (conv): Conv2d(64, 128, kernel_size=(1, 1), stride=(1, 1))\n",
       "                (nonlin): ELU(alpha=1.0)\n",
       "              )\n",
       "            )\n",
       "          )\n",
       "        )\n",
       "        (2): BottomUpDeterministicResBlock(\n",
       "          (res): ResidualBlock(\n",
       "            (block): Sequential(\n",
       "              (0): BatchNorm2d(64, eps=1e-05, momentum=0.1, affine=True, track_running_stats=True)\n",
       "              (1): ELU(alpha=1.0)\n",
       "              (2): Conv2d(64, 64, kernel_size=(3, 3), stride=(1, 1), padding=(1, 1))\n",
       "              (3): Dropout2d(p=0.2, inplace=False)\n",
       "              (4): BatchNorm2d(64, eps=1e-05, momentum=0.1, affine=True, track_running_stats=True)\n",
       "              (5): ELU(alpha=1.0)\n",
       "              (6): Conv2d(64, 64, kernel_size=(3, 3), stride=(1, 1), padding=(1, 1))\n",
       "              (7): Dropout2d(p=0.2, inplace=False)\n",
       "              (8): GateLayer2d(\n",
       "                (conv): Conv2d(64, 128, kernel_size=(1, 1), stride=(1, 1))\n",
       "                (nonlin): ELU(alpha=1.0)\n",
       "              )\n",
       "            )\n",
       "          )\n",
       "        )\n",
       "        (3): BottomUpDeterministicResBlock(\n",
       "          (res): ResidualBlock(\n",
       "            (block): Sequential(\n",
       "              (0): BatchNorm2d(64, eps=1e-05, momentum=0.1, affine=True, track_running_stats=True)\n",
       "              (1): ELU(alpha=1.0)\n",
       "              (2): Conv2d(64, 64, kernel_size=(3, 3), stride=(1, 1), padding=(1, 1))\n",
       "              (3): Dropout2d(p=0.2, inplace=False)\n",
       "              (4): BatchNorm2d(64, eps=1e-05, momentum=0.1, affine=True, track_running_stats=True)\n",
       "              (5): ELU(alpha=1.0)\n",
       "              (6): Conv2d(64, 64, kernel_size=(3, 3), stride=(1, 1), padding=(1, 1))\n",
       "              (7): Dropout2d(p=0.2, inplace=False)\n",
       "              (8): GateLayer2d(\n",
       "                (conv): Conv2d(64, 128, kernel_size=(1, 1), stride=(1, 1))\n",
       "                (nonlin): ELU(alpha=1.0)\n",
       "              )\n",
       "            )\n",
       "          )\n",
       "        )\n",
       "        (4): BottomUpDeterministicResBlock(\n",
       "          (res): ResidualBlock(\n",
       "            (block): Sequential(\n",
       "              (0): BatchNorm2d(64, eps=1e-05, momentum=0.1, affine=True, track_running_stats=True)\n",
       "              (1): ELU(alpha=1.0)\n",
       "              (2): Conv2d(64, 64, kernel_size=(3, 3), stride=(1, 1), padding=(1, 1))\n",
       "              (3): Dropout2d(p=0.2, inplace=False)\n",
       "              (4): BatchNorm2d(64, eps=1e-05, momentum=0.1, affine=True, track_running_stats=True)\n",
       "              (5): ELU(alpha=1.0)\n",
       "              (6): Conv2d(64, 64, kernel_size=(3, 3), stride=(1, 1), padding=(1, 1))\n",
       "              (7): Dropout2d(p=0.2, inplace=False)\n",
       "              (8): GateLayer2d(\n",
       "                (conv): Conv2d(64, 128, kernel_size=(1, 1), stride=(1, 1))\n",
       "                (nonlin): ELU(alpha=1.0)\n",
       "              )\n",
       "            )\n",
       "          )\n",
       "        )\n",
       "      )\n",
       "    )\n",
       "  )\n",
       "  (final_top_down): Sequential(\n",
       "    (0): TopDownDeterministicResBlock(\n",
       "      (res): ResidualBlock(\n",
       "        (block): Sequential(\n",
       "          (0): BatchNorm2d(64, eps=1e-05, momentum=0.1, affine=True, track_running_stats=True)\n",
       "          (1): ELU(alpha=1.0)\n",
       "          (2): Conv2d(64, 64, kernel_size=(3, 3), stride=(1, 1), padding=(1, 1))\n",
       "          (3): Dropout2d(p=0.2, inplace=False)\n",
       "          (4): BatchNorm2d(64, eps=1e-05, momentum=0.1, affine=True, track_running_stats=True)\n",
       "          (5): ELU(alpha=1.0)\n",
       "          (6): Conv2d(64, 64, kernel_size=(3, 3), stride=(1, 1), padding=(1, 1))\n",
       "          (7): Dropout2d(p=0.2, inplace=False)\n",
       "          (8): GateLayer2d(\n",
       "            (conv): Conv2d(64, 128, kernel_size=(1, 1), stride=(1, 1))\n",
       "            (nonlin): ELU(alpha=1.0)\n",
       "          )\n",
       "        )\n",
       "      )\n",
       "    )\n",
       "    (1): TopDownDeterministicResBlock(\n",
       "      (res): ResidualBlock(\n",
       "        (block): Sequential(\n",
       "          (0): BatchNorm2d(64, eps=1e-05, momentum=0.1, affine=True, track_running_stats=True)\n",
       "          (1): ELU(alpha=1.0)\n",
       "          (2): Conv2d(64, 64, kernel_size=(3, 3), stride=(1, 1), padding=(1, 1))\n",
       "          (3): Dropout2d(p=0.2, inplace=False)\n",
       "          (4): BatchNorm2d(64, eps=1e-05, momentum=0.1, affine=True, track_running_stats=True)\n",
       "          (5): ELU(alpha=1.0)\n",
       "          (6): Conv2d(64, 64, kernel_size=(3, 3), stride=(1, 1), padding=(1, 1))\n",
       "          (7): Dropout2d(p=0.2, inplace=False)\n",
       "          (8): GateLayer2d(\n",
       "            (conv): Conv2d(64, 128, kernel_size=(1, 1), stride=(1, 1))\n",
       "            (nonlin): ELU(alpha=1.0)\n",
       "          )\n",
       "        )\n",
       "      )\n",
       "    )\n",
       "    (2): TopDownDeterministicResBlock(\n",
       "      (res): ResidualBlock(\n",
       "        (block): Sequential(\n",
       "          (0): BatchNorm2d(64, eps=1e-05, momentum=0.1, affine=True, track_running_stats=True)\n",
       "          (1): ELU(alpha=1.0)\n",
       "          (2): Conv2d(64, 64, kernel_size=(3, 3), stride=(1, 1), padding=(1, 1))\n",
       "          (3): Dropout2d(p=0.2, inplace=False)\n",
       "          (4): BatchNorm2d(64, eps=1e-05, momentum=0.1, affine=True, track_running_stats=True)\n",
       "          (5): ELU(alpha=1.0)\n",
       "          (6): Conv2d(64, 64, kernel_size=(3, 3), stride=(1, 1), padding=(1, 1))\n",
       "          (7): Dropout2d(p=0.2, inplace=False)\n",
       "          (8): GateLayer2d(\n",
       "            (conv): Conv2d(64, 128, kernel_size=(1, 1), stride=(1, 1))\n",
       "            (nonlin): ELU(alpha=1.0)\n",
       "          )\n",
       "        )\n",
       "      )\n",
       "    )\n",
       "    (3): TopDownDeterministicResBlock(\n",
       "      (res): ResidualBlock(\n",
       "        (block): Sequential(\n",
       "          (0): BatchNorm2d(64, eps=1e-05, momentum=0.1, affine=True, track_running_stats=True)\n",
       "          (1): ELU(alpha=1.0)\n",
       "          (2): Conv2d(64, 64, kernel_size=(3, 3), stride=(1, 1), padding=(1, 1))\n",
       "          (3): Dropout2d(p=0.2, inplace=False)\n",
       "          (4): BatchNorm2d(64, eps=1e-05, momentum=0.1, affine=True, track_running_stats=True)\n",
       "          (5): ELU(alpha=1.0)\n",
       "          (6): Conv2d(64, 64, kernel_size=(3, 3), stride=(1, 1), padding=(1, 1))\n",
       "          (7): Dropout2d(p=0.2, inplace=False)\n",
       "          (8): GateLayer2d(\n",
       "            (conv): Conv2d(64, 128, kernel_size=(1, 1), stride=(1, 1))\n",
       "            (nonlin): ELU(alpha=1.0)\n",
       "          )\n",
       "        )\n",
       "      )\n",
       "    )\n",
       "    (4): TopDownDeterministicResBlock(\n",
       "      (res): ResidualBlock(\n",
       "        (block): Sequential(\n",
       "          (0): BatchNorm2d(64, eps=1e-05, momentum=0.1, affine=True, track_running_stats=True)\n",
       "          (1): ELU(alpha=1.0)\n",
       "          (2): Conv2d(64, 64, kernel_size=(3, 3), stride=(1, 1), padding=(1, 1))\n",
       "          (3): Dropout2d(p=0.2, inplace=False)\n",
       "          (4): BatchNorm2d(64, eps=1e-05, momentum=0.1, affine=True, track_running_stats=True)\n",
       "          (5): ELU(alpha=1.0)\n",
       "          (6): Conv2d(64, 64, kernel_size=(3, 3), stride=(1, 1), padding=(1, 1))\n",
       "          (7): Dropout2d(p=0.2, inplace=False)\n",
       "          (8): GateLayer2d(\n",
       "            (conv): Conv2d(64, 128, kernel_size=(1, 1), stride=(1, 1))\n",
       "            (nonlin): ELU(alpha=1.0)\n",
       "          )\n",
       "        )\n",
       "      )\n",
       "    )\n",
       "  )\n",
       "  (likelihood): GaussianLikelihood(\n",
       "    (parameter_net): Conv2d(64, 1, kernel_size=(3, 3), stride=(1, 1), padding=(1, 1))\n",
       "  )\n",
       ")"
      ]
     },
     "execution_count": 5,
     "metadata": {},
     "output_type": "execute_result"
    }
   ],
   "source": [
    "path=\"/group/jug/Sheida/pancreatic beta cells/download/high_c1/\"\n",
    "patch_size = 64\n",
    "model = torch.load(\"/group/jug/Sheida/HVAE/446/model/Contrastive_MAE_best_vae.net\")\n",
    "model.mode_pred=True\n",
    "model.eval()\n",
    "model.to(device)"
   ]
  },
  {
   "cell_type": "code",
   "execution_count": 6,
   "metadata": {},
   "outputs": [],
   "source": [
    "centre_size = 4\n",
    "n_channel = 32\n",
    "hierarchy_level = 3"
   ]
  },
  {
   "cell_type": "code",
   "execution_count": 7,
   "metadata": {},
   "outputs": [],
   "source": [
    "def get_normalized_tensor(img,model,device):\n",
    "    test_images = torch.from_numpy(img.copy()).to(device)\n",
    "    data_mean = model.data_mean\n",
    "    data_std = model.data_std\n",
    "    test_images = (test_images-data_mean)/data_std\n",
    "    return test_images"
   ]
  },
  {
   "cell_type": "code",
   "execution_count": 8,
   "metadata": {},
   "outputs": [],
   "source": [
    "def load_data(dir):\n",
    "    return imread(dir)"
   ]
  },
  {
   "cell_type": "code",
   "execution_count": 9,
   "metadata": {},
   "outputs": [],
   "source": [
    "data_dir = \"/localscratch/testing/img/\"\n",
    "golgi = get_normalized_tensor(load_data(data_dir+'class1/*.tif'), model, device)\n",
    "mitochondria = get_normalized_tensor(load_data(data_dir+'class2/*.tif'), model, device)\n",
    "granule = get_normalized_tensor(load_data(data_dir+'class3/*.tif'), model, device)\n",
    "class_type = [golgi, mitochondria, granule]"
   ]
  },
  {
   "cell_type": "code",
   "execution_count": 10,
   "metadata": {},
   "outputs": [],
   "source": [
    "def get_mean_centre(x, i):\n",
    "    if i == 3:\n",
    "        return x[i][0].cpu().numpy().reshape(n_channel,-1).mean(-1)\n",
    "    elif i == 4:\n",
    "        return x[i][0].cpu().numpy().reshape(n_channel,-1).mean(-1)\n",
    "    else:\n",
    "        lower_bound = 2**(5-1-i)-int(centre_size/2)\n",
    "        upper_bound = 2**(5-1-i)+int(centre_size/2)\n",
    "        return x[i][0].cpu().numpy()[:,lower_bound:upper_bound,lower_bound:upper_bound].reshape(n_channel,-1).mean(-1)"
   ]
  },
  {
   "cell_type": "code",
   "execution_count": 11,
   "metadata": {},
   "outputs": [],
   "source": [
    "def get_mus(model, z):\n",
    "    n_features = n_channel * hierarchy_level\n",
    "    data = np.zeros((n_features,))\n",
    "    model.mode_pred=True\n",
    "    model.eval()\n",
    "    with torch.no_grad():\n",
    "        model.to(device)\n",
    "        z = z.to(device=device, dtype=torch.float)\n",
    "        z = z.reshape(1,1,patch_size,patch_size)\n",
    "        with torch.no_grad():\n",
    "                sample = model(z, z, z,model_layers=[0,1,2])\n",
    "                mu = sample['mu']\n",
    "                for i in range(hierarchy_level):\n",
    "                    data[i*n_channel:(i+1)*n_channel] = get_mean_centre(mu, i)\n",
    "                data = data.T.reshape(-1,n_features)\n",
    "    return data"
   ]
  },
  {
   "cell_type": "code",
   "execution_count": 25,
   "metadata": {},
   "outputs": [],
   "source": [
    "def get_sigmas(model, z):\n",
    "    n_features = n_channel * hierarchy_level\n",
    "    data = np.zeros((n_features,))\n",
    "    model.mode_pred=True\n",
    "    model.eval()\n",
    "    with torch.no_grad():\n",
    "        model.to(device)\n",
    "        z = z.to(device=device, dtype=torch.float)\n",
    "        z = z.reshape(1,1,patch_size,patch_size)\n",
    "        with torch.no_grad():\n",
    "                sample = model(z, z, z,model_layers=[0,1,2])\n",
    "                sigma = sample['logvar']\n",
    "                for i in range(hierarchy_level):\n",
    "                    data[i*n_channel:(i+1)*n_channel] = get_mean_centre(sigma, i)\n",
    "                data = data.T.reshape(-1,n_features)\n",
    "    return data"
   ]
  },
  {
   "cell_type": "code",
   "execution_count": 41,
   "metadata": {},
   "outputs": [],
   "source": [
    "def get_output(model, z):\n",
    "    n_features = n_channel * hierarchy_level\n",
    "    data = np.zeros((n_features,))\n",
    "    model.mode_pred=True\n",
    "    model.eval()\n",
    "    with torch.no_grad():\n",
    "        model.to(device)\n",
    "        z = z.to(device=device, dtype=torch.float)\n",
    "        z = z.reshape(1,1,patch_size,patch_size)\n",
    "        with torch.no_grad():\n",
    "                sample= model(z, z, z,model_layers=[0,1,2])\n",
    "                out = sample['ll']\n",
    "    return out"
   ]
  },
  {
   "cell_type": "code",
   "execution_count": 14,
   "metadata": {},
   "outputs": [
    {
     "name": "stdout",
     "output_type": "stream",
     "text": [
      "torch.Size([19, 64, 64])\n"
     ]
    }
   ],
   "source": [
    "print(golgi.shape)"
   ]
  },
  {
   "cell_type": "code",
   "execution_count": 47,
   "metadata": {},
   "outputs": [],
   "source": [
    "import matplotlib.patches as patches"
   ]
  },
  {
   "cell_type": "code",
   "execution_count": 66,
   "metadata": {},
   "outputs": [
    {
     "data": {
      "image/png": "[encoded data removed]",
      "text/plain": [
       "<Figure size 640x480 with 1 Axes>"
      ]
     },
     "metadata": {},
     "output_type": "display_data"
    },
    {
     "data": {
      "text/plain": [
       "<Figure size 640x480 with 0 Axes>"
      ]
     },
     "metadata": {},
     "output_type": "display_data"
    },
    {
     "data": {
      "image/png": "[encoded data removed]",
      "text/plain": [
       "<Figure size 640x480 with 1 Axes>"
      ]
     },
     "metadata": {},
     "output_type": "display_data"
    }
   ],
   "source": [
    "fig, ax = plt.subplots(1)\n",
    "\n",
    "ax.imshow(get_output(model, mitochondria[10]).cpu().reshape(64, 64))\n",
    "rect = patches.Rectangle((29.5, 29.5), 4, 4, linewidth=2, edgecolor='r', facecolor='none')\n",
    "ax.add_patch(rect)\n",
    "# ax.set_xlim(30 - 10, 30 + 4 + 10)\n",
    "# ax.set_ylim(30 + 4 + 10, 30 - 10)\n",
    "plt.show()\n",
    "plt.clf()\n",
    "fig, ax = plt.subplots(1)\n",
    "\n",
    "ax.imshow(mitochondria[10].cpu())\n",
    "rect = patches.Rectangle((29.5, 29.5), 4, 4, linewidth=2, edgecolor='r', facecolor='none')\n",
    "ax.add_patch(rect)\n",
    "# ax.set_xlim(30 - 10, 30 + 4 + 10)\n",
    "# ax.set_ylim(30 + 4 + 10, 30 - 10)\n",
    "plt.show()"
   ]
  },
  {
   "cell_type": "code",
   "execution_count": 12,
   "metadata": {},
   "outputs": [
    {
     "name": "stderr",
     "output_type": "stream",
     "text": [
      "100%|██████████| 19/19 [00:01<00:00, 13.10it/s]\n",
      "100%|██████████| 161/161 [00:03<00:00, 46.14it/s]\n",
      "100%|██████████| 363/363 [00:07<00:00, 46.03it/s]\n"
     ]
    }
   ],
   "source": [
    "mu = []\n",
    "mus = np.array([])   \n",
    "for class_t in range(len(class_type)):\n",
    "    for i in tqdm(range(len(class_type[class_t]))):\n",
    "        mu.extend(get_mus(model,class_type[class_t][i]))\n",
    "    mus = np.append(mus, mu).reshape(-1, 96)\n",
    "    mu = []\n",
    "for i in range(len(mus)):\n",
    "    mus[i] = np.asarray(mus[i])"
   ]
  },
  {
   "cell_type": "code",
   "execution_count": 32,
   "metadata": {},
   "outputs": [
    {
     "data": {
      "text/plain": [
       "(543, 96)"
      ]
     },
     "execution_count": 32,
     "metadata": {},
     "output_type": "execute_result"
    }
   ],
   "source": [
    "mus.shape"
   ]
  },
  {
   "cell_type": "code",
   "execution_count": null,
   "metadata": {},
   "outputs": [],
   "source": [
    "sigma = []\n",
    "sigmas = np.array([])\n",
    "for class_t in range(len(class_type)):\n",
    "    for i in tqdm(range(len(class_type[class_t]))):\n",
    "        sigma.extend(get_sigmas(model,class_type[class_t][i]))\n",
    "    sigmas = np.append(sigmas, sigma).reshape(-1, 96)\n",
    "    sigma = []\n",
    "for i in range(len(sigmas)):\n",
    "    sigmas[i] = np.asarray(sigmas[i])"
   ]
  },
  {
   "cell_type": "code",
   "execution_count": null,
   "metadata": {},
   "outputs": [],
   "source": [
    "data_A = pd.DataFrame(mus[:19,64])\n",
    "data_B = pd.DataFrame(mus[19:180,64])\n",
    "data_C = pd.DataFrame(mus[180:,64])"
   ]
  },
  {
   "cell_type": "code",
   "execution_count": null,
   "metadata": {},
   "outputs": [],
   "source": [
    "data_A.columns = pd.MultiIndex.from_product([['A']])\n",
    "data_B.columns = pd.MultiIndex.from_product([['B']])\n",
    "data_C.columns = pd.MultiIndex.from_product([['C']])"
   ]
  },
  {
   "cell_type": "code",
   "execution_count": null,
   "metadata": {},
   "outputs": [],
   "source": [
    "copy_to = data_A.loc[:].copy()\n",
    "data_A = data_A._append([copy_to] * 58442, ignore_index=True)\n",
    "copy_to = data_B.loc[:].copy()\n",
    "data_B = data_B._append([copy_to] * 6896, ignore_index=True)\n",
    "copy_to = data_C.loc[:].copy()\n",
    "data_C = data_C._append([copy_to] * 3058, ignore_index=True)"
   ]
  },
  {
   "cell_type": "code",
   "execution_count": null,
   "metadata": {},
   "outputs": [],
   "source": [
    "data_A.columns = pd.MultiIndex.from_product([['A'], range(2)])\n",
    "data_B.columns = pd.MultiIndex.from_product([['B'], range(2)])\n",
    "data_C.columns = pd.MultiIndex.from_product([['C'], range(2)])"
   ]
  },
  {
   "cell_type": "code",
   "execution_count": null,
   "metadata": {},
   "outputs": [],
   "source": [
    "combined_data = pd.concat([data_A, data_B, data_C], axis=1)"
   ]
  },
  {
   "cell_type": "code",
   "execution_count": null,
   "metadata": {},
   "outputs": [],
   "source": [
    "combined_data"
   ]
  },
  {
   "cell_type": "code",
   "execution_count": null,
   "metadata": {},
   "outputs": [],
   "source": [
    "def calculate_average_correlation(data1, data2, var1, var2):\n",
    "    combined = pd.concat([data1, data2], axis=1)\n",
    "    common = combined.dropna()\n",
    "    if not common.empty:\n",
    "        full_corr = common.corr()\n",
    "        indices_var1 = full_corr.loc[:, var1].columns.get_level_values(0) == var1\n",
    "        indices_var2 = full_corr.loc[:, var2].columns.get_level_values(0) == var2\n",
    "        avg_corr = full_corr.loc[var1, var2].values[indices_var1, :][:, indices_var2].mean()\n",
    "        return avg_corr\n",
    "    else:\n",
    "        return np.nan # 19 161 363"
   ]
  },
  {
   "cell_type": "code",
   "execution_count": null,
   "metadata": {},
   "outputs": [],
   "source": [
    "variables = ['A', 'B', 'C']\n",
    "data_dict = {'A': data_A, 'B': data_B, 'C': data_C}"
   ]
  },
  {
   "cell_type": "code",
   "execution_count": null,
   "metadata": {},
   "outputs": [],
   "source": [
    "simple_corr_matrix = pd.DataFrame(index=variables, columns=variables)"
   ]
  },
  {
   "cell_type": "code",
   "execution_count": null,
   "metadata": {},
   "outputs": [],
   "source": [
    "simple_corr_matrix_1 = pd.DataFrame(index=variables, columns=variables)"
   ]
  },
  {
   "cell_type": "code",
   "execution_count": null,
   "metadata": {},
   "outputs": [],
   "source": [
    "simple_corr_matrix_2 = pd.DataFrame(index=variables, columns=variables)"
   ]
  },
  {
   "cell_type": "code",
   "execution_count": null,
   "metadata": {},
   "outputs": [],
   "source": [
    "for var1 in variables:\n",
    "    for var2 in variables:\n",
    "        if var1 == var2:\n",
    "            simple_corr_matrix.loc[var1, var2] = 1.0\n",
    "        else:\n",
    "            avg_corr = calculate_average_correlation(data_dict[var1], data_dict[var2], var1, var2)\n",
    "            simple_corr_matrix.loc[var1, var2] = avg_corr\n",
    "            simple_corr_matrix.loc[var2, var1] = avg_corr\n",
    "\n",
    "print(\"Simplified 3x3 Correlation Matrix:\\n\", simple_corr_matrix)"
   ]
  },
  {
   "cell_type": "code",
   "execution_count": null,
   "metadata": {},
   "outputs": [],
   "source": [
    "for var1 in variables:\n",
    "    for var2 in variables:\n",
    "        if var1 == var2:\n",
    "            simple_corr_matrix_1.loc[var1, var2] = 1.0\n",
    "        else:\n",
    "            avg_corr = calculate_average_correlation(data_dict[var1], data_dict[var2], var1, var2)\n",
    "            simple_corr_matrix_1.loc[var1, var2] = avg_corr\n",
    "            simple_corr_matrix_1.loc[var2, var1] = avg_corr\n",
    "\n",
    "print(\"Simplified 3x3 Correlation Matrix:\\n\", simple_corr_matrix_1)"
   ]
  },
  {
   "cell_type": "code",
   "execution_count": null,
   "metadata": {},
   "outputs": [],
   "source": [
    "for var1 in variables:\n",
    "    for var2 in variables:\n",
    "        if var1 == var2:\n",
    "            simple_corr_matrix_2.loc[var1, var2] = 1.0\n",
    "        else:\n",
    "            avg_corr = calculate_average_correlation(data_dict[var1], data_dict[var2], var1, var2)\n",
    "            simple_corr_matrix_2.loc[var1, var2] = avg_corr\n",
    "            simple_corr_matrix_2.loc[var2, var1] = avg_corr\n",
    "\n",
    "print(\"Simplified 3x3 Correlation Matrix:\\n\", simple_corr_matrix_2)"
   ]
  },
  {
   "cell_type": "code",
   "execution_count": null,
   "metadata": {},
   "outputs": [],
   "source": [
    "dfs = [pd.DataFrame() for _ in range(2)]\n",
    "dfs[0] = simple_corr_matrix_1\n",
    "dfs[1] = simple_corr_matrix_2\n",
    "print(type(dfs))\n",
    "averages = pd.concat([each.stack() for each in dfs],axis=1).apply(lambda x:x.mean(),axis=1).unstack()"
   ]
  },
  {
   "cell_type": "code",
   "execution_count": null,
   "metadata": {},
   "outputs": [],
   "source": [
    "averages"
   ]
  },
  {
   "cell_type": "code",
   "execution_count": null,
   "metadata": {},
   "outputs": [],
   "source": [
    "for var1 in variables:\n",
    "    for var2 in variables:\n",
    "        if var1 == var2:\n",
    "            simple_corr_matrix.loc[var1, var2] = 1.0\n",
    "        else:\n",
    "            avg_corr = calculate_average_correlation(data_dict[var1], data_dict[var2], var1, var2)\n",
    "            simple_corr_matrix.loc[var1, var2] = avg_corr\n",
    "            simple_corr_matrix.loc[var2, var1] = avg_corr\n",
    "\n",
    "print(\"Simplified 3x3 Correlation Matrix:\\n\", simple_corr_matrix)"
   ]
  },
  {
   "cell_type": "code",
   "execution_count": null,
   "metadata": {},
   "outputs": [],
   "source": [
    "dfs = [pd.DataFrame() for _ in range(96)]\n",
    "variables = ['A', 'B', 'C']\n",
    "for index_df in range(96):\n",
    "    data_A = pd.DataFrame(mus[:19,index_df:index_df+1])\n",
    "    data_B = pd.DataFrame(mus[19:180,index_df:index_df+1])\n",
    "    data_C = pd.DataFrame(mus[180:,index_df:index_df+1])\n",
    "    data_A.columns = pd.MultiIndex.from_product([['A']])\n",
    "    data_B.columns = pd.MultiIndex.from_product([['B']])\n",
    "    data_C.columns = pd.MultiIndex.from_product([['C']])\n",
    "    data_dict = {'A': data_A, 'B': data_B, 'C': data_C}\n",
    "    combined_data = pd.concat([data_A, data_B, data_C], axis=1)\n",
    "    simple_corr_matrix = pd.DataFrame(index=variables, columns=variables)\n",
    "    for var1 in variables:\n",
    "        for var2 in variables:\n",
    "            if var1 == var2:\n",
    "                simple_corr_matrix.loc[var1, var2] = 1.0\n",
    "            else:\n",
    "                avg_corr = calculate_average_correlation(data_dict[var1], data_dict[var2], var1, var2)\n",
    "                simple_corr_matrix.loc[var1, var2] = avg_corr\n",
    "                simple_corr_matrix.loc[var2, var1] = avg_corr\n",
    "\n",
    "    dfs[index_df] = simple_corr_matrix\n",
    "    print(simple_corr_matrix)\n",
    "averages = pd.concat([each.stack() for each in dfs],axis=1)\\\n",
    "             .apply(lambda x:x.mean(),axis=1)\\\n",
    "             .unstack()"
   ]
  },
  {
   "cell_type": "code",
   "execution_count": null,
   "metadata": {},
   "outputs": [],
   "source": [
    "averages"
   ]
  },
  {
   "cell_type": "code",
   "execution_count": null,
   "metadata": {},
   "outputs": [],
   "source": [
    "dfs = [pd.DataFrame() for _ in range(1000)]\n",
    "for index_df in range(1000):\n",
    "    i, j, k = np.random.randint(19), np.random.randint(19,180), np.random.randint(180,543)\n",
    "    variables = ['A', 'B', 'C']\n",
    "    data_A = pd.DataFrame(mus[i])\n",
    "    data_B = pd.DataFrame(mus[j])\n",
    "    data_C = pd.DataFrame(mus[k])\n",
    "    data_A.columns = pd.MultiIndex.from_product([['A']])\n",
    "    data_B.columns = pd.MultiIndex.from_product([['B']])\n",
    "    data_C.columns = pd.MultiIndex.from_product([['C']])\n",
    "    data_dict = {'A': data_A, 'B': data_B, 'C': data_C}\n",
    "    combined_data = pd.concat([data_A, data_B, data_C], axis=0)\n",
    "    simple_corr_matrix = pd.DataFrame(index=variables, columns=variables)\n",
    "    for var1 in variables:\n",
    "        for var2 in variables:\n",
    "            if var1 == var2:\n",
    "                simple_corr_matrix.loc[var1, var2] = 1.0\n",
    "            else:\n",
    "                avg_corr = calculate_average_correlation(data_dict[var1], data_dict[var2], var1, var2)\n",
    "                simple_corr_matrix.loc[var1, var2] = avg_corr\n",
    "                simple_corr_matrix.loc[var2, var1] = avg_corr\n",
    "    dfs[index_df] = simple_corr_matrix"
   ]
  },
  {
   "cell_type": "code",
   "execution_count": null,
   "metadata": {},
   "outputs": [],
   "source": [
    "print(mus[0][0], sigmas[0][0])"
   ]
  },
  {
   "cell_type": "code",
   "execution_count": null,
   "metadata": {},
   "outputs": [],
   "source": [
    "from scipy.stats import norm"
   ]
  },
  {
   "cell_type": "code",
   "execution_count": null,
   "metadata": {},
   "outputs": [],
   "source": [
    "mu, sigma = norm.fit(data_A)\n",
    "print(mu, sigma)"
   ]
  },
  {
   "cell_type": "code",
   "execution_count": null,
   "metadata": {},
   "outputs": [],
   "source": [
    "sns.histplot(data_A, kde=True)\n",
    "plt.show()"
   ]
  },
  {
   "cell_type": "code",
   "execution_count": null,
   "metadata": {},
   "outputs": [],
   "source": [
    "mu, sigma = norm.fit(data_B)\n",
    "print(mu, sigma)\n",
    "sns.histplot(data_B, kde=True)\n",
    "plt.show()"
   ]
  },
  {
   "cell_type": "code",
   "execution_count": null,
   "metadata": {},
   "outputs": [],
   "source": [
    "mu, sigma = norm.fit(data_C)\n",
    "print(mu, sigma)\n",
    "sns.histplot(data_C, kde=True)\n",
    "plt.show()"
   ]
  },
  {
   "cell_type": "code",
   "execution_count": null,
   "metadata": {},
   "outputs": [],
   "source": [
    "for dim in range(96):\n",
    "    mu, sigma = norm.fit(mus[:,dim])\n",
    "    print(mu, sigma)\n",
    "    sns.histplot(mus[:,dim], kde=True)\n",
    "    plt.show()\n"
   ]
  },
  {
   "cell_type": "code",
   "execution_count": 15,
   "metadata": {},
   "outputs": [],
   "source": [
    "import scipy.stats as stats"
   ]
  },
  {
   "cell_type": "code",
   "execution_count": 16,
   "metadata": {},
   "outputs": [],
   "source": [
    "def plot_qq(data, title='Q-Q Plot'):\n",
    "    plt.figure(figsize=(10, 6))\n",
    "    stats.probplot(data, dist='norm', plot=plt)\n",
    "    plt.title(title)\n",
    "    plt.show()"
   ]
  },
  {
   "cell_type": "code",
   "execution_count": null,
   "metadata": {},
   "outputs": [],
   "source": [
    "for dim in range(96):\n",
    "    plot_qq(mus[:,dim], title='Q-Q Plot for Mus')\n"
   ]
  },
  {
   "cell_type": "code",
   "execution_count": 13,
   "metadata": {},
   "outputs": [
    {
     "name": "stdout",
     "output_type": "stream",
     "text": [
      "# of normal distributions  0\n",
      "# of not normal distributions  96\n"
     ]
    }
   ],
   "source": [
    "from scipy.stats import shapiro\n",
    "normal = 0\n",
    "for dim in range(96):\n",
    "    stat, p_value = shapiro(mus[:,dim])\n",
    "    if p_value > 0.05:\n",
    "        normal += 1\n",
    "print(\"# of normal distributions \",normal)\n",
    "print(\"# of not normal distributions \",96-normal)"
   ]
  },
  {
   "cell_type": "code",
   "execution_count": 14,
   "metadata": {},
   "outputs": [
    {
     "name": "stdout",
     "output_type": "stream",
     "text": [
      "# of normal distributions  0\n",
      "# of not normal distributions  96\n"
     ]
    }
   ],
   "source": [
    "from scipy.stats import anderson\n",
    "normal = 0\n",
    "not_normal = 0\n",
    "for dim in range(96):\n",
    "    result = anderson(mus[:,dim], dist='norm')\n",
    "    if result.statistic < result.critical_values[2]:\n",
    "        normal += 1\n",
    "    else:\n",
    "        not_normal += 1\n",
    "# Anderson-Darling test\n",
    "print(\"# of normal distributions \",normal)\n",
    "print(\"# of not normal distributions \",not_normal)"
   ]
  },
  {
   "cell_type": "code",
   "execution_count": 22,
   "metadata": {},
   "outputs": [
    {
     "name": "stderr",
     "output_type": "stream",
     "text": [
      "/localscratch/envs/maester_ls/lib/python3.9/site-packages/scipy/stats/_continuous_distns.py:6111: RuntimeWarning: invalid value encountered in log\n",
      "  lndata = np.log(data - loc)\n"
     ]
    },
    {
     "name": "stdout",
     "output_type": "stream",
     "text": [
      "Kullback-Leibler Divergence (KLD) to norm distribution: [0.09941216637547869, 0.12159206924329051, 0.0884707768425513, 0.11004901390900447, 0.10718388057957581, 0.09214281649759751, 0.08981871673032471, 0.14139806277089512, 0.10166474491579498, 0.0960665979544558, 0.09623319316067838, 0.12464272125103051, 0.1183764934128804, 0.08833073021367153, 0.0934875699792224, 0.09795252757819517, 0.11716349880084977, 0.08144912760757217, 0.1172066013476138, 0.08925189967461243, 0.1016657650110924, 0.08718163929397751, 0.09585707906677203, 0.10001317945968363, 0.11962782223572364, 0.11239266620779506, 0.09360233646237644, 0.12373960207361716, 0.11946411351393722, 0.11029275028661402, 0.11172907989376712, 0.09058527047594511, 0.10731098359897062, 0.09265562312148352, 0.11947904844397128, 0.1123625536922015, 0.11996674041294596, 0.0912134735135164, 0.12901774761023646, 0.0927262137861846, 0.0954706331594284, 0.10530447703967782, 0.09520347231117936, 0.09797727249306025, 0.10669511044962807, 0.10982791829980908, 0.08876465913227823, 0.09088042913502006, 0.10984007274785648, 0.10064298443777007, 0.11302394737147495, 0.12040003372140091, 0.11299146331483718, 0.09135223306622987, 0.1220481385344168, 0.09482408334537606, 0.07567168462687798, 0.11178654571330641, 0.07763740190791511, 0.08401057306409779, 0.08685494610314394, 0.10022064613166516, 0.10276675253823578, 0.08527189021538914, 0.09166235859401496, 0.08946408581661171, 0.0940958083585273, 0.09589239478531575, 0.0929650773322578, 0.08202171645680002, 0.07874047463860315, 0.11244397088511929, 0.095845329716921, 0.08636978594076979, 0.09630271338093371, 0.11826168591854874, 0.08601038442909761, 0.07724730681498915, 0.09741379297167867, 0.094630830252468, 0.09137059983532417, 0.09893855396146255, 0.08502358483471756, 0.08560950068274242, 0.1139357006214474, 0.10502716493966555, 0.08445727558695279, 0.11994743315182159, 0.09824789979696873, 0.10779537242227848, 0.08533901593930504, 0.10614055848096896, 0.08435986064037108, 0.10710670810750048, 0.10729160882099491, 0.10679492190445575]\n",
      "Kullback-Leibler Divergence (KLD) to expon distribution: [0.43992794692830095, 0.7388053720555144, 0.5483641170180888, 0.5954755695204162, 0.4672330489385006, 0.6381636254036955, 0.5080160671118468, 0.481772768750692, 0.6499089170702311, 0.5582263893691048, 0.5970092961825322, 0.446864859056505, 0.5301393431758201, 0.38469162728545014, 0.5542903065455156, 0.6649763880063132, 0.5679890356505619, 0.5759937456578255, 0.7410564213441555, 0.5019652668335528, 0.6077157714939545, 0.567577250261051, 0.5924515128103355, 0.8601440042930512, 0.47943497715442834, 0.44332134499811365, 0.6171045994411984, 0.6794409029010978, 0.5762325495889752, 0.6836314142628813, 0.535754778426894, 0.4896586036178264, 0.5778239509354334, 0.6585092074466454, 0.6448283101019634, 0.9161870662821727, 0.4183553504890687, 0.6579502897477773, 0.5200672301158774, 0.7560012747747754, 0.4727386452469234, 0.6371078685581174, 0.47343444112077054, 0.4874449683261544, 0.692700315209038, 0.5806596832068455, 0.5160132527604592, 0.5311161673869876, 0.724810553899198, 0.6696886506667544, 0.5682219492880292, 0.5145947374251374, 0.45339065781884685, 0.4051466003270604, 0.5831082227061933, 0.7529524761275217, 0.5930935542918239, 0.49144358740841954, 0.42067791683186717, 0.6611321292803678, 0.6863575258997242, 0.45610056000868626, 0.759690873793555, 0.664397718163185, 0.5905163856875834, 0.483401000839464, 0.5737595871541812, 0.6396816471304099, 0.7956286427881919, 0.5755365457536917, 0.7457828637682407, 0.7081482782936045, 0.5533490753977023, 0.5870633844882828, 0.6518701012860992, 0.6482072546314227, 0.7246903556027959, 0.4263534440889633, 0.500884590022547, 0.863608709477491, 0.5455043934319705, 0.6552004712005459, 0.5777568574278339, 0.40309171975319336, 0.5813215784561337, 0.6410380466343814, 0.4639819199696844, 0.5631766579917279, 0.5900568935294681, 0.5404715862748513, 0.6475754694103565, 0.5323312656551116, 0.5768685715201666, 0.6746523270353953, 0.6104184154472372, 0.6858696545607217]\n",
      "Kullback-Leibler Divergence (KLD) to lognorm distribution: [0.09979179788685709, 0.12159297661200477, 0.08986031752247733, 0.10690407032393982, 0.10457825866547654, 0.0923508532464052, 0.08984392931921231, 0.18369217478182698, 0.10166577175929185, 0.09441221213982011, 0.09267527750896555, 0.12464273648377272, 0.11531710030330997, 0.08848365100350454, 0.09348774042339446, 0.09424469222618143, 0.11788814897710163, 0.08149164865897734, 0.7753040300998626, 0.08925198726601612, 0.10166722306345168, 0.08795200774485289, 0.09635133288547602, 0.10001181081539039, 0.12072921382159332, 0.10713994900730847, 0.09328234255877918, 0.12205812848243772, 0.11886439257492198, 0.10936176725960899, 0.11145575975450918, 0.09090295365499357, 0.10731183764148698, 0.09265598136956474, 0.10911949541912419, 0.11236279273793238, 0.11498585163283107, 0.09121416051033154, 0.12187999271287364, 0.09168417570914532, 0.09749488290368144, 0.10530500538312824, 0.09486709745374408, 0.097192443852336, 0.10647629544839643, 0.11062494458905987, 0.08885759667941161, 0.08936589799320363, 0.1102841125368203, 0.10011909943853513, 0.11302446904465023, 0.11992773243996914, 0.11345173668204914, 0.09107100602172576, 0.12204953706209683, 0.09495281786166868, 0.07449298555909507, 0.11178678676602757, 0.07780896866493939, 0.09680837772443296, 0.10552684083280857, 0.09746391243152036, 0.10276690082360083, 0.08527189199817602, 0.0924434638100703, 0.08622909329406458, 0.09455184715604316, 0.0958925140840942, 0.13698445842532278, 0.08232770768633649, 0.07786458085802168, 0.15045338981084438, 0.08275360934597745, 0.10347373924917184, 0.09653654195600615, 0.11826269674973869, 0.08621967668985388, 0.0780124695347536, 0.09741402999912864, 0.1145683986778053, 0.09207328283353752, 0.09873849575614405, 0.08416417382397269, 0.07592311154666133, 0.11390293782885447, 0.09713644810549579, 0.08506126188885219, 0.11861395364249801, 0.0982479893381602, 0.10478163882368256, 0.0848774013855609, 0.10614193406550128, 0.0809118324347554, 0.16122923276795223, 0.10587126508404435, 0.10699523373750601]\n"
     ]
    }
   ],
   "source": [
    "from scipy.stats import norm, entropy\n",
    "# List of distributions to check\n",
    "distributions = ['norm', 'expon', 'lognorm']\n",
    "\n",
    "# Store KLD values\n",
    "kld_values = {}\n",
    "\n",
    "# Compute KLD for each distribution\n",
    "for dist_name in distributions:\n",
    "    dist = getattr(stats, dist_name)\n",
    "    kld_values[dist_name] = []\n",
    "    for i in range(96):\n",
    "        params = dist.fit(mus[:,i])\n",
    "        hist, bin_edges = np.histogram(mus[:,i], bins=100, density=True)\n",
    "        bin_centers = (bin_edges[:-1] + bin_edges[1:]) / 2\n",
    "        fitted_pdf = dist.pdf(bin_centers, *params)\n",
    "        kld = entropy(hist, fitted_pdf)\n",
    "        kld_values[dist_name].append(kld)\n",
    "\n",
    "        # # Plot the fitted PDF\n",
    "        # plt.plot(bin_centers, fitted_pdf, linewidth=2, label=f'Fitted {dist_name.title()}')\n",
    "\n",
    "\n",
    "        # plt.title('Sample PDF vs Fitted Distributions')\n",
    "        # plt.legend()\n",
    "        # plt.show()\n",
    "        # plt.clf()\n",
    "\n",
    "# Print KLD values\n",
    "for dist_name, kld_value in kld_values.items():\n",
    "    print(f'Kullback-Leibler Divergence (KLD) to {dist_name} distribution: {kld_value}')\n"
   ]
  },
  {
   "cell_type": "code",
   "execution_count": 23,
   "metadata": {},
   "outputs": [
    {
     "name": "stdout",
     "output_type": "stream",
     "text": [
      "# of normal distributions  57  # of exponential distributions  0  # of lognormal distributions  39\n"
     ]
    }
   ],
   "source": [
    "norm_dist, expo_dist, lognorm_dist = 0, 0, 0\n",
    "for dim in range(96):\n",
    "    min_kld = min(kld_values['norm'][dim], kld_values['expon'][dim], kld_values['lognorm'][dim])\n",
    "    if min_kld == kld_values['norm'][dim]:\n",
    "        norm_dist += 1\n",
    "    elif min_kld == kld_values['expon'][dim]:\n",
    "        expo_dist += 1\n",
    "    else:\n",
    "        lognorm_dist += 1\n",
    "print(\"# of normal distributions \",norm_dist, \" # of exponential distributions \", expo_dist, \" # of lognormal distributions \", lognorm_dist)"
   ]
  },
  {
   "cell_type": "code",
   "execution_count": null,
   "metadata": {},
   "outputs": [],
   "source": [
    "data = np.random.normal(mus[0][0], sigmas[0][0], 1000)\n",
    "sns.histplot(data, kde=True)\n",
    "plt.show()"
   ]
  },
  {
   "cell_type": "code",
   "execution_count": null,
   "metadata": {},
   "outputs": [],
   "source": [
    "dfs"
   ]
  },
  {
   "cell_type": "code",
   "execution_count": null,
   "metadata": {},
   "outputs": [],
   "source": [
    "averages = pd.concat([each.stack() for each in dfs],axis=1)\\\n",
    "             .apply(lambda x:x.mean(),axis=1)\\\n",
    "             .unstack()\n",
    "averages"
   ]
  },
  {
   "cell_type": "code",
   "execution_count": null,
   "metadata": {},
   "outputs": [],
   "source": [
    "sample_size = 100000\n",
    "sampled_data = combined_data.sample(n=sample_size, random_state=42)\n"
   ]
  },
  {
   "cell_type": "code",
   "execution_count": null,
   "metadata": {},
   "outputs": [],
   "source": [
    "\n",
    "correlation_matrix = combined_data.corr()"
   ]
  },
  {
   "cell_type": "code",
   "execution_count": null,
   "metadata": {},
   "outputs": [],
   "source": [
    "correlation_matrix"
   ]
  },
  {
   "cell_type": "code",
   "execution_count": null,
   "metadata": {},
   "outputs": [],
   "source": [
    "# plt.figure(figsize=(8, 6))\n",
    "# sns.heatmap(correlation_matrix, annot=True, cmap='coolwarm', vmin=-1, vmax=1)\n",
    "# plt.title('Correlation Matrix Heatmap')\n",
    "# plt.xlabel('Variables')\n",
    "# plt.ylabel('Variables')\n",
    "# plt.show()\n",
    "plt.imshow(averages, cmap='coolwarm', vmin=-1, vmax=1)\n",
    "plt.colorbar()\n",
    "plt.title('Correlation Matrix Heatmap')\n",
    "plt.show()"
   ]
  },
  {
   "cell_type": "code",
   "execution_count": null,
   "metadata": {},
   "outputs": [],
   "source": [
    "def clustering(mu):\n",
    "    slice_features_mu = mu.astype(float)\n",
    "    feature_flatten_mu = slice_features_mu.reshape(160, -1).T\n",
    "    K_CENTRE = 4\n",
    "    kmeans_mu = KMeans(\n",
    "        n_clusters=K_CENTRE, init='k-means++', n_init=10,\n",
    "        max_iter=1000, random_state=777\n",
    "    )\n",
    "    kmeans_mu.fit(feature_flatten_mu)\n",
    "    labels_mu = kmeans_mu.predict(feature_flatten_mu)\n",
    "    return labels_mu"
   ]
  },
  {
   "cell_type": "code",
   "execution_count": null,
   "metadata": {},
   "outputs": [],
   "source": [
    "def get_normalized_tensor(img,model,device):\n",
    "    '''\n",
    "    Normalizes tensor with mean and std.\n",
    "    Parameters\n",
    "    ----------\n",
    "    img: array\n",
    "        Image.\n",
    "    model: Hierarchical DivNoising model\n",
    "    device: GPU device.\n",
    "    '''\n",
    "    test_images = torch.from_numpy(img.copy()).to(device)\n",
    "    data_mean = model.data_mean\n",
    "    data_std = model.data_std\n",
    "    test_images = (test_images-data_mean)/data_std\n",
    "    return test_images"
   ]
  },
  {
   "cell_type": "code",
   "execution_count": null,
   "metadata": {},
   "outputs": [],
   "source": [
    "# for 4x4\n",
    "def make_tiled(img):\n",
    "    out = np.zeros([img.shape[0]+61, img.shape[1]+60])\n",
    "    # make mirror margin of 2d image\n",
    "    for i in range(30):\n",
    "        out[i,30:30+img.shape[1]] = img[30-i-1,:]\n",
    "        out[30:30+img.shape[0],30:30+img.shape[1]] = img\n",
    "        out[30+img.shape[0]+i,30:30+img.shape[1]] = img[img.shape[0]-i-1,:]\n",
    "    out[img.shape[0]+60,30:30+img.shape[1]] = img[img.shape[0]-31,:]\n",
    "    for i in range(30):\n",
    "        out[:,i] = out[:,60-i-1]\n",
    "        out[:, 30+img.shape[1]+i] = out[:, 30+img.shape[1]-i-1]\n",
    "    return out\n",
    "    "
   ]
  },
  {
   "cell_type": "code",
   "execution_count": null,
   "metadata": {},
   "outputs": [],
   "source": [
    "# for 2x2\n",
    "def make_tiled_x(img):\n",
    "    out = np.zeros([img.shape[0]+63, img.shape[1]+62])\n",
    "    # make mirror margin of 2d image\n",
    "    for i in range(31):\n",
    "        out[i,31:31+img.shape[1]] = img[31-i-1,:]\n",
    "        out[31:31+img.shape[0],31:31+img.shape[1]] = img\n",
    "        out[31+img.shape[0]+i,31:31+img.shape[1]] = img[img.shape[0]-i-1,:]\n",
    "    out[img.shape[0]+62,31:31+img.shape[1]] = img[img.shape[0]-32,:]\n",
    "    for i in range(31):\n",
    "        out[:,i] = out[:,62-i-1]\n",
    "        out[:, 31+img.shape[1]+i] = out[:, 31+img.shape[1]-i-1]\n",
    "    return out"
   ]
  },
  {
   "cell_type": "code",
   "execution_count": null,
   "metadata": {},
   "outputs": [],
   "source": [
    "# img = imread(path+\"data/test/high_c1_source_31.tif\")\n",
    "img = imread(\"/group/jug/Sheida/pancreatic beta cells/download/high_c1/contrastive/test/mito_golgi_gra/high_c1_source_187.tif\")\n",
    "tiled = make_tiled(img)\n",
    "img_height,img_width = 700,760\n",
    "img = get_normalized_tensor(tiled,model,device)\n",
    "output = np.zeros((32, 700, 760))\n",
    "for i in tqdm(range(0, img_height, 4)):\n",
    "    for j in range(0, img_width, 4):\n",
    "# for i in tqdm(range(0, img_height, 2)):\n",
    "#     for j in range(0, img_width, 2):\n",
    "        img_t = img[i:i+64,j:j+64]\n",
    "        # if img_t.shape != (64,64):\n",
    "        #     print(img_t.shape)\n",
    "        image_sample = img_t.view(1,1,64,64)\n",
    "        image_sample = image_sample.to(device=device, dtype=torch.float)\n",
    "        with torch.no_grad():\n",
    "            sample = model(image_sample, y=image_sample)\n",
    "            mus = sample['mu']\n",
    "            output[:32,i:i+4,j:j+4] = sample['mu'][0][0].cpu().numpy()[:,14:18,14:18]\n",
    "            # output[32:64,i:i+4,j:j+4] = sample['mu'][1][0].cpu().numpy()[:,6:10,6:10]\n",
    "            # output[64:96,i:i+4,j:j+4] = sample['mu'][2][0].cpu().numpy()[:,2:6,2:6]\n",
    "            # output[96:128,i:i+4,j:j+4] = sample['mu'][3][0].cpu().numpy()\n",
    "            # output[128:160,i:i+4,j:j+4] = sample['mu'][4][0].cpu().numpy().repeat(2,axis=1).repeat(2,axis=2)\n",
    "            # output[:32,i:i+2,j:j+2] = sample['mu'][0][0].cpu().numpy()[:,15:17,15:17]\n",
    "            # output[32:64,i:i+2,j:j+2] = sample['mu'][1][0].cpu().numpy()[:,7:9,7:9]\n",
    "            # output[64:96,i:i+2,j:j+2] = sample['mu'][2][0].cpu().numpy()[:,3:5,3:5]\n",
    "            # output[96:128,i:i+2,j:j+2] = sample['mu'][3][0].cpu().numpy()[:,1:3,1:3]\n",
    "            # output[128:160,i:i+2,j:j+2] = sample['mu'][4][0].cpu().numpy()\n"
   ]
  },
  {
   "cell_type": "code",
   "execution_count": null,
   "metadata": {},
   "outputs": [],
   "source": [
    "np.save(\"/group/jug/Sheida/HDN_models/27022024/Contrastive_False/imgs/output_187.npy\", output)"
   ]
  },
  {
   "cell_type": "code",
   "execution_count": null,
   "metadata": {},
   "outputs": [],
   "source": [
    "output = np.load(\"/group/jug/Sheida/HDN_models/27022024/Contrastive_False/imgs/output_187.npy\")"
   ]
  },
  {
   "cell_type": "code",
   "execution_count": null,
   "metadata": {},
   "outputs": [],
   "source": [
    "clusters = clustering(output)"
   ]
  },
  {
   "cell_type": "code",
   "execution_count": null,
   "metadata": {},
   "outputs": [],
   "source": [
    "# imwrite(\"/group/jug/Sheida/HDN_models/27022024/Contrastive_False/imgs/187_8_cluster.tif\", clusters.reshape(700, 760))\n",
    "plt.imshow(clusters.reshape(700, 760))\n",
    "plt.show()"
   ]
  },
  {
   "cell_type": "code",
   "execution_count": null,
   "metadata": {},
   "outputs": [],
   "source": [
    "# imwrite(\"/group/jug/Sheida/HDN_models/22022024/Trained_model_3/imgs/187_8_cluster_downscale_2.tif\", clusters.reshape(700, 760)[::2,::2])\n",
    "plt.imshow(clusters.reshape(700, 760)[::2,::2])\n",
    "plt.show()"
   ]
  },
  {
   "cell_type": "code",
   "execution_count": null,
   "metadata": {},
   "outputs": [],
   "source": [
    "# imwrite(\"/group/jug/Sheida/HDN_models/22022024/Trained_model_3/imgs/187_8_cluster_downscale_4.tif\", clusters.reshape(700, 760)[::4,::4])\n",
    "plt.imshow(clusters.reshape(700, 760)[::4,::4])\n",
    "plt.show()"
   ]
  },
  {
   "cell_type": "code",
   "execution_count": null,
   "metadata": {},
   "outputs": [],
   "source": [
    "def clustering_down_scale(index, mu):\n",
    "    slice_features_mu = mu.astype(float)\n",
    "    feature_flatten_mu = slice_features_mu.reshape(32, -1).T\n",
    "    K_CENTRE = 8\n",
    "    kmeans_mu = KMeans(\n",
    "        n_clusters=K_CENTRE, init='k-means++', n_init=10,\n",
    "        max_iter=1000, random_state=777\n",
    "    )\n",
    "    kmeans_mu.fit(feature_flatten_mu)\n",
    "    labels_mu = kmeans_mu.predict(feature_flatten_mu)\n",
    "    return labels_mu"
   ]
  },
  {
   "cell_type": "code",
   "execution_count": null,
   "metadata": {
    "scrolled": true
   },
   "outputs": [],
   "source": [
    "files = glob(\"/group/jug/Sheida/pancreatic beta cells/download/high_c1/contrastive/test/mito_golgi_gra/high_c1_source_187.tif\")\n",
    "img_height,img_width = 699, 760\n",
    "for i in files:\n",
    "    img = imread(i)\n",
    "    img_t = get_normalized_tensor(img,model,device)\n",
    "    image_sample = img_t.view(1,1,img_height,img_width)\n",
    "    image_sample = image_sample.to(device=device, dtype=torch.float)\n",
    "    with torch.no_grad():\n",
    "        sample = model(image_sample, image_sample)\n",
    "        mus = sample['mu']\n",
    "        output = np.zeros((160, 768, 704))\n",
    "\n",
    "        print(output.shape)\n",
    "\n",
    "        for idx in range(len(sample['mu'])):\n",
    "            mu = sample['mu'][idx][0].cpu().numpy()\n",
    "            print(mu.shape)\n",
    "            output = clustering_down_scale(idx, mu)\n",
    "            print(i)\n",
    "            imwrite(\"/group/jug/Sheida/HDN_models/27022024/Contrastive_False/imgs/187_\"+str(idx)+\".tif\", output.reshape(22*(2**(4-idx)), 24*(2**(4-idx))))\n",
    "            plt.imshow(output.reshape(22*(2**(4-idx)), 24*(2**(4-idx))))\n",
    "            plt.show()"
   ]
  },
  {
   "cell_type": "code",
   "execution_count": null,
   "metadata": {},
   "outputs": [],
   "source": [
    "import torch.nn.functional as F\n",
    "import matplotlib.pyplot as plt \n",
    "import torch\n",
    "import numpy as np\n",
    "from scipy.stats import norm \n",
    "from torch.distributions import kl_divergence\n",
    "from torch.distributions.normal import Normal\n",
    "\n",
    "input = Normal(torch.tensor([0 for i in range(5)]), torch.tensor([1 for i in range(5)]))\n",
    "target = Normal(torch.tensor([0.5 for i in range(5)]), torch.tensor([1 for i in range(5)]))\n",
    "output = kl_divergence(input, target)\n",
    "print(\"input: \",input,\"\\ntarget: \",target,\"\\noutput: \",output)\n",
    "print(torch.sum(output))\n",
    "plt.plot(np.arange(-20,20,8), norm.pdf(np.arange(-20,20,8), [0 for i in range(5)], [0.5 for i in range(5)]))\n",
    "plt.show()"
   ]
  },
  {
   "cell_type": "code",
   "execution_count": null,
   "metadata": {},
   "outputs": [],
   "source": [
    "from sklearn.metrics import silhouette_score, davies_bouldin_score, adjusted_rand_score\n",
    "\n",
    "# Assuming latent_z and labels are your latent space representations and true labels\n",
    "silhouette_avg = silhouette_score(latent_z, labels)\n",
    "davies_bouldin = davies_bouldin_score(latent_z, labels)\n"
   ]
  }
 ],
 "metadata": {
  "kernelspec": {
   "display_name": "Python 3 (ipykernel)",
   "language": "python",
   "name": "python3"
  },
  "language_info": {
   "codemirror_mode": {
    "name": "ipython",
    "version": 3
   },
   "file_extension": ".py",
   "mimetype": "text/x-python",
   "name": "python",
   "nbconvert_exporter": "python",
   "pygments_lexer": "ipython3",
   "version": "3.9.18"
  }
 },
 "nbformat": 4,
 "nbformat_minor": 4
}
