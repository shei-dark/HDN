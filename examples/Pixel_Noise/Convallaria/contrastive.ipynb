{
 "cells": [
  {
   "cell_type": "code",
   "execution_count": 1,
   "metadata": {},
   "outputs": [],
   "source": [
    "import torch\n",
    "import torch.nn.functional as F\n",
    "from torch.utils.data import Sampler, Dataset, DataLoader"
   ]
  },
  {
   "cell_type": "code",
   "execution_count": 6,
   "metadata": {},
   "outputs": [],
   "source": [
    "class PositiveNegativePairSampler(Sampler):\n",
    "    def __init__(self, labels):\n",
    "        self.labels = labels\n",
    "        self.label_indices = {label: torch.nonzero(labels == label).squeeze() for label in torch.unique(labels)}\n",
    "        print(self.label_indices)\n",
    "\n",
    "    def __iter__(self):\n",
    "        positive_pairs = []\n",
    "        negative_pairs = []\n",
    "\n",
    "        for label, indices_per_label in self.label_indices.items():\n",
    "            # Ensure there are at least two instances of the label for a positive pair\n",
    "            if len(indices_per_label) >= 2:\n",
    "                # Generate positive pairs\n",
    "                pairs = torch.tensor(list(torch.combinations(indices_per_label, r=2)))\n",
    "                positive_pairs.extend(pairs.tolist())\n",
    "\n",
    "                # Generate negative pairs\n",
    "                other_labels = torch.unique(self.labels[self.labels != label])\n",
    "                for _ in range(len(pairs)):\n",
    "                    random_negative_label = other_labels[torch.randint(len(other_labels), (1,))].item()\n",
    "                    negative_indices = self.label_indices[random_negative_label]\n",
    "                    negative_pairs.append((pairs[_][0].item(), negative_indices[torch.randint(len(negative_indices), (1,))].item()))\n",
    "\n",
    "        all_pairs = positive_pairs + negative_pairs\n",
    "        return iter(all_pairs)\n",
    "\n",
    "    def __len__(self):\n",
    "        max_positive = max(len(indices_per_label) // 2 for indices_per_label in self.label_indices.values() if len(indices_per_label) >= 2)\n",
    "        max_negative = max(len(indices_per_label) * (len(indices_per_label) - 1) // 2 for indices_per_label in self.label_indices.values() if len(indices_per_label) >= 2)\n",
    "        return len(self.label_indices) * max(0, max(max_positive, max_negative))\n"
   ]
  },
  {
   "cell_type": "code",
   "execution_count": 7,
   "metadata": {},
   "outputs": [],
   "source": [
    "class CustomDataset(Dataset):\n",
    "    def __init__(self, data, labels):\n",
    "        self.data = data\n",
    "        self.labels = labels\n",
    "\n",
    "    def __len__(self):\n",
    "        return len(self.data)\n",
    "\n",
    "    def __getitem__(self, index):\n",
    "        return self.data[index], self.labels[index]"
   ]
  },
  {
   "cell_type": "code",
   "execution_count": 8,
   "metadata": {},
   "outputs": [],
   "source": [
    "def pixel_wise_contrastive_loss(z, pairs, temperature=1.0):\n",
    "    z_flat = z.view(len(z), -1)\n",
    "\n",
    "    # Extract representations for positive pairs\n",
    "    z1 = z_flat[0, pairs[:, 0]]\n",
    "    z2 = z_flat[0, pairs[:, 1]]\n",
    "\n",
    "    # Compute cosine similarity between pixel representations\n",
    "    similarities = F.cosine_similarity(z1, z2, dim=-1)\n",
    "\n",
    "    # Apply temperature scaling\n",
    "    similarities_scaled = similarities / temperature\n",
    "\n",
    "    # Compute log probability for positive pairs\n",
    "    log_prob_pos = F.log_softmax(similarities_scaled, dim=-1)\n",
    "\n",
    "    # Negative pairs (pixels from the same image but not in the positive pairs)\n",
    "    log_prob_neg = torch.log(torch.sum(torch.exp(similarities_scaled), dim=-1))\n",
    "\n",
    "    # Compute loss\n",
    "    loss = - (log_prob_pos - log_prob_neg)\n",
    "\n",
    "    return loss.mean()"
   ]
  },
  {
   "cell_type": "code",
   "execution_count": 10,
   "metadata": {},
   "outputs": [
    {
     "name": "stdout",
     "output_type": "stream",
     "text": [
      "Labels: tensor([3, 4, 5, 5, 4, 4, 2, 5, 3, 0, 1, 2, 5, 0, 3, 5, 5, 5, 0, 5, 0, 0, 5, 3,\n",
      "        1, 2, 5, 2, 5, 1, 5, 4, 5, 5, 2, 4, 5, 4, 5, 0, 3, 5, 2, 0, 1, 1, 1, 3,\n",
      "        3, 2, 2, 0, 3, 4, 2, 0, 4, 1, 0, 0, 1, 4, 1, 1, 5, 5, 3, 5, 3, 3, 3, 0,\n",
      "        3, 0, 2, 5, 2, 1, 3, 4, 2, 5, 4, 5, 5, 4, 1, 5, 4, 4, 4, 1, 5, 2, 4, 0,\n",
      "        1, 0, 0, 3])\n",
      "{tensor(0): tensor([ 9, 13, 18, 20, 21, 39, 43, 51, 55, 58, 59, 71, 73, 95, 97, 98]), tensor(1): tensor([10, 24, 29, 44, 45, 46, 57, 60, 62, 63, 77, 86, 91, 96]), tensor(2): tensor([ 6, 11, 25, 27, 34, 42, 49, 50, 54, 74, 76, 80, 93]), tensor(3): tensor([ 0,  8, 14, 23, 40, 47, 48, 52, 66, 68, 69, 70, 72, 78, 99]), tensor(4): tensor([ 1,  4,  5, 31, 35, 37, 53, 56, 61, 79, 82, 85, 88, 89, 90, 94]), tensor(5): tensor([ 2,  3,  7, 12, 15, 16, 17, 19, 22, 26, 28, 30, 32, 33, 36, 38, 41, 64,\n",
      "        65, 67, 75, 81, 83, 84, 87, 92])}\n"
     ]
    },
    {
     "ename": "TypeError",
     "evalue": "only integer tensors of a single element can be converted to an index",
     "output_type": "error",
     "traceback": [
      "\u001b[0;31m---------------------------------------------------------------------------\u001b[0m",
      "\u001b[0;31mTypeError\u001b[0m                                 Traceback (most recent call last)",
      "Cell \u001b[0;32mIn[10], line 12\u001b[0m\n\u001b[1;32m     10\u001b[0m \u001b[39mfor\u001b[39;00m batch \u001b[39min\u001b[39;00m dataloader:\n\u001b[1;32m     11\u001b[0m     z, labels_batch \u001b[39m=\u001b[39m batch\n\u001b[0;32m---> 12\u001b[0m     positive_pairs \u001b[39m=\u001b[39m torch\u001b[39m.\u001b[39mtensor(\u001b[39mlist\u001b[39;49m(sampler))\n\u001b[1;32m     13\u001b[0m     loss \u001b[39m=\u001b[39m pixel_wise_contrastive_loss(z, positive_pairs)\n\u001b[1;32m     14\u001b[0m     \u001b[39mprint\u001b[39m(\u001b[39m\"\u001b[39m\u001b[39mPixel-wise Contrastive Loss:\u001b[39m\u001b[39m\"\u001b[39m, loss\u001b[39m.\u001b[39mitem())\n",
      "Cell \u001b[0;32mIn[6], line 15\u001b[0m, in \u001b[0;36mPositiveNegativePairSampler.__iter__\u001b[0;34m(self)\u001b[0m\n\u001b[1;32m     11\u001b[0m \u001b[39mfor\u001b[39;00m label, indices_per_label \u001b[39min\u001b[39;00m \u001b[39mself\u001b[39m\u001b[39m.\u001b[39mlabel_indices\u001b[39m.\u001b[39mitems():\n\u001b[1;32m     12\u001b[0m     \u001b[39m# Ensure there are at least two instances of the label for a positive pair\u001b[39;00m\n\u001b[1;32m     13\u001b[0m     \u001b[39mif\u001b[39;00m \u001b[39mlen\u001b[39m(indices_per_label) \u001b[39m>\u001b[39m\u001b[39m=\u001b[39m \u001b[39m2\u001b[39m:\n\u001b[1;32m     14\u001b[0m         \u001b[39m# Generate positive pairs\u001b[39;00m\n\u001b[0;32m---> 15\u001b[0m         pairs \u001b[39m=\u001b[39m torch\u001b[39m.\u001b[39;49mtensor(\u001b[39mlist\u001b[39;49m(torch\u001b[39m.\u001b[39;49mcombinations(indices_per_label, r\u001b[39m=\u001b[39;49m\u001b[39m2\u001b[39;49m)))\n\u001b[1;32m     16\u001b[0m         positive_pairs\u001b[39m.\u001b[39mextend(pairs\u001b[39m.\u001b[39mtolist())\n\u001b[1;32m     18\u001b[0m         \u001b[39m# Generate negative pairs\u001b[39;00m\n",
      "\u001b[0;31mTypeError\u001b[0m: only integer tensors of a single element can be converted to an index"
     ]
    }
   ],
   "source": [
    "# Example usage\n",
    "labels = torch.randint(6, (100,))  # Assuming 6 different labels\n",
    "print(\"Labels:\", labels)\n",
    "sampler = PositiveNegativePairSampler(labels)\n",
    "\n",
    "# Assuming you have a dataset with pixel representations (z) and corresponding labels\n",
    "dataset = CustomDataset(torch.randn((100, 256)), labels)\n",
    "dataloader = DataLoader(dataset, batch_size=1, shuffle=True)\n",
    "\n",
    "for batch in dataloader:\n",
    "    z, labels_batch = batch\n",
    "    positive_pairs = torch.tensor(list(sampler))\n",
    "    loss = pixel_wise_contrastive_loss(z, positive_pairs)\n",
    "    print(\"Pixel-wise Contrastive Loss:\", loss.item())"
   ]
  },
  {
   "cell_type": "code",
   "execution_count": null,
   "metadata": {},
   "outputs": [],
   "source": []
  }
 ],
 "metadata": {
  "kernelspec": {
   "display_name": "maester",
   "language": "python",
   "name": "python3"
  },
  "language_info": {
   "codemirror_mode": {
    "name": "ipython",
    "version": 3
   },
   "file_extension": ".py",
   "mimetype": "text/x-python",
   "name": "python",
   "nbconvert_exporter": "python",
   "pygments_lexer": "ipython3",
   "version": "3.9.18"
  },
  "orig_nbformat": 4
 },
 "nbformat": 4,
 "nbformat_minor": 2
}
