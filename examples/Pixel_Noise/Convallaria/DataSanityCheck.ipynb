{
 "cells": [
  {
   "cell_type": "code",
   "execution_count": 14,
   "metadata": {},
   "outputs": [],
   "source": [
    "import warnings\n",
    "warnings.filterwarnings('ignore')\n",
    "# We import all our dependencies.\n",
    "import torch\n",
    "import sys\n",
    "import os\n",
    "sys.path.append('../../../')\n",
    "sys.path.append('/home/sheida.rahnamai/GIT/HDN/')\n",
    "import tifffile as tiff\n",
    "import numpy as np\n",
    "import glob"
   ]
  },
  {
   "cell_type": "code",
   "execution_count": 16,
   "metadata": {},
   "outputs": [
    {
     "name": "stdout",
     "output_type": "stream",
     "text": [
      "Train images loaded from paths:\n",
      "/group/jug/Sheida/pancreatic beta cells/download/high_c1/high_c1_source.tif\n",
      "/group/jug/Sheida/pancreatic beta cells/download/high_c2/high_c2_source.tif\n",
      "/group/jug/Sheida/pancreatic beta cells/download/high_c3/high_c3_source.tif\n",
      "Ground truth images loaded from paths:\n",
      "/group/jug/Sheida/pancreatic beta cells/download/high_c1/high_c1_membrane_full_mask.tif\n",
      "/group/jug/Sheida/pancreatic beta cells/download/high_c1/high_c1_nucleus_mask.tif\n",
      "/group/jug/Sheida/pancreatic beta cells/download/high_c1/high_c1_granules.tif\n",
      "/group/jug/Sheida/pancreatic beta cells/download/high_c1/high_c1_mitochondria_mask.tif\n",
      "/group/jug/Sheida/pancreatic beta cells/download/high_c2/high_c2_membrane_full_mask.tif\n",
      "/group/jug/Sheida/pancreatic beta cells/download/high_c2/high_c2_nucleus_mask.tif\n",
      "/group/jug/Sheida/pancreatic beta cells/download/high_c2/high_c2_granules.tif\n",
      "/group/jug/Sheida/pancreatic beta cells/download/high_c2/high_c2_mitochondria_mask.tif\n",
      "/group/jug/Sheida/pancreatic beta cells/download/high_c3/high_c3_membrane_full_mask.tif\n",
      "/group/jug/Sheida/pancreatic beta cells/download/high_c3/high_c3_nucleus_mask.tif\n",
      "/group/jug/Sheida/pancreatic beta cells/download/high_c3/high_c3_granules.tif\n",
      "/group/jug/Sheida/pancreatic beta cells/download/high_c3/high_c3_mitochondria_mask.tif\n",
      "Loaded 3 train images.\n",
      "Loaded ground truth images for each class and train image.\n",
      "high_c1 (1097, 699, 760)\n",
      "high_c2 (1043, 606, 870)\n",
      "high_c3 (1023, 676, 845)\n",
      "high_c1 membrane_full_mask (1097, 699, 760)\n",
      "high_c1 nucleus_mask (1097, 699, 760)\n",
      "high_c1 granules (1097, 699, 760)\n",
      "high_c1 mitochondria_mask (1097, 699, 760)\n",
      "high_c2 membrane_full_mask (1043, 606, 870)\n",
      "high_c2 nucleus_mask (1043, 606, 870)\n",
      "high_c2 granules (1043, 606, 870)\n",
      "high_c2 mitochondria_mask (1043, 606, 870)\n",
      "high_c3 membrane_full_mask (1023, 676, 845)\n",
      "high_c3 nucleus_mask (1023, 676, 845)\n",
      "high_c3 granules (1023, 676, 845)\n",
      "high_c3 mitochondria_mask (1023, 676, 845)\n"
     ]
    }
   ],
   "source": [
    "use_cuda = torch.cuda.is_available()\n",
    "device = torch.device(\"cuda\" if use_cuda else \"cpu\")\n",
    "\n",
    "data_dir=\"/group/jug/Sheida/pancreatic beta cells/download/\"\n",
    "\"\"\"\n",
    "Three train Images -> ['high_c1', 'high_c2', 'high_c3']\n",
    "'source' is the original image\n",
    "Four classes -> ['membrane_full_mask', 'nucleus_mask', 'mitochondria_mask', 'granules']\n",
    "in general I want to first load these 12 ground truth and 3 original images\n",
    "\"\"\"\n",
    "\n",
    "Three_train_images = ['high_c1', 'high_c2', 'high_c3']\n",
    "Four_classes = ['membrane_full_mask', 'nucleus_mask', 'granules', 'mitochondria_mask']\n",
    "\n",
    "# Load source images\n",
    "train_img_paths = [os.path.join(data_dir, img, f\"{img}_source.tif\") for img in Three_train_images]\n",
    "train_images = {img: tiff.imread(path) for img, path in zip(Three_train_images, train_img_paths)}\n",
    "\n",
    "# Print loaded train images paths\n",
    "print(\"Train images loaded from paths:\")\n",
    "for img, path in zip(Three_train_images, train_img_paths):\n",
    "    print(path)\n",
    "\n",
    "# Load ground truth images\n",
    "ground_truth_paths = {img: {cls: os.path.join(data_dir, img, f\"{img}_{cls}.tif\") for cls in Four_classes} for img in Three_train_images}\n",
    "ground_truth_images = {img: {cls: tiff.imread(path) for cls, path in cls_paths.items()} for img, cls_paths in ground_truth_paths.items()}\n",
    "\n",
    "# Print loaded ground truth images paths\n",
    "print(\"Ground truth images loaded from paths:\")\n",
    "for img, cls_paths in ground_truth_paths.items():\n",
    "    for cls, path in cls_paths.items():\n",
    "        print(path)\n",
    "\n",
    "# Debug information\n",
    "print(f\"Loaded {len(train_images)} train images.\")\n",
    "print(f\"Loaded ground truth images for each class and train image.\")\n",
    "\n",
    "for key, value in train_images.items():\n",
    "    print(key,value.shape)\n",
    "\n",
    "for key1 in ground_truth_images.keys():\n",
    "    for key2, value in ground_truth_images[key1].items():\n",
    "        print(key1, key2, value.shape)"
   ]
  },
  {
   "cell_type": "code",
   "execution_count": 17,
   "metadata": {},
   "outputs": [
    {
     "name": "stdout",
     "output_type": "stream",
     "text": [
      "Processed high_c1, combined label shape: (1097, 699, 760)\n",
      "Unique labels in high_c1: {-1: 336073190, 0: 148661252, 1: 30835445, 2: 50691050, 3: 16509343}\n",
      "Processed high_c2, combined label shape: (1043, 606, 870)\n",
      "Unique labels in high_c2: {-1: 346330475, 0: 118060283, 1: 28269712, 2: 37419176, 3: 19810814}\n",
      "Processed high_c3, combined label shape: (1023, 676, 845)\n",
      "Unique labels in high_c3: {-1: 365043831, 0: 121570579, 1: 25018115, 2: 61947009, 3: 10778526}\n"
     ]
    }
   ],
   "source": [
    "import numpy as np\n",
    "import tifffile as tiff\n",
    "import os\n",
    "\n",
    "# Define data directory\n",
    "data_dir = \"/group/jug/Sheida/pancreatic beta cells/download/\"\n",
    "\n",
    "# Image and class identifiers\n",
    "Three_train_images = ['high_c1', 'high_c2', 'high_c3']\n",
    "Four_classes = ['membrane_full_mask', 'nucleus_mask', 'mitochondria_mask', 'granules']\n",
    "\n",
    "# Function to load images\n",
    "def load_images(data_dir, image_ids, class_ids):\n",
    "    ground_truth_paths = {img: {cls: os.path.join(data_dir, img, f\"{img}_{cls}.tif\") for cls in class_ids} for img in image_ids}\n",
    "    ground_truth_images = {img: {cls: tiff.imread(path) for cls, path in cls_paths.items()} for img, cls_paths in ground_truth_paths.items()}\n",
    "    return ground_truth_images\n",
    "\n",
    "# Load the ground truth images\n",
    "ground_truth_images = load_images(data_dir, Three_train_images, Four_classes)\n",
    "\n",
    "# Initialize dictionaries to store the combined labels\n",
    "combined_labels = {img: np.full_like(ground_truth_images[img]['membrane_full_mask'], -1, dtype=int) for img in Three_train_images}\n",
    "\n",
    "# Process each image\n",
    "for img in Three_train_images:\n",
    "    membrane_mask = ground_truth_images[img]['membrane_full_mask']\n",
    "    nucleus_mask = ground_truth_images[img]['nucleus_mask']\n",
    "    mitochondria_mask = ground_truth_images[img]['mitochondria_mask']\n",
    "    granules_mask = ground_truth_images[img]['granules']\n",
    "\n",
    "    # Process each slice in the z-stack\n",
    "    for z in range(membrane_mask.shape[0]):\n",
    "        mem_slice = membrane_mask[z]\n",
    "        nuc_slice = nucleus_mask[z]\n",
    "        mito_slice = mitochondria_mask[z]\n",
    "        gran_slice = granules_mask[z]\n",
    "\n",
    "        combined_slice = combined_labels[img][z]\n",
    "\n",
    "        # Find non-zero elements in membrane_full_mask\n",
    "        non_zero_indices = np.nonzero(mem_slice)\n",
    "\n",
    "        for i, j in zip(*non_zero_indices):\n",
    "            if nuc_slice[i, j] != 0:\n",
    "                combined_slice[i, j] = 1\n",
    "            elif gran_slice[i, j] != 0:\n",
    "                combined_slice[i, j] = 2\n",
    "            elif mito_slice[i, j] != 0:\n",
    "                combined_slice[i, j] = 3\n",
    "            else:\n",
    "                combined_slice[i, j] = 0\n",
    "\n",
    "# Debug information\n",
    "for img in Three_train_images:\n",
    "    print(f\"Processed {img}, combined label shape: {combined_labels[img].shape}\")\n",
    "    unique_labels, counts = np.unique(combined_labels[img], return_counts=True)\n",
    "    print(f\"Unique labels in {img}: {dict(zip(unique_labels, counts))}\")\n"
   ]
  },
  {
   "cell_type": "code",
   "execution_count": 19,
   "metadata": {},
   "outputs": [
    {
     "data": {
      "text/plain": [
       "dict_keys(['high_c1', 'high_c2', 'high_c3'])"
      ]
     },
     "execution_count": 19,
     "metadata": {},
     "output_type": "execute_result"
    }
   ],
   "source": [
    "combined_labels.keys()"
   ]
  },
  {
   "cell_type": "code",
   "execution_count": 22,
   "metadata": {},
   "outputs": [],
   "source": [
    "for key, value in combined_labels.items():\n",
    "    tiff.imwrite(data_dir + f\"combined_labels_{key}.tif\", value.astype(np.int8))"
   ]
  }
 ],
 "metadata": {
  "kernelspec": {
   "display_name": "Python 3",
   "language": "python",
   "name": "python3"
  },
  "language_info": {
   "codemirror_mode": {
    "name": "ipython",
    "version": 3
   },
   "file_extension": ".py",
   "mimetype": "text/x-python",
   "name": "python",
   "nbconvert_exporter": "python",
   "pygments_lexer": "ipython3",
   "version": "3.12.4"
  }
 },
 "nbformat": 4,
 "nbformat_minor": 2
}
