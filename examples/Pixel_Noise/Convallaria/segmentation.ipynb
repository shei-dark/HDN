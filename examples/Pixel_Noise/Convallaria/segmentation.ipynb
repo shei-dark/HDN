{
 "cells": [
  {
   "cell_type": "code",
   "execution_count": 1,
   "metadata": {},
   "outputs": [],
   "source": [
    "import sys\n",
    "sys.path.append('../../../')\n",
    "sys.path.append('/home/sheida.rahnamai/GIT/HDN/')\n",
    "import torch\n",
    "import pickle\n",
    "import matplotlib.pyplot as plt\n",
    "import numpy as np\n",
    "from tifffile import imread\n",
    "import glob\n",
    "import matplotlib.patches as patches\n",
    "import hdbscan as hd\n",
    "from hdbscan import prediction\n",
    "from sklearn.cluster import HDBSCAN\n",
    "from collections import Counter\n",
    "from openTSNE import TSNE\n",
    "from openTSNE import TSNEEmbedding\n",
    "from openTSNE import affinity\n",
    "from openTSNE import initialization\n",
    "from sklearn.decomposition import PCA\n",
    "from scipy.spatial.distance import cdist\n",
    "# %reload lib.plotting \n",
    "from lib import plotting as p\n",
    "from lib import dataprep as dp\n",
    "import random\n",
    "import umap\n",
    "from tqdm import tqdm\n",
    "from lib.evaluation import FeatureExtractor\n",
    "# from lib.dataloader import CustomTestDataset\n",
    "from lib.dataloader import CustomDataset\n",
    "import tifffile as tiff\n",
    "from sklearn.utils import shuffle\n",
    "from sklearn.preprocessing import StandardScaler\n",
    "from sklearn.mixture import GaussianMixture\n",
    "from sklearn.cluster import KMeans\n",
    "import os\n",
    "from boilerplate import boilerplate\n",
    "from importlib import reload\n",
    "from mpl_toolkits.mplot3d import Axes3D\n",
    "import matplotlib.colors as mcolors\n",
    "import seaborn as sns\n",
    "import pandas as pd\n",
    "from sklearn.metrics import confusion_matrix, adjusted_rand_score, normalized_mutual_info_score, homogeneity_score, completeness_score, v_measure_score"
   ]
  },
  {
   "attachments": {},
   "cell_type": "markdown",
   "metadata": {},
   "source": [
    "## Loading the model"
   ]
  },
  {
   "cell_type": "code",
   "execution_count": 2,
   "metadata": {},
   "outputs": [],
   "source": [
    "use_cuda = torch.cuda.is_available()\n",
    "device = torch.device(\"cuda\" if use_cuda else \"cpu\")\n",
    "\n",
    "patch_size = 64\n",
    "sample_size = 350\n",
    "centre_size = 4\n",
    "n_channel = 32\n",
    "hierarchy_level = 3\n",
    "pad_size = (patch_size - centre_size) // 2\n",
    "model_dir = \"/group/jug/Sheida/HVAE/v01/model/\"\n",
    "model = torch.load(model_dir+\"HVAE_best_vae.net\")"
   ]
  },
  {
   "attachments": {},
   "cell_type": "markdown",
   "metadata": {},
   "source": [
    "### Loading train data\n",
    "### Sample from different classes\n",
    "### Loading test data"
   ]
  },
  {
   "cell_type": "code",
   "execution_count": 16,
   "metadata": {},
   "outputs": [],
   "source": [
    "with open('/group/jug/Sheida/pancreatic beta cells/download/train/10_percent_nucleus.pickle', 'rb') as file:\n",
    "    # Deserialize and retrieve the variable from the file\n",
    "    loaded_data = pickle.load(file)"
   ]
  },
  {
   "cell_type": "code",
   "execution_count": 10,
   "metadata": {},
   "outputs": [
    {
     "name": "stdout",
     "output_type": "stream",
     "text": [
      "1777\n"
     ]
    }
   ],
   "source": [
    "print(len(loaded_data))"
   ]
  },
  {
   "cell_type": "code",
   "execution_count": 8,
   "metadata": {},
   "outputs": [
    {
     "name": "stderr",
     "output_type": "stream",
     "text": [
      "filtering out outside of the cell: 100%|██████████| 3/3 [00:00<00:00,  4.30it/s]\n",
      "Normalizing data: 100%|██████████| 3/3 [00:02<00:00,  1.34it/s]\n",
      "Extracting patches from high_c1: 965it [00:02, 326.09it/s]\n",
      "Extracting patches from high_c2: 889it [00:02, 355.70it/s]\n",
      "Extracting patches from high_c3: 907it [00:02, 346.44it/s]\n",
      "Extracting patches from high_c1: 109it [00:00, 377.35it/s]\n",
      "Extracting patches from high_c2: 101it [00:00, 409.37it/s]\n",
      "Extracting patches from high_c3: 103it [00:00, 375.83it/s]\n"
     ]
    }
   ],
   "source": [
    "# train data\n",
    "\n",
    "data_dir = \"/group/jug/Sheida/pancreatic beta cells/download/\"\n",
    "keys = ['high_c1', 'high_c2', 'high_c3']\n",
    "\n",
    "# Load source images\n",
    "train_img_paths = [os.path.join(data_dir + 'train/' + key + f\"/{key}_source.tif\") for key in keys]\n",
    "train_lbl_paths = [os.path.join(data_dir + 'train/' + key + f\"/{key}_gt.tif\") for key in keys]\n",
    "val_img_paths = [os.path.join(data_dir + 'val/' + key + f\"/{key}_source.tif\") for key in keys]\n",
    "val_lbl_paths = [os.path.join(data_dir + 'val/' + key + f\"/{key}_gt.tif\") for key in keys]\n",
    "\n",
    "train_images = {key: tiff.imread(path) for key, path in zip(keys, train_img_paths)}\n",
    "train_labels = {key: tiff.imread(path) for key, path in zip(keys, train_lbl_paths)}\n",
    "\n",
    "val_images = {key: tiff.imread(path) for key, path in zip(keys, val_img_paths)}\n",
    "val_labels = {key: tiff.imread(path) for key, path in zip(keys, val_lbl_paths)}\n",
    "\n",
    "for key in tqdm(keys, desc='filtering out outside of the cell'):\n",
    "   filtered_image, filtered_label = boilerplate._filter_slices(train_images[key], train_labels[key])\n",
    "   train_images[key] = filtered_image\n",
    "   train_labels[key] = filtered_label\n",
    "\n",
    "   filtered_image, filtered_label = boilerplate._filter_slices(val_images[key], val_labels[key])\n",
    "   \n",
    "   val_images[key] = filtered_image\n",
    "   val_labels[key] = filtered_label\n",
    "\n",
    "# compute mean and std of the data\n",
    "all_elements = np.concatenate([train_images[key].flatten() for key in keys])\n",
    "data_mean = np.mean(all_elements)\n",
    "data_std = np.std(all_elements)\n",
    "\n",
    "# normalizing the data\n",
    "for key in tqdm(keys, 'Normalizing data'):\n",
    "   train_images[key] = (train_images[key] - data_mean) / data_std\n",
    "   val_images[key] = (val_images[key] - data_mean) / data_std\n",
    "\n",
    "train_set = CustomDataset(train_images, train_labels)\n",
    "val_set = CustomDataset(val_images, val_labels)\n"
   ]
  },
  {
   "cell_type": "code",
   "execution_count": null,
   "metadata": {},
   "outputs": [],
   "source": [
    "\n",
    "One_test_image = ['high_c4']\n",
    "\n",
    "# Load test image\n",
    "test_img_path = os.path.join(data_dir, One_test_image[0], f\"{One_test_image[0]}_source.tif\")\n",
    "test_image = tiff.imread(test_img_path)\n",
    "\n",
    "# Print loaded test images paths\n",
    "print(\"Test image loaded from path:\")\n",
    "print(test_img_path)\n",
    "\n",
    "# Load test ground truth images\n",
    "test_gt_path = os.path.join(data_dir, One_test_image[0], f\"{One_test_image[0]}_gt.tif\")\n",
    "test_ground_truth_image = tiff.imread(test_gt_path)\n",
    "\n",
    "bg_indices = random.sample(train_set.patches_by_label[0],sample_size)\n",
    "nucleus_indices = random.sample(train_set.patches_by_label[1],sample_size)\n",
    "granule_indices = random.sample(train_set.patches_by_label[2],sample_size)\n",
    "mito_indices = random.sample(train_set.patches_by_label[3],sample_size)\n",
    "\n",
    "bg_samples, bg_cls, bg_lbl = train_set[bg_indices]\n",
    "nucleus_samples, nucleus_cls, nucleus_lbl = train_set[nucleus_indices]\n",
    "granule_samples, granule_cls, granule_lbl = train_set[granule_indices]\n",
    "mito_samples, mito_cls, mito_lbl = train_set[mito_indices]\n",
    "\n",
    "bg_samples = bg_samples.squeeze(1)\n",
    "bg_lbl = bg_lbl.squeeze(1)\n",
    "nucleus_samples = nucleus_samples.squeeze(1)\n",
    "nucleus_lbl = nucleus_lbl.squeeze(1)\n",
    "granule_samples = granule_samples.squeeze(1)\n",
    "granule_lbl = granule_lbl.squeeze(1)\n",
    "mito_samples = mito_samples.squeeze(1)\n",
    "mito_lbl = mito_lbl.squeeze(1)\n",
    "\n",
    "#test data\n",
    "\n",
    "test_images = (test_image-data_mean)/data_std\n",
    "\n",
    "test_slice = test_images[626]\n",
    "test_slice_lbl = test_ground_truth_image[626]"
   ]
  },
  {
   "attachments": {},
   "cell_type": "markdown",
   "metadata": {},
   "source": [
    "Uncategorized: 60777 Nucleus: 17907 Granule: 17835 Mitochondria: 17907"
   ]
  },
  {
   "cell_type": "code",
   "execution_count": null,
   "metadata": {},
   "outputs": [],
   "source": [
    "train_batch = torch.cat([bg_samples, nucleus_samples, granule_samples, mito_samples], dim=0)"
   ]
  },
  {
   "cell_type": "code",
   "execution_count": null,
   "metadata": {},
   "outputs": [],
   "source": [
    "model.mode_pred = True\n",
    "model.eval()\n",
    "device = model.device\n",
    "with torch.no_grad():\n",
    "    train_batch = train_batch.to(device=device, dtype=torch.float)\n",
    "    train_batch = train_batch.reshape(-1, 1, patch_size, patch_size)\n",
    "    output = model(train_batch, train_batch, train_batch, model_layers=[i for i in range(hierarchy_level)])\n",
    "    mu = output[\"mu\"]"
   ]
  },
  {
   "cell_type": "code",
   "execution_count": null,
   "metadata": {},
   "outputs": [],
   "source": [
    "print(mu[0].shape, mu[1].shape, mu[2].shape)"
   ]
  },
  {
   "cell_type": "code",
   "execution_count": null,
   "metadata": {},
   "outputs": [],
   "source": [
    "p.plot_w_b((test_slice, 'Training patch', False),\\\n",
    "        (test_slice_lbl, 'Ground truth label', False),\\\n",
    "        plot_types=['imshow', 'imshow_l'],\\\n",
    "        box_size = 10\n",
    "        )"
   ]
  },
  {
   "cell_type": "code",
   "execution_count": null,
   "metadata": {},
   "outputs": [],
   "source": [
    "i, j, k, l = np.random.randint(0, sample_size, 4)\n",
    "p.plot_w_b((bg_samples[i], 'Training patch', (pad_size, pad_size, centre_size)),\\\n",
    "        (bg_lbl[i], 'Ground truth label', (pad_size, pad_size, centre_size)),\\\n",
    "        (nucleus_samples[j], 'Training patch', (pad_size, pad_size, centre_size)),\\\n",
    "        (nucleus_lbl[j], 'Ground truth label', (pad_size, pad_size, centre_size)),\\\n",
    "        (granule_samples[k], 'Training patch', (pad_size, pad_size, centre_size)),\\\n",
    "        (granule_lbl[k], 'Ground truth label', (pad_size, pad_size, centre_size)),\\\n",
    "        (mito_samples[l], 'Training patch', (pad_size, pad_size, centre_size)),\\\n",
    "        (mito_lbl[l], 'Ground truth label', (pad_size, pad_size, centre_size)),\\\n",
    "        plot_types=['imshow', 'imshow_l', 'imshow', 'imshow_l', 'imshow', 'imshow_l', 'imshow', 'imshow_l']\n",
    "        )"
   ]
  },
  {
   "attachments": {},
   "cell_type": "markdown",
   "metadata": {},
   "source": [
    "## Extracting latent space from Encoder"
   ]
  },
  {
   "cell_type": "code",
   "execution_count": null,
   "metadata": {},
   "outputs": [],
   "source": [
    "bg_mu, nuc_mu, gra_mu, mito_mu = np.empty((0, 43008)), np.empty((0, 43008)), np.empty((0, 43008)), np.empty((0, 43008))\n",
    "FE = FeatureExtractor(model, patch_size, centre_size)\n",
    "for idx in range(sample_size):\n",
    "    mu = FE.get_feature_maps(bg_samples[idx])\n",
    "    bg_mu = np.vstack([bg_mu, mu])\n",
    "    mu = FE.get_feature_maps(nucleus_samples[idx])\n",
    "    nuc_mu = np.vstack([nuc_mu, mu])\n",
    "    mu = FE.get_feature_maps(granule_samples[idx])\n",
    "    gra_mu = np.vstack([gra_mu, mu])\n",
    "    mu = FE.get_feature_maps(mito_samples[idx])\n",
    "    mito_mu = np.vstack([mito_mu, mu])\n",
    "train_mu = np.concatenate((bg_mu, nuc_mu, gra_mu, mito_mu), axis=0)\n",
    "train_labels = np.array([0] * sample_size + [1] * sample_size + [2] * sample_size + [3] * sample_size)"
   ]
  },
  {
   "cell_type": "code",
   "execution_count": null,
   "metadata": {},
   "outputs": [],
   "source": [
    "print(bg_mu.shape, nuc_mu.shape, gra_mu.shape, mito_mu.shape, train_mu.shape, train_labels.shape)"
   ]
  },
  {
   "cell_type": "code",
   "execution_count": null,
   "metadata": {},
   "outputs": [],
   "source": [
    "bg_gra_dist = cdist(bg_mu, gra_mu, 'euclidean')\n",
    "total_bg_gra_dist = np.mean(bg_gra_dist)\n",
    "print(f\"Uncategorized vs Granule distance: {total_bg_gra_dist}\")\n",
    "\n",
    "bg_nuc_dist = cdist(bg_mu, nuc_mu, 'euclidean')\n",
    "total_bg_nuc_dist = np.mean(bg_nuc_dist)\n",
    "print(f\"Uncategorized vs Nucleus distance: {total_bg_nuc_dist}\")\n",
    "\n",
    "bg_mito_dist = cdist(bg_mu, mito_mu, 'euclidean')\n",
    "total_bg_mito_dist = np.mean(bg_mito_dist)\n",
    "print(f\"Uncategorized vs Mitochondria distance: {total_bg_mito_dist}\")\n",
    "\n",
    "nuc_gra_dist = cdist(nuc_mu, gra_mu, 'euclidean')\n",
    "total_nuc_gra_dist = np.mean(nuc_gra_dist)\n",
    "print(f\"Nucleus vs Granule distance: {total_nuc_gra_dist}\")\n",
    "\n",
    "nuc_mito_dist = cdist(nuc_mu, mito_mu, 'euclidean')\n",
    "total_nuc_mito_dist = np.mean(nuc_mito_dist)\n",
    "print(f\"Nucleus vs Mitochondria distance: {total_nuc_mito_dist}\")\n",
    "\n",
    "gra_mito_dist = cdist(gra_mu, mito_mu, 'euclidean')\n",
    "total_gra_mito_dist = np.mean(gra_mito_dist)\n",
    "print(f\"Granule vs Mitochondria distance: {total_gra_mito_dist}\")"
   ]
  },
  {
   "cell_type": "code",
   "execution_count": null,
   "metadata": {},
   "outputs": [],
   "source": [
    "distances = cdist(train_mu, train_mu, metric='euclidean')"
   ]
  },
  {
   "cell_type": "code",
   "execution_count": null,
   "metadata": {},
   "outputs": [],
   "source": [
    "classes = ['Uncategorized', 'Nucleus', 'Granule', 'Mitochondria']\n",
    "\n",
    "plt.figure(figsize=(20, 16))\n",
    "ax = sns.heatmap(distances, cmap='viridis')\n",
    "\n",
    "# Function to draw custom bracket annotations\n",
    "def draw_custom_bracket(ax, start, end, label):\n",
    "    mid = (start + end) / 2\n",
    "    # Draw the bracket\n",
    "    ax.plot([-0.05, -0.1], [start, start], color='black', lw=1.5)\n",
    "    ax.plot([-0.1, -0.1], [start, end], color='black', lw=1.5)\n",
    "    ax.plot([-0.1, -0.05], [end, end], color='black', lw=1.5)\n",
    "    # Add the text label\n",
    "    ax.text(-0.15, mid, label, va='center', ha='right', fontsize=12)\n",
    "\n",
    "# Add custom brackets for each class\n",
    "for i, class_name in enumerate(classes):\n",
    "    start = sample_size * i\n",
    "    end = sample_size * (i + 1)\n",
    "    draw_custom_bracket(ax, start, end, class_name)\n",
    "\n",
    "# Add horizontal lines to separate different classes\n",
    "separation_positions = [sample_size * (i + 1) for i in range(len(classes) - 1)]\n",
    "for pos in separation_positions:\n",
    "    ax.axhline(pos, color='black', linestyle='--', lw=1.5)\n",
    "    ax.axvline(pos, color='black', linestyle='--', lw=1.5)\n",
    "\n",
    "# Hide the ticks\n",
    "ax.set_xticks([])\n",
    "ax.set_yticks([])\n",
    "\n",
    "plt.title('Pairwise Distance Heatmap')\n",
    "plt.show()"
   ]
  },
  {
   "cell_type": "code",
   "execution_count": null,
   "metadata": {},
   "outputs": [],
   "source": [
    "def get_patch(image, labels, cls, patch_size):\n",
    "    while True: \n",
    "        patch, label, y, x = dp.get_random_patch(image, labels, patch_size)\n",
    "        centre = label[pad_size:pad_size+centre_size,pad_size:pad_size+centre_size]\n",
    "        if cls in centre and np.unique(centre).size == 1:\n",
    "                return patch, label, y, x\n"
   ]
  },
  {
   "cell_type": "code",
   "execution_count": null,
   "metadata": {},
   "outputs": [],
   "source": [
    "bg_patch, bg_label, y, x = get_patch(test_slice, test_slice_lbl, 0, patch_size)\n",
    "test_mu_bg = FE.get_feature_maps(bg_patch)\n",
    "test_mu_bg = np.expand_dims(test_mu_bg, axis=0)\n",
    "\n",
    "p.plot_w_b( (test_slice, \"Test Image\", (y, x, patch_size)),\\\n",
    "        (test_slice_lbl, \"Ground truth label\", (y, x, patch_size)),\\\n",
    "        (bg_patch, \"Random patch\", (pad_size, pad_size, centre_size)),\\\n",
    "        (bg_label, \"Ground truth label\", (pad_size, pad_size, centre_size)),\\\n",
    "        plot_types=['imshow', 'imshow_l', 'imshow', 'imshow_l'],\n",
    "        box_size=10\n",
    "        )"
   ]
  },
  {
   "cell_type": "code",
   "execution_count": null,
   "metadata": {},
   "outputs": [],
   "source": [
    "nuc_patch, nuc_label, y, x = get_patch(test_slice, test_slice_lbl, 1, patch_size)\n",
    "test_mu_nuc = FE.get_feature_maps(nuc_patch)\n",
    "test_mu_nuc = np.expand_dims(test_mu_nuc, axis=0)\n",
    "\n",
    "p.plot_w_b( (test_slice, \"Test Image\", (y, x, patch_size)),\\\n",
    "        (test_slice_lbl, \"Ground truth label\", (y, x, patch_size)),\\\n",
    "        (nuc_patch, \"Random patch\", (pad_size, pad_size, centre_size)),\\\n",
    "        (nuc_label, \"Ground truth label\", (pad_size, pad_size, centre_size)),\\\n",
    "        plot_types=['imshow', 'imshow_l', 'imshow', 'imshow_l'],\n",
    "        box_size=10\n",
    "        )"
   ]
  },
  {
   "cell_type": "code",
   "execution_count": null,
   "metadata": {},
   "outputs": [],
   "source": [
    "gra_patch, gra_label, y, x = get_patch(test_slice, test_slice_lbl, 2, patch_size)\n",
    "test_mu_gra = FE.get_feature_maps(gra_patch)\n",
    "test_mu_gra = np.expand_dims(test_mu_gra, axis=0)\n",
    "\n",
    "p.plot_w_b( (test_slice, \"Test Image\", (y, x, patch_size)),\\\n",
    "        (test_slice_lbl, \"Ground truth label\", (y, x, patch_size)),\\\n",
    "        (gra_patch, \"Random patch\", (pad_size, pad_size, centre_size)),\\\n",
    "        (gra_label, \"Ground truth label\", (pad_size, pad_size, centre_size)),\\\n",
    "        plot_types=['imshow', 'imshow_l', 'imshow', 'imshow_l'],\n",
    "        box_size=10\n",
    "        )"
   ]
  },
  {
   "cell_type": "code",
   "execution_count": null,
   "metadata": {},
   "outputs": [],
   "source": [
    "mito_patch, mito_label, y, x = get_patch(test_slice, test_slice_lbl, 3, patch_size)\n",
    "test_mu_mito = FE.get_feature_maps(mito_patch)\n",
    "test_mu_mito = np.expand_dims(test_mu_mito, axis=0)\n",
    "\n",
    "p.plot_w_b( (test_slice, \"Test Image\", (y, x, patch_size)),\\\n",
    "        (test_slice_lbl, \"Ground truth label\", (y, x, patch_size)),\\\n",
    "        (mito_patch, \"Random patch\", (pad_size, pad_size, centre_size)),\\\n",
    "        (mito_label, \"Ground truth label\", (pad_size, pad_size, centre_size)),\\\n",
    "        plot_types=['imshow', 'imshow_l', 'imshow', 'imshow_l'],\n",
    "        box_size=10\n",
    "        )"
   ]
  },
  {
   "attachments": {},
   "cell_type": "markdown",
   "metadata": {},
   "source": [
    "## t-SNE"
   ]
  },
  {
   "cell_type": "code",
   "execution_count": null,
   "metadata": {},
   "outputs": [],
   "source": [
    "tsne_3d = TSNE(\n",
    "    n_components=3,\n",
    "    random_state=42,\n",
    "    learning_rate=\"auto\",\n",
    "    metric=\"euclidean\",\n",
    "    n_iter=10000,\n",
    ").fit(train_mu)"
   ]
  },
  {
   "cell_type": "code",
   "execution_count": null,
   "metadata": {},
   "outputs": [],
   "source": [
    "%matplotlib widget\n",
    "colors = [\n",
    "        (0.8, 0.8, 0.8),               # white for label -1\n",
    "        (1, 0.8, 0.9),          # pink for label 0\n",
    "        (230/255, 159/255, 0),  # orange for label 1\n",
    "        (0.5803921568627451, 0.403921568627451, 0.7411764705882353), # violet for label 2\n",
    "        (0, 158/255, 115/255),  # bluish green for label 3\n",
    "        \n",
    "    ]\n",
    "\n",
    "# Create the colormap\n",
    "cmap = mcolors.ListedColormap(colors)\n",
    "# Define the bounds and normalization\n",
    "bounds = [-1, 0, 1, 2, 3, 4]    \n",
    "norm = mcolors.BoundaryNorm(bounds, cmap.N)\n",
    "# Create a 3D scatter plot\n",
    "fig = plt.figure(figsize=(10, 8))\n",
    "ax = fig.add_subplot(111, projection='3d')\n",
    "label = ['Background', 'Nucleus', 'Granule', 'Mito']\n",
    "# Plot the data points with true labels\n",
    "for i in range(4):\n",
    "    cluster_points = tsne_3d[train_labels == i]\n",
    "    ax.scatter(cluster_points[:, 0], cluster_points[:, 1], cluster_points[:, 2], label=label[i], c=sample_size*[i], cmap=cmap, norm=norm)\n",
    "\n",
    "ax.set_title(\"3D t-SNE Visualization of High-Dimensional Data\")\n",
    "ax.set_xlabel(\"t-SNE Component 1\")\n",
    "ax.set_ylabel(\"t-SNE Component 2\")\n",
    "ax.set_zlabel(\"t-SNE Component 3\")\n",
    "ax.legend()\n",
    "plt.show()\n"
   ]
  },
  {
   "cell_type": "code",
   "execution_count": null,
   "metadata": {},
   "outputs": [],
   "source": [
    "tsne_3d = TSNE(\n",
    "    n_components=3,\n",
    "    perplexity=40,\n",
    "    random_state=42,\n",
    "    learning_rate=\"auto\",\n",
    "    metric=\"cosine\",\n",
    "    n_iter=10000,\n",
    ").fit(train_mu)"
   ]
  },
  {
   "cell_type": "code",
   "execution_count": null,
   "metadata": {},
   "outputs": [],
   "source": [
    "colors = [\n",
    "        (0.8, 0.8, 0.8),               # white for label -1\n",
    "        (1, 0.8, 0.9),          # pink for label 0\n",
    "        (230/255, 159/255, 0),  # orange for label 1\n",
    "        (0.5803921568627451, 0.403921568627451, 0.7411764705882353), # violet for label 2\n",
    "        (0, 158/255, 115/255),  # bluish green for label 3\n",
    "        \n",
    "    ]\n",
    "\n",
    "# Create the colormap\n",
    "cmap = mcolors.ListedColormap(colors)\n",
    "# Define the bounds and normalization\n",
    "bounds = [-1, 0, 1, 2, 3, 4]    \n",
    "norm = mcolors.BoundaryNorm(bounds, cmap.N)\n",
    "# Create a 3D scatter plot\n",
    "fig = plt.figure(figsize=(10, 8))\n",
    "ax = fig.add_subplot(111, projection='3d')\n",
    "label = ['Background', 'Nucleus', 'Granule', 'Mito']\n",
    "# Plot the data points with true labels\n",
    "for i in range(4):\n",
    "    cluster_points = tsne_3d[train_labels == i]\n",
    "    ax.scatter(cluster_points[:, 0], cluster_points[:, 1], cluster_points[:, 2], label=label[i], c=sample_size*[i], cmap=cmap, norm=norm)\n",
    "\n",
    "ax.set_title(\"3D t-SNE Visualization of High-Dimensional Data\")\n",
    "ax.set_xlabel(\"t-SNE Component 1\")\n",
    "ax.set_ylabel(\"t-SNE Component 2\")\n",
    "ax.set_zlabel(\"t-SNE Component 3\")\n",
    "ax.legend()\n",
    "plt.show()\n"
   ]
  },
  {
   "cell_type": "code",
   "execution_count": null,
   "metadata": {},
   "outputs": [],
   "source": [
    "tsne = []\n",
    "tsne = TSNE(\n",
    "    n_components=2,\n",
    "    perplexity=50,\n",
    "    random_state=42,\n",
    "    learning_rate=\"auto\",\n",
    "    metric=\"cosine\",\n",
    "    n_iter=10000,\n",
    ").fit(train_mu)\n",
    "bg_tsne = tsne[:sample_size]\n",
    "nuc_tsne = tsne[sample_size:2*sample_size]\n",
    "gra_tsne = tsne[2*sample_size:3*sample_size]\n",
    "mito_tsne = tsne[3*sample_size:]"
   ]
  },
  {
   "cell_type": "code",
   "execution_count": null,
   "metadata": {},
   "outputs": [],
   "source": [
    "point_size = 10\n",
    "p.plot_w_b(([bg_tsne, nuc_tsne, gra_tsne, mito_tsne], \"TSNE\",\\\n",
    "                 [([0]*sample_size,point_size), ([1]*sample_size,point_size), ([2]*sample_size,point_size),\\\n",
    "                   ([3]*sample_size,point_size)]),\\\n",
    "        plot_types=['scatter'],box_size=10\n",
    "        )"
   ]
  },
  {
   "cell_type": "code",
   "execution_count": null,
   "metadata": {},
   "outputs": [],
   "source": [
    "# Perform K-means clustering\n",
    "num_clusters = 4\n",
    "kmeans = KMeans(n_clusters=num_clusters, random_state=42)\n",
    "cluster_labels = kmeans.fit_predict(train_mu)\n",
    "\n",
    "# Create a DataFrame with tSNE results and cluster labels\n",
    "kmeans_df = pd.DataFrame(tsne, columns=['t-SNE c1', 't-SNE c2'])\n",
    "kmeans_df['cluster'] = cluster_labels\n",
    "\n",
    "plt.figure(figsize=(12, 8))\n",
    "sns.scatterplot(data=kmeans_df, x='t-SNE c1', y='t-SNE c2', hue='cluster', palette='Set2', s=100, alpha=0.7)\n",
    "plt.title('t-SNE of Latent Features with K-means Clusters')\n",
    "plt.show()"
   ]
  },
  {
   "cell_type": "code",
   "execution_count": null,
   "metadata": {},
   "outputs": [],
   "source": [
    "Counter(cluster_labels)"
   ]
  },
  {
   "cell_type": "code",
   "execution_count": null,
   "metadata": {},
   "outputs": [],
   "source": [
    "true_labels = np.repeat(np.arange(4), sample_size)  # Replace with your actual labels\n",
    "conf_matrix = confusion_matrix(true_labels, cluster_labels)\n",
    "# Visualize the confusion matrix\n",
    "plt.figure(figsize=(10, 8))\n",
    "sns.heatmap(conf_matrix, annot=True, fmt='d', cmap='Blues', xticklabels=np.unique(cluster_labels), yticklabels=np.unique(true_labels))\n",
    "plt.xlabel('Predicted Clusters')\n",
    "plt.ylabel('True Labels')\n",
    "plt.title('Confusion Matrix')\n",
    "plt.show()"
   ]
  },
  {
   "cell_type": "code",
   "execution_count": null,
   "metadata": {},
   "outputs": [],
   "source": [
    "test_tsne = tsne.transform(test_mu_bg)\n",
    "point_size = 5\n",
    "p.plot_w_b( (bg_patch, \"Test patch\", (pad_size, pad_size, centre_size)),\\\n",
    "       (bg_label, \"Ground truth label\", (pad_size, pad_size, centre_size)),\\\n",
    "        ([bg_tsne, nuc_tsne, gra_tsne, mito_tsne, test_tsne], \"TSNE - one test sample\",\\\n",
    "                 [([0]*sample_size,point_size), ([1]*sample_size,point_size), ([2]*sample_size,point_size),\\\n",
    "                   ([3]*sample_size,point_size), ([0],point_size)]),\\\n",
    "        plot_types=['imshow', 'imshow_l', 'scatter'], with_test=True\n",
    "        )"
   ]
  },
  {
   "cell_type": "code",
   "execution_count": null,
   "metadata": {},
   "outputs": [],
   "source": [
    "test_tsne = tsne.transform(test_mu_nuc)\n",
    "point_size = 5\n",
    "p.plot_w_b( (nuc_patch, \"Test patch\", (pad_size, pad_size, centre_size)),\\\n",
    "        (nuc_label, \"Ground truth label\", (pad_size, pad_size, centre_size)),\\\n",
    "        ([bg_tsne, nuc_tsne, gra_tsne, mito_tsne, test_tsne], \"TSNE - one test sample\",\\\n",
    "                 [([0]*sample_size,point_size), ([1]*sample_size,point_size), ([2]*sample_size,point_size),\\\n",
    "                   ([3]*sample_size,point_size), ([1],point_size)]),\\\n",
    "        plot_types=['imshow', 'imshow_l', 'scatter'], with_test=True\n",
    "        )"
   ]
  },
  {
   "cell_type": "code",
   "execution_count": null,
   "metadata": {},
   "outputs": [],
   "source": [
    "test_tsne = tsne.transform(test_mu_gra)\n",
    "point_size = 5\n",
    "p.plot_w_b( (gra_patch, \"Test patch\", (pad_size, pad_size, centre_size)),\\\n",
    "        (gra_label, \"Ground truth label\", (pad_size, pad_size, centre_size)),\\\n",
    "        ([bg_tsne, nuc_tsne, gra_tsne, mito_tsne, test_tsne], \"TSNE - one test sample\",\\\n",
    "                 [([0]*sample_size,point_size), ([1]*sample_size,point_size), ([2]*sample_size,point_size),\\\n",
    "                   ([3]*sample_size,point_size), ([2],point_size)]),\\\n",
    "        plot_types=['imshow', 'imshow_l', 'scatter'], with_test=True\n",
    "        )"
   ]
  },
  {
   "cell_type": "code",
   "execution_count": null,
   "metadata": {},
   "outputs": [],
   "source": [
    "test_tsne = tsne.transform(test_mu_mito)\n",
    "point_size = 5\n",
    "p.plot_w_b( (mito_patch, \"Test patch\", (pad_size, pad_size, centre_size)),\\\n",
    "        (mito_label, \"Ground truth label\", (pad_size, pad_size, centre_size)),\\\n",
    "        ([bg_tsne, nuc_tsne, gra_tsne, mito_tsne, test_tsne], \"TSNE - one test sample\",\\\n",
    "                 [([0]*sample_size,point_size), ([1]*sample_size,point_size), ([2]*sample_size,point_size),\\\n",
    "                   ([3]*sample_size,point_size), ([3],point_size)]),\\\n",
    "        plot_types=['imshow', 'imshow_l', 'scatter'], with_test=True\n",
    "        )"
   ]
  },
  {
   "attachments": {},
   "cell_type": "markdown",
   "metadata": {},
   "source": [
    "## UMAP"
   ]
  },
  {
   "cell_type": "code",
   "execution_count": null,
   "metadata": {},
   "outputs": [],
   "source": [
    "reducer = umap.UMAP(n_components=2, random_state=42)\n",
    "reducer.fit(train_mu)\n",
    "umap_train = reducer.transform(train_mu)\n",
    "bg_umap = umap_train[:sample_size]\n",
    "nuc_umap = umap_train[sample_size:2*sample_size]\n",
    "gra_umap = umap_train[2*sample_size:3*sample_size]\n",
    "mito_umap = umap_train[3*sample_size:]\n",
    "# umap_test_bg = reducer.transform(test_mu_bg)\n",
    "# umap_test_nuc = reducer.transform(test_mu_nuc)\n",
    "# umap_test_gra = reducer.transform(test_mu_gra)\n",
    "# umap_test_mito = reducer.transform(test_mu_mito)\n"
   ]
  },
  {
   "cell_type": "code",
   "execution_count": null,
   "metadata": {},
   "outputs": [],
   "source": [
    "point_size = 5\n",
    "p.plot_w_b( \n",
    "        ([bg_umap, nuc_umap, gra_umap, mito_umap], \"UMAP\",\\\n",
    "                 [([0]*sample_size,point_size), ([1]*sample_size,point_size), ([2]*sample_size,point_size),\\\n",
    "                   ([3]*sample_size,point_size)]),\\\n",
    "        plot_types=[ 'scatter'],\n",
    "        )"
   ]
  },
  {
   "cell_type": "code",
   "execution_count": null,
   "metadata": {},
   "outputs": [],
   "source": [
    "p.plot_w_b( (bg_patch, \"Test patch\", (pad_size, pad_size, centre_size)),\\\n",
    "       (bg_label, \"Ground truth label\", (pad_size, pad_size, centre_size)),\\\n",
    "        ([bg_umap, nuc_umap, gra_umap, mito_umap, umap_test_bg], \"UMAP - one test sample\",\\\n",
    "                 [([0]*sample_size,point_size), ([1]*sample_size,point_size), ([2]*sample_size,point_size),\\\n",
    "                   ([3]*sample_size,point_size), ([0],point_size)]),\\\n",
    "        plot_types=['imshow', 'imshow_l', 'scatter'], with_test=True\n",
    "        )"
   ]
  },
  {
   "cell_type": "code",
   "execution_count": null,
   "metadata": {},
   "outputs": [],
   "source": [
    "p.plot_w_b( (nuc_patch, \"Test patch\", (pad_size, pad_size, centre_size)),\\\n",
    "       (nuc_label, \"Ground truth label\", (pad_size, pad_size, centre_size)),\\\n",
    "        ([bg_umap, nuc_umap, gra_umap, mito_umap, umap_test_nuc], \"UMAP - one test sample\",\\\n",
    "                 [([0]*sample_size,point_size), ([1]*sample_size,point_size), ([2]*sample_size,point_size),\\\n",
    "                   ([3]*sample_size,point_size), ([1],point_size)]),\\\n",
    "        plot_types=['imshow', 'imshow_l', 'scatter'], with_test=True\n",
    "        )"
   ]
  },
  {
   "cell_type": "code",
   "execution_count": null,
   "metadata": {},
   "outputs": [],
   "source": [
    "p.plot_w_b( (gra_patch, \"Test patch\", (pad_size, pad_size, centre_size)),\\\n",
    "       (gra_label, \"Ground truth label\", (pad_size, pad_size, centre_size)),\\\n",
    "        ([bg_umap, nuc_umap, gra_umap, mito_umap, umap_test_gra], \"UMAP - one test sample\",\\\n",
    "                 [([0]*sample_size,point_size), ([1]*sample_size,point_size), ([2]*sample_size,point_size),\\\n",
    "                   ([3]*sample_size,point_size), ([2],point_size)]),\\\n",
    "        plot_types=['imshow', 'imshow_l', 'scatter'], with_test=True\n",
    "        )"
   ]
  },
  {
   "cell_type": "code",
   "execution_count": null,
   "metadata": {},
   "outputs": [],
   "source": [
    "p.plot_w_b( (mito_patch, \"Test patch\", (pad_size, pad_size, centre_size)),\\\n",
    "       (mito_label, \"Ground truth label\", (pad_size, pad_size, centre_size)),\\\n",
    "        ([bg_umap, nuc_umap, gra_umap, mito_umap, umap_test_mito], \"UMAP - one test sample\",\\\n",
    "                 [([0]*sample_size,point_size), ([1]*sample_size,point_size), ([2]*sample_size,point_size),\\\n",
    "                   ([3]*sample_size,point_size), ([3],point_size)]),\\\n",
    "        plot_types=['imshow', 'imshow_l', 'scatter'], with_test=True\n",
    "        )"
   ]
  },
  {
   "attachments": {},
   "cell_type": "markdown",
   "metadata": {},
   "source": [
    "## PCA"
   ]
  },
  {
   "cell_type": "code",
   "execution_count": null,
   "metadata": {},
   "outputs": [],
   "source": [
    "pca = PCA(n_components=2)\n",
    "pca.fit(train_mu)\n",
    "pca_train = pca.transform(train_mu)\n",
    "bg_pca = pca_train[:sample_size]\n",
    "nuc_pca = pca_train[sample_size:2*sample_size]\n",
    "gra_pca = pca_train[2*sample_size:3*sample_size]\n",
    "mito_pca = pca_train[3*sample_size:]\n",
    "# pca_test_bg = pca.transform(test_mu_bg)\n",
    "# pca_test_nuc = pca.transform(test_mu_nuc)\n",
    "# pca_test_gra = pca.transform(test_mu_gra)\n",
    "# pca_test_mito = pca.transform(test_mu_mito)"
   ]
  },
  {
   "cell_type": "code",
   "execution_count": null,
   "metadata": {},
   "outputs": [],
   "source": [
    "%matplotlib widget\n",
    "p.plot_w_b( \n",
    "        ([bg_pca, nuc_pca, gra_pca, mito_pca], \"PCA\",\\\n",
    "                 [([0]*sample_size,point_size), ([1]*sample_size,point_size), ([2]*sample_size,point_size),\\\n",
    "                   ([3]*sample_size,point_size)]),\\\n",
    "        plot_types=['scatter'], with_test=False\n",
    "        )"
   ]
  },
  {
   "cell_type": "code",
   "execution_count": null,
   "metadata": {},
   "outputs": [],
   "source": [
    "p.plot_w_b( (bg_patch, \"Test patch\", (pad_size, pad_size, centre_size)),\\\n",
    "       (bg_label, \"Ground truth label\", (pad_size, pad_size, centre_size)),\\\n",
    "        ([bg_pca, nuc_pca, gra_pca, mito_pca, pca_test_bg], \"PCA - one test sample\",\\\n",
    "                 [([0]*sample_size,point_size), ([1]*sample_size,point_size), ([2]*sample_size,point_size),\\\n",
    "                   ([3]*sample_size,point_size), ([0],point_size)]),\\\n",
    "        plot_types=['imshow', 'imshow_l', 'scatter'], with_test=True\n",
    "        )"
   ]
  },
  {
   "cell_type": "code",
   "execution_count": null,
   "metadata": {},
   "outputs": [],
   "source": [
    "p.plot_w_b( (nuc_patch, \"Test patch\", (pad_size, pad_size, centre_size)),\\\n",
    "       (nuc_label, \"Ground truth label\", (pad_size, pad_size, centre_size)),\\\n",
    "        ([bg_pca, nuc_pca, gra_pca, mito_pca, pca_test_nuc], \"PCA - one test sample\",\\\n",
    "                 [([0]*sample_size,point_size), ([1]*sample_size,point_size), ([2]*sample_size,point_size),\\\n",
    "                   ([3]*sample_size,point_size), ([1],point_size)]),\\\n",
    "        plot_types=['imshow', 'imshow_l', 'scatter'], with_test=True\n",
    "        )"
   ]
  },
  {
   "cell_type": "code",
   "execution_count": null,
   "metadata": {},
   "outputs": [],
   "source": [
    "p.plot_w_b( (gra_patch, \"Test patch\", (pad_size, pad_size, centre_size)),\\\n",
    "       (gra_label, \"Ground truth label\", (pad_size, pad_size, centre_size)),\\\n",
    "        ([bg_pca, nuc_pca, gra_pca, mito_pca, pca_test_gra], \"PCA - one test sample\",\\\n",
    "                 [([0]*sample_size,point_size), ([1]*sample_size,point_size), ([2]*sample_size,point_size),\\\n",
    "                   ([3]*sample_size,point_size), ([2],point_size)]),\\\n",
    "        plot_types=['imshow', 'imshow_l', 'scatter'], with_test=True\n",
    "        )"
   ]
  },
  {
   "cell_type": "code",
   "execution_count": null,
   "metadata": {},
   "outputs": [],
   "source": [
    "p.plot_w_b( (mito_patch, \"Test patch\", (pad_size, pad_size, centre_size)),\\\n",
    "       (mito_label, \"Ground truth label\", (pad_size, pad_size, centre_size)),\\\n",
    "        ([bg_pca, nuc_pca, gra_pca, mito_pca, pca_test_mito], \"PCA - one test sample\",\\\n",
    "                 [([0]*sample_size,point_size), ([1]*sample_size,point_size), ([2]*sample_size,point_size),\\\n",
    "                   ([3]*sample_size,point_size), ([3],point_size)]),\\\n",
    "        plot_types=['imshow', 'imshow_l', 'scatter'], with_test=True\n",
    "        )"
   ]
  },
  {
   "cell_type": "code",
   "execution_count": null,
   "metadata": {},
   "outputs": [],
   "source": [
    "x1 = 575\n",
    "x2 = 725\n",
    "y1 = 175\n",
    "y2 = 325\n",
    "p.plot_w_b((test_slice[y1:y2, x1:x2], \"Test image\", False),\\\n",
    "            (test_slice_lbl[y1:y2, x1:x2], \"GT label\", False),\\\n",
    "            plot_types=['imshow', 'imshow_l'],\n",
    "            box_size=10)"
   ]
  },
  {
   "cell_type": "code",
   "execution_count": null,
   "metadata": {},
   "outputs": [],
   "source": [
    "h, w = test_images[i][y1:y2, x1:x2].shape\n",
    "new_h, new_w = h - patch_size + 1, w - patch_size + 1\n",
    "feature_maps = np.zeros((new_h, new_w))\n",
    "all_patches, all_labels = dp.get_all_patches(test_slice[y1:y2, x1:x2], test_slice_lbl[y1:y2, x1:x2], patch_size, stride=1)\n",
    "idx = 0\n",
    "for y in tqdm(range(new_h)):\n",
    "    for x in range(new_w):\n",
    "        mu = FE.get_feature_maps(all_patches[idx])\n",
    "        feature_maps[y][x] = FE.get_closest(train_mu, mu, sample_size)\n",
    "        idx += 1"
   ]
  },
  {
   "cell_type": "code",
   "execution_count": null,
   "metadata": {},
   "outputs": [],
   "source": [
    "# result = np.where(test_slice_lbl[y1+pad_size:y2-pad_size-3, x1+pad_size:x2-pad_size-3] != -1, feature_maps, 0)"
   ]
  },
  {
   "cell_type": "code",
   "execution_count": null,
   "metadata": {},
   "outputs": [],
   "source": [
    "p.plot_w_b( (test_slice[y1:y2, x1:x2], \"Input\", (pad_size, pad_size, 87)),\\\n",
    "        (test_slice_lbl[y1:y2, x1:x2], \"GT label\", (pad_size, pad_size, 87)),\\\n",
    "        (test_slice[y1+pad_size:y2-pad_size-3, x1+pad_size:x2-pad_size-3], \"Input cropped\", False),\\\n",
    "        (test_slice_lbl[y1+pad_size:y2-pad_size-3, x1+pad_size:x2-pad_size-3], \"GT label cropped\", False),\\\n",
    "        (feature_maps, \"Prediction\", False),\\\n",
    "        plot_types=['imshow', 'imshow_l', 'imshow', 'imshow_l', 'imshow_l'],\n",
    "        box_size=10)"
   ]
  },
  {
   "cell_type": "code",
   "execution_count": null,
   "metadata": {},
   "outputs": [],
   "source": [
    "np.unique(feature_maps, return_counts=True)"
   ]
  },
  {
   "attachments": {},
   "cell_type": "markdown",
   "metadata": {},
   "source": [
    "## openTSNE Advanced usage"
   ]
  },
  {
   "cell_type": "code",
   "execution_count": null,
   "metadata": {},
   "outputs": [],
   "source": [
    "affinities_train = affinity.PerplexityBasedNN(\n",
    "    train_mu,\n",
    "    perplexity=30,\n",
    "    metric=\"euclidean\",\n",
    "    n_jobs=8,\n",
    "    random_state=42,\n",
    "    verbose=True,\n",
    ")"
   ]
  },
  {
   "cell_type": "code",
   "execution_count": null,
   "metadata": {},
   "outputs": [],
   "source": [
    "%time init_train = initialization.pca(train_mu, random_state=42)"
   ]
  },
  {
   "cell_type": "code",
   "execution_count": null,
   "metadata": {},
   "outputs": [],
   "source": [
    "embedding_train = TSNEEmbedding(\n",
    "    init_train,\n",
    "    affinities_train,\n",
    "    negative_gradient_method=\"fft\",\n",
    "    n_jobs=8,\n",
    "    verbose=True,\n",
    ")"
   ]
  },
  {
   "cell_type": "code",
   "execution_count": null,
   "metadata": {},
   "outputs": [],
   "source": [
    "%time embedding_train_1 = embedding_train.optimize(n_iter=250, exaggeration=12)"
   ]
  },
  {
   "cell_type": "code",
   "execution_count": null,
   "metadata": {},
   "outputs": [],
   "source": [
    "bg_adv_tsne = embedding_train_1[:sample_size]\n",
    "nuc_adv_tsne = embedding_train_1[sample_size:2*sample_size]\n",
    "gra_adv_tsne = embedding_train_1[2*sample_size:3*sample_size]\n",
    "mito_adv_tsne = embedding_train_1[3*sample_size:]"
   ]
  },
  {
   "cell_type": "code",
   "execution_count": null,
   "metadata": {},
   "outputs": [],
   "source": [
    "\n",
    "point_size = 5\n",
    "p.plot_w_b(([bg_adv_tsne, nuc_adv_tsne, gra_adv_tsne, mito_adv_tsne], \"TSNE - Advanced usage\",\\\n",
    "                 [([0]*sample_size,point_size), ([1]*sample_size,point_size), ([2]*sample_size,point_size),\\\n",
    "                   ([3]*sample_size,point_size)]),\\\n",
    "        plot_types=['scatter'], box_size=5, with_test=False\n",
    "        )"
   ]
  },
  {
   "cell_type": "code",
   "execution_count": null,
   "metadata": {},
   "outputs": [],
   "source": []
  }
 ],
 "metadata": {
  "kernelspec": {
   "display_name": "Python 3",
   "language": "python",
   "name": "python3"
  },
  "language_info": {
   "codemirror_mode": {
    "name": "ipython",
    "version": 3
   },
   "file_extension": ".py",
   "mimetype": "text/x-python",
   "name": "python",
   "nbconvert_exporter": "python",
   "pygments_lexer": "ipython3",
   "version": "3.12.4"
  }
 },
 "nbformat": 4,
 "nbformat_minor": 2
}
