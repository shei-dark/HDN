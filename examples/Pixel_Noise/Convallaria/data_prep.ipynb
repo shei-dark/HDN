{
 "cells": [
  {
   "cell_type": "code",
   "execution_count": 1,
   "metadata": {},
   "outputs": [],
   "source": [
    "from tifffile import imread, imsave\n",
    "import numpy as np"
   ]
  },
  {
   "cell_type": "code",
   "execution_count": 3,
   "metadata": {},
   "outputs": [
    {
     "name": "stderr",
     "output_type": "stream",
     "text": [
      "/tmp/ipykernel_19774/2619753346.py:20: DeprecationWarning: <tifffile.imsave> is deprecated. Use tifffile.imwrite\n",
      "  imsave(path+\"data/train/high_c1_source_\"+str(i)+\".tif\", observation[i])\n",
      "/tmp/ipykernel_19774/2619753346.py:22: DeprecationWarning: <tifffile.imsave> is deprecated. Use tifffile.imwrite\n",
      "  imsave(path+\"data/validation/high_c1_source_\"+str(i)+\".tif\", observation[i])\n",
      "/tmp/ipykernel_19774/2619753346.py:24: DeprecationWarning: <tifffile.imsave> is deprecated. Use tifffile.imwrite\n",
      "  imsave(path+\"data/test/high_c1_source_\"+str(i)+\".tif\", observation[i])\n"
     ]
    }
   ],
   "source": [
    "path = \"/group/jug/Sheida/maester_data/download/high_c1/\"\n",
    "observation = imread(path+'high_c1_source.tif')\n",
    "\n",
    "indx = np.arange(len(observation))\n",
    "\n",
    "train = int(0.75 * len(indx))\n",
    "validation = int(0.2 * len(indx))\n",
    "test = int(0.05 * len(indx))\n",
    "\n",
    "np.random.shuffle(indx)\n",
    "train_indx = indx[:train]\n",
    "validation_indx = indx[train:train+validation]\n",
    "test_indx = indx[train+validation:]\n",
    "\n",
    "train_data = observation[train_indx]\n",
    "validation_data = observation[validation_indx]\n",
    "test_data = observation[test_indx]\n",
    "\n",
    "for i in train_indx:\n",
    "    imsave(path+\"data/train/high_c1_source_\"+str(i)+\".tif\", observation[i])\n",
    "for i in validation_indx:\n",
    "    imsave(path+\"data/validation/high_c1_source_\"+str(i)+\".tif\", observation[i])\n",
    "for i in test_indx:\n",
    "    imsave(path+\"data/test/high_c1_source_\"+str(i)+\".tif\", observation[i])"
   ]
  },
  {
   "cell_type": "code",
   "execution_count": null,
   "metadata": {},
   "outputs": [],
   "source": []
  }
 ],
 "metadata": {
  "kernelspec": {
   "display_name": "maester",
   "language": "python",
   "name": "python3"
  },
  "language_info": {
   "codemirror_mode": {
    "name": "ipython",
    "version": 3
   },
   "file_extension": ".py",
   "mimetype": "text/x-python",
   "name": "python",
   "nbconvert_exporter": "python",
   "pygments_lexer": "ipython3",
   "version": "3.9.18"
  },
  "orig_nbformat": 4
 },
 "nbformat": 4,
 "nbformat_minor": 2
}
