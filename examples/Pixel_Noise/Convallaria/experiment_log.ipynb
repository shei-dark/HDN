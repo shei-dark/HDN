{
 "cells": [
  {
   "cell_type": "markdown",
   "metadata": {},
   "source": [
    "# Experiment Log"
   ]
  },
  {
   "cell_type": "markdown",
   "metadata": {},
   "source": [
    "## Experiment ID/NAME (GIT): \n",
    "- **Date**: 2024-MM-DD\n",
    "- **Purpose**: What are you trying to achieve?\n",
    "- **Hypothesis**: What do you expect to happen?\n",
    "- **Setup/Configuration**: Check [WANDB](URL) log\n",
    "- **Observations**:\n",
    "  - Initial Thoughts:\n",
    "  - Unexpected Results:\n",
    "- **Results**:\n",
    "  - \n",
    "- **Conclusion**: Did it meet your expectations? What did you learn?\n",
    "- **Next Steps**: What will you do next based on these results?"
   ]
  },
  {
   "cell_type": "markdown",
   "metadata": {},
   "source": [
    "## Experiment ID/NAME (GIT): v14 / run polished-eon-161 / Prior expansion and contraction\n",
    "- **Date**: 2024-08-15\n",
    "- **Purpose**: What are you trying to achieve? I want to implement an scheduler that increases sigma in the (p = N(mu, sigma) = N(0,1)) top prior during training. In all the previous experiments my prior was learnable but now I set it to False (so it's not learnable and it is N(0,1)) and then in this case I can increase sigma during training up to some point and then set it back to 1 and do the same again and again and only use PPL (not NPL) in order to learn a well seperated clusters in my latent space.\n",
    "In case where I had a learnable prior, I chacked and in the top most layer I had lv = 1.7 instead of 0.\n",
    "Keep in mind that because p = Normal(p_mu, (p_lv / 2).exp()) the default setup where learn_top_prior is Flase both p_mu and p_lv are equal to zero which gives us p = Normal(0,1).\n",
    "In epochs 10, 20, 30, 50 and 60 I assign sigma to 1, 2, 4, 2 and 1.\n",
    "- **Hypothesis**: What do you expect to happen? \n",
    "I expect that while I increase the sigma first I should see that KL loss would increase. about the PPL it may increase but not as much as KL because all the points in the same class have to adapt themselves to the new sigma, as well as staying close together. In this case I think that NPL would decrease as the MVG sphere becomes bigger and probably points from different class would fall apart hopefully.\n",
    "- **Setup/Configuration**: Check [WANDB](https://wandb.ai/juglab/HVAE/runs/w3pldgxj) log\n",
    "setting learn_top_prior=False which means p will be N(0,1)\n",
    "- **Observations**:\n",
    "  - Initial Thoughts:\n",
    "  - Unexpected Results:\n",
    "- **Results**:\n",
    "  - \n",
    "- **Conclusion**: Did it meet your expectations? What did you learn?\n",
    "- **Next Steps**: What will you do next based on these results?"
   ]
  },
  {
   "cell_type": "markdown",
   "metadata": {},
   "source": [
    "## Experiment ID/NAME (GIT): v13 / logical-grass-159 / Scheduler for beta (increasing)\n",
    "- **Date**: 2024-08-15\n",
    "- **Purpose**: What are you trying to achieve? I want to start the training with beta = 0.0 and increase it during the training to see how NPL and PPL would react.\n",
    "- **Hypothesis**: What do you expect to happen? I expect that this would probably give me a worst result than having a constant beta value or than having a scheduler with decreasing beta (previous experiment).\n",
    "- **Setup/Configuration**: Check [WANDB](https://wandb.ai/juglab/HVAE/runs/fxb5o0l5) log\n",
    "- **Observations**:\n",
    "  - Initial Thoughts:\n",
    "  - Unexpected Results:\n",
    "- **Results**:\n",
    "  - \n",
    "- **Conclusion**: Did it meet your expectations? What did you learn?\n",
    "- **Next Steps**: What will you do next based on these results?"
   ]
  },
  {
   "cell_type": "markdown",
   "metadata": {},
   "source": [
    "## Experiment ID/NAME (GIT): v12 / vivid-violet-158 / Scheduler for beta (decreasing)\n",
    "- **Date**: 2024-08-15\n",
    "- **Purpose**: What are you trying to achieve? I want to start the training with beta = 1.0 and decrease it during the training to see how NPL and PPL would react.\n",
    "- **Hypothesis**: What do you expect to happen? I expect that this would probably give me a better result than having a constant beta value.\n",
    "- **Setup/Configuration**: Check [WANDB](https://wandb.ai/juglab/HVAE/runs/0klzfxcm) log\n",
    "- **Observations**:\n",
    "  - Initial Thoughts:\n",
    "  - Unexpected Results:\n",
    "- **Results**:\n",
    "  - \n",
    "- **Conclusion**: Did it meet your expectations? What did you learn?\n",
    "- **Next Steps**: What will you do next based on these results?"
   ]
  },
  {
   "cell_type": "markdown",
   "metadata": {},
   "source": [
    "## Experiment ID/NAME (GIT): v11 / northern-dew-157 / beta = 0.0\n",
    "- **Date**: 2024-08-15\n",
    "- **Purpose**: What are you trying to achieve?\n",
    "- **Hypothesis**: What do you expect to happen?\n",
    "- **Setup/Configuration**: Check [WANDB](https://wandb.ai/juglab/HVAE/runs/fy9agtfv) log\n",
    "- **Observations**:\n",
    "  - Initial Thoughts:\n",
    "  - Unexpected Results:\n",
    "- **Results**:\n",
    "  - \n",
    "- **Conclusion**: Did it meet your expectations? What did you learn?\n",
    "- **Next Steps**: What will you do next based on these results?"
   ]
  },
  {
   "cell_type": "markdown",
   "metadata": {},
   "source": [
    "## Experiment ID/NAME (GIT): v10 / lunar-haze-156 / beta = 0.1\n",
    "- **Date**: 2024-08-15\n",
    "- **Purpose**: What are you trying to achieve?\n",
    "- **Hypothesis**: What do you expect to happen?\n",
    "- **Setup/Configuration**: Check [WANDB](https://wandb.ai/juglab/HVAE/runs/2kg1lm84) log\n",
    "- **Observations**:\n",
    "  - Initial Thoughts:\n",
    "  - Unexpected Results:\n",
    "- **Results**:\n",
    "  - \n",
    "- **Conclusion**: Did it meet your expectations? What did you learn?\n",
    "- **Next Steps**: What will you do next based on these results?"
   ]
  },
  {
   "cell_type": "markdown",
   "metadata": {},
   "source": [
    "## Experiment ID/NAME (GIT): v09 / comfy-grass-154 / beta = 0.2\n",
    "- **Date**: 2024-08-15\n",
    "- **Purpose**: What are you trying to achieve?\n",
    "- **Hypothesis**: What do you expect to happen?\n",
    "- **Setup/Configuration**: Check [WANDB](https://wandb.ai/juglab/HVAE/runs/457zijvx) log\n",
    "- **Observations**:\n",
    "  - Initial Thoughts:\n",
    "  - Unexpected Results:\n",
    "- **Results**:\n",
    "  - \n",
    "- **Conclusion**: Did it meet your expectations? What did you learn?\n",
    "- **Next Steps**: What will you do next based on these results?"
   ]
  },
  {
   "cell_type": "markdown",
   "metadata": {},
   "source": [
    "## Experiment ID/NAME (GIT): v08 / still-cherry-153 / beta = 0.3\n",
    "- **Date**: 2024-08-15\n",
    "- **Purpose**: What are you trying to achieve?\n",
    "- **Hypothesis**: What do you expect to happen?\n",
    "- **Setup/Configuration**: Check [WANDB](https://wandb.ai/juglab/HVAE/runs/kfrtiq1g) log\n",
    "- **Observations**:\n",
    "  - Initial Thoughts:\n",
    "  - Unexpected Results:\n",
    "- **Results**:\n",
    "  - \n",
    "- **Conclusion**: Did it meet your expectations? What did you learn?\n",
    "- **Next Steps**: What will you do next based on these results?"
   ]
  },
  {
   "cell_type": "markdown",
   "metadata": {},
   "source": [
    "## Experiment ID/NAME (GIT): v07 / woven-elevator-152 / beta = 0.4\n",
    "- **Date**: 2024-08-15\n",
    "- **Purpose**: What are you trying to achieve?\n",
    "- **Hypothesis**: What do you expect to happen?\n",
    "- **Setup/Configuration**: Check [WANDB](https://wandb.ai/juglab/HVAE/runs/lvgmddix) log\n",
    "- **Observations**:\n",
    "  - Initial Thoughts:\n",
    "  - Unexpected Results:\n",
    "- **Results**:\n",
    "  - \n",
    "- **Conclusion**: Did it meet your expectations? What did you learn?\n",
    "- **Next Steps**: What will you do next based on these results?"
   ]
  },
  {
   "cell_type": "markdown",
   "metadata": {},
   "source": [
    "## Experiment ID/NAME (GIT): v06 / dutiful-glitter-151 / beta = 0.6\n",
    "- **Date**: 2024-08-15\n",
    "- **Purpose**: What are you trying to achieve?\n",
    "- **Hypothesis**: What do you expect to happen?\n",
    "- **Setup/Configuration**: Check [WANDB](https://wandb.ai/juglab/HVAE/runs/3xkic3im) log\n",
    "- **Observations**:\n",
    "  - Initial Thoughts:\n",
    "  - Unexpected Results:\n",
    "- **Results**:\n",
    "  - \n",
    "- **Conclusion**: Did it meet your expectations? What did you learn?\n",
    "- **Next Steps**: What will you do next based on these results?"
   ]
  },
  {
   "cell_type": "markdown",
   "metadata": {},
   "source": [
    "## Experiment ID/NAME (GIT): v05 / vague-monkey-150 / beta = 0.7\n",
    "- **Date**: 2024-08-15\n",
    "- **Purpose**: What are you trying to achieve?\n",
    "- **Hypothesis**: What do you expect to happen?\n",
    "- **Setup/Configuration**: Check [WANDB](https://wandb.ai/juglab/HVAE/runs/utnkjcym) log\n",
    "- **Observations**:\n",
    "  - Initial Thoughts:\n",
    "  - Unexpected Results:\n",
    "- **Results**:\n",
    "  - \n",
    "- **Conclusion**: Did it meet your expectations? What did you learn?\n",
    "- **Next Steps**: What will you do next based on these results?"
   ]
  },
  {
   "cell_type": "markdown",
   "metadata": {},
   "source": [
    "## Experiment ID/NAME (GIT): v04 / zesty-star-149 / beta = 0.8\n",
    "- **Date**: 2024-08-15\n",
    "- **Purpose**: What are you trying to achieve?\n",
    "- **Hypothesis**: What do you expect to happen?\n",
    "- **Setup/Configuration**: Check [WANDB](https://wandb.ai/juglab/HVAE/runs/2gaafj9x) log\n",
    "- **Observations**:\n",
    "  - Initial Thoughts:\n",
    "  - Unexpected Results:\n",
    "- **Results**:\n",
    "  - \n",
    "- **Conclusion**: Did it meet your expectations? What did you learn?\n",
    "- **Next Steps**: What will you do next based on these results?"
   ]
  },
  {
   "cell_type": "markdown",
   "metadata": {},
   "source": [
    "## Experiment ID/NAME (GIT): v03 / noble-darkness-148 / beta = 0.9\n",
    "- **Date**: 2024-08-15\n",
    "- **Purpose**: What are you trying to achieve?\n",
    "- **Hypothesis**: What do you expect to happen?\n",
    "- **Setup/Configuration**: Check [WANDB](https://wandb.ai/juglab/HVAE/runs/bkrvvwcn) log\n",
    "- **Observations**:\n",
    "  - Initial Thoughts:\n",
    "  - Unexpected Results:\n",
    "- **Results**:\n",
    "  - \n",
    "- **Conclusion**: Did it meet your expectations? What did you learn?\n",
    "- **Next Steps**: What will you do next based on these results?"
   ]
  },
  {
   "cell_type": "markdown",
   "metadata": {},
   "source": [
    "## Experiment ID/NAME (GIT): v02 / golden-star-147 / beta = 1.0\n",
    "- **Date**: 2024-08-15\n",
    "- **Purpose**: What are you trying to achieve? Try different beta values\n",
    "- **Hypothesis**: What do you expect to happen? finding more stable loss for NPL\n",
    "- **Setup/Configuration**: Check [WANDB](https://wandb.ai/juglab/HVAE/runs/irudzypi) log\n",
    "- **Observations**:\n",
    "  - Initial Thoughts: Only using PPL I would expect to only see each class be compact and close together.\n",
    "  - Unexpected Results:\n",
    "- **Results**:\n",
    "  - \n",
    "- **Conclusion**: Did it meet your expectations? What did you learn?\n",
    "- **Next Steps**: What will you do next based on these results?"
   ]
  },
  {
   "cell_type": "markdown",
   "metadata": {},
   "source": [
    "## Experiment ID/NAME (GIT): v01 / vivid-jazz-146 / Probability normalization for alphas, beta for PPL and NPL\n",
    "- **Date**: 2024-08-15\n",
    "- **Purpose**: What are you trying to achieve?\n",
    "for NPL (negative pair loss) I want to use another normalization called probability normalization instead of the one I was using in the previous version.\n",
    "I used beta and (1-beta) for PPL and NPL respectively.\n",
    "logging alphas, beta, negative pair losses, NPL and PPL.\n",
    "beta = 0.5\n",
    "- **Hypothesis**: What do you expect to happen?\n",
    "As I do not have weight from 0 to 1, but I have only weights for negative pair losses that the sum of them is equal to one and the higher the loss the higher weight it gets.\n",
    "so I think this new normalization and alphas would be a better approach to guide the training toward better decreasing NPLs.\n",
    "- **Setup/Configuration**: Check [WANDB](https://wandb.ai/juglab/HVAE/runs/q3jl5338) log\n",
    "- **Observations**:\n",
    "  - Initial Thoughts: In case where different NPL are so close, we have to give all of them kind of the same factor, but with my previous version the model was forced to take into consideration the highest one and kind of ignore the lowest one and all the others in between.\n",
    "  - Unexpected Results:\n",
    "- **Results**:\n",
    "  - NPL is kind of okay and decrease during training with a bit of fluctuation, but for NPL it seems like it has difficulties (eventhough it decreased during training) and it fluctuates a lot.\n",
    "- **Conclusion**: Did it meet your expectations? What did you learn?\n",
    "I think the formulation for NPL is now very good and we have to stuck in this setup for a while maybe, as long as it works well.\n",
    "- **Next Steps**: What will you do next based on these results?\n",
    "I would like to try different beta values and see the behaviour of NPL and PPL."
   ]
  },
  {
   "cell_type": "markdown",
   "metadata": {},
   "source": []
  }
 ],
 "metadata": {
  "language_info": {
   "name": "python"
  }
 },
 "nbformat": 4,
 "nbformat_minor": 2
}
