{
 "cells": [
  {
   "cell_type": "markdown",
   "metadata": {},
   "source": [
    "# Experiment Log"
   ]
  },
  {
   "cell_type": "markdown",
   "metadata": {},
   "source": [
    "## Experiment ID/NAME (GIT): \n",
    "- **Date**: 2024-MM-DD\n",
    "- **Purpose**: What are you trying to achieve?\n",
    "- **Hypothesis**: What do you expect to happen?\n",
    "- **Setup/Configuration**: Check [WANDB](URL) log\n",
    "- **Observations**:\n",
    "  - Initial Thoughts:\n",
    "  - Unexpected Results:\n",
    "- **Results**:\n",
    "  - \n",
    "- **Conclusion**: Did it meet your expectations? What did you learn?\n",
    "- **Next Steps**: What will you do next based on these results?"
   ]
  },
  {
   "cell_type": "markdown",
   "metadata": {},
   "source": [
    "## Experiment ID/NAME (GIT): \n",
    "- **Date**: 2024-08-14\n",
    "- **Purpose**: What are you trying to achieve?\n",
    "for NPL (negative pair loss) I want to use another normalization called probability normalization instead of the one I was using in the previous version.\n",
    "I used beta and (1-beta) for PPL and NPL respectively.\n",
    "logging alphas, beta, negative pair losses, NPL and PPL.\n",
    "beta = 0.5\n",
    "- **Hypothesis**: What do you expect to happen?\n",
    "As I do not have weight from 0 to 1, but I have only weights for negative pair losses that the sum of them is equal to one and the higher the loss the higher weight it gets.\n",
    "so I think this new normalization and alphas would be a better approach to guide the training toward better decreasing NPLs.\n",
    "- **Setup/Configuration**: Check [WANDB](https://wandb.ai/juglab/HVAE/runs/zvaxowva?nw=nwusersheidark) log\n",
    "- **Observations**:\n",
    "  - Initial Thoughts: In case where different NPL are so close, we have to give all of them kind of the same factor, but with my previous version the model was forced to take into consideration the highest one and kinf of ignore the lowest one and all the others in between.\n",
    "  - Unexpected Results:\n",
    "- **Results**:\n",
    "  - \n",
    "- **Conclusion**: Did it meet your expectations? What did you learn?\n",
    "- **Next Steps**: What will you do next based on these results?"
   ]
  },
  {
   "cell_type": "markdown",
   "metadata": {},
   "source": []
  }
 ],
 "metadata": {
  "language_info": {
   "name": "python"
  }
 },
 "nbformat": 4,
 "nbformat_minor": 2
}
