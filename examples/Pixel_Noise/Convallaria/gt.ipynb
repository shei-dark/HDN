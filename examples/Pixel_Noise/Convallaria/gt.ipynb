{
 "cells": [
  {
   "cell_type": "code",
   "execution_count": 1,
   "metadata": {},
   "outputs": [],
   "source": [
    "import tifffile as tiff\n",
    "import numpy as np"
   ]
  },
  {
   "cell_type": "code",
   "execution_count": 2,
   "metadata": {},
   "outputs": [
    {
     "name": "stderr",
     "output_type": "stream",
     "text": [
      "/tmp/ipykernel_16029/1636741896.py:9: DeprecationWarning: <tifffile.imsave> is deprecated. Use tifffile.imwrite\n",
      "  tiff.imsave(f\"/group/jug/Sheida/maester_data/download/high_c1/centrioles/high_c1_centrioles_{i}.tif\", img)\n"
     ]
    }
   ],
   "source": [
    "centrioles = tiff.imread(\"/group/jug/Sheida/maester_data/download/high_c1/high_c1_centrioles.tif\")\n",
    "for i, img in enumerate(centrioles):\n",
    "    if np.unique(img).any() == 0:\n",
    "        continue\n",
    "    else:\n",
    "        for (j,k), value in np.ndenumerate(img):\n",
    "            if value > 0:\n",
    "                img[j,k] = 1\n",
    "        tiff.imsave(f\"/group/jug/Sheida/maester_data/download/high_c1/centrioles/high_c1_centrioles_{i}.tif\", img)"
   ]
  },
  {
   "cell_type": "code",
   "execution_count": 3,
   "metadata": {},
   "outputs": [
    {
     "name": "stderr",
     "output_type": "stream",
     "text": [
      "/tmp/ipykernel_16029/1060740664.py:9: DeprecationWarning: <tifffile.imsave> is deprecated. Use tifffile.imwrite\n",
      "  tiff.imsave(f\"/group/jug/Sheida/maester_data/download/high_c1/golgi/high_c1_golgi_{i}.tif\", img)\n"
     ]
    }
   ],
   "source": [
    "golgi = tiff.imread(\"/group/jug/Sheida/maester_data/download/high_c1/high_c1_golgi_corrected.tif\")\n",
    "for i, img in enumerate(golgi):\n",
    "    if np.unique(img).any() == 0:\n",
    "        continue\n",
    "    else:\n",
    "        for (j,k), value in np.ndenumerate(img):\n",
    "            if value > 0:\n",
    "                img[j,k] = 1\n",
    "        tiff.imsave(f\"/group/jug/Sheida/maester_data/download/high_c1/golgi/high_c1_golgi_{i}.tif\", img)"
   ]
  },
  {
   "cell_type": "code",
   "execution_count": 4,
   "metadata": {},
   "outputs": [
    {
     "name": "stderr",
     "output_type": "stream",
     "text": [
      "/tmp/ipykernel_16029/521705686.py:9: DeprecationWarning: <tifffile.imsave> is deprecated. Use tifffile.imwrite\n",
      "  tiff.imsave(f\"/group/jug/Sheida/maester_data/download/high_c1/granules/high_c1_granules_{i}.tif\", img)\n"
     ]
    }
   ],
   "source": [
    "granules = tiff.imread(\"/group/jug/Sheida/maester_data/download/high_c1/high_c1_granules.tif\")\n",
    "for i, img in enumerate(granules):\n",
    "    if np.unique(img).any() == 0:\n",
    "        continue\n",
    "    else:\n",
    "        for (j,k), value in np.ndenumerate(img):\n",
    "            if value > 0:\n",
    "                img[j,k] = 1\n",
    "        tiff.imsave(f\"/group/jug/Sheida/maester_data/download/high_c1/granules/high_c1_granules_{i}.tif\", img)"
   ]
  },
  {
   "cell_type": "code",
   "execution_count": 5,
   "metadata": {},
   "outputs": [
    {
     "name": "stderr",
     "output_type": "stream",
     "text": [
      "/tmp/ipykernel_16029/2075626123.py:9: DeprecationWarning: <tifffile.imsave> is deprecated. Use tifffile.imwrite\n",
      "  tiff.imsave(f\"/group/jug/Sheida/maester_data/download/high_c1/membrane/high_c1_membrane_{i}.tif\", img)\n"
     ]
    }
   ],
   "source": [
    "membrane = tiff.imread(\"/group/jug/Sheida/maester_data/download/high_c1/high_c1_membrane_mask.tif\")\n",
    "for i, img in enumerate(membrane):\n",
    "    if np.unique(img).any() == 0:\n",
    "        continue\n",
    "    else:\n",
    "        for (j,k), value in np.ndenumerate(img):\n",
    "            if value > 0:\n",
    "                img[j,k] = 1\n",
    "        tiff.imsave(f\"/group/jug/Sheida/maester_data/download/high_c1/membrane/high_c1_membrane_{i}.tif\", img)"
   ]
  },
  {
   "cell_type": "code",
   "execution_count": 6,
   "metadata": {},
   "outputs": [
    {
     "name": "stderr",
     "output_type": "stream",
     "text": [
      "/tmp/ipykernel_16029/3805968735.py:9: DeprecationWarning: <tifffile.imsave> is deprecated. Use tifffile.imwrite\n",
      "  tiff.imsave(f\"/group/jug/Sheida/maester_data/download/high_c1/microtubules/high_c1_microtubules_{i}.tif\", img)\n"
     ]
    }
   ],
   "source": [
    "microtubules = tiff.imread(\"/group/jug/Sheida/maester_data/download/high_c1/high_c1_microtubules.tif\")\n",
    "for i, img in enumerate(microtubules):\n",
    "    if np.unique(img).any() == 0:\n",
    "        continue\n",
    "    else:\n",
    "        for (j,k), value in np.ndenumerate(img):\n",
    "            if value > 0:\n",
    "                img[j,k] = 1\n",
    "        tiff.imsave(f\"/group/jug/Sheida/maester_data/download/high_c1/microtubules/high_c1_microtubules_{i}.tif\", img)"
   ]
  },
  {
   "cell_type": "code",
   "execution_count": 7,
   "metadata": {},
   "outputs": [
    {
     "name": "stderr",
     "output_type": "stream",
     "text": [
      "/tmp/ipykernel_16029/2599366130.py:9: DeprecationWarning: <tifffile.imsave> is deprecated. Use tifffile.imwrite\n",
      "  tiff.imsave(f\"/group/jug/Sheida/maester_data/download/high_c1/mitochondria/high_c1_mitochondria_{i}.tif\", img)\n"
     ]
    }
   ],
   "source": [
    "mitochondria = tiff.imread(\"/group/jug/Sheida/maester_data/download/high_c1/high_c1_mitochondria_mask.tif\")\n",
    "for i, img in enumerate(mitochondria):\n",
    "    if np.unique(img).any() == 0:\n",
    "        continue\n",
    "    else:\n",
    "        for (j,k), value in np.ndenumerate(img):\n",
    "            if value > 0:\n",
    "                img[j,k] = 1\n",
    "        tiff.imsave(f\"/group/jug/Sheida/maester_data/download/high_c1/mitochondria/high_c1_mitochondria_{i}.tif\", img)"
   ]
  },
  {
   "cell_type": "code",
   "execution_count": 8,
   "metadata": {},
   "outputs": [
    {
     "name": "stderr",
     "output_type": "stream",
     "text": [
      "/tmp/ipykernel_16029/2694778504.py:9: DeprecationWarning: <tifffile.imsave> is deprecated. Use tifffile.imwrite\n",
      "  tiff.imsave(f\"/group/jug/Sheida/maester_data/download/high_c1/nucleus/high_c1_nucleus_{i}.tif\", img)\n"
     ]
    }
   ],
   "source": [
    "nucleus = tiff.imread(\"/group/jug/Sheida/maester_data/download/high_c1/high_c1_nucleus_mask.tif\")\n",
    "for i, img in enumerate(nucleus):\n",
    "    if np.unique(img).any() == 0:\n",
    "        continue\n",
    "    else:\n",
    "        for (j,k), value in np.ndenumerate(img):\n",
    "            if value > 0:\n",
    "                img[j,k] = 1\n",
    "        tiff.imsave(f\"/group/jug/Sheida/maester_data/download/high_c1/nucleus/high_c1_nucleus_{i}.tif\", img)"
   ]
  }
 ],
 "metadata": {
  "kernelspec": {
   "display_name": "maester",
   "language": "python",
   "name": "python3"
  },
  "language_info": {
   "codemirror_mode": {
    "name": "ipython",
    "version": 3
   },
   "file_extension": ".py",
   "mimetype": "text/x-python",
   "name": "python",
   "nbconvert_exporter": "python",
   "pygments_lexer": "ipython3",
   "version": "3.9.18"
  },
  "orig_nbformat": 4
 },
 "nbformat": 4,
 "nbformat_minor": 2
}
