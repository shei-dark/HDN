{
 "cells": [
  {
   "cell_type": "markdown",
   "metadata": {},
   "source": [
    "### Experiment ID/NAME (GIT):<br>\n",
    "**Date**: 2024-MM-DD<br>\n",
    "**Purpose**: What are you trying to achieve?<br>\n",
    "**Setup/Configuration**: Check [WANDB](URL) log<br>\n",
    "**Results**:<br>"
   ]
  },
  {
   "cell_type": "markdown",
   "metadata": {},
   "source": [
    "### Experiment ID/NAME (GIT): 3D HVAE fully supervised <br>\n",
    "**Date**: 2024-09-26<br>\n",
    "**Purpose**: What are you trying to achieve?<br>\n",
    "**Setup/Configuration**: Check [WANDB](URL) log<br>\n",
    "**Results**:<br>"
   ]
  },
  {
   "cell_type": "markdown",
   "metadata": {},
   "source": []
  }
 ],
 "metadata": {
  "language_info": {
   "name": "python"
  }
 },
 "nbformat": 4,
 "nbformat_minor": 2
}
